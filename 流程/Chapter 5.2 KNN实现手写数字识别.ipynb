{
 "cells": [
  {
   "cell_type": "markdown",
   "id": "b4d99b8a",
   "metadata": {},
   "source": [
    "# KNN实现手写数字识别\n",
    "## 1.项目背景\n",
    "- 手写数字数据集主要用于进行图像识别，目的是将图片与分类结果（0~9）一一对应起来\n",
    "- 本项目使用sklearn中自带的手写数字数据集进行KNN分类操作，其中有接近1800张图片，每张图片的大小是8x8像素\n",
    "- 本项目分为三个阶段\n",
    "    - 加载数据集：datasets获取\n",
    "    - 准备阶段：可视化数据集描述，样本情况，图像效果，输入/输出特征；数据处理：缺失值、异常值处理，特征工程构建\n",
    "    - 分类建模阶段：通过训练得到分类器，用测试集进行模型效果评估，随机抽取数据进行预测"
   ]
  },
  {
   "cell_type": "markdown",
   "id": "94900a3b",
   "metadata": {},
   "source": [
    "## 2.载入库和模块"
   ]
  },
  {
   "cell_type": "code",
   "execution_count": 2,
   "id": "bfdeac0d",
   "metadata": {},
   "outputs": [],
   "source": [
    "import numpy as np\n",
    "import matplotlib.pyplot as plt\n",
    "import seaborn as sns\n",
    "\n",
    "plt.rcParams['font.sans-serif'] = ['SimHei']\n",
    "plt.rcParams['axes.unicode_minus'] = False\n",
    "\n",
    "import warnings\n",
    "warnings.filterwarnings('ignore')\n",
    "\n",
    "# 导入KNN相关模块\n",
    "from sklearn.datasets import load_digits\n",
    "from sklearn.neighbors import KNeighborsClassifier  # KNN分类器\n",
    "from sklearn.model_selection import train_test_split\n",
    "import sklearn.metrics\n",
    "from sklearn import preprocessing  # 数据预处理"
   ]
  },
  {
   "cell_type": "markdown",
   "id": "136de741",
   "metadata": {},
   "source": [
    "## 3.载入数据集并进行探索"
   ]
  },
  {
   "cell_type": "code",
   "execution_count": 3,
   "id": "ed7fead8",
   "metadata": {},
   "outputs": [],
   "source": [
    "digits = load_digits()"
   ]
  },
  {
   "cell_type": "code",
   "execution_count": 4,
   "id": "53aa7f57",
   "metadata": {},
   "outputs": [
    {
     "data": {
      "text/plain": [
       "['DESCR', 'data', 'feature_names', 'frame', 'images', 'target', 'target_names']"
      ]
     },
     "execution_count": 4,
     "metadata": {},
     "output_type": "execute_result"
    }
   ],
   "source": [
    "dir(digits)"
   ]
  },
  {
   "cell_type": "code",
   "execution_count": 5,
   "id": "26e5aeb9",
   "metadata": {},
   "outputs": [
    {
     "name": "stdout",
     "output_type": "stream",
     "text": [
      ".. _digits_dataset:\n",
      "\n",
      "Optical recognition of handwritten digits dataset\n",
      "--------------------------------------------------\n",
      "\n",
      "**Data Set Characteristics:**\n",
      "\n",
      "    :Number of Instances: 1797\n",
      "    :Number of Attributes: 64\n",
      "    :Attribute Information: 8x8 image of integer pixels in the range 0..16.\n",
      "    :Missing Attribute Values: None\n",
      "    :Creator: E. Alpaydin (alpaydin '@' boun.edu.tr)\n",
      "    :Date: July; 1998\n",
      "\n",
      "This is a copy of the test set of the UCI ML hand-written digits datasets\n",
      "https://archive.ics.uci.edu/ml/datasets/Optical+Recognition+of+Handwritten+Digits\n",
      "\n",
      "The data set contains images of hand-written digits: 10 classes where\n",
      "each class refers to a digit.\n",
      "\n",
      "Preprocessing programs made available by NIST were used to extract\n",
      "normalized bitmaps of handwritten digits from a preprinted form. From a\n",
      "total of 43 people, 30 contributed to the training set and different 13\n",
      "to the test set. 32x32 bitmaps are divided into nonoverlapping blocks of\n",
      "4x4 and the number of on pixels are counted in each block. This generates\n",
      "an input matrix of 8x8 where each element is an integer in the range\n",
      "0..16. This reduces dimensionality and gives invariance to small\n",
      "distortions.\n",
      "\n",
      "For info on NIST preprocessing routines, see M. D. Garris, J. L. Blue, G.\n",
      "T. Candela, D. L. Dimmick, J. Geist, P. J. Grother, S. A. Janet, and C.\n",
      "L. Wilson, NIST Form-Based Handprint Recognition System, NISTIR 5469,\n",
      "1994.\n",
      "\n",
      "|details-start|\n",
      "**References**\n",
      "|details-split|\n",
      "\n",
      "- C. Kaynak (1995) Methods of Combining Multiple Classifiers and Their\n",
      "  Applications to Handwritten Digit Recognition, MSc Thesis, Institute of\n",
      "  Graduate Studies in Science and Engineering, Bogazici University.\n",
      "- E. Alpaydin, C. Kaynak (1998) Cascading Classifiers, Kybernetika.\n",
      "- Ken Tang and Ponnuthurai N. Suganthan and Xi Yao and A. Kai Qin.\n",
      "  Linear dimensionalityreduction using relevance weighted LDA. School of\n",
      "  Electrical and Electronic Engineering Nanyang Technological University.\n",
      "  2005.\n",
      "- Claudio Gentile. A New Approximate Maximal Margin Classification\n",
      "  Algorithm. NIPS. 2000.\n",
      "\n",
      "|details-end|\n"
     ]
    }
   ],
   "source": [
    "# 数据集的概况\n",
    "print(digits.DESCR)"
   ]
  },
  {
   "cell_type": "code",
   "execution_count": 6,
   "id": "eb528a61",
   "metadata": {},
   "outputs": [],
   "source": [
    "d_data = digits.data\n",
    "# 特征"
   ]
  },
  {
   "cell_type": "code",
   "execution_count": 7,
   "id": "524a8921",
   "metadata": {},
   "outputs": [
    {
     "data": {
      "text/plain": [
       "array([[ 0.,  0.,  5., ...,  0.,  0.,  0.],\n",
       "       [ 0.,  0.,  0., ..., 10.,  0.,  0.],\n",
       "       [ 0.,  0.,  0., ..., 16.,  9.,  0.],\n",
       "       ...,\n",
       "       [ 0.,  0.,  1., ...,  6.,  0.,  0.],\n",
       "       [ 0.,  0.,  2., ..., 12.,  0.,  0.],\n",
       "       [ 0.,  0., 10., ..., 12.,  1.,  0.]])"
      ]
     },
     "execution_count": 7,
     "metadata": {},
     "output_type": "execute_result"
    }
   ],
   "source": [
    "d_data"
   ]
  },
  {
   "cell_type": "code",
   "execution_count": 8,
   "id": "7213d98e",
   "metadata": {},
   "outputs": [
    {
     "data": {
      "text/plain": [
       "(1797, 64)"
      ]
     },
     "execution_count": 8,
     "metadata": {},
     "output_type": "execute_result"
    }
   ],
   "source": [
    "d_data.shape"
   ]
  },
  {
   "cell_type": "code",
   "execution_count": 9,
   "id": "5a5ba924",
   "metadata": {},
   "outputs": [
    {
     "data": {
      "text/plain": [
       "array([ 0.,  0.,  5., 13.,  9.,  1.,  0.,  0.,  0.,  0., 13., 15., 10.,\n",
       "       15.,  5.,  0.,  0.,  3., 15.,  2.,  0., 11.,  8.,  0.,  0.,  4.,\n",
       "       12.,  0.,  0.,  8.,  8.,  0.,  0.,  5.,  8.,  0.,  0.,  9.,  8.,\n",
       "        0.,  0.,  4., 11.,  0.,  1., 12.,  7.,  0.,  0.,  2., 14.,  5.,\n",
       "       10., 12.,  0.,  0.,  0.,  0.,  6., 13., 10.,  0.,  0.,  0.])"
      ]
     },
     "execution_count": 9,
     "metadata": {},
     "output_type": "execute_result"
    }
   ],
   "source": [
    "d_data[0]\n",
    "# 展平之后的图像的像素点信息"
   ]
  },
  {
   "cell_type": "code",
   "execution_count": 10,
   "id": "c1437ca7",
   "metadata": {},
   "outputs": [
    {
     "data": {
      "text/plain": [
       "array([[[ 0.,  0.,  5., ...,  1.,  0.,  0.],\n",
       "        [ 0.,  0., 13., ..., 15.,  5.,  0.],\n",
       "        [ 0.,  3., 15., ..., 11.,  8.,  0.],\n",
       "        ...,\n",
       "        [ 0.,  4., 11., ..., 12.,  7.,  0.],\n",
       "        [ 0.,  2., 14., ..., 12.,  0.,  0.],\n",
       "        [ 0.,  0.,  6., ...,  0.,  0.,  0.]],\n",
       "\n",
       "       [[ 0.,  0.,  0., ...,  5.,  0.,  0.],\n",
       "        [ 0.,  0.,  0., ...,  9.,  0.,  0.],\n",
       "        [ 0.,  0.,  3., ...,  6.,  0.,  0.],\n",
       "        ...,\n",
       "        [ 0.,  0.,  1., ...,  6.,  0.,  0.],\n",
       "        [ 0.,  0.,  1., ...,  6.,  0.,  0.],\n",
       "        [ 0.,  0.,  0., ..., 10.,  0.,  0.]],\n",
       "\n",
       "       [[ 0.,  0.,  0., ..., 12.,  0.,  0.],\n",
       "        [ 0.,  0.,  3., ..., 14.,  0.,  0.],\n",
       "        [ 0.,  0.,  8., ..., 16.,  0.,  0.],\n",
       "        ...,\n",
       "        [ 0.,  9., 16., ...,  0.,  0.,  0.],\n",
       "        [ 0.,  3., 13., ..., 11.,  5.,  0.],\n",
       "        [ 0.,  0.,  0., ..., 16.,  9.,  0.]],\n",
       "\n",
       "       ...,\n",
       "\n",
       "       [[ 0.,  0.,  1., ...,  1.,  0.,  0.],\n",
       "        [ 0.,  0., 13., ...,  2.,  1.,  0.],\n",
       "        [ 0.,  0., 16., ..., 16.,  5.,  0.],\n",
       "        ...,\n",
       "        [ 0.,  0., 16., ..., 15.,  0.,  0.],\n",
       "        [ 0.,  0., 15., ..., 16.,  0.,  0.],\n",
       "        [ 0.,  0.,  2., ...,  6.,  0.,  0.]],\n",
       "\n",
       "       [[ 0.,  0.,  2., ...,  0.,  0.,  0.],\n",
       "        [ 0.,  0., 14., ..., 15.,  1.,  0.],\n",
       "        [ 0.,  4., 16., ..., 16.,  7.,  0.],\n",
       "        ...,\n",
       "        [ 0.,  0.,  0., ..., 16.,  2.,  0.],\n",
       "        [ 0.,  0.,  4., ..., 16.,  2.,  0.],\n",
       "        [ 0.,  0.,  5., ..., 12.,  0.,  0.]],\n",
       "\n",
       "       [[ 0.,  0., 10., ...,  1.,  0.,  0.],\n",
       "        [ 0.,  2., 16., ...,  1.,  0.,  0.],\n",
       "        [ 0.,  0., 15., ..., 15.,  0.,  0.],\n",
       "        ...,\n",
       "        [ 0.,  4., 16., ..., 16.,  6.,  0.],\n",
       "        [ 0.,  8., 16., ..., 16.,  8.,  0.],\n",
       "        [ 0.,  1.,  8., ..., 12.,  1.,  0.]]])"
      ]
     },
     "execution_count": 10,
     "metadata": {},
     "output_type": "execute_result"
    }
   ],
   "source": [
    "digits.images\n",
    "# 未展平的每幅图像的像素点信息"
   ]
  },
  {
   "cell_type": "code",
   "execution_count": 11,
   "id": "0aae66a9",
   "metadata": {},
   "outputs": [
    {
     "data": {
      "text/plain": [
       "(1797, 8, 8)"
      ]
     },
     "execution_count": 11,
     "metadata": {},
     "output_type": "execute_result"
    }
   ],
   "source": [
    "digits.images.shape"
   ]
  },
  {
   "cell_type": "code",
   "execution_count": 12,
   "id": "fee3668e",
   "metadata": {},
   "outputs": [
    {
     "data": {
      "text/plain": [
       "array([[ 0.,  0.,  5., 13.,  9.,  1.,  0.,  0.],\n",
       "       [ 0.,  0., 13., 15., 10., 15.,  5.,  0.],\n",
       "       [ 0.,  3., 15.,  2.,  0., 11.,  8.,  0.],\n",
       "       [ 0.,  4., 12.,  0.,  0.,  8.,  8.,  0.],\n",
       "       [ 0.,  5.,  8.,  0.,  0.,  9.,  8.,  0.],\n",
       "       [ 0.,  4., 11.,  0.,  1., 12.,  7.,  0.],\n",
       "       [ 0.,  2., 14.,  5., 10., 12.,  0.,  0.],\n",
       "       [ 0.,  0.,  6., 13., 10.,  0.,  0.,  0.]])"
      ]
     },
     "execution_count": 12,
     "metadata": {},
     "output_type": "execute_result"
    }
   ],
   "source": [
    "digits.images[0]\n",
    "# 第一幅图像的像素点信息"
   ]
  },
  {
   "attachments": {
    "image.png": {
     "image/png": "[encoded data removed]"
    }
   },
   "cell_type": "markdown",
   "id": "ad3c42a1",
   "metadata": {},
   "source": [
    "![image.png](attachment:image.png)"
   ]
  },
  {
   "cell_type": "markdown",
   "id": "421f5f8d",
   "metadata": {},
   "source": [
    "如何对数字矩阵进行可视化展示？热力图"
   ]
  },
  {
   "cell_type": "code",
   "execution_count": 13,
   "id": "7d3ad464",
   "metadata": {},
   "outputs": [
    {
     "data": {
      "text/plain": [
       "<Axes: >"
      ]
     },
     "execution_count": 13,
     "metadata": {},
     "output_type": "execute_result"
    },
    {
     "data": {
      "image/png": "[encoded data removed]",
      "text/plain": [
       "<Figure size 640x480 with 2 Axes>"
      ]
     },
     "metadata": {},
     "output_type": "display_data"
    }
   ],
   "source": [
    "sns.heatmap(\n",
    "    digits.images[0]\n",
    ")"
   ]
  },
  {
   "cell_type": "markdown",
   "id": "db6787f4",
   "metadata": {},
   "source": [
    "    plt.imshow(\n",
    "        X,                # 要展示的数组类对象或PIL的图像\n",
    "        cmap=None,          # 色彩映射\n",
    "        norm=None,\n",
    "        *,\n",
    "        aspect=None,\n",
    "        interpolation=None,\n",
    "        alpha=None,\n",
    "        vmin=None,\n",
    "        vmax=None,\n",
    "        origin=None,\n",
    "        extent=None,\n",
    "        interpolation_stage=None,\n",
    "        filternorm=True,\n",
    "        filterrad=4.0,\n",
    "        resample=None,\n",
    "        url=None,\n",
    "        data=None,\n",
    "        **kwargs,\n",
    "    )"
   ]
  },
  {
   "cell_type": "code",
   "execution_count": 14,
   "id": "ed8b46c1",
   "metadata": {},
   "outputs": [
    {
     "data": {
      "text/plain": [
       "<matplotlib.image.AxesImage at 0x16a36c3b850>"
      ]
     },
     "execution_count": 14,
     "metadata": {},
     "output_type": "execute_result"
    },
    {
     "data": {
      "image/png": "[encoded data removed]",
      "text/plain": [
       "<Figure size 640x480 with 1 Axes>"
      ]
     },
     "metadata": {},
     "output_type": "display_data"
    }
   ],
   "source": [
    "# 对结构化的数据进行可视化展示\n",
    "plt.imshow(\n",
    "    digits.images[0],\n",
    "    cmap = plt.cm.gray_r  # 灰度效果\n",
    ")"
   ]
  },
  {
   "cell_type": "code",
   "execution_count": 15,
   "id": "ca5e7004",
   "metadata": {},
   "outputs": [
    {
     "data": {
      "text/plain": [
       "array([[[ 0.,  0.,  5., 13.,  9.,  1.,  0.,  0.],\n",
       "        [ 0.,  0., 13., 15., 10., 15.,  5.,  0.],\n",
       "        [ 0.,  3., 15.,  2.,  0., 11.,  8.,  0.],\n",
       "        [ 0.,  4., 12.,  0.,  0.,  8.,  8.,  0.],\n",
       "        [ 0.,  5.,  8.,  0.,  0.,  9.,  8.,  0.],\n",
       "        [ 0.,  4., 11.,  0.,  1., 12.,  7.,  0.],\n",
       "        [ 0.,  2., 14.,  5., 10., 12.,  0.,  0.],\n",
       "        [ 0.,  0.,  6., 13., 10.,  0.,  0.,  0.]],\n",
       "\n",
       "       [[ 0.,  0.,  0., 12., 13.,  5.,  0.,  0.],\n",
       "        [ 0.,  0.,  0., 11., 16.,  9.,  0.,  0.],\n",
       "        [ 0.,  0.,  3., 15., 16.,  6.,  0.,  0.],\n",
       "        [ 0.,  7., 15., 16., 16.,  2.,  0.,  0.],\n",
       "        [ 0.,  0.,  1., 16., 16.,  3.,  0.,  0.],\n",
       "        [ 0.,  0.,  1., 16., 16.,  6.,  0.,  0.],\n",
       "        [ 0.,  0.,  1., 16., 16.,  6.,  0.,  0.],\n",
       "        [ 0.,  0.,  0., 11., 16., 10.,  0.,  0.]],\n",
       "\n",
       "       [[ 0.,  0.,  0.,  4., 15., 12.,  0.,  0.],\n",
       "        [ 0.,  0.,  3., 16., 15., 14.,  0.,  0.],\n",
       "        [ 0.,  0.,  8., 13.,  8., 16.,  0.,  0.],\n",
       "        [ 0.,  0.,  1.,  6., 15., 11.,  0.,  0.],\n",
       "        [ 0.,  1.,  8., 13., 15.,  1.,  0.,  0.],\n",
       "        [ 0.,  9., 16., 16.,  5.,  0.,  0.,  0.],\n",
       "        [ 0.,  3., 13., 16., 16., 11.,  5.,  0.],\n",
       "        [ 0.,  0.,  0.,  3., 11., 16.,  9.,  0.]],\n",
       "\n",
       "       [[ 0.,  0.,  7., 15., 13.,  1.,  0.,  0.],\n",
       "        [ 0.,  8., 13.,  6., 15.,  4.,  0.,  0.],\n",
       "        [ 0.,  2.,  1., 13., 13.,  0.,  0.,  0.],\n",
       "        [ 0.,  0.,  2., 15., 11.,  1.,  0.,  0.],\n",
       "        [ 0.,  0.,  0.,  1., 12., 12.,  1.,  0.],\n",
       "        [ 0.,  0.,  0.,  0.,  1., 10.,  8.,  0.],\n",
       "        [ 0.,  0.,  8.,  4.,  5., 14.,  9.,  0.],\n",
       "        [ 0.,  0.,  7., 13., 13.,  9.,  0.,  0.]],\n",
       "\n",
       "       [[ 0.,  0.,  0.,  1., 11.,  0.,  0.,  0.],\n",
       "        [ 0.,  0.,  0.,  7.,  8.,  0.,  0.,  0.],\n",
       "        [ 0.,  0.,  1., 13.,  6.,  2.,  2.,  0.],\n",
       "        [ 0.,  0.,  7., 15.,  0.,  9.,  8.,  0.],\n",
       "        [ 0.,  5., 16., 10.,  0., 16.,  6.,  0.],\n",
       "        [ 0.,  4., 15., 16., 13., 16.,  1.,  0.],\n",
       "        [ 0.,  0.,  0.,  3., 15., 10.,  0.,  0.],\n",
       "        [ 0.,  0.,  0.,  2., 16.,  4.,  0.,  0.]],\n",
       "\n",
       "       [[ 0.,  0., 12., 10.,  0.,  0.,  0.,  0.],\n",
       "        [ 0.,  0., 14., 16., 16., 14.,  0.,  0.],\n",
       "        [ 0.,  0., 13., 16., 15., 10.,  1.,  0.],\n",
       "        [ 0.,  0., 11., 16., 16.,  7.,  0.,  0.],\n",
       "        [ 0.,  0.,  0.,  4.,  7., 16.,  7.,  0.],\n",
       "        [ 0.,  0.,  0.,  0.,  4., 16.,  9.,  0.],\n",
       "        [ 0.,  0.,  5.,  4., 12., 16.,  4.,  0.],\n",
       "        [ 0.,  0.,  9., 16., 16., 10.,  0.,  0.]],\n",
       "\n",
       "       [[ 0.,  0.,  0., 12., 13.,  0.,  0.,  0.],\n",
       "        [ 0.,  0.,  5., 16.,  8.,  0.,  0.,  0.],\n",
       "        [ 0.,  0., 13., 16.,  3.,  0.,  0.,  0.],\n",
       "        [ 0.,  0., 14., 13.,  0.,  0.,  0.,  0.],\n",
       "        [ 0.,  0., 15., 12.,  7.,  2.,  0.,  0.],\n",
       "        [ 0.,  0., 13., 16., 13., 16.,  3.,  0.],\n",
       "        [ 0.,  0.,  7., 16., 11., 15.,  8.,  0.],\n",
       "        [ 0.,  0.,  1.,  9., 15., 11.,  3.,  0.]],\n",
       "\n",
       "       [[ 0.,  0.,  7.,  8., 13., 16., 15.,  1.],\n",
       "        [ 0.,  0.,  7.,  7.,  4., 11., 12.,  0.],\n",
       "        [ 0.,  0.,  0.,  0.,  8., 13.,  1.,  0.],\n",
       "        [ 0.,  4.,  8.,  8., 15., 15.,  6.,  0.],\n",
       "        [ 0.,  2., 11., 15., 15.,  4.,  0.,  0.],\n",
       "        [ 0.,  0.,  0., 16.,  5.,  0.,  0.,  0.],\n",
       "        [ 0.,  0.,  9., 15.,  1.,  0.,  0.,  0.],\n",
       "        [ 0.,  0., 13.,  5.,  0.,  0.,  0.,  0.]],\n",
       "\n",
       "       [[ 0.,  0.,  9., 14.,  8.,  1.,  0.,  0.],\n",
       "        [ 0.,  0., 12., 14., 14., 12.,  0.,  0.],\n",
       "        [ 0.,  0.,  9., 10.,  0., 15.,  4.,  0.],\n",
       "        [ 0.,  0.,  3., 16., 12., 14.,  2.,  0.],\n",
       "        [ 0.,  0.,  4., 16., 16.,  2.,  0.,  0.],\n",
       "        [ 0.,  3., 16.,  8., 10., 13.,  2.,  0.],\n",
       "        [ 0.,  1., 15.,  1.,  3., 16.,  8.,  0.],\n",
       "        [ 0.,  0., 11., 16., 15., 11.,  1.,  0.]],\n",
       "\n",
       "       [[ 0.,  0., 11., 12.,  0.,  0.,  0.,  0.],\n",
       "        [ 0.,  2., 16., 16., 16., 13.,  0.,  0.],\n",
       "        [ 0.,  3., 16., 12., 10., 14.,  0.,  0.],\n",
       "        [ 0.,  1., 16.,  1., 12., 15.,  0.,  0.],\n",
       "        [ 0.,  0., 13., 16.,  9., 15.,  2.,  0.],\n",
       "        [ 0.,  0.,  0.,  3.,  0.,  9., 11.,  0.],\n",
       "        [ 0.,  0.,  0.,  0.,  9., 15.,  4.,  0.],\n",
       "        [ 0.,  0.,  9., 12., 13.,  3.,  0.,  0.]]])"
      ]
     },
     "execution_count": 15,
     "metadata": {},
     "output_type": "execute_result"
    }
   ],
   "source": [
    "digits.images[:10]\n",
    "# 前10幅图像，代表0~9的10个数字"
   ]
  },
  {
   "cell_type": "code",
   "execution_count": 16,
   "id": "f3b8c66b",
   "metadata": {},
   "outputs": [
    {
     "data": {
      "text/plain": [
       "array([0, 1, 2, ..., 8, 9, 8])"
      ]
     },
     "execution_count": 16,
     "metadata": {},
     "output_type": "execute_result"
    }
   ],
   "source": [
    "digits.target"
   ]
  },
  {
   "cell_type": "code",
   "execution_count": 17,
   "id": "ddd80ff3",
   "metadata": {},
   "outputs": [
    {
     "data": {
      "image/png": "[encoded data removed]",
      "text/plain": [
       "<Figure size 640x480 with 10 Axes>"
      ]
     },
     "metadata": {},
     "output_type": "display_data"
    }
   ],
   "source": [
    "# 可视化观察前10个样本的效果（0~9的数字）\n",
    "for i in range(1,11): \n",
    "    # subplot的索引从1开始\n",
    "    plt.subplot(2, 5, i)\n",
    "    # 将画布拆分为2行5列，依次定位到每个axes\n",
    "    plt.imshow(\n",
    "        digits.images[i-1],\n",
    "        cmap = plt.cm.gray_r\n",
    "    )\n",
    "    \n",
    "    # 辅助对象处理\n",
    "    plt.xticks([])  # 隐藏x轴坐标刻度和刻度标签\n",
    "    plt.yticks([])\n",
    "    plt.text(3, 10, digits.target[i - 1])\n",
    "    # 将每个图像对应的数字写在图像下方\n",
    "plt.show()"
   ]
  },
  {
   "cell_type": "code",
   "execution_count": 18,
   "id": "18a3401c",
   "metadata": {},
   "outputs": [
    {
     "data": {
      "text/plain": [
       "array([0, 1, 2, 3, 4, 5, 6, 7, 8, 9])"
      ]
     },
     "execution_count": 18,
     "metadata": {},
     "output_type": "execute_result"
    }
   ],
   "source": [
    "digits.target[:10]"
   ]
  },
  {
   "cell_type": "code",
   "execution_count": 19,
   "id": "1a4371f2",
   "metadata": {},
   "outputs": [
    {
     "name": "stdout",
     "output_type": "stream",
     "text": [
      "第一幅图像的数据：\n",
      " [[ 0.  0.  5. 13.  9.  1.  0.  0.]\n",
      " [ 0.  0. 13. 15. 10. 15.  5.  0.]\n",
      " [ 0.  3. 15.  2.  0. 11.  8.  0.]\n",
      " [ 0.  4. 12.  0.  0.  8.  8.  0.]\n",
      " [ 0.  5.  8.  0.  0.  9.  8.  0.]\n",
      " [ 0.  4. 11.  0.  1. 12.  7.  0.]\n",
      " [ 0.  2. 14.  5. 10. 12.  0.  0.]\n",
      " [ 0.  0.  6. 13. 10.  0.  0.  0.]]\n",
      "第一幅图像对应的类别（数字）：\n",
      " 0\n"
     ]
    }
   ],
   "source": [
    "print('第一幅图像的数据：\\n',digits.images[0])\n",
    "print('第一幅图像对应的类别（数字）：\\n',digits.target[0])"
   ]
  },
  {
   "cell_type": "markdown",
   "id": "ef77d972",
   "metadata": {},
   "source": [
    "## 4.拆分数据集"
   ]
  },
  {
   "cell_type": "code",
   "execution_count": 20,
   "id": "6d86b2c6",
   "metadata": {},
   "outputs": [],
   "source": [
    "# 75:25\n",
    "train_X,test_X,train_y,test_y = train_test_split(\n",
    "    d_data,             # 图像特征变量\n",
    "    digits.target,      # 图像目标变量\n",
    "    test_size = 0.25,\n",
    "    random_state = 123456\n",
    ")"
   ]
  },
  {
   "cell_type": "code",
   "execution_count": 21,
   "id": "bd3bfb3b",
   "metadata": {},
   "outputs": [
    {
     "data": {
      "text/plain": [
       "(1347, 64)"
      ]
     },
     "execution_count": 21,
     "metadata": {},
     "output_type": "execute_result"
    }
   ],
   "source": [
    "train_X.shape"
   ]
  },
  {
   "cell_type": "markdown",
   "id": "1796a352",
   "metadata": {},
   "source": [
    "## 5.对数据进行标准化处理以便计算距离"
   ]
  },
  {
   "cell_type": "code",
   "execution_count": 22,
   "id": "8ee32600",
   "metadata": {},
   "outputs": [],
   "source": [
    "ss = preprocessing.StandardScaler()\n",
    "train_ss_X = ss.fit_transform(train_X)   # 将fit和transform一起进行处理\n",
    "test_ss_X = ss.transform(test_X)         # 参数共享，测试集的数据不需要再进行训练"
   ]
  },
  {
   "cell_type": "code",
   "execution_count": 23,
   "id": "b65350ed",
   "metadata": {
    "collapsed": true
   },
   "outputs": [
    {
     "data": {
      "text/plain": [
       "array([ 0.,  0.,  7., 13., 16., 11.,  0.,  0.,  0.,  3., 16.,  5.,  4.,\n",
       "       14.,  2.,  0.,  0.,  8., 11.,  1.,  4., 15.,  2.,  0.,  0.,  3.,\n",
       "       12., 14., 16.,  8.,  0.,  0.,  0.,  0.,  8., 16., 15.,  1.,  0.,\n",
       "        0.,  0.,  1., 15.,  5., 11., 12.,  0.,  0.,  0.,  3., 16.,  5.,\n",
       "        7., 16.,  1.,  0.,  0.,  0.,  5., 14., 16., 15.,  2.,  0.])"
      ]
     },
     "execution_count": 23,
     "metadata": {},
     "output_type": "execute_result"
    }
   ],
   "source": [
    "train_X[0]\n",
    "# 未标准化的特征变量"
   ]
  },
  {
   "cell_type": "code",
   "execution_count": 24,
   "id": "91317b87",
   "metadata": {
    "collapsed": true
   },
   "outputs": [
    {
     "data": {
      "text/plain": [
       "array([ 0.        , -0.34177896,  0.36249258,  0.26419181,  0.97251513,\n",
       "        0.9170263 , -0.41341831, -0.13154685, -0.06344324,  0.2961621 ,\n",
       "        1.03416291, -1.72043919, -1.30295692,  0.98845574,  0.03256894,\n",
       "       -0.13647901, -0.05156009,  1.49755258,  0.20675996, -1.04908564,\n",
       "       -0.49405388,  1.17977706,  0.04597587, -0.12025955, -0.03856149,\n",
       "        0.18171761,  0.46824698,  0.86919228,  0.99619816,  0.08266927,\n",
       "       -0.63041671, -0.05457478,  0.        , -0.66065989,  0.05378163,\n",
       "        1.09741674,  0.80356131, -1.30338689, -0.82118512,  0.        ,\n",
       "       -0.06370484, -0.18155381,  1.24426489, -0.35190678,  0.53248148,\n",
       "        0.65353518, -0.80015199, -0.09308574, -0.03043007,  1.38013363,\n",
       "        1.51036417, -0.85426942, -0.45394545,  1.21126796, -0.54671907,\n",
       "       -0.2178834 ,  0.        , -0.30169709, -0.11079938,  0.43775467,\n",
       "        0.8484907 ,  1.4117647 , -0.01440064, -0.20095388])"
      ]
     },
     "execution_count": 24,
     "metadata": {},
     "output_type": "execute_result"
    }
   ],
   "source": [
    "train_ss_X[0]\n",
    "# 标准化之后的特征变量"
   ]
  },
  {
   "cell_type": "markdown",
   "id": "e6f531f4",
   "metadata": {},
   "source": [
    "## 6.模型的训练和评估"
   ]
  },
  {
   "cell_type": "code",
   "execution_count": 25,
   "id": "b853b82c",
   "metadata": {},
   "outputs": [
    {
     "data": {
      "text/html": [
       "<style>#sk-container-id-1 {color: black;}#sk-container-id-1 pre{padding: 0;}#sk-container-id-1 div.sk-toggleable {background-color: white;}#sk-container-id-1 label.sk-toggleable__label {cursor: pointer;display: block;width: 100%;margin-bottom: 0;padding: 0.3em;box-sizing: border-box;text-align: center;}#sk-container-id-1 label.sk-toggleable__label-arrow:before {content: \"▸\";float: left;margin-right: 0.25em;color: #696969;}#sk-container-id-1 label.sk-toggleable__label-arrow:hover:before {color: black;}#sk-container-id-1 div.sk-estimator:hover label.sk-toggleable__label-arrow:before {color: black;}#sk-container-id-1 div.sk-toggleable__content {max-height: 0;max-width: 0;overflow: hidden;text-align: left;background-color: #f0f8ff;}#sk-container-id-1 div.sk-toggleable__content pre {margin: 0.2em;color: black;border-radius: 0.25em;background-color: #f0f8ff;}#sk-container-id-1 input.sk-toggleable__control:checked~div.sk-toggleable__content {max-height: 200px;max-width: 100%;overflow: auto;}#sk-container-id-1 input.sk-toggleable__control:checked~label.sk-toggleable__label-arrow:before {content: \"▾\";}#sk-container-id-1 div.sk-estimator input.sk-toggleable__control:checked~label.sk-toggleable__label {background-color: #d4ebff;}#sk-container-id-1 div.sk-label input.sk-toggleable__control:checked~label.sk-toggleable__label {background-color: #d4ebff;}#sk-container-id-1 input.sk-hidden--visually {border: 0;clip: rect(1px 1px 1px 1px);clip: rect(1px, 1px, 1px, 1px);height: 1px;margin: -1px;overflow: hidden;padding: 0;position: absolute;width: 1px;}#sk-container-id-1 div.sk-estimator {font-family: monospace;background-color: #f0f8ff;border: 1px dotted black;border-radius: 0.25em;box-sizing: border-box;margin-bottom: 0.5em;}#sk-container-id-1 div.sk-estimator:hover {background-color: #d4ebff;}#sk-container-id-1 div.sk-parallel-item::after {content: \"\";width: 100%;border-bottom: 1px solid gray;flex-grow: 1;}#sk-container-id-1 div.sk-label:hover label.sk-toggleable__label {background-color: #d4ebff;}#sk-container-id-1 div.sk-serial::before {content: \"\";position: absolute;border-left: 1px solid gray;box-sizing: border-box;top: 0;bottom: 0;left: 50%;z-index: 0;}#sk-container-id-1 div.sk-serial {display: flex;flex-direction: column;align-items: center;background-color: white;padding-right: 0.2em;padding-left: 0.2em;position: relative;}#sk-container-id-1 div.sk-item {position: relative;z-index: 1;}#sk-container-id-1 div.sk-parallel {display: flex;align-items: stretch;justify-content: center;background-color: white;position: relative;}#sk-container-id-1 div.sk-item::before, #sk-container-id-1 div.sk-parallel-item::before {content: \"\";position: absolute;border-left: 1px solid gray;box-sizing: border-box;top: 0;bottom: 0;left: 50%;z-index: -1;}#sk-container-id-1 div.sk-parallel-item {display: flex;flex-direction: column;z-index: 1;position: relative;background-color: white;}#sk-container-id-1 div.sk-parallel-item:first-child::after {align-self: flex-end;width: 50%;}#sk-container-id-1 div.sk-parallel-item:last-child::after {align-self: flex-start;width: 50%;}#sk-container-id-1 div.sk-parallel-item:only-child::after {width: 0;}#sk-container-id-1 div.sk-dashed-wrapped {border: 1px dashed gray;margin: 0 0.4em 0.5em 0.4em;box-sizing: border-box;padding-bottom: 0.4em;background-color: white;}#sk-container-id-1 div.sk-label label {font-family: monospace;font-weight: bold;display: inline-block;line-height: 1.2em;}#sk-container-id-1 div.sk-label-container {text-align: center;}#sk-container-id-1 div.sk-container {/* jupyter's `normalize.less` sets `[hidden] { display: none; }` but bootstrap.min.css set `[hidden] { display: none !important; }` so we also need the `!important` here to be able to override the default hidden behavior on the sphinx rendered scikit-learn.org. See: https://github.com/scikit-learn/scikit-learn/issues/21755 */display: inline-block !important;position: relative;}#sk-container-id-1 div.sk-text-repr-fallback {display: none;}</style><div id=\"sk-container-id-1\" class=\"sk-top-container\"><div class=\"sk-text-repr-fallback\"><pre>KNeighborsClassifier()</pre><b>In a Jupyter environment, please rerun this cell to show the HTML representation or trust the notebook. <br />On GitHub, the HTML representation is unable to render, please try loading this page with nbviewer.org.</b></div><div class=\"sk-container\" hidden><div class=\"sk-item\"><div class=\"sk-estimator sk-toggleable\"><input class=\"sk-toggleable__control sk-hidden--visually\" id=\"sk-estimator-id-1\" type=\"checkbox\" checked><label for=\"sk-estimator-id-1\" class=\"sk-toggleable__label sk-toggleable__label-arrow\">KNeighborsClassifier</label><div class=\"sk-toggleable__content\"><pre>KNeighborsClassifier()</pre></div></div></div></div></div>"
      ],
      "text/plain": [
       "KNeighborsClassifier()"
      ]
     },
     "execution_count": 25,
     "metadata": {},
     "output_type": "execute_result"
    }
   ],
   "source": [
    "# 创建KNN分类器\n",
    "knn_model = KNeighborsClassifier()\n",
    "# 训练模型（只加载数据）\n",
    "knn_model.fit(train_ss_X, train_y)"
   ]
  },
  {
   "cell_type": "code",
   "execution_count": 26,
   "id": "418d8617",
   "metadata": {},
   "outputs": [],
   "source": [
    "# 在测试集上进行预测\n",
    "pred_y = knn_model.predict(test_ss_X)"
   ]
  },
  {
   "cell_type": "code",
   "execution_count": 27,
   "id": "0ca55d7c",
   "metadata": {
    "collapsed": true
   },
   "outputs": [
    {
     "data": {
      "text/plain": [
       "array([8, 3, 2, 3, 1, 2, 5, 9, 6, 8, 8, 7, 7, 2, 7, 8, 3, 1, 4, 6, 3, 2,\n",
       "       5, 2, 1, 8, 0, 7, 2, 8, 2, 9, 9, 0, 3, 4, 8, 8, 3, 6, 4, 4, 0, 5,\n",
       "       4, 7, 3, 0, 3, 5, 2, 2, 6, 9, 1, 1, 3, 4, 8, 8, 5, 3, 8, 1, 3, 8,\n",
       "       2, 7, 3, 9, 1, 6, 4, 4, 0, 8, 3, 2, 0, 3, 2, 7, 2, 9, 8, 4, 6, 6,\n",
       "       1, 2, 6, 5, 1, 5, 7, 5, 4, 7, 5, 7, 8, 6, 4, 5, 3, 3, 5, 1, 9, 8,\n",
       "       6, 3, 9, 5, 1, 4, 1, 0, 7, 0, 5, 0, 3, 3, 0, 8, 5, 7, 3, 4, 6, 9,\n",
       "       4, 2, 9, 9, 0, 4, 7, 0, 4, 3, 0, 9, 6, 4, 0, 0, 5, 7, 9, 2, 9, 7,\n",
       "       1, 7, 9, 3, 9, 0, 1, 1, 9, 9, 3, 4, 9, 5, 8, 6, 1, 0, 9, 6, 6, 3,\n",
       "       6, 2, 2, 7, 5, 4, 0, 7, 6, 0, 6, 0, 2, 5, 3, 9, 3, 6, 1, 6, 3, 0,\n",
       "       8, 0, 3, 7, 9, 6, 7, 9, 6, 9, 9, 5, 1, 3, 3, 4, 4, 6, 5, 8, 8, 1,\n",
       "       4, 5, 4, 0, 5, 5, 3, 5, 3, 3, 6, 7, 7, 1, 3, 8, 3, 7, 9, 0, 1, 6,\n",
       "       8, 8, 3, 6, 5, 5, 0, 0, 3, 6, 3, 6, 2, 7, 7, 1, 3, 9, 7, 6, 4, 4,\n",
       "       4, 1, 4, 4, 6, 4, 5, 3, 8, 7, 1, 8, 3, 5, 1, 6, 8, 7, 3, 4, 4, 1,\n",
       "       4, 7, 4, 0, 6, 5, 1, 4, 4, 9, 2, 1, 7, 9, 8, 3, 9, 4, 4, 7, 8, 8,\n",
       "       5, 1, 9, 3, 4, 1, 6, 2, 2, 7, 7, 6, 1, 0, 7, 9, 0, 6, 7, 1, 0, 2,\n",
       "       2, 2, 1, 3, 4, 7, 9, 5, 8, 8, 6, 5, 0, 6, 8, 8, 5, 1, 2, 8, 0, 2,\n",
       "       1, 3, 6, 6, 6, 1, 0, 5, 2, 9, 0, 8, 2, 0, 2, 6, 7, 6, 1, 4, 2, 1,\n",
       "       4, 4, 9, 0, 6, 3, 0, 5, 6, 0, 2, 6, 4, 7, 2, 1, 8, 8, 9, 2, 1, 5,\n",
       "       0, 0, 7, 1, 3, 2, 4, 4, 0, 5, 2, 9, 6, 1, 0, 6, 0, 0, 1, 0, 7, 1,\n",
       "       2, 6, 9, 5, 3, 0, 5, 0, 7, 3, 8, 2, 3, 7, 2, 8, 7, 2, 9, 6, 5, 1,\n",
       "       5, 4, 5, 7, 6, 5, 0, 8, 2, 4])"
      ]
     },
     "execution_count": 27,
     "metadata": {},
     "output_type": "execute_result"
    }
   ],
   "source": [
    "pred_y"
   ]
  },
  {
   "cell_type": "code",
   "execution_count": 28,
   "id": "1e07c382",
   "metadata": {
    "collapsed": true
   },
   "outputs": [
    {
     "data": {
      "text/plain": [
       "array([8, 3, 2, 3, 1, 2, 5, 9, 6, 8, 8, 7, 7, 2, 7, 8, 3, 1, 4, 6, 3, 2,\n",
       "       5, 2, 1, 8, 0, 4, 2, 8, 2, 9, 9, 0, 3, 4, 8, 8, 3, 6, 4, 4, 0, 5,\n",
       "       4, 7, 3, 0, 3, 5, 2, 2, 6, 9, 1, 1, 3, 4, 8, 8, 5, 3, 8, 1, 3, 8,\n",
       "       2, 7, 3, 9, 1, 6, 4, 4, 0, 8, 3, 2, 0, 3, 2, 7, 2, 9, 8, 4, 6, 6,\n",
       "       1, 2, 6, 5, 1, 5, 7, 5, 4, 7, 5, 7, 8, 6, 4, 5, 3, 3, 5, 1, 9, 8,\n",
       "       6, 3, 9, 5, 1, 4, 1, 0, 7, 0, 5, 0, 3, 3, 0, 8, 5, 7, 3, 4, 6, 9,\n",
       "       4, 2, 5, 5, 0, 4, 7, 0, 4, 3, 0, 9, 6, 4, 0, 0, 5, 7, 9, 2, 9, 7,\n",
       "       1, 4, 9, 3, 9, 0, 1, 1, 9, 9, 3, 4, 9, 5, 8, 6, 1, 0, 9, 6, 6, 3,\n",
       "       6, 2, 2, 7, 5, 4, 0, 7, 6, 0, 6, 0, 2, 5, 3, 9, 3, 6, 1, 6, 3, 0,\n",
       "       8, 0, 3, 7, 9, 6, 3, 9, 6, 9, 9, 5, 1, 3, 3, 4, 4, 6, 5, 8, 8, 1,\n",
       "       4, 5, 4, 0, 5, 5, 3, 5, 3, 3, 6, 7, 7, 1, 3, 8, 3, 9, 9, 0, 1, 6,\n",
       "       8, 8, 3, 6, 5, 5, 0, 0, 3, 6, 3, 6, 2, 7, 7, 1, 3, 9, 7, 6, 4, 4,\n",
       "       9, 1, 4, 4, 6, 4, 5, 3, 8, 7, 1, 8, 3, 5, 1, 6, 8, 7, 3, 4, 4, 1,\n",
       "       4, 7, 4, 0, 6, 5, 1, 4, 4, 9, 2, 1, 7, 9, 8, 3, 9, 4, 4, 7, 8, 8,\n",
       "       5, 1, 9, 3, 4, 1, 6, 2, 2, 7, 7, 6, 1, 0, 7, 9, 0, 6, 7, 1, 0, 2,\n",
       "       2, 2, 1, 3, 4, 7, 9, 5, 8, 8, 6, 5, 0, 6, 8, 8, 5, 1, 2, 8, 0, 2,\n",
       "       1, 3, 6, 6, 6, 1, 0, 5, 2, 9, 0, 8, 2, 0, 2, 6, 7, 6, 8, 4, 2, 1,\n",
       "       4, 4, 9, 0, 6, 3, 0, 5, 6, 0, 2, 6, 4, 7, 2, 8, 8, 8, 9, 2, 1, 5,\n",
       "       0, 0, 7, 1, 3, 2, 4, 4, 0, 5, 2, 9, 6, 1, 0, 6, 0, 0, 1, 0, 7, 1,\n",
       "       2, 6, 9, 5, 3, 0, 5, 0, 7, 3, 8, 2, 3, 7, 2, 9, 7, 2, 9, 6, 5, 1,\n",
       "       5, 4, 5, 7, 6, 5, 0, 8, 2, 4])"
      ]
     },
     "execution_count": 28,
     "metadata": {},
     "output_type": "execute_result"
    }
   ],
   "source": [
    "test_y"
   ]
  },
  {
   "cell_type": "code",
   "execution_count": 29,
   "id": "b12979c4",
   "metadata": {},
   "outputs": [
    {
     "name": "stdout",
     "output_type": "stream",
     "text": [
      "KNN模型总体正确率： 0.9777777777777777\n"
     ]
    }
   ],
   "source": [
    "# 总体正确率\n",
    "print('KNN模型总体正确率：',sklearn.metrics.accuracy_score(pred_y, test_y))"
   ]
  },
  {
   "cell_type": "code",
   "execution_count": 30,
   "id": "37255da9",
   "metadata": {
    "collapsed": true
   },
   "outputs": [
    {
     "data": {
      "text/plain": [
       "array([[48,  0,  0,  0,  0,  0,  0,  0,  0,  0],\n",
       "       [ 0, 43,  0,  0,  0,  0,  0,  0,  0,  0],\n",
       "       [ 0,  0, 42,  0,  0,  0,  0,  0,  0,  0],\n",
       "       [ 0,  0,  0, 51,  0,  0,  0,  1,  0,  0],\n",
       "       [ 0,  0,  0,  0, 46,  0,  0,  2,  0,  0],\n",
       "       [ 0,  0,  0,  0,  0, 43,  0,  0,  0,  2],\n",
       "       [ 0,  0,  0,  0,  0,  0, 50,  0,  0,  0],\n",
       "       [ 0,  0,  0,  0,  0,  0,  0, 40,  0,  0],\n",
       "       [ 0,  2,  0,  0,  0,  0,  0,  0, 40,  0],\n",
       "       [ 0,  0,  0,  0,  1,  0,  0,  1,  1, 37]], dtype=int64)"
      ]
     },
     "execution_count": 30,
     "metadata": {},
     "output_type": "execute_result"
    }
   ],
   "source": [
    "# 误分类矩阵\n",
    "sklearn.metrics.confusion_matrix(test_y, pred_y)"
   ]
  },
  {
   "cell_type": "code",
   "execution_count": 31,
   "id": "460070ee",
   "metadata": {
    "collapsed": true
   },
   "outputs": [
    {
     "data": {
      "text/plain": [
       "<Axes: >"
      ]
     },
     "execution_count": 31,
     "metadata": {},
     "output_type": "execute_result"
    },
    {
     "data": {
      "image/png": "[encoded data removed]",
      "text/plain": [
       "<Figure size 640x480 with 2 Axes>"
      ]
     },
     "metadata": {},
     "output_type": "display_data"
    }
   ],
   "source": [
    "sns.heatmap(\n",
    "    sklearn.metrics.confusion_matrix(test_y, pred_y),\n",
    "    cmap = 'YlGn',\n",
    "    annot = True\n",
    ")"
   ]
  },
  {
   "cell_type": "code",
   "execution_count": 32,
   "id": "c077b931",
   "metadata": {},
   "outputs": [],
   "source": [
    "# 用函数实现对误分类矩阵的可视化\n",
    "def show_confusion_matrix(confusion_martix = None):\n",
    "    \"\"\"\n",
    "    函数功能：\n",
    "        针对误分类矩阵进行可视化展示\n",
    "    函数参数：\n",
    "        confusion_martix : 要显示的误分类矩阵，可以通过metries进行获取\n",
    "    函数返回值：\n",
    "        None\n",
    "    \"\"\"\n",
    "    # 热力图\n",
    "    sns.heatmap(\n",
    "        data = confusion_martix,\n",
    "        cmap = 'YlGn',\n",
    "        annot = True,\n",
    "        annot_kws = {'fontsize':10},        # 数值的字体大小\n",
    "        square = True,                      # 热力图呈现正方形效果\n",
    "        linewidths = 0.1,                   # 分隔线粗细\n",
    "        linecolor = 'grey',                 # 分隔线颜色\n",
    "        cbar = False                        # 隐藏色彩映射的色条\n",
    "    )\n",
    "    \n",
    "    # 辅助元素的处理\n",
    "    ax = plt.gca()                          # 获取当前的axes\n",
    "    ax.xaxis.tick_top()                     # 将xticks移动到顶端\n",
    "    ax.set_xlabel('预测值', fontsize = 12)\n",
    "    ax.set_ylabel('实际值', fontsize = 12)\n",
    "    ax.xaxis.set_label_position('top')      # 将xlabel移动到顶端\n",
    "    plt.title('误分类矩阵', fontsize = 16, y = 1.16)\n",
    "    \n",
    "    # 显示图像，隐藏提示信息\n",
    "    plt.show()"
   ]
  },
  {
   "cell_type": "code",
   "execution_count": 33,
   "id": "4e413f20",
   "metadata": {
    "collapsed": true
   },
   "outputs": [
    {
     "data": {
      "image/png": "[encoded data removed]",
      "text/plain": [
       "<Figure size 640x480 with 1 Axes>"
      ]
     },
     "metadata": {},
     "output_type": "display_data"
    }
   ],
   "source": [
    "show_confusion_matrix(sklearn.metrics.confusion_matrix(test_y, pred_y))"
   ]
  },
  {
   "cell_type": "code",
   "execution_count": 34,
   "id": "d720e4ef",
   "metadata": {},
   "outputs": [
    {
     "name": "stdout",
     "output_type": "stream",
     "text": [
      "              precision    recall  f1-score   support\n",
      "\n",
      "           0       1.00      1.00      1.00        48\n",
      "           1       1.00      0.96      0.98        45\n",
      "           2       1.00      1.00      1.00        42\n",
      "           3       0.98      1.00      0.99        51\n",
      "           4       0.96      0.98      0.97        47\n",
      "           5       0.96      1.00      0.98        43\n",
      "           6       1.00      1.00      1.00        50\n",
      "           7       1.00      0.91      0.95        44\n",
      "           8       0.95      0.98      0.96        41\n",
      "           9       0.93      0.95      0.94        39\n",
      "\n",
      "    accuracy                           0.98       450\n",
      "   macro avg       0.98      0.98      0.98       450\n",
      "weighted avg       0.98      0.98      0.98       450\n",
      "\n"
     ]
    }
   ],
   "source": [
    "# 使用分类评估报告观察模型效果\n",
    "print(sklearn.metrics.classification_report(pred_y, test_y))"
   ]
  },
  {
   "cell_type": "markdown",
   "id": "e0fdb5dd",
   "metadata": {},
   "source": [
    "## 7.使用随机值进行预测"
   ]
  },
  {
   "cell_type": "code",
   "execution_count": 35,
   "id": "469add04",
   "metadata": {},
   "outputs": [
    {
     "data": {
      "text/plain": [
       "(450, 64)"
      ]
     },
     "execution_count": 35,
     "metadata": {},
     "output_type": "execute_result"
    }
   ],
   "source": [
    "test_X.shape"
   ]
  },
  {
   "cell_type": "code",
   "execution_count": 36,
   "id": "3ea9b16b",
   "metadata": {},
   "outputs": [],
   "source": [
    "import random"
   ]
  },
  {
   "cell_type": "code",
   "execution_count": 37,
   "id": "6284994f",
   "metadata": {},
   "outputs": [],
   "source": [
    "item = random.choice(test_X)"
   ]
  },
  {
   "cell_type": "code",
   "execution_count": 38,
   "id": "5d80e20b",
   "metadata": {},
   "outputs": [
    {
     "data": {
      "text/plain": [
       "array([ 0.,  0.,  2., 12., 16., 10.,  0.,  0.,  0.,  3., 15., 10.,  7.,\n",
       "       16.,  4.,  0.,  0.,  9.,  8.,  0., 11., 10.,  0.,  0.,  0.,  3.,\n",
       "       15., 11., 14.,  1.,  0.,  0.,  0.,  0., 10., 16.,  9.,  0.,  0.,\n",
       "        0.,  0.,  0., 14.,  7., 13.,  4.,  0.,  0.,  0.,  0.,  9.,  7.,\n",
       "        6., 10.,  0.,  0.,  0.,  0.,  1., 12., 16.,  5.,  0.,  0.])"
      ]
     },
     "execution_count": 38,
     "metadata": {},
     "output_type": "execute_result"
    }
   ],
   "source": [
    "item"
   ]
  },
  {
   "cell_type": "code",
   "execution_count": 39,
   "id": "fec44767",
   "metadata": {},
   "outputs": [
    {
     "data": {
      "text/plain": [
       "(64,)"
      ]
     },
     "execution_count": 39,
     "metadata": {},
     "output_type": "execute_result"
    }
   ],
   "source": [
    "item.shape\n",
    "# 一维结构"
   ]
  },
  {
   "cell_type": "code",
   "execution_count": 40,
   "id": "efb2bf1e",
   "metadata": {
    "collapsed": true
   },
   "outputs": [
    {
     "data": {
      "text/plain": [
       "'\\nReshape your data either using array.reshape(-1, 1) if your data has a single feature or array.reshape(1, -1) if it contains a single sample.\\n'"
      ]
     },
     "execution_count": 40,
     "metadata": {},
     "output_type": "execute_result"
    }
   ],
   "source": [
    "# knn_model.predict(item)\n",
    "# 传入的预测样本必须是一个二维结构，如果是一维结构，就会报错\n",
    "'''\n",
    "Reshape your data either using array.reshape(-1, 1) if your data has a single feature or array.reshape(1, -1) if it contains a single sample.\n",
    "'''"
   ]
  },
  {
   "cell_type": "code",
   "execution_count": 41,
   "id": "886a6cb8",
   "metadata": {},
   "outputs": [
    {
     "data": {
      "text/plain": [
       "(450, 64)"
      ]
     },
     "execution_count": 41,
     "metadata": {},
     "output_type": "execute_result"
    }
   ],
   "source": [
    "test_X.shape"
   ]
  },
  {
   "cell_type": "code",
   "execution_count": 42,
   "id": "1a552665",
   "metadata": {},
   "outputs": [
    {
     "data": {
      "text/plain": [
       "(1, 64)"
      ]
     },
     "execution_count": 42,
     "metadata": {},
     "output_type": "execute_result"
    }
   ],
   "source": [
    "item.reshape(-1,64).shape"
   ]
  },
  {
   "cell_type": "code",
   "execution_count": 43,
   "id": "c3d2bdba",
   "metadata": {},
   "outputs": [
    {
     "data": {
      "text/plain": [
       "array([1])"
      ]
     },
     "execution_count": 43,
     "metadata": {},
     "output_type": "execute_result"
    }
   ],
   "source": [
    "knn_model.predict(item.reshape(-1,64))"
   ]
  },
  {
   "cell_type": "code",
   "execution_count": 44,
   "id": "73e486a2",
   "metadata": {},
   "outputs": [
    {
     "data": {
      "text/plain": [
       "<matplotlib.image.AxesImage at 0x16a44253f50>"
      ]
     },
     "execution_count": 44,
     "metadata": {},
     "output_type": "execute_result"
    },
    {
     "data": {
      "image/png": "[encoded data removed]",
      "text/plain": [
       "<Figure size 640x480 with 1 Axes>"
      ]
     },
     "metadata": {},
     "output_type": "display_data"
    }
   ],
   "source": [
    "# 对抽取出来的数据进行可视化观察\n",
    "plt.imshow(\n",
    "    item.reshape(8,8)\n",
    ")\n",
    "# 注意：此处为了能够正确显示出对应的图形，需要将item 转换为 8*8 的二维数组"
   ]
  },
  {
   "cell_type": "markdown",
   "id": "29b95d49",
   "metadata": {},
   "source": [
    "## 8.针对自己的手写数字图片进行预测\n",
    "### 8.1 载入图片，转换为数组"
   ]
  },
  {
   "cell_type": "code",
   "execution_count": 45,
   "id": "76fca6f2",
   "metadata": {},
   "outputs": [],
   "source": [
    "from PIL import Image\n",
    "# 图片操作模块"
   ]
  },
  {
   "cell_type": "code",
   "execution_count": 46,
   "id": "4678893e",
   "metadata": {},
   "outputs": [],
   "source": [
    "img = Image.open('data/1x.bmp')\n",
    "# 载入图片"
   ]
  },
  {
   "cell_type": "code",
   "execution_count": 47,
   "id": "d02c38e9",
   "metadata": {},
   "outputs": [
    {
     "data": {
      "image/png": "[encoded data removed]",
      "text/plain": [
       "<PIL.BmpImagePlugin.BmpImageFile image mode=L size=8x8>"
      ]
     },
     "execution_count": 47,
     "metadata": {},
     "output_type": "execute_result"
    }
   ],
   "source": [
    "img"
   ]
  },
  {
   "cell_type": "code",
   "execution_count": 48,
   "id": "616b5a4a",
   "metadata": {},
   "outputs": [
    {
     "data": {
      "text/plain": [
       "PIL.BmpImagePlugin.BmpImageFile"
      ]
     },
     "execution_count": 48,
     "metadata": {},
     "output_type": "execute_result"
    }
   ],
   "source": [
    "type(img)"
   ]
  },
  {
   "cell_type": "code",
   "execution_count": 49,
   "id": "e7cc2da5",
   "metadata": {},
   "outputs": [],
   "source": [
    "img.show()\n",
    "# 调用系统的图片浏览程序观看图片"
   ]
  },
  {
   "cell_type": "code",
   "execution_count": 50,
   "id": "67e13dc9",
   "metadata": {},
   "outputs": [],
   "source": [
    "img_arr = np.array(img)\n",
    "# 将图片转换为数组"
   ]
  },
  {
   "cell_type": "code",
   "execution_count": 51,
   "id": "9692ca51",
   "metadata": {},
   "outputs": [
    {
     "data": {
      "text/plain": [
       "array([[255, 255, 255, 236, 249, 255, 255, 255],\n",
       "       [255, 255, 140,   1,  88, 255, 255, 255],\n",
       "       [255, 255,  18,   2, 224, 255, 255, 255],\n",
       "       [255, 255, 233,  27, 255, 255, 255, 255],\n",
       "       [255, 255, 224,  32, 255, 255, 255, 255],\n",
       "       [255, 255, 217,  41, 255, 255, 255, 255],\n",
       "       [255, 214,  77,  11,  96, 255, 255, 255],\n",
       "       [255, 242, 196, 204, 219, 255, 255, 255]], dtype=uint8)"
      ]
     },
     "execution_count": 51,
     "metadata": {},
     "output_type": "execute_result"
    }
   ],
   "source": [
    "img_arr"
   ]
  },
  {
   "cell_type": "code",
   "execution_count": 52,
   "id": "63636fe5",
   "metadata": {},
   "outputs": [
    {
     "data": {
      "text/plain": [
       "(8, 8)"
      ]
     },
     "execution_count": 52,
     "metadata": {},
     "output_type": "execute_result"
    }
   ],
   "source": [
    "img_arr.shape"
   ]
  },
  {
   "cell_type": "code",
   "execution_count": 53,
   "id": "b4a472a9",
   "metadata": {},
   "outputs": [
    {
     "data": {
      "text/plain": [
       "array([[ 0.,  0.,  2., 12., 16., 10.,  0.,  0.],\n",
       "       [ 0.,  3., 15., 10.,  7., 16.,  4.,  0.],\n",
       "       [ 0.,  9.,  8.,  0., 11., 10.,  0.,  0.],\n",
       "       [ 0.,  3., 15., 11., 14.,  1.,  0.,  0.],\n",
       "       [ 0.,  0., 10., 16.,  9.,  0.,  0.,  0.],\n",
       "       [ 0.,  0., 14.,  7., 13.,  4.,  0.,  0.],\n",
       "       [ 0.,  0.,  9.,  7.,  6., 10.,  0.,  0.],\n",
       "       [ 0.,  0.,  1., 12., 16.,  5.,  0.,  0.]])"
      ]
     },
     "execution_count": 53,
     "metadata": {},
     "output_type": "execute_result"
    }
   ],
   "source": [
    "item.reshape(8,8)"
   ]
  },
  {
   "cell_type": "code",
   "execution_count": 54,
   "id": "f7e1f0d0",
   "metadata": {},
   "outputs": [],
   "source": [
    "img_arr_x = 255 - img_arr"
   ]
  },
  {
   "cell_type": "code",
   "execution_count": 55,
   "id": "63ae2b43",
   "metadata": {},
   "outputs": [
    {
     "data": {
      "text/plain": [
       "array([[  0,   0,   0,  19,   6,   0,   0,   0],\n",
       "       [  0,   0, 115, 254, 167,   0,   0,   0],\n",
       "       [  0,   0, 237, 253,  31,   0,   0,   0],\n",
       "       [  0,   0,  22, 228,   0,   0,   0,   0],\n",
       "       [  0,   0,  31, 223,   0,   0,   0,   0],\n",
       "       [  0,   0,  38, 214,   0,   0,   0,   0],\n",
       "       [  0,  41, 178, 244, 159,   0,   0,   0],\n",
       "       [  0,  13,  59,  51,  36,   0,   0,   0]], dtype=uint8)"
      ]
     },
     "execution_count": 55,
     "metadata": {},
     "output_type": "execute_result"
    }
   ],
   "source": [
    "img_arr_x"
   ]
  },
  {
   "cell_type": "markdown",
   "id": "88d992cf",
   "metadata": {},
   "source": [
    "### 8.2 预测"
   ]
  },
  {
   "cell_type": "code",
   "execution_count": 56,
   "id": "38450c05",
   "metadata": {},
   "outputs": [
    {
     "data": {
      "text/plain": [
       "array([1])"
      ]
     },
     "execution_count": 56,
     "metadata": {},
     "output_type": "execute_result"
    }
   ],
   "source": [
    "knn_model.predict(img_arr_x.reshape(-1,64))"
   ]
  },
  {
   "cell_type": "code",
   "execution_count": 57,
   "id": "67aabccb",
   "metadata": {},
   "outputs": [
    {
     "data": {
      "text/plain": [
       "<matplotlib.image.AxesImage at 0x16a442e1d10>"
      ]
     },
     "execution_count": 57,
     "metadata": {},
     "output_type": "execute_result"
    },
    {
     "data": {
      "image/png": "[encoded data removed]",
      "text/plain": [
       "<Figure size 640x480 with 1 Axes>"
      ]
     },
     "metadata": {},
     "output_type": "display_data"
    }
   ],
   "source": [
    "plt.imshow(img_arr_x , cmap = plt.cm.gray_r)"
   ]
  },
  {
   "cell_type": "code",
   "execution_count": null,
   "metadata": {},
   "outputs": [],
   "source": []
  }
 ],
 "metadata": {
  "kernelspec": {
   "display_name": "Python 3 (ipykernel)",
   "language": "python",
   "name": "python3"
  },
  "language_info": {
   "codemirror_mode": {
    "name": "ipython",
    "version": 3
   },
   "file_extension": ".py",
   "mimetype": "text/x-python",
   "name": "python",
   "nbconvert_exporter": "python",
   "pygments_lexer": "ipython3",
   "version": "3.11.3"
  },
  "toc": {
   "base_numbering": 1,
   "nav_menu": {},
   "number_sections": false,
   "sideBar": true,
   "skip_h1_title": false,
   "title_cell": "Table of Contents",
   "title_sidebar": "Contents",
   "toc_cell": false,
   "toc_position": {},
   "toc_section_display": true,
   "toc_window_display": true
  }
 },
 "nbformat": 4,
 "nbformat_minor": 5
}
