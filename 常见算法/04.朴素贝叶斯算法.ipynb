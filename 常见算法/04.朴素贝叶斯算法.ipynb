{
 "cells": [
  {
   "cell_type": "markdown",
   "metadata": {},
   "source": [
    "# 朴素贝叶斯"
   ]
  },
  {
   "cell_type": "markdown",
   "metadata": {},
   "source": [
    "## 主要内容\n",
    "* 基础代码演示 naive_bayes分类器\n",
    "* 实战 - 恶性肿瘤预测"
   ]
  },
  {
   "cell_type": "markdown",
   "metadata": {},
   "source": [
    "**1.基础代码演示  naive_bayes分类器**"
   ]
  },
  {
   "cell_type": "code",
   "execution_count": 1,
   "metadata": {
    "scrolled": true
   },
   "outputs": [
    {
     "name": "stdout",
     "output_type": "stream",
     "text": [
      "[0]\n"
     ]
    }
   ],
   "source": [
    "from sklearn.naive_bayes import GaussianNB\n",
    "X = [[1, 2], [3, 4], [5, 6], [7, 8], [9, 10]]\n",
    "y = [0, 0, 0, 1, 1]\n",
    "\n",
    "model = GaussianNB()\n",
    "model.fit(X, y)\n",
    "\n",
    "print(model.predict([[5, 5]]))"
   ]
  },
  {
   "cell_type": "markdown",
   "metadata": {},
   "source": [
    "**2.实战 - 恶性肿瘤预测**"
   ]
  },
  {
   "cell_type": "code",
   "execution_count": 4,
   "metadata": {},
   "outputs": [
    {
     "data": {
      "text/html": [
       "<div>\n",
       "<style scoped>\n",
       "    .dataframe tbody tr th:only-of-type {\n",
       "        vertical-align: middle;\n",
       "    }\n",
       "\n",
       "    .dataframe tbody tr th {\n",
       "        vertical-align: top;\n",
       "    }\n",
       "\n",
       "    .dataframe thead th {\n",
       "        text-align: right;\n",
       "    }\n",
       "</style>\n",
       "<table border=\"1\" class=\"dataframe\">\n",
       "  <thead>\n",
       "    <tr style=\"text-align: right;\">\n",
       "      <th></th>\n",
       "      <th>最大周长</th>\n",
       "      <th>最大凹陷度</th>\n",
       "      <th>平均凹陷度</th>\n",
       "      <th>最大面积</th>\n",
       "      <th>最大半径</th>\n",
       "      <th>平均灰度值</th>\n",
       "      <th>肿瘤性质</th>\n",
       "    </tr>\n",
       "  </thead>\n",
       "  <tbody>\n",
       "    <tr>\n",
       "      <th>0</th>\n",
       "      <td>251.2</td>\n",
       "      <td>0.2625</td>\n",
       "      <td>0.16890</td>\n",
       "      <td>4254.0</td>\n",
       "      <td>36.04</td>\n",
       "      <td>31.37</td>\n",
       "      <td>0</td>\n",
       "    </tr>\n",
       "    <tr>\n",
       "      <th>1</th>\n",
       "      <td>229.3</td>\n",
       "      <td>0.2756</td>\n",
       "      <td>0.19130</td>\n",
       "      <td>3234.0</td>\n",
       "      <td>33.13</td>\n",
       "      <td>23.58</td>\n",
       "      <td>0</td>\n",
       "    </tr>\n",
       "    <tr>\n",
       "      <th>2</th>\n",
       "      <td>220.8</td>\n",
       "      <td>0.2688</td>\n",
       "      <td>0.18780</td>\n",
       "      <td>3216.0</td>\n",
       "      <td>33.12</td>\n",
       "      <td>32.85</td>\n",
       "      <td>0</td>\n",
       "    </tr>\n",
       "    <tr>\n",
       "      <th>3</th>\n",
       "      <td>214.0</td>\n",
       "      <td>0.1659</td>\n",
       "      <td>0.08646</td>\n",
       "      <td>3432.0</td>\n",
       "      <td>32.49</td>\n",
       "      <td>47.16</td>\n",
       "      <td>0</td>\n",
       "    </tr>\n",
       "    <tr>\n",
       "      <th>4</th>\n",
       "      <td>206.0</td>\n",
       "      <td>0.2593</td>\n",
       "      <td>0.12370</td>\n",
       "      <td>2944.0</td>\n",
       "      <td>31.01</td>\n",
       "      <td>34.51</td>\n",
       "      <td>0</td>\n",
       "    </tr>\n",
       "  </tbody>\n",
       "</table>\n",
       "</div>"
      ],
      "text/plain": [
       "    最大周长   最大凹陷度    平均凹陷度    最大面积   最大半径  平均灰度值  肿瘤性质\n",
       "0  251.2  0.2625  0.16890  4254.0  36.04  31.37     0\n",
       "1  229.3  0.2756  0.19130  3234.0  33.13  23.58     0\n",
       "2  220.8  0.2688  0.18780  3216.0  33.12  32.85     0\n",
       "3  214.0  0.1659  0.08646  3432.0  32.49  47.16     0\n",
       "4  206.0  0.2593  0.12370  2944.0  31.01  34.51     0"
      ]
     },
     "execution_count": 4,
     "metadata": {},
     "output_type": "execute_result"
    }
   ],
   "source": [
    "import pandas as pd\n",
    "df = pd.read_csv('./dataset/恶性肿瘤预测.csv',encoding='gbk')\n",
    "df.head()"
   ]
  },
  {
   "cell_type": "code",
   "execution_count": 5,
   "metadata": {},
   "outputs": [
    {
     "name": "stdout",
     "output_type": "stream",
     "text": [
      "测试集预测结果为：\n",
      "[0 1 1 1 1 1 0 0 0 1 1 1 0 1 1 1 1 0 1 1 1 1 1 0 1 0 0 0 1 1 1 1 1 1 0 0 1\n",
      " 1 1 0 0 1 1 0 1 1 0 0 0 0 0 1 1 0 1 1 1 1 0 0 1 1 1 1 1 1 0 1 1 0 1 0 1 1\n",
      " 1 0 0 0 1 0 1 1 1 1 1 0 1 1 0 1 1 1 0 0 1 1 0 1 1 1 1 1 1 1 1 0 0 0 1 0 1\n",
      " 0 1]\n",
      "模型准确度：\n",
      "0.9380530973451328\n"
     ]
    }
   ],
   "source": [
    "# 2.划分X和y\n",
    "X = df.drop(columns='肿瘤性质') \n",
    "y = df['肿瘤性质']  \n",
    "\n",
    "# 3.划分训练集和测试集\n",
    "from sklearn.model_selection import train_test_split\n",
    "X_train, X_test, y_train, y_test = train_test_split(X, y, test_size=0.2, random_state=1)\n",
    "\n",
    "\n",
    "# 4.模型训练\n",
    "from sklearn.naive_bayes import GaussianNB\n",
    "clf = GaussianNB()  # 朴素贝叶斯模型\n",
    "clf.fit(X_train,y_train)\n",
    "\n",
    "# 5.打印模型结果和准确率\n",
    "y_pred = clf.predict(X_test)\n",
    "print(\"测试集预测结果为：\")\n",
    "print(y_pred)\n",
    "\n",
    "# 查看整体的预测准确度\n",
    "from sklearn.metrics import accuracy_score\n",
    "score = accuracy_score(y_pred, y_test)\n",
    "print(\"模型准确度：\")\n",
    "print(score)"
   ]
  }
 ],
 "metadata": {
  "kernelspec": {
   "display_name": "Python 3",
   "language": "python",
   "name": "python3"
  },
  "language_info": {
   "codemirror_mode": {
    "name": "ipython",
    "version": 3
   },
   "file_extension": ".py",
   "mimetype": "text/x-python",
   "name": "python",
   "nbconvert_exporter": "python",
   "pygments_lexer": "ipython3",
   "version": "3.11.3"
  }
 },
 "nbformat": 4,
 "nbformat_minor": 2
}
