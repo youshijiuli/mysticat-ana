{
 "cells": [
  {
   "cell_type": "markdown",
   "metadata": {},
   "source": [
    "# 逻辑回归"
   ]
  },
  {
   "cell_type": "markdown",
   "metadata": {},
   "source": [
    "## 主要内容\n",
    "* 数学原理 - Sigmoid函数\n",
    "* 二分类代码演示\n",
    "* 多分类代码演示\n",
    "* 实战 - 某电商用户流失预测"
   ]
  },
  {
   "cell_type": "markdown",
   "metadata": {},
   "source": [
    "## 1.数学原理 - Sigmoid函数"
   ]
  },
  {
   "cell_type": "code",
   "execution_count": 1,
   "metadata": {},
   "outputs": [],
   "source": [
    "from sklearn.linear_model import LogisticRegression"
   ]
  },
  {
   "cell_type": "code",
   "execution_count": 2,
   "metadata": {},
   "outputs": [
    {
     "data": {
      "image/png": "[encoded data removed]",
      "text/plain": [
       "<Figure size 640x480 with 1 Axes>"
      ]
     },
     "metadata": {},
     "output_type": "display_data"
    }
   ],
   "source": [
    "# 补充知识点：Sigmoid函数绘制\n",
    "from matplotlib import pyplot as plt\n",
    "import numpy as np\n",
    "\n",
    "x = np.linspace(-6, 6)  # 通过linspace()函数生成-6到6的等差数列，默认50个数\n",
    "y = 1.0 / (1.0 + np.exp(-x))  # Sigmoid函数计算公式，exp()函数表示指数函数\n",
    "\n",
    "plt.plot(x,y)  # 画图\n",
    "plt.show()  # 展示"
   ]
  },
  {
   "cell_type": "code",
   "execution_count": 3,
   "metadata": {},
   "outputs": [
    {
     "data": {
      "text/plain": [
       "array([-6.        , -5.75510204, -5.51020408, -5.26530612, -5.02040816,\n",
       "       -4.7755102 , -4.53061224, -4.28571429, -4.04081633, -3.79591837,\n",
       "       -3.55102041, -3.30612245, -3.06122449, -2.81632653, -2.57142857,\n",
       "       -2.32653061, -2.08163265, -1.83673469, -1.59183673, -1.34693878,\n",
       "       -1.10204082, -0.85714286, -0.6122449 , -0.36734694, -0.12244898,\n",
       "        0.12244898,  0.36734694,  0.6122449 ,  0.85714286,  1.10204082,\n",
       "        1.34693878,  1.59183673,  1.83673469,  2.08163265,  2.32653061,\n",
       "        2.57142857,  2.81632653,  3.06122449,  3.30612245,  3.55102041,\n",
       "        3.79591837,  4.04081633,  4.28571429,  4.53061224,  4.7755102 ,\n",
       "        5.02040816,  5.26530612,  5.51020408,  5.75510204,  6.        ])"
      ]
     },
     "execution_count": 3,
     "metadata": {},
     "output_type": "execute_result"
    }
   ],
   "source": [
    "# 演示下linespace()函数\n",
    "import numpy as np\n",
    "x = np.linspace(-6, 6)\n",
    "x"
   ]
  },
  {
   "cell_type": "code",
   "execution_count": 4,
   "metadata": {},
   "outputs": [
    {
     "data": {
      "text/plain": [
       "2.718281828459045"
      ]
     },
     "execution_count": 4,
     "metadata": {},
     "output_type": "execute_result"
    }
   ],
   "source": [
    "# 演示下np.exp()函数\n",
    "x = -1 \n",
    "np.exp(-x)"
   ]
  },
  {
   "cell_type": "markdown",
   "metadata": {},
   "source": [
    "## 2.二分类代码演示"
   ]
  },
  {
   "cell_type": "code",
   "execution_count": 5,
   "metadata": {},
   "outputs": [
    {
     "data": {
      "text/html": [
       "<style>#sk-container-id-1 {color: black;}#sk-container-id-1 pre{padding: 0;}#sk-container-id-1 div.sk-toggleable {background-color: white;}#sk-container-id-1 label.sk-toggleable__label {cursor: pointer;display: block;width: 100%;margin-bottom: 0;padding: 0.3em;box-sizing: border-box;text-align: center;}#sk-container-id-1 label.sk-toggleable__label-arrow:before {content: \"▸\";float: left;margin-right: 0.25em;color: #696969;}#sk-container-id-1 label.sk-toggleable__label-arrow:hover:before {color: black;}#sk-container-id-1 div.sk-estimator:hover label.sk-toggleable__label-arrow:before {color: black;}#sk-container-id-1 div.sk-toggleable__content {max-height: 0;max-width: 0;overflow: hidden;text-align: left;background-color: #f0f8ff;}#sk-container-id-1 div.sk-toggleable__content pre {margin: 0.2em;color: black;border-radius: 0.25em;background-color: #f0f8ff;}#sk-container-id-1 input.sk-toggleable__control:checked~div.sk-toggleable__content {max-height: 200px;max-width: 100%;overflow: auto;}#sk-container-id-1 input.sk-toggleable__control:checked~label.sk-toggleable__label-arrow:before {content: \"▾\";}#sk-container-id-1 div.sk-estimator input.sk-toggleable__control:checked~label.sk-toggleable__label {background-color: #d4ebff;}#sk-container-id-1 div.sk-label input.sk-toggleable__control:checked~label.sk-toggleable__label {background-color: #d4ebff;}#sk-container-id-1 input.sk-hidden--visually {border: 0;clip: rect(1px 1px 1px 1px);clip: rect(1px, 1px, 1px, 1px);height: 1px;margin: -1px;overflow: hidden;padding: 0;position: absolute;width: 1px;}#sk-container-id-1 div.sk-estimator {font-family: monospace;background-color: #f0f8ff;border: 1px dotted black;border-radius: 0.25em;box-sizing: border-box;margin-bottom: 0.5em;}#sk-container-id-1 div.sk-estimator:hover {background-color: #d4ebff;}#sk-container-id-1 div.sk-parallel-item::after {content: \"\";width: 100%;border-bottom: 1px solid gray;flex-grow: 1;}#sk-container-id-1 div.sk-label:hover label.sk-toggleable__label {background-color: #d4ebff;}#sk-container-id-1 div.sk-serial::before {content: \"\";position: absolute;border-left: 1px solid gray;box-sizing: border-box;top: 0;bottom: 0;left: 50%;z-index: 0;}#sk-container-id-1 div.sk-serial {display: flex;flex-direction: column;align-items: center;background-color: white;padding-right: 0.2em;padding-left: 0.2em;position: relative;}#sk-container-id-1 div.sk-item {position: relative;z-index: 1;}#sk-container-id-1 div.sk-parallel {display: flex;align-items: stretch;justify-content: center;background-color: white;position: relative;}#sk-container-id-1 div.sk-item::before, #sk-container-id-1 div.sk-parallel-item::before {content: \"\";position: absolute;border-left: 1px solid gray;box-sizing: border-box;top: 0;bottom: 0;left: 50%;z-index: -1;}#sk-container-id-1 div.sk-parallel-item {display: flex;flex-direction: column;z-index: 1;position: relative;background-color: white;}#sk-container-id-1 div.sk-parallel-item:first-child::after {align-self: flex-end;width: 50%;}#sk-container-id-1 div.sk-parallel-item:last-child::after {align-self: flex-start;width: 50%;}#sk-container-id-1 div.sk-parallel-item:only-child::after {width: 0;}#sk-container-id-1 div.sk-dashed-wrapped {border: 1px dashed gray;margin: 0 0.4em 0.5em 0.4em;box-sizing: border-box;padding-bottom: 0.4em;background-color: white;}#sk-container-id-1 div.sk-label label {font-family: monospace;font-weight: bold;display: inline-block;line-height: 1.2em;}#sk-container-id-1 div.sk-label-container {text-align: center;}#sk-container-id-1 div.sk-container {/* jupyter's `normalize.less` sets `[hidden] { display: none; }` but bootstrap.min.css set `[hidden] { display: none !important; }` so we also need the `!important` here to be able to override the default hidden behavior on the sphinx rendered scikit-learn.org. See: https://github.com/scikit-learn/scikit-learn/issues/21755 */display: inline-block !important;position: relative;}#sk-container-id-1 div.sk-text-repr-fallback {display: none;}</style><div id=\"sk-container-id-1\" class=\"sk-top-container\"><div class=\"sk-text-repr-fallback\"><pre>LogisticRegression()</pre><b>In a Jupyter environment, please rerun this cell to show the HTML representation or trust the notebook. <br />On GitHub, the HTML representation is unable to render, please try loading this page with nbviewer.org.</b></div><div class=\"sk-container\" hidden><div class=\"sk-item\"><div class=\"sk-estimator sk-toggleable\"><input class=\"sk-toggleable__control sk-hidden--visually\" id=\"sk-estimator-id-1\" type=\"checkbox\" checked><label for=\"sk-estimator-id-1\" class=\"sk-toggleable__label sk-toggleable__label-arrow\">LogisticRegression</label><div class=\"sk-toggleable__content\"><pre>LogisticRegression()</pre></div></div></div></div></div>"
      ],
      "text/plain": [
       "LogisticRegression()"
      ]
     },
     "execution_count": 5,
     "metadata": {},
     "output_type": "execute_result"
    }
   ],
   "source": [
    "# 模型训练\n",
    "from sklearn.linear_model import LogisticRegression\n",
    "\n",
    "# 构造数据\n",
    "X = [[1, 0], [5, 1], [6, 4], [4, 2], [3, 2]]\n",
    "y = [0, 1, 1, 0, 0]\n",
    "\n",
    "\n",
    "model = LogisticRegression()\n",
    "model.fit(X, y)  # 如果运行时下面出现FutureWarning警告，不要在意，它只是在告诉你以后模型的官方默认参数会有所调整而已，不是报错"
   ]
  },
  {
   "cell_type": "code",
   "execution_count": 6,
   "metadata": {},
   "outputs": [],
   "source": [
    "# 如果不想看到FutureWarning这样的警告信息，可以在代码最上面加上如下内容\n",
    "# import warnings\n",
    "# warnings.filterwarnings('ignore')"
   ]
  },
  {
   "cell_type": "code",
   "execution_count": 7,
   "metadata": {},
   "outputs": [
    {
     "name": "stdout",
     "output_type": "stream",
     "text": [
      "[0]\n"
     ]
    }
   ],
   "source": [
    "# 模型预测 - 预测单个数据\n",
    "print(model.predict([[2,2]]))"
   ]
  },
  {
   "cell_type": "code",
   "execution_count": 8,
   "metadata": {},
   "outputs": [
    {
     "name": "stdout",
     "output_type": "stream",
     "text": [
      "[0 0 1]\n"
     ]
    }
   ],
   "source": [
    "# 模型预测 - 预测多个数据1\n",
    "print(model.predict([[1,1], [2,2], [5, 5]]))"
   ]
  },
  {
   "cell_type": "code",
   "execution_count": 9,
   "metadata": {},
   "outputs": [
    {
     "name": "stdout",
     "output_type": "stream",
     "text": [
      "[0 1 1 0 0]\n"
     ]
    }
   ],
   "source": [
    "# 模型预测 - 预测多个数据2\n",
    "print(model.predict([[1, 0], [5, 1], [6, 4], [4, 2], [3, 2]]))  # 因为这里演示的多个数据和X是一样的，所以也可以直接写成model.predict(X)"
   ]
  },
  {
   "cell_type": "code",
   "execution_count": 10,
   "metadata": {},
   "outputs": [
    {
     "name": "stdout",
     "output_type": "stream",
     "text": [
      "[0 1 1 0 0]\n"
     ]
    }
   ],
   "source": [
    "print(model.predict(X))  # 因为这里演示的多个数据和X是一样的，所以也可以直接写成model.predict(X)"
   ]
  },
  {
   "cell_type": "markdown",
   "metadata": {},
   "source": [
    "## 2.代码演示"
   ]
  },
  {
   "cell_type": "code",
   "execution_count": 11,
   "metadata": {},
   "outputs": [
    {
     "data": {
      "text/plain": [
       "array([[0.97344854, 0.02655146],\n",
       "       [0.39071972, 0.60928028],\n",
       "       [0.17991028, 0.82008972],\n",
       "       [0.63167893, 0.36832107],\n",
       "       [0.82424527, 0.17575473]])"
      ]
     },
     "execution_count": 11,
     "metadata": {},
     "output_type": "execute_result"
    }
   ],
   "source": [
    "# 预测概率：左列是分类为0的概率，右列是分类为1的概率\n",
    "y_pred_proba = model.predict_proba(X)\n",
    "y_pred_proba  # 直接打印"
   ]
  },
  {
   "cell_type": "code",
   "execution_count": 13,
   "metadata": {},
   "outputs": [
    {
     "data": {
      "text/html": [
       "<div>\n",
       "<style scoped>\n",
       "    .dataframe tbody tr th:only-of-type {\n",
       "        vertical-align: middle;\n",
       "    }\n",
       "\n",
       "    .dataframe tbody tr th {\n",
       "        vertical-align: top;\n",
       "    }\n",
       "\n",
       "    .dataframe thead th {\n",
       "        text-align: right;\n",
       "    }\n",
       "</style>\n",
       "<table border=\"1\" class=\"dataframe\">\n",
       "  <thead>\n",
       "    <tr style=\"text-align: right;\">\n",
       "      <th></th>\n",
       "      <th>分类为0的概率</th>\n",
       "      <th>分类为1的概率</th>\n",
       "    </tr>\n",
       "  </thead>\n",
       "  <tbody>\n",
       "    <tr>\n",
       "      <th>0</th>\n",
       "      <td>0.973449</td>\n",
       "      <td>0.026551</td>\n",
       "    </tr>\n",
       "    <tr>\n",
       "      <th>1</th>\n",
       "      <td>0.390720</td>\n",
       "      <td>0.609280</td>\n",
       "    </tr>\n",
       "    <tr>\n",
       "      <th>2</th>\n",
       "      <td>0.179910</td>\n",
       "      <td>0.820090</td>\n",
       "    </tr>\n",
       "    <tr>\n",
       "      <th>3</th>\n",
       "      <td>0.631679</td>\n",
       "      <td>0.368321</td>\n",
       "    </tr>\n",
       "    <tr>\n",
       "      <th>4</th>\n",
       "      <td>0.824245</td>\n",
       "      <td>0.175755</td>\n",
       "    </tr>\n",
       "  </tbody>\n",
       "</table>\n",
       "</div>"
      ],
      "text/plain": [
       "    分类为0的概率   分类为1的概率\n",
       "0  0.973449  0.026551\n",
       "1  0.390720  0.609280\n",
       "2  0.179910  0.820090\n",
       "3  0.631679  0.368321\n",
       "4  0.824245  0.175755"
      ]
     },
     "execution_count": 13,
     "metadata": {},
     "output_type": "execute_result"
    }
   ],
   "source": [
    "# 另外一种打印概率的方式：通过DataFrame展示，更加好看些\n",
    "import pandas as pd\n",
    "a = pd.DataFrame(y_pred_proba, columns=['分类为0的概率', '分类为1的概率'])  # 2.2.1 通过numpy数组创建DataFrame\n",
    "a"
   ]
  },
  {
   "cell_type": "code",
   "execution_count": 14,
   "metadata": {},
   "outputs": [
    {
     "name": "stdout",
     "output_type": "stream",
     "text": [
      "[[1.00595248 0.02223835]]\n",
      "[-4.60771284]\n"
     ]
    }
   ],
   "source": [
    "# 打印系数和截距项\n",
    "print(model.coef_)  # 系数k1与k2\n",
    "print(model.intercept_)  # 截距项k0"
   ]
  },
  {
   "cell_type": "code",
   "execution_count": 15,
   "metadata": {},
   "outputs": [
    {
     "data": {
      "text/plain": [
       "array([[1.00595248],\n",
       "       [0.02223835]])"
      ]
     },
     "execution_count": 15,
     "metadata": {},
     "output_type": "execute_result"
    }
   ],
   "source": [
    "model.coef_.T"
   ]
  },
  {
   "cell_type": "code",
   "execution_count": 16,
   "metadata": {
    "scrolled": true
   },
   "outputs": [
    {
     "name": "stdout",
     "output_type": "stream",
     "text": [
      "[0.02655146]\n",
      "[0.60928028]\n",
      "[0.82008972]\n",
      "[0.36832107]\n",
      "[0.17575473]\n"
     ]
    }
   ],
   "source": [
    "# 如果想批量查看预测概率\n",
    "import numpy as np\n",
    "for i in range(5):  # 这里共有5条数据，所以循环5次\n",
    "    print(1 / (1 + np.exp(-(np.dot(X[i], model.coef_.T) + model.intercept_))))"
   ]
  },
  {
   "cell_type": "markdown",
   "metadata": {},
   "source": [
    "## 3.多分类代码演示"
   ]
  },
  {
   "cell_type": "code",
   "execution_count": 17,
   "metadata": {},
   "outputs": [
    {
     "data": {
      "text/html": [
       "<style>#sk-container-id-2 {color: black;}#sk-container-id-2 pre{padding: 0;}#sk-container-id-2 div.sk-toggleable {background-color: white;}#sk-container-id-2 label.sk-toggleable__label {cursor: pointer;display: block;width: 100%;margin-bottom: 0;padding: 0.3em;box-sizing: border-box;text-align: center;}#sk-container-id-2 label.sk-toggleable__label-arrow:before {content: \"▸\";float: left;margin-right: 0.25em;color: #696969;}#sk-container-id-2 label.sk-toggleable__label-arrow:hover:before {color: black;}#sk-container-id-2 div.sk-estimator:hover label.sk-toggleable__label-arrow:before {color: black;}#sk-container-id-2 div.sk-toggleable__content {max-height: 0;max-width: 0;overflow: hidden;text-align: left;background-color: #f0f8ff;}#sk-container-id-2 div.sk-toggleable__content pre {margin: 0.2em;color: black;border-radius: 0.25em;background-color: #f0f8ff;}#sk-container-id-2 input.sk-toggleable__control:checked~div.sk-toggleable__content {max-height: 200px;max-width: 100%;overflow: auto;}#sk-container-id-2 input.sk-toggleable__control:checked~label.sk-toggleable__label-arrow:before {content: \"▾\";}#sk-container-id-2 div.sk-estimator input.sk-toggleable__control:checked~label.sk-toggleable__label {background-color: #d4ebff;}#sk-container-id-2 div.sk-label input.sk-toggleable__control:checked~label.sk-toggleable__label {background-color: #d4ebff;}#sk-container-id-2 input.sk-hidden--visually {border: 0;clip: rect(1px 1px 1px 1px);clip: rect(1px, 1px, 1px, 1px);height: 1px;margin: -1px;overflow: hidden;padding: 0;position: absolute;width: 1px;}#sk-container-id-2 div.sk-estimator {font-family: monospace;background-color: #f0f8ff;border: 1px dotted black;border-radius: 0.25em;box-sizing: border-box;margin-bottom: 0.5em;}#sk-container-id-2 div.sk-estimator:hover {background-color: #d4ebff;}#sk-container-id-2 div.sk-parallel-item::after {content: \"\";width: 100%;border-bottom: 1px solid gray;flex-grow: 1;}#sk-container-id-2 div.sk-label:hover label.sk-toggleable__label {background-color: #d4ebff;}#sk-container-id-2 div.sk-serial::before {content: \"\";position: absolute;border-left: 1px solid gray;box-sizing: border-box;top: 0;bottom: 0;left: 50%;z-index: 0;}#sk-container-id-2 div.sk-serial {display: flex;flex-direction: column;align-items: center;background-color: white;padding-right: 0.2em;padding-left: 0.2em;position: relative;}#sk-container-id-2 div.sk-item {position: relative;z-index: 1;}#sk-container-id-2 div.sk-parallel {display: flex;align-items: stretch;justify-content: center;background-color: white;position: relative;}#sk-container-id-2 div.sk-item::before, #sk-container-id-2 div.sk-parallel-item::before {content: \"\";position: absolute;border-left: 1px solid gray;box-sizing: border-box;top: 0;bottom: 0;left: 50%;z-index: -1;}#sk-container-id-2 div.sk-parallel-item {display: flex;flex-direction: column;z-index: 1;position: relative;background-color: white;}#sk-container-id-2 div.sk-parallel-item:first-child::after {align-self: flex-end;width: 50%;}#sk-container-id-2 div.sk-parallel-item:last-child::after {align-self: flex-start;width: 50%;}#sk-container-id-2 div.sk-parallel-item:only-child::after {width: 0;}#sk-container-id-2 div.sk-dashed-wrapped {border: 1px dashed gray;margin: 0 0.4em 0.5em 0.4em;box-sizing: border-box;padding-bottom: 0.4em;background-color: white;}#sk-container-id-2 div.sk-label label {font-family: monospace;font-weight: bold;display: inline-block;line-height: 1.2em;}#sk-container-id-2 div.sk-label-container {text-align: center;}#sk-container-id-2 div.sk-container {/* jupyter's `normalize.less` sets `[hidden] { display: none; }` but bootstrap.min.css set `[hidden] { display: none !important; }` so we also need the `!important` here to be able to override the default hidden behavior on the sphinx rendered scikit-learn.org. See: https://github.com/scikit-learn/scikit-learn/issues/21755 */display: inline-block !important;position: relative;}#sk-container-id-2 div.sk-text-repr-fallback {display: none;}</style><div id=\"sk-container-id-2\" class=\"sk-top-container\"><div class=\"sk-text-repr-fallback\"><pre>LogisticRegression()</pre><b>In a Jupyter environment, please rerun this cell to show the HTML representation or trust the notebook. <br />On GitHub, the HTML representation is unable to render, please try loading this page with nbviewer.org.</b></div><div class=\"sk-container\" hidden><div class=\"sk-item\"><div class=\"sk-estimator sk-toggleable\"><input class=\"sk-toggleable__control sk-hidden--visually\" id=\"sk-estimator-id-2\" type=\"checkbox\" checked><label for=\"sk-estimator-id-2\" class=\"sk-toggleable__label sk-toggleable__label-arrow\">LogisticRegression</label><div class=\"sk-toggleable__content\"><pre>LogisticRegression()</pre></div></div></div></div></div>"
      ],
      "text/plain": [
       "LogisticRegression()"
      ]
     },
     "execution_count": 17,
     "metadata": {},
     "output_type": "execute_result"
    }
   ],
   "source": [
    "# 构造数据，此时y有多个分类\n",
    "X = [[1, 0], [5, 1], [6, 4], [4, 2], [3, 2]]\n",
    "y = [-1, 0, 1, 1, 1]  # 这里有三个分类-1、0、1\n",
    "\n",
    "# 模型训练\n",
    "from sklearn.linear_model import LogisticRegression\n",
    "model = LogisticRegression()\n",
    "model.fit(X, y)  # 如果运行时下面出现FutureWarning警告，不要在意，它只是在告诉你以后模型的官方默认参数会有所调整而已，不是报错"
   ]
  },
  {
   "cell_type": "code",
   "execution_count": 18,
   "metadata": {},
   "outputs": [
    {
     "name": "stdout",
     "output_type": "stream",
     "text": [
      "[-1]\n"
     ]
    }
   ],
   "source": [
    "print(model.predict([[0, 0]]))"
   ]
  },
  {
   "cell_type": "code",
   "execution_count": 19,
   "metadata": {},
   "outputs": [
    {
     "data": {
      "text/plain": [
       "array([-1,  0,  1,  1,  1])"
      ]
     },
     "execution_count": 19,
     "metadata": {},
     "output_type": "execute_result"
    }
   ],
   "source": [
    "model.predict(X)"
   ]
  },
  {
   "cell_type": "code",
   "execution_count": 20,
   "metadata": {},
   "outputs": [
    {
     "name": "stdout",
     "output_type": "stream",
     "text": [
      "[[0.88352311 0.02340026 0.09307662]]\n"
     ]
    }
   ],
   "source": [
    "print(model.predict_proba([[0, 0]]))"
   ]
  },
  {
   "cell_type": "markdown",
   "metadata": {},
   "source": [
    "## 4.实战 - 某电商用户流失预测"
   ]
  },
  {
   "cell_type": "code",
   "execution_count": 39,
   "metadata": {},
   "outputs": [
    {
     "data": {
      "text/html": [
       "<div>\n",
       "<style scoped>\n",
       "    .dataframe tbody tr th:only-of-type {\n",
       "        vertical-align: middle;\n",
       "    }\n",
       "\n",
       "    .dataframe tbody tr th {\n",
       "        vertical-align: top;\n",
       "    }\n",
       "\n",
       "    .dataframe thead th {\n",
       "        text-align: right;\n",
       "    }\n",
       "</style>\n",
       "<table border=\"1\" class=\"dataframe\">\n",
       "  <thead>\n",
       "    <tr style=\"text-align: right;\">\n",
       "      <th></th>\n",
       "      <th>总流水（元）</th>\n",
       "      <th>最后一次下单距今时间（天）</th>\n",
       "      <th>上月流水（元）</th>\n",
       "      <th>注册时长（年）</th>\n",
       "      <th>是否流失</th>\n",
       "    </tr>\n",
       "  </thead>\n",
       "  <tbody>\n",
       "    <tr>\n",
       "      <th>0</th>\n",
       "      <td>48521.0</td>\n",
       "      <td>169</td>\n",
       "      <td>322.00</td>\n",
       "      <td>0</td>\n",
       "      <td>0</td>\n",
       "    </tr>\n",
       "    <tr>\n",
       "      <th>1</th>\n",
       "      <td>48552.5</td>\n",
       "      <td>172</td>\n",
       "      <td>395.75</td>\n",
       "      <td>0</td>\n",
       "      <td>1</td>\n",
       "    </tr>\n",
       "    <tr>\n",
       "      <th>2</th>\n",
       "      <td>48597.5</td>\n",
       "      <td>171</td>\n",
       "      <td>363.75</td>\n",
       "      <td>0</td>\n",
       "      <td>0</td>\n",
       "    </tr>\n",
       "    <tr>\n",
       "      <th>3</th>\n",
       "      <td>48629.0</td>\n",
       "      <td>173</td>\n",
       "      <td>319.75</td>\n",
       "      <td>0</td>\n",
       "      <td>0</td>\n",
       "    </tr>\n",
       "    <tr>\n",
       "      <th>4</th>\n",
       "      <td>48665.0</td>\n",
       "      <td>172</td>\n",
       "      <td>345.25</td>\n",
       "      <td>0</td>\n",
       "      <td>1</td>\n",
       "    </tr>\n",
       "  </tbody>\n",
       "</table>\n",
       "</div>"
      ],
      "text/plain": [
       "    总流水（元）  最后一次下单距今时间（天）  上月流水（元）  注册时长（年）  是否流失\n",
       "0  48521.0            169   322.00        0     0\n",
       "1  48552.5            172   395.75        0     1\n",
       "2  48597.5            171   363.75        0     0\n",
       "3  48629.0            173   319.75        0     0\n",
       "4  48665.0            172   345.25        0     1"
      ]
     },
     "execution_count": 39,
     "metadata": {},
     "output_type": "execute_result"
    }
   ],
   "source": [
    "# 1.读取数据\n",
    "import pandas as pd\n",
    "df = pd.read_csv(\"./dataset/某电商用户流失预测.csv\")\n",
    "df.head()"
   ]
  },
  {
   "cell_type": "code",
   "execution_count": 40,
   "metadata": {},
   "outputs": [],
   "source": [
    "# 2.划分特征变量和目标变量\n",
    "X = df.drop(columns='是否流失') \n",
    "y = df['是否流失']   "
   ]
  },
  {
   "cell_type": "code",
   "execution_count": 41,
   "metadata": {},
   "outputs": [
    {
     "data": {
      "text/html": [
       "<div>\n",
       "<style scoped>\n",
       "    .dataframe tbody tr th:only-of-type {\n",
       "        vertical-align: middle;\n",
       "    }\n",
       "\n",
       "    .dataframe tbody tr th {\n",
       "        vertical-align: top;\n",
       "    }\n",
       "\n",
       "    .dataframe thead th {\n",
       "        text-align: right;\n",
       "    }\n",
       "</style>\n",
       "<table border=\"1\" class=\"dataframe\">\n",
       "  <thead>\n",
       "    <tr style=\"text-align: right;\">\n",
       "      <th></th>\n",
       "      <th>总流水（元）</th>\n",
       "      <th>最后一次下单距今时间（天）</th>\n",
       "      <th>上月流水（元）</th>\n",
       "      <th>注册时长（年）</th>\n",
       "    </tr>\n",
       "  </thead>\n",
       "  <tbody>\n",
       "    <tr>\n",
       "      <th>0</th>\n",
       "      <td>48521.0</td>\n",
       "      <td>169</td>\n",
       "      <td>322.00</td>\n",
       "      <td>0</td>\n",
       "    </tr>\n",
       "    <tr>\n",
       "      <th>1</th>\n",
       "      <td>48552.5</td>\n",
       "      <td>172</td>\n",
       "      <td>395.75</td>\n",
       "      <td>0</td>\n",
       "    </tr>\n",
       "    <tr>\n",
       "      <th>2</th>\n",
       "      <td>48597.5</td>\n",
       "      <td>171</td>\n",
       "      <td>363.75</td>\n",
       "      <td>0</td>\n",
       "    </tr>\n",
       "    <tr>\n",
       "      <th>3</th>\n",
       "      <td>48629.0</td>\n",
       "      <td>173</td>\n",
       "      <td>319.75</td>\n",
       "      <td>0</td>\n",
       "    </tr>\n",
       "    <tr>\n",
       "      <th>4</th>\n",
       "      <td>48665.0</td>\n",
       "      <td>172</td>\n",
       "      <td>345.25</td>\n",
       "      <td>0</td>\n",
       "    </tr>\n",
       "    <tr>\n",
       "      <th>...</th>\n",
       "      <td>...</td>\n",
       "      <td>...</td>\n",
       "      <td>...</td>\n",
       "      <td>...</td>\n",
       "    </tr>\n",
       "    <tr>\n",
       "      <th>3093</th>\n",
       "      <td>259179.5</td>\n",
       "      <td>29</td>\n",
       "      <td>349.75</td>\n",
       "      <td>2</td>\n",
       "    </tr>\n",
       "    <tr>\n",
       "      <th>3094</th>\n",
       "      <td>259256.0</td>\n",
       "      <td>29</td>\n",
       "      <td>360.50</td>\n",
       "      <td>2</td>\n",
       "    </tr>\n",
       "    <tr>\n",
       "      <th>3095</th>\n",
       "      <td>259292.0</td>\n",
       "      <td>29</td>\n",
       "      <td>375.50</td>\n",
       "      <td>2</td>\n",
       "    </tr>\n",
       "    <tr>\n",
       "      <th>3096</th>\n",
       "      <td>259346.0</td>\n",
       "      <td>29</td>\n",
       "      <td>472.50</td>\n",
       "      <td>2</td>\n",
       "    </tr>\n",
       "    <tr>\n",
       "      <th>3097</th>\n",
       "      <td>259350.5</td>\n",
       "      <td>28</td>\n",
       "      <td>374.50</td>\n",
       "      <td>2</td>\n",
       "    </tr>\n",
       "  </tbody>\n",
       "</table>\n",
       "<p>3098 rows × 4 columns</p>\n",
       "</div>"
      ],
      "text/plain": [
       "        总流水（元）  最后一次下单距今时间（天）  上月流水（元）  注册时长（年）\n",
       "0      48521.0            169   322.00        0\n",
       "1      48552.5            172   395.75        0\n",
       "2      48597.5            171   363.75        0\n",
       "3      48629.0            173   319.75        0\n",
       "4      48665.0            172   345.25        0\n",
       "...        ...            ...      ...      ...\n",
       "3093  259179.5             29   349.75        2\n",
       "3094  259256.0             29   360.50        2\n",
       "3095  259292.0             29   375.50        2\n",
       "3096  259346.0             29   472.50        2\n",
       "3097  259350.5             28   374.50        2\n",
       "\n",
       "[3098 rows x 4 columns]"
      ]
     },
     "execution_count": 41,
     "metadata": {},
     "output_type": "execute_result"
    }
   ],
   "source": [
    "X"
   ]
  },
  {
   "cell_type": "code",
   "execution_count": 42,
   "metadata": {},
   "outputs": [
    {
     "data": {
      "text/plain": [
       "0       0\n",
       "1       1\n",
       "2       0\n",
       "3       0\n",
       "4       1\n",
       "       ..\n",
       "3093    0\n",
       "3094    0\n",
       "3095    0\n",
       "3096    1\n",
       "3097    0\n",
       "Name: 是否流失, Length: 3098, dtype: int64"
      ]
     },
     "execution_count": 42,
     "metadata": {},
     "output_type": "execute_result"
    }
   ],
   "source": [
    "y"
   ]
  },
  {
   "cell_type": "code",
   "execution_count": 43,
   "metadata": {},
   "outputs": [
    {
     "data": {
      "text/html": [
       "<div>\n",
       "<style scoped>\n",
       "    .dataframe tbody tr th:only-of-type {\n",
       "        vertical-align: middle;\n",
       "    }\n",
       "\n",
       "    .dataframe tbody tr th {\n",
       "        vertical-align: top;\n",
       "    }\n",
       "\n",
       "    .dataframe thead th {\n",
       "        text-align: right;\n",
       "    }\n",
       "</style>\n",
       "<table border=\"1\" class=\"dataframe\">\n",
       "  <thead>\n",
       "    <tr style=\"text-align: right;\">\n",
       "      <th></th>\n",
       "      <th>总流水（元）</th>\n",
       "      <th>最后一次下单距今时间（天）</th>\n",
       "      <th>上月流水（元）</th>\n",
       "      <th>注册时长（年）</th>\n",
       "    </tr>\n",
       "  </thead>\n",
       "  <tbody>\n",
       "    <tr>\n",
       "      <th>1026</th>\n",
       "      <td>92976.5</td>\n",
       "      <td>99</td>\n",
       "      <td>150.50</td>\n",
       "      <td>2</td>\n",
       "    </tr>\n",
       "    <tr>\n",
       "      <th>1721</th>\n",
       "      <td>131460.5</td>\n",
       "      <td>66</td>\n",
       "      <td>498.50</td>\n",
       "      <td>0</td>\n",
       "    </tr>\n",
       "    <tr>\n",
       "      <th>2436</th>\n",
       "      <td>181113.5</td>\n",
       "      <td>45</td>\n",
       "      <td>125.75</td>\n",
       "      <td>5</td>\n",
       "    </tr>\n",
       "    <tr>\n",
       "      <th>3026</th>\n",
       "      <td>250409.0</td>\n",
       "      <td>30</td>\n",
       "      <td>284.50</td>\n",
       "      <td>3</td>\n",
       "    </tr>\n",
       "    <tr>\n",
       "      <th>1735</th>\n",
       "      <td>132401.0</td>\n",
       "      <td>64</td>\n",
       "      <td>402.75</td>\n",
       "      <td>1</td>\n",
       "    </tr>\n",
       "  </tbody>\n",
       "</table>\n",
       "</div>"
      ],
      "text/plain": [
       "        总流水（元）  最后一次下单距今时间（天）  上月流水（元）  注册时长（年）\n",
       "1026   92976.5             99   150.50        2\n",
       "1721  131460.5             66   498.50        0\n",
       "2436  181113.5             45   125.75        5\n",
       "3026  250409.0             30   284.50        3\n",
       "1735  132401.0             64   402.75        1"
      ]
     },
     "execution_count": 43,
     "metadata": {},
     "output_type": "execute_result"
    }
   ],
   "source": [
    "# 3.划分训练集和测试集\n",
    "from sklearn.model_selection import train_test_split\n",
    "X_train, X_test, y_train, y_test = train_test_split(X, y, test_size=0.2, random_state=1)  # 设置random_state使得每次划分的数据一样\n",
    "\n",
    "X_train.head()  # 显示训练集X_train的前5行，在别的代码编辑器里需要通过print()函数打印查看\n",
    "# y_train.head()  # 显示训练集y_train的前5行，在别的代码编辑器里需要通过print()函数打印查看\n",
    "# X_test.head()  # 显示测试集X_test的前5行，在别的代码编辑器里需要通过print()函数打印查看\n",
    "# y_test.head()  # 显示测试集y_test的前5行，在别的代码编辑器里需要通过print()函数打印查看"
   ]
  },
  {
   "cell_type": "code",
   "execution_count": 44,
   "metadata": {},
   "outputs": [
    {
     "data": {
      "text/html": [
       "<style>#sk-container-id-4 {color: black;}#sk-container-id-4 pre{padding: 0;}#sk-container-id-4 div.sk-toggleable {background-color: white;}#sk-container-id-4 label.sk-toggleable__label {cursor: pointer;display: block;width: 100%;margin-bottom: 0;padding: 0.3em;box-sizing: border-box;text-align: center;}#sk-container-id-4 label.sk-toggleable__label-arrow:before {content: \"▸\";float: left;margin-right: 0.25em;color: #696969;}#sk-container-id-4 label.sk-toggleable__label-arrow:hover:before {color: black;}#sk-container-id-4 div.sk-estimator:hover label.sk-toggleable__label-arrow:before {color: black;}#sk-container-id-4 div.sk-toggleable__content {max-height: 0;max-width: 0;overflow: hidden;text-align: left;background-color: #f0f8ff;}#sk-container-id-4 div.sk-toggleable__content pre {margin: 0.2em;color: black;border-radius: 0.25em;background-color: #f0f8ff;}#sk-container-id-4 input.sk-toggleable__control:checked~div.sk-toggleable__content {max-height: 200px;max-width: 100%;overflow: auto;}#sk-container-id-4 input.sk-toggleable__control:checked~label.sk-toggleable__label-arrow:before {content: \"▾\";}#sk-container-id-4 div.sk-estimator input.sk-toggleable__control:checked~label.sk-toggleable__label {background-color: #d4ebff;}#sk-container-id-4 div.sk-label input.sk-toggleable__control:checked~label.sk-toggleable__label {background-color: #d4ebff;}#sk-container-id-4 input.sk-hidden--visually {border: 0;clip: rect(1px 1px 1px 1px);clip: rect(1px, 1px, 1px, 1px);height: 1px;margin: -1px;overflow: hidden;padding: 0;position: absolute;width: 1px;}#sk-container-id-4 div.sk-estimator {font-family: monospace;background-color: #f0f8ff;border: 1px dotted black;border-radius: 0.25em;box-sizing: border-box;margin-bottom: 0.5em;}#sk-container-id-4 div.sk-estimator:hover {background-color: #d4ebff;}#sk-container-id-4 div.sk-parallel-item::after {content: \"\";width: 100%;border-bottom: 1px solid gray;flex-grow: 1;}#sk-container-id-4 div.sk-label:hover label.sk-toggleable__label {background-color: #d4ebff;}#sk-container-id-4 div.sk-serial::before {content: \"\";position: absolute;border-left: 1px solid gray;box-sizing: border-box;top: 0;bottom: 0;left: 50%;z-index: 0;}#sk-container-id-4 div.sk-serial {display: flex;flex-direction: column;align-items: center;background-color: white;padding-right: 0.2em;padding-left: 0.2em;position: relative;}#sk-container-id-4 div.sk-item {position: relative;z-index: 1;}#sk-container-id-4 div.sk-parallel {display: flex;align-items: stretch;justify-content: center;background-color: white;position: relative;}#sk-container-id-4 div.sk-item::before, #sk-container-id-4 div.sk-parallel-item::before {content: \"\";position: absolute;border-left: 1px solid gray;box-sizing: border-box;top: 0;bottom: 0;left: 50%;z-index: -1;}#sk-container-id-4 div.sk-parallel-item {display: flex;flex-direction: column;z-index: 1;position: relative;background-color: white;}#sk-container-id-4 div.sk-parallel-item:first-child::after {align-self: flex-end;width: 50%;}#sk-container-id-4 div.sk-parallel-item:last-child::after {align-self: flex-start;width: 50%;}#sk-container-id-4 div.sk-parallel-item:only-child::after {width: 0;}#sk-container-id-4 div.sk-dashed-wrapped {border: 1px dashed gray;margin: 0 0.4em 0.5em 0.4em;box-sizing: border-box;padding-bottom: 0.4em;background-color: white;}#sk-container-id-4 div.sk-label label {font-family: monospace;font-weight: bold;display: inline-block;line-height: 1.2em;}#sk-container-id-4 div.sk-label-container {text-align: center;}#sk-container-id-4 div.sk-container {/* jupyter's `normalize.less` sets `[hidden] { display: none; }` but bootstrap.min.css set `[hidden] { display: none !important; }` so we also need the `!important` here to be able to override the default hidden behavior on the sphinx rendered scikit-learn.org. See: https://github.com/scikit-learn/scikit-learn/issues/21755 */display: inline-block !important;position: relative;}#sk-container-id-4 div.sk-text-repr-fallback {display: none;}</style><div id=\"sk-container-id-4\" class=\"sk-top-container\"><div class=\"sk-text-repr-fallback\"><pre>LogisticRegression()</pre><b>In a Jupyter environment, please rerun this cell to show the HTML representation or trust the notebook. <br />On GitHub, the HTML representation is unable to render, please try loading this page with nbviewer.org.</b></div><div class=\"sk-container\" hidden><div class=\"sk-item\"><div class=\"sk-estimator sk-toggleable\"><input class=\"sk-toggleable__control sk-hidden--visually\" id=\"sk-estimator-id-4\" type=\"checkbox\" checked><label for=\"sk-estimator-id-4\" class=\"sk-toggleable__label sk-toggleable__label-arrow\">LogisticRegression</label><div class=\"sk-toggleable__content\"><pre>LogisticRegression()</pre></div></div></div></div></div>"
      ],
      "text/plain": [
       "LogisticRegression()"
      ]
     },
     "execution_count": 44,
     "metadata": {},
     "output_type": "execute_result"
    }
   ],
   "source": [
    "# 4.模型搭建\n",
    "from sklearn.linear_model import LogisticRegression\n",
    "model = LogisticRegression()\n",
    "model.fit(X_train, y_train)"
   ]
  },
  {
   "cell_type": "code",
   "execution_count": 45,
   "metadata": {},
   "outputs": [
    {
     "name": "stdout",
     "output_type": "stream",
     "text": [
      "[0 0 1 0 0 0 1 0 0 0 1 0 0 0 0 0 0 0 0 0 1 0 0 0 1 0 1 1 0 0 0 0 0 0 0 0 0\n",
      " 0 0 0 0 0 0 0 0 0 0 0 0 0 1 0 0 0 0 1 1 0 0 1 0 0 0 0 0 0 0 0 0 0 0 0 0 0\n",
      " 0 0 0 0 0 0 1 0 0 0 1 0 0 0 0 1 0 0 0 0 0 1 0 0 1 0]\n"
     ]
    }
   ],
   "source": [
    "y_pred = model.predict(X_test)\n",
    "print(y_pred[0:100])  "
   ]
  },
  {
   "cell_type": "code",
   "execution_count": 47,
   "metadata": {},
   "outputs": [
    {
     "data": {
      "text/html": [
       "<div>\n",
       "<style scoped>\n",
       "    .dataframe tbody tr th:only-of-type {\n",
       "        vertical-align: middle;\n",
       "    }\n",
       "\n",
       "    .dataframe tbody tr th {\n",
       "        vertical-align: top;\n",
       "    }\n",
       "\n",
       "    .dataframe thead th {\n",
       "        text-align: right;\n",
       "    }\n",
       "</style>\n",
       "<table border=\"1\" class=\"dataframe\">\n",
       "  <thead>\n",
       "    <tr style=\"text-align: right;\">\n",
       "      <th></th>\n",
       "      <th>预测值</th>\n",
       "      <th>实际值</th>\n",
       "    </tr>\n",
       "  </thead>\n",
       "  <tbody>\n",
       "    <tr>\n",
       "      <th>0</th>\n",
       "      <td>0</td>\n",
       "      <td>0</td>\n",
       "    </tr>\n",
       "    <tr>\n",
       "      <th>1</th>\n",
       "      <td>0</td>\n",
       "      <td>0</td>\n",
       "    </tr>\n",
       "    <tr>\n",
       "      <th>2</th>\n",
       "      <td>1</td>\n",
       "      <td>0</td>\n",
       "    </tr>\n",
       "    <tr>\n",
       "      <th>3</th>\n",
       "      <td>0</td>\n",
       "      <td>1</td>\n",
       "    </tr>\n",
       "    <tr>\n",
       "      <th>4</th>\n",
       "      <td>0</td>\n",
       "      <td>1</td>\n",
       "    </tr>\n",
       "    <tr>\n",
       "      <th>...</th>\n",
       "      <td>...</td>\n",
       "      <td>...</td>\n",
       "    </tr>\n",
       "    <tr>\n",
       "      <th>615</th>\n",
       "      <td>0</td>\n",
       "      <td>1</td>\n",
       "    </tr>\n",
       "    <tr>\n",
       "      <th>616</th>\n",
       "      <td>0</td>\n",
       "      <td>0</td>\n",
       "    </tr>\n",
       "    <tr>\n",
       "      <th>617</th>\n",
       "      <td>1</td>\n",
       "      <td>1</td>\n",
       "    </tr>\n",
       "    <tr>\n",
       "      <th>618</th>\n",
       "      <td>0</td>\n",
       "      <td>0</td>\n",
       "    </tr>\n",
       "    <tr>\n",
       "      <th>619</th>\n",
       "      <td>0</td>\n",
       "      <td>1</td>\n",
       "    </tr>\n",
       "  </tbody>\n",
       "</table>\n",
       "<p>620 rows × 2 columns</p>\n",
       "</div>"
      ],
      "text/plain": [
       "     预测值  实际值\n",
       "0      0    0\n",
       "1      0    0\n",
       "2      1    0\n",
       "3      0    1\n",
       "4      0    1\n",
       "..   ...  ...\n",
       "615    0    1\n",
       "616    0    0\n",
       "617    1    1\n",
       "618    0    0\n",
       "619    0    1\n",
       "\n",
       "[620 rows x 2 columns]"
      ]
     },
     "execution_count": 47,
     "metadata": {},
     "output_type": "execute_result"
    }
   ],
   "source": [
    "# 放到一个DataFrame里进行查看比对\n",
    "a = pd.DataFrame()  # 创建一个空DataFrame \n",
    "a['预测值'] = list(y_pred)\n",
    "a['实际值'] = list(y_test)\n",
    "a # 可以看到此时前5个预测准确度为80%"
   ]
  },
  {
   "cell_type": "code",
   "execution_count": 48,
   "metadata": {},
   "outputs": [
    {
     "data": {
      "text/plain": [
       "0.7903225806451613"
      ]
     },
     "execution_count": 48,
     "metadata": {},
     "output_type": "execute_result"
    }
   ],
   "source": [
    "import numpy as np\n",
    "np.sum(np.array(y_pred) == np.array(y_test)) / len(y_test)"
   ]
  },
  {
   "cell_type": "code",
   "execution_count": 31,
   "metadata": {},
   "outputs": [
    {
     "name": "stdout",
     "output_type": "stream",
     "text": [
      "0.7903225806451613\n"
     ]
    }
   ],
   "source": [
    "# 查看全部的预测准确度\n",
    "from sklearn.metrics import accuracy_score\n",
    "score = accuracy_score(y_pred, y_test)\n",
    "print(score)"
   ]
  },
  {
   "cell_type": "code",
   "execution_count": 32,
   "metadata": {},
   "outputs": [
    {
     "data": {
      "text/plain": [
       "0.7903225806451613"
      ]
     },
     "execution_count": 32,
     "metadata": {},
     "output_type": "execute_result"
    }
   ],
   "source": [
    "# 另外一种查看模型预测准确度的方法\n",
    "model.score(X_test, y_test)"
   ]
  },
  {
   "cell_type": "code",
   "execution_count": 33,
   "metadata": {},
   "outputs": [
    {
     "data": {
      "text/plain": [
       "array([[0.94341849, 0.05658151],\n",
       "       [0.8899417 , 0.1100583 ],\n",
       "       [0.20793664, 0.79206336],\n",
       "       [0.91126034, 0.08873966],\n",
       "       [0.68640686, 0.31359314]])"
      ]
     },
     "execution_count": 33,
     "metadata": {},
     "output_type": "execute_result"
    }
   ],
   "source": [
    "# 6.模型使用2 - 预测概率\n",
    "y_pred_proba = model.predict_proba(X_test)  \n",
    "y_pred_proba[0:5]"
   ]
  },
  {
   "cell_type": "code",
   "execution_count": 34,
   "metadata": {},
   "outputs": [
    {
     "data": {
      "text/html": [
       "<div>\n",
       "<style scoped>\n",
       "    .dataframe tbody tr th:only-of-type {\n",
       "        vertical-align: middle;\n",
       "    }\n",
       "\n",
       "    .dataframe tbody tr th {\n",
       "        vertical-align: top;\n",
       "    }\n",
       "\n",
       "    .dataframe thead th {\n",
       "        text-align: right;\n",
       "    }\n",
       "</style>\n",
       "<table border=\"1\" class=\"dataframe\">\n",
       "  <thead>\n",
       "    <tr style=\"text-align: right;\">\n",
       "      <th></th>\n",
       "      <th>不流失概率</th>\n",
       "      <th>流失概率</th>\n",
       "    </tr>\n",
       "  </thead>\n",
       "  <tbody>\n",
       "    <tr>\n",
       "      <th>0</th>\n",
       "      <td>0.943418</td>\n",
       "      <td>0.056582</td>\n",
       "    </tr>\n",
       "    <tr>\n",
       "      <th>1</th>\n",
       "      <td>0.889942</td>\n",
       "      <td>0.110058</td>\n",
       "    </tr>\n",
       "    <tr>\n",
       "      <th>2</th>\n",
       "      <td>0.207937</td>\n",
       "      <td>0.792063</td>\n",
       "    </tr>\n",
       "    <tr>\n",
       "      <th>3</th>\n",
       "      <td>0.911260</td>\n",
       "      <td>0.088740</td>\n",
       "    </tr>\n",
       "    <tr>\n",
       "      <th>4</th>\n",
       "      <td>0.686407</td>\n",
       "      <td>0.313593</td>\n",
       "    </tr>\n",
       "  </tbody>\n",
       "</table>\n",
       "</div>"
      ],
      "text/plain": [
       "      不流失概率      流失概率\n",
       "0  0.943418  0.056582\n",
       "1  0.889942  0.110058\n",
       "2  0.207937  0.792063\n",
       "3  0.911260  0.088740\n",
       "4  0.686407  0.313593"
      ]
     },
     "execution_count": 34,
     "metadata": {},
     "output_type": "execute_result"
    }
   ],
   "source": [
    "# 另一种查看概率的方式\n",
    "a = pd.DataFrame(y_pred_proba, columns=['不流失概率', '流失概率'])\n",
    "a.head()"
   ]
  },
  {
   "cell_type": "code",
   "execution_count": 35,
   "metadata": {},
   "outputs": [
    {
     "data": {
      "text/plain": [
       "array([0.05658151, 0.1100583 , 0.79206336, 0.08873966, 0.31359314,\n",
       "       0.04731267, 0.7350078 , 0.11560317, 0.08909589, 0.1815316 ,\n",
       "       0.68542361, 0.14642302, 0.27662189, 0.47392146, 0.30736011,\n",
       "       0.04612046, 0.23050912, 0.38308283, 0.07440281, 0.0614589 ,\n",
       "       0.77556158, 0.14761968, 0.05915951, 0.09671951, 0.68524495,\n",
       "       0.47898385, 0.58726591, 0.58170565, 0.40314252, 0.19731102,\n",
       "       0.1187845 , 0.20732289, 0.04988999, 0.05734262, 0.16961969,\n",
       "       0.25625205, 0.49808631, 0.170452  , 0.0466363 , 0.42477545,\n",
       "       0.05788769, 0.10595073, 0.37088026, 0.1152662 , 0.03859624,\n",
       "       0.35537183, 0.11274129, 0.41742295, 0.45509088, 0.11084716,\n",
       "       0.71713026, 0.27474671, 0.03372118, 0.0337828 , 0.07338519,\n",
       "       0.56700918, 0.58066348, 0.0534608 , 0.4457838 , 0.74814992,\n",
       "       0.36343782, 0.1379317 , 0.05947551, 0.04636362, 0.08455705,\n",
       "       0.22377514, 0.47711778, 0.05149043, 0.05764654, 0.36932813,\n",
       "       0.03844825, 0.05891066, 0.30852714, 0.04741868, 0.31345047,\n",
       "       0.0780346 , 0.12802298, 0.37432589, 0.04672366, 0.03592912,\n",
       "       0.67625952, 0.03818773, 0.03544792, 0.14680178, 0.68365779,\n",
       "       0.41179266, 0.1626544 , 0.46288704, 0.17879118, 0.70677099,\n",
       "       0.06059893, 0.05655656, 0.04096314, 0.46149743, 0.07375423,\n",
       "       0.52189452, 0.0997948 , 0.06119568, 0.82084331, 0.3187994 ,\n",
       "       0.05542635, 0.07114262, 0.11430088, 0.21272561, 0.55439861,\n",
       "       0.52924233, 0.04389421, 0.49172593, 0.05814359, 0.0577907 ,\n",
       "       0.03898267, 0.28262486, 0.62983763, 0.21203761, 0.04059253,\n",
       "       0.66473568, 0.03902097, 0.05002609, 0.37889953, 0.04662436,\n",
       "       0.59405345, 0.05778375, 0.62548677, 0.28113406, 0.03971701,\n",
       "       0.57039819, 0.04062825, 0.12259389, 0.07998403, 0.31271142,\n",
       "       0.0628103 , 0.44984801, 0.07435113, 0.10584337, 0.43571808,\n",
       "       0.10872962, 0.1165577 , 0.0414298 , 0.04546303, 0.63317981,\n",
       "       0.43569355, 0.3982616 , 0.09976821, 0.22905456, 0.11934136,\n",
       "       0.22863799, 0.6144894 , 0.03553049, 0.28667148, 0.07268618,\n",
       "       0.41838457, 0.16136401, 0.36345125, 0.74204612, 0.04577113,\n",
       "       0.74165367, 0.19331398, 0.05646853, 0.0484293 , 0.05125465,\n",
       "       0.05201227, 0.04473967, 0.04582724, 0.05649902, 0.48588943,\n",
       "       0.37726274, 0.55642107, 0.5452291 , 0.74513193, 0.56592472,\n",
       "       0.2430412 , 0.23665515, 0.16276529, 0.25736502, 0.1985425 ,\n",
       "       0.27077364, 0.15407324, 0.34611044, 0.05654892, 0.13062052,\n",
       "       0.03701351, 0.1383838 , 0.11507884, 0.68817966, 0.80152701,\n",
       "       0.046455  , 0.21387622, 0.0524345 , 0.05915157, 0.05067435,\n",
       "       0.06037696, 0.22844909, 0.737849  , 0.03207424, 0.44734455,\n",
       "       0.37325059, 0.05508742, 0.0465282 , 0.67170434, 0.72889934,\n",
       "       0.31568818, 0.07207289, 0.65527143, 0.22662719, 0.33618145,\n",
       "       0.38070181, 0.5709241 , 0.05972743, 0.04061978, 0.32283207,\n",
       "       0.47872852, 0.1095931 , 0.22044381, 0.05808421, 0.20132067,\n",
       "       0.25035142, 0.03678688, 0.0717718 , 0.21992579, 0.75137754,\n",
       "       0.3917891 , 0.28529761, 0.04662472, 0.06940322, 0.21943328,\n",
       "       0.53043639, 0.17118714, 0.11056904, 0.5439181 , 0.22359171,\n",
       "       0.34005734, 0.29621716, 0.11877849, 0.0335939 , 0.59744284,\n",
       "       0.05100092, 0.69453707, 0.11829082, 0.13673857, 0.05519736,\n",
       "       0.05855983, 0.53814973, 0.05442936, 0.33687633, 0.04928134,\n",
       "       0.6272157 , 0.34771767, 0.27173313, 0.08618052, 0.05654754,\n",
       "       0.0368164 , 0.09399372, 0.03926826, 0.35883341, 0.51847006,\n",
       "       0.6643094 , 0.22488535, 0.21883347, 0.31859212, 0.43701296,\n",
       "       0.56454802, 0.07595333, 0.03652614, 0.55444713, 0.07816072,\n",
       "       0.56121147, 0.46415994, 0.57125271, 0.05805663, 0.05684561,\n",
       "       0.41219298, 0.26031871, 0.05146941, 0.0576877 , 0.48524264,\n",
       "       0.21692864, 0.26816231, 0.50841777, 0.33316565, 0.03537476,\n",
       "       0.03859874, 0.34796014, 0.16418442, 0.05241736, 0.05694936,\n",
       "       0.24539095, 0.47945566, 0.04928177, 0.40467359, 0.04508497,\n",
       "       0.45524281, 0.13645207, 0.07277133, 0.50594303, 0.62851347,\n",
       "       0.41922108, 0.52739741, 0.24110407, 0.05646496, 0.04943004,\n",
       "       0.05693984, 0.73047773, 0.04893909, 0.07668742, 0.05611226,\n",
       "       0.65968547, 0.54225509, 0.62313907, 0.57171509, 0.45229256,\n",
       "       0.05613636, 0.41563242, 0.07540928, 0.15506759, 0.29537168,\n",
       "       0.86388087, 0.03491671, 0.80199095, 0.11762066, 0.07191107,\n",
       "       0.05140096, 0.31888522, 0.58734912, 0.04711148, 0.03426012,\n",
       "       0.54117986, 0.17422616, 0.73420069, 0.2174154 , 0.4874625 ,\n",
       "       0.30251598, 0.06155765, 0.11245844, 0.0523445 , 0.16486343,\n",
       "       0.03987938, 0.11770503, 0.5153116 , 0.55552276, 0.03711887,\n",
       "       0.17450162, 0.288445  , 0.24631642, 0.05221403, 0.33339765,\n",
       "       0.53721775, 0.0677149 , 0.04359331, 0.04195171, 0.12638736,\n",
       "       0.04367147, 0.07048963, 0.1205846 , 0.03133528, 0.78411991,\n",
       "       0.04479124, 0.03688094, 0.03762091, 0.52654799, 0.03292496,\n",
       "       0.42649736, 0.78892671, 0.11439752, 0.05197035, 0.69192054,\n",
       "       0.05257836, 0.04140595, 0.44078566, 0.60927097, 0.15932947,\n",
       "       0.48695425, 0.21806697, 0.50474761, 0.02986485, 0.61456867,\n",
       "       0.18200441, 0.36544472, 0.50557722, 0.05213104, 0.04321345,\n",
       "       0.37566517, 0.07041563, 0.05806914, 0.15567704, 0.05638548,\n",
       "       0.1533333 , 0.09684392, 0.14133395, 0.21145051, 0.55964045,\n",
       "       0.76577949, 0.04654467, 0.22786608, 0.16451837, 0.34358072,\n",
       "       0.04784583, 0.04343708, 0.0912836 , 0.09748621, 0.03758033,\n",
       "       0.0846778 , 0.15170275, 0.62918009, 0.05202329, 0.59740598,\n",
       "       0.72593087, 0.67935286, 0.04012683, 0.03222641, 0.15481924,\n",
       "       0.61125009, 0.04314036, 0.33687876, 0.13928721, 0.57139862,\n",
       "       0.57598568, 0.41030797, 0.03975115, 0.06757263, 0.03308341,\n",
       "       0.21227343, 0.0546065 , 0.04335851, 0.45782898, 0.63832805,\n",
       "       0.68034229, 0.35390695, 0.0487498 , 0.31984072, 0.04515912,\n",
       "       0.29715602, 0.20577335, 0.05616047, 0.76765351, 0.05310167,\n",
       "       0.05450842, 0.073194  , 0.03516773, 0.05862554, 0.05957494,\n",
       "       0.27507519, 0.2688473 , 0.40140717, 0.32755961, 0.29087439,\n",
       "       0.14229829, 0.45364646, 0.10176915, 0.11266623, 0.55495097,\n",
       "       0.31339354, 0.66393306, 0.75303124, 0.55200285, 0.73189331,\n",
       "       0.33482089, 0.19573033, 0.54984602, 0.63647377, 0.06888534,\n",
       "       0.04989392, 0.6548535 , 0.04983932, 0.43107662, 0.45633376,\n",
       "       0.52575627, 0.56461092, 0.0394239 , 0.07544671, 0.04938268,\n",
       "       0.04038127, 0.11446389, 0.50325214, 0.49346954, 0.1125911 ,\n",
       "       0.04379253, 0.80853318, 0.04644103, 0.33468303, 0.04445854,\n",
       "       0.54580419, 0.51607242, 0.0594686 , 0.31821552, 0.09037797,\n",
       "       0.35574994, 0.47493097, 0.04148311, 0.70057245, 0.44640007,\n",
       "       0.05413817, 0.05890779, 0.26275344, 0.27735635, 0.04295613,\n",
       "       0.41254954, 0.05550884, 0.71534514, 0.04218135, 0.09403938,\n",
       "       0.063545  , 0.34475256, 0.36310892, 0.15793019, 0.57318985,\n",
       "       0.17828245, 0.48009378, 0.3372327 , 0.56533474, 0.35196762,\n",
       "       0.05801409, 0.0357524 , 0.05490094, 0.49944938, 0.07956927,\n",
       "       0.05298402, 0.14926587, 0.50842195, 0.14797123, 0.05765041,\n",
       "       0.07213941, 0.18581462, 0.05493729, 0.77389914, 0.12009214,\n",
       "       0.20526591, 0.18012757, 0.04355827, 0.48506779, 0.20313049,\n",
       "       0.05325581, 0.63014163, 0.53108447, 0.4258795 , 0.07858446,\n",
       "       0.52020666, 0.57194857, 0.05525259, 0.05567507, 0.149108  ,\n",
       "       0.14699286, 0.07262946, 0.35004707, 0.0477108 , 0.18268221,\n",
       "       0.23706135, 0.55939781, 0.54984094, 0.05767611, 0.48197226,\n",
       "       0.13589682, 0.10971006, 0.62347404, 0.04419826, 0.14548631,\n",
       "       0.53115073, 0.04596682, 0.09968383, 0.05796396, 0.53324138,\n",
       "       0.1906633 , 0.03816864, 0.04026143, 0.34113447, 0.19333106,\n",
       "       0.05176256, 0.0422367 , 0.04165229, 0.04663358, 0.62191344,\n",
       "       0.33583437, 0.04153418, 0.15224506, 0.16890214, 0.0360228 ,\n",
       "       0.23872945, 0.09173988, 0.33544412, 0.1325253 , 0.08644814,\n",
       "       0.11286367, 0.53367686, 0.20721884, 0.15959443, 0.51607959,\n",
       "       0.48541809, 0.33667456, 0.51849328, 0.07429914, 0.0490504 ,\n",
       "       0.36682369, 0.28845029, 0.79760121, 0.26821808, 0.05580912,\n",
       "       0.05260907, 0.47614904, 0.05896359, 0.14477379, 0.04218682,\n",
       "       0.0583446 , 0.05908273, 0.74184588, 0.46551289, 0.76817878,\n",
       "       0.76812865, 0.18781892, 0.05809722, 0.62244574, 0.04212624,\n",
       "       0.07104848, 0.04710798, 0.04828041, 0.58464048, 0.03235931,\n",
       "       0.26153354, 0.052893  , 0.60999526, 0.20593723, 0.21372003])"
      ]
     },
     "execution_count": 35,
     "metadata": {},
     "output_type": "execute_result"
    }
   ],
   "source": [
    "# 只查看流失的概率（也即y=1概率，即上面二维数组的第二列）\n",
    "y_pred_proba[:,1]"
   ]
  },
  {
   "cell_type": "code",
   "execution_count": 36,
   "metadata": {},
   "outputs": [
    {
     "data": {
      "text/plain": [
       "array([[-2.06445347e-05, -1.94064381e-02,  1.03074675e-02,\n",
       "        -2.60977305e-04]])"
      ]
     },
     "execution_count": 36,
     "metadata": {},
     "output_type": "execute_result"
    }
   ],
   "source": [
    "# 7.查看各个特征变量的系数（额外知识点，供参考）\n",
    "model.coef_"
   ]
  },
  {
   "cell_type": "code",
   "execution_count": 37,
   "metadata": {},
   "outputs": [
    {
     "data": {
      "text/plain": [
       "array([-0.00011654])"
      ]
     },
     "execution_count": 37,
     "metadata": {},
     "output_type": "execute_result"
    }
   ],
   "source": [
    "model.intercept_"
   ]
  },
  {
   "cell_type": "code",
   "execution_count": 38,
   "metadata": {
    "scrolled": true
   },
   "outputs": [
    {
     "name": "stdout",
     "output_type": "stream",
     "text": [
      "[0.05658151]\n",
      "[0.1100583]\n",
      "[0.79206336]\n",
      "[0.08873966]\n",
      "[0.31359314]\n"
     ]
    }
   ],
   "source": [
    "# 通过公式获取流失概率\n",
    "import numpy as np\n",
    "for i in range(5):  # 这里演示前5条测试集数据的预测流失的概率\n",
    "    print(1 / (1 + np.exp(-(np.dot(X_test.iloc[i], model.coef_.T) + model.intercept_))))"
   ]
  },
  {
   "cell_type": "code",
   "execution_count": null,
   "metadata": {},
   "outputs": [],
   "source": []
  }
 ],
 "metadata": {
  "kernelspec": {
   "display_name": "Python 3",
   "language": "python",
   "name": "python3"
  },
  "language_info": {
   "codemirror_mode": {
    "name": "ipython",
    "version": 3
   },
   "file_extension": ".py",
   "mimetype": "text/x-python",
   "name": "python",
   "nbconvert_exporter": "python",
   "pygments_lexer": "ipython3",
   "version": "3.11.3"
  }
 },
 "nbformat": 4,
 "nbformat_minor": 2
}
