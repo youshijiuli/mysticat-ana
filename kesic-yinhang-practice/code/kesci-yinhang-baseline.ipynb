{
 "cells": [
  {
   "cell_type": "code",
   "execution_count": 1,
   "metadata": {
    "_cell_guid": "b1076dfc-b9ad-4769-8c92-a6c4dae69d19",
    "_uuid": "8f2839f25d086af736a60e9eeb907d3b93b6e0e5"
   },
   "outputs": [],
   "source": [
    "import pandas as pd\n",
    "import numpy as np"
   ]
  },
  {
   "cell_type": "code",
   "execution_count": 2,
   "metadata": {
    "_cell_guid": "79c7e3d0-c299-4dcb-8224-4455121ee9b0",
    "_uuid": "d629ff2d2480ee46fbb7e2d37f6b5fab8052498a"
   },
   "outputs": [
    {
     "data": {
      "text/html": [
       "<div>\n",
       "<style scoped>\n",
       "    .dataframe tbody tr th:only-of-type {\n",
       "        vertical-align: middle;\n",
       "    }\n",
       "\n",
       "    .dataframe tbody tr th {\n",
       "        vertical-align: top;\n",
       "    }\n",
       "\n",
       "    .dataframe thead th {\n",
       "        text-align: right;\n",
       "    }\n",
       "</style>\n",
       "<table border=\"1\" class=\"dataframe\">\n",
       "  <thead>\n",
       "    <tr style=\"text-align: right;\">\n",
       "      <th></th>\n",
       "      <th>ID</th>\n",
       "      <th>age</th>\n",
       "      <th>job</th>\n",
       "      <th>marital</th>\n",
       "      <th>education</th>\n",
       "      <th>default</th>\n",
       "      <th>balance</th>\n",
       "      <th>housing</th>\n",
       "      <th>loan</th>\n",
       "      <th>contact</th>\n",
       "      <th>day</th>\n",
       "      <th>month</th>\n",
       "      <th>duration</th>\n",
       "      <th>campaign</th>\n",
       "      <th>pdays</th>\n",
       "      <th>previous</th>\n",
       "      <th>poutcome</th>\n",
       "      <th>y</th>\n",
       "    </tr>\n",
       "  </thead>\n",
       "  <tbody>\n",
       "    <tr>\n",
       "      <th>0</th>\n",
       "      <td>1</td>\n",
       "      <td>43</td>\n",
       "      <td>management</td>\n",
       "      <td>married</td>\n",
       "      <td>tertiary</td>\n",
       "      <td>no</td>\n",
       "      <td>291</td>\n",
       "      <td>yes</td>\n",
       "      <td>no</td>\n",
       "      <td>unknown</td>\n",
       "      <td>9</td>\n",
       "      <td>may</td>\n",
       "      <td>150</td>\n",
       "      <td>2</td>\n",
       "      <td>-1</td>\n",
       "      <td>0</td>\n",
       "      <td>unknown</td>\n",
       "      <td>0</td>\n",
       "    </tr>\n",
       "    <tr>\n",
       "      <th>1</th>\n",
       "      <td>2</td>\n",
       "      <td>42</td>\n",
       "      <td>technician</td>\n",
       "      <td>divorced</td>\n",
       "      <td>primary</td>\n",
       "      <td>no</td>\n",
       "      <td>5076</td>\n",
       "      <td>yes</td>\n",
       "      <td>no</td>\n",
       "      <td>cellular</td>\n",
       "      <td>7</td>\n",
       "      <td>apr</td>\n",
       "      <td>99</td>\n",
       "      <td>1</td>\n",
       "      <td>251</td>\n",
       "      <td>2</td>\n",
       "      <td>other</td>\n",
       "      <td>0</td>\n",
       "    </tr>\n",
       "    <tr>\n",
       "      <th>2</th>\n",
       "      <td>3</td>\n",
       "      <td>47</td>\n",
       "      <td>admin.</td>\n",
       "      <td>married</td>\n",
       "      <td>secondary</td>\n",
       "      <td>no</td>\n",
       "      <td>104</td>\n",
       "      <td>yes</td>\n",
       "      <td>yes</td>\n",
       "      <td>cellular</td>\n",
       "      <td>14</td>\n",
       "      <td>jul</td>\n",
       "      <td>77</td>\n",
       "      <td>2</td>\n",
       "      <td>-1</td>\n",
       "      <td>0</td>\n",
       "      <td>unknown</td>\n",
       "      <td>0</td>\n",
       "    </tr>\n",
       "    <tr>\n",
       "      <th>3</th>\n",
       "      <td>4</td>\n",
       "      <td>28</td>\n",
       "      <td>management</td>\n",
       "      <td>single</td>\n",
       "      <td>secondary</td>\n",
       "      <td>no</td>\n",
       "      <td>-994</td>\n",
       "      <td>yes</td>\n",
       "      <td>yes</td>\n",
       "      <td>cellular</td>\n",
       "      <td>18</td>\n",
       "      <td>jul</td>\n",
       "      <td>174</td>\n",
       "      <td>2</td>\n",
       "      <td>-1</td>\n",
       "      <td>0</td>\n",
       "      <td>unknown</td>\n",
       "      <td>0</td>\n",
       "    </tr>\n",
       "    <tr>\n",
       "      <th>4</th>\n",
       "      <td>5</td>\n",
       "      <td>42</td>\n",
       "      <td>technician</td>\n",
       "      <td>divorced</td>\n",
       "      <td>secondary</td>\n",
       "      <td>no</td>\n",
       "      <td>2974</td>\n",
       "      <td>yes</td>\n",
       "      <td>no</td>\n",
       "      <td>unknown</td>\n",
       "      <td>21</td>\n",
       "      <td>may</td>\n",
       "      <td>187</td>\n",
       "      <td>5</td>\n",
       "      <td>-1</td>\n",
       "      <td>0</td>\n",
       "      <td>unknown</td>\n",
       "      <td>0</td>\n",
       "    </tr>\n",
       "  </tbody>\n",
       "</table>\n",
       "</div>"
      ],
      "text/plain": [
       "   ID  age         job   marital ... pdays previous  poutcome  y\n",
       "0   1   43  management   married ...    -1        0   unknown  0\n",
       "1   2   42  technician  divorced ...   251        2     other  0\n",
       "2   3   47      admin.   married ...    -1        0   unknown  0\n",
       "3   4   28  management    single ...    -1        0   unknown  0\n",
       "4   5   42  technician  divorced ...    -1        0   unknown  0\n",
       "\n",
       "[5 rows x 18 columns]"
      ]
     },
     "execution_count": 2,
     "metadata": {},
     "output_type": "execute_result"
    }
   ],
   "source": [
    "train = pd.read_csv('../input/train_set.csv')\n",
    "test = pd.read_csv('../input/test_set.csv')\n",
    "train.head()"
   ]
  },
  {
   "cell_type": "code",
   "execution_count": 3,
   "metadata": {},
   "outputs": [
    {
     "data": {
      "text/plain": [
       "(36169, 16)"
      ]
     },
     "execution_count": 3,
     "metadata": {},
     "output_type": "execute_result"
    }
   ],
   "source": [
    "cat_features = ['job','marital','education','default','housing','loan','contact','poutcome']\n",
    "num_features = ['age','balance','day','month','duration','campaign','pdays','previous']\n",
    "label = train['y']\n",
    "train.drop('y', axis=1, inplace=True)\n",
    "test_id = test['ID'].values\n",
    "data = pd.concat([train, test])\n",
    "data.drop(['ID'], axis=1, inplace=True)\n",
    "data.shape"
   ]
  },
  {
   "cell_type": "code",
   "execution_count": 4,
   "metadata": {},
   "outputs": [
    {
     "data": {
      "text/plain": [
       "(36169, 26)"
      ]
     },
     "execution_count": 4,
     "metadata": {},
     "output_type": "execute_result"
    }
   ],
   "source": [
    "#特征工程\n",
    "#将二分类的特征转换\n",
    "data['default'] = data['default'].apply(lambda x: 1 if x=='yes' else 0)\n",
    "data['housing'] = data['housing'].apply(lambda x: 1 if x=='yes' else 0)\n",
    "data['loan'] = data['loan'].apply(lambda x: 1 if x=='yes' else 0)\n",
    "#对这些特征做一些组合\n",
    "data['housing_and_loan'] = data['housing'] * data['loan']\n",
    "data['defualt_and_housing'] = data['default'] * data['housing']\n",
    "data['defualt_and_loan'] = data['default'] * data['loan']\n",
    "data['defualt_and_loan_housing'] = data['default'] * data['loan'] * data['housing']\n",
    "#对年龄做分段处理\n",
    "def trans_age(x):\n",
    "    if x<30:\n",
    "        x=1\n",
    "    elif x<40:\n",
    "        x=2\n",
    "    elif x<60:\n",
    "        x=3\n",
    "    else:\n",
    "        x=4\n",
    "    return x\n",
    "data['age_cut'] = data['age'].apply(trans_age)\n",
    "#对账户余额离散，分段\n",
    "data['balance<0'] = data['balance'].apply(lambda x: 0 if x<0 else 1)\n",
    "def balance_cut(x):\n",
    "    if x<0:\n",
    "        return 1\n",
    "    elif x<2000:\n",
    "        return 2\n",
    "    else:\n",
    "        return 3\n",
    "    return x\n",
    "data['balance_cut'] = data['balance'].apply(balance_cut)\n",
    "#对最后一次联系时长做正态变换\n",
    "data[\"duration_log\"] = np.log1p(data[\"duration\"])\n",
    "#对活动中客户交流次数离散化\n",
    "def campaign_cut(x):\n",
    "    if x == 1:\n",
    "        return 1\n",
    "    elif x == 2:\n",
    "        return 2\n",
    "    elif x <= 4:\n",
    "        return 3\n",
    "    elif x<=11:\n",
    "        return 4\n",
    "    else:\n",
    "        return 5\n",
    "data['campaign_cut'] = data['campaign'].apply(campaign_cut)    \n",
    "#活动交流总次数\n",
    "data['campaign_add_previous'] = data['campaign'] + data['previous']\n",
    "data.shape"
   ]
  },
  {
   "cell_type": "code",
   "execution_count": 5,
   "metadata": {},
   "outputs": [
    {
     "data": {
      "text/plain": [
       "(36169, 37)"
      ]
     },
     "execution_count": 5,
     "metadata": {},
     "output_type": "execute_result"
    }
   ],
   "source": [
    "#求groupby后的size特征\n",
    "def feature_count(data, features):\n",
    "    feature_name = 'count'\n",
    "    for i in features:\n",
    "        feature_name += '_' + i\n",
    "    temp = data.groupby(features).size().reset_index().rename(columns={0: feature_name})\n",
    "    data = data.merge(temp, 'left', on=features)\n",
    "    return data,feature_name\n",
    "\n",
    "for f in['campaign', 'contact','default','education','housing','job','loan','marital','poutcome','pdays','previous']:\n",
    "    data,_=feature_count(data,['day','month',f])\n",
    "data.shape"
   ]
  },
  {
   "cell_type": "code",
   "execution_count": 6,
   "metadata": {},
   "outputs": [],
   "source": [
    "# #agg特征\n",
    "# sparse_feature= ['campaign','contact','default','education','housing','job','loan','marital','month','poutcome']\n",
    "# dense_feature=['age', 'balance','day','duration','campaign','pdays','previous']\n",
    "\n",
    "# def get_new_columns(name,aggs):\n",
    "#     l=[]\n",
    "#     for k in aggs.keys():\n",
    "#         for agg in aggs[k]:\n",
    "#             if str(type(agg))==\"<class 'function'>\":\n",
    "#                 l.append(name + '_' + k + '_' + 'other')\n",
    "#             else:\n",
    "#                 l.append(name + '_' + k + '_' + agg)\n",
    "#     return l\n",
    "# for d in sparse_feature:\n",
    "#     aggs={}\n",
    "#     for s in sparse_feature:\n",
    "#         aggs[s]=['count','nunique']\n",
    "#     for den in dense_feature:\n",
    "#         aggs[den]=['mean','max','min','std']\n",
    "#     aggs.pop(d)\n",
    "#     temp=data.groupby(d).agg(aggs).reset_index()\n",
    "#     temp.columns=[d]+get_new_columns(d,aggs)\n",
    "#     data=pd.merge(data,temp,on=d,how='left')\n",
    "# data.shape"
   ]
  },
  {
   "cell_type": "code",
   "execution_count": 7,
   "metadata": {},
   "outputs": [],
   "source": [
    "data.drop(['balance','duration','campaign','age'], axis=1, inplace=True)"
   ]
  },
  {
   "cell_type": "code",
   "execution_count": 8,
   "metadata": {},
   "outputs": [
    {
     "data": {
      "text/plain": [
       "(36169, 68)"
      ]
     },
     "execution_count": 8,
     "metadata": {},
     "output_type": "execute_result"
    }
   ],
   "source": [
    "#离散特征哑编码\n",
    "one_hot_feature =['job', 'marital','education','default','housing','loan','contact','month','poutcome']\n",
    "data = pd.get_dummies(data, columns = one_hot_feature)\n",
    "data.shape"
   ]
  },
  {
   "cell_type": "code",
   "execution_count": 9,
   "metadata": {},
   "outputs": [
    {
     "data": {
      "text/plain": [
       "(25317, 68)"
      ]
     },
     "execution_count": 9,
     "metadata": {},
     "output_type": "execute_result"
    }
   ],
   "source": [
    "train = data[:train.shape[0]]\n",
    "test = data[train.shape[0]:]\n",
    "train.shape"
   ]
  },
  {
   "cell_type": "code",
   "execution_count": 10,
   "metadata": {},
   "outputs": [
    {
     "name": "stdout",
     "output_type": "stream",
     "text": [
      "X shape: (25317, 68)\n",
      "y shape: (25317,)\n",
      "test shape (10852, 68)\n"
     ]
    }
   ],
   "source": [
    "y = label.values.astype(int)\n",
    "X = train.values\n",
    "print(\"X shape:\",X.shape)\n",
    "print(\"y shape:\",y.shape)\n",
    "\n",
    "\n",
    "test_data = test.values\n",
    "print(\"test shape\",test_data.shape)"
   ]
  },
  {
   "cell_type": "code",
   "execution_count": 11,
   "metadata": {},
   "outputs": [
    {
     "name": "stdout",
     "output_type": "stream",
     "text": [
      "Training until validation scores don't improve for 100 rounds.\n",
      "[100]\tvalid_0's auc: 0.934501\n",
      "[200]\tvalid_0's auc: 0.937531\n",
      "[300]\tvalid_0's auc: 0.939517\n",
      "[400]\tvalid_0's auc: 0.940736\n",
      "[500]\tvalid_0's auc: 0.941704\n",
      "[600]\tvalid_0's auc: 0.942206\n",
      "[700]\tvalid_0's auc: 0.942321\n",
      "[800]\tvalid_0's auc: 0.942364\n",
      "Early stopping, best iteration is:\n",
      "[791]\tvalid_0's auc: 0.942451\n",
      "valid auc: 0.9424506089228235\n",
      "Training until validation scores don't improve for 100 rounds.\n",
      "[100]\tvalid_0's auc: 0.936036\n",
      "[200]\tvalid_0's auc: 0.93957\n",
      "[300]\tvalid_0's auc: 0.940866\n",
      "[400]\tvalid_0's auc: 0.942007\n",
      "[500]\tvalid_0's auc: 0.942521\n",
      "[600]\tvalid_0's auc: 0.94308\n",
      "[700]\tvalid_0's auc: 0.943505\n",
      "[800]\tvalid_0's auc: 0.943741\n",
      "Early stopping, best iteration is:\n",
      "[773]\tvalid_0's auc: 0.943806\n",
      "valid auc: 0.9438056514353763\n",
      "Training until validation scores don't improve for 100 rounds.\n",
      "[100]\tvalid_0's auc: 0.924791\n",
      "[200]\tvalid_0's auc: 0.929135\n",
      "[300]\tvalid_0's auc: 0.931689\n",
      "[400]\tvalid_0's auc: 0.932978\n",
      "[500]\tvalid_0's auc: 0.933852\n",
      "[600]\tvalid_0's auc: 0.934437\n",
      "[700]\tvalid_0's auc: 0.934973\n",
      "[800]\tvalid_0's auc: 0.935077\n",
      "[900]\tvalid_0's auc: 0.935246\n",
      "[1000]\tvalid_0's auc: 0.935266\n",
      "[1100]\tvalid_0's auc: 0.935407\n",
      "[1200]\tvalid_0's auc: 0.935396\n",
      "Early stopping, best iteration is:\n",
      "[1187]\tvalid_0's auc: 0.935464\n",
      "valid auc: 0.9354636032812057\n",
      "Training until validation scores don't improve for 100 rounds.\n",
      "[100]\tvalid_0's auc: 0.928547\n",
      "[200]\tvalid_0's auc: 0.931598\n",
      "[300]\tvalid_0's auc: 0.933862\n",
      "[400]\tvalid_0's auc: 0.934909\n",
      "[500]\tvalid_0's auc: 0.935958\n",
      "[600]\tvalid_0's auc: 0.936139\n",
      "[700]\tvalid_0's auc: 0.93644\n",
      "Early stopping, best iteration is:\n",
      "[659]\tvalid_0's auc: 0.936583\n",
      "valid auc: 0.9365834325714666\n",
      "Training until validation scores don't improve for 100 rounds.\n",
      "[100]\tvalid_0's auc: 0.929593\n",
      "[200]\tvalid_0's auc: 0.932418\n",
      "[300]\tvalid_0's auc: 0.934451\n",
      "[400]\tvalid_0's auc: 0.934972\n",
      "[500]\tvalid_0's auc: 0.936059\n",
      "[600]\tvalid_0's auc: 0.936433\n",
      "[700]\tvalid_0's auc: 0.936966\n",
      "[800]\tvalid_0's auc: 0.93745\n",
      "[900]\tvalid_0's auc: 0.937511\n",
      "[1000]\tvalid_0's auc: 0.937577\n",
      "Early stopping, best iteration is:\n",
      "[929]\tvalid_0's auc: 0.937709\n",
      "valid auc: 0.937708929014006\n",
      "the cv information:\n",
      "[0.9424506089228235, 0.9438056514353763, 0.9354636032812057, 0.9365834325714666, 0.937708929014006]\n",
      "cv mean score 0.9392024450449756\n",
      "......................run with time:  0.433893088499705\n"
     ]
    }
   ],
   "source": [
    "from sklearn.model_selection import StratifiedKFold\n",
    "from sklearn.metrics import roc_auc_score\n",
    "import lightgbm as lgb\n",
    "import time\n",
    "start = time.time()\n",
    "N = 5 \n",
    "skf = StratifiedKFold(n_splits=N,shuffle=True,random_state=2019)\n",
    "\n",
    "auc_cv = []\n",
    "pred_cv = []\n",
    "\n",
    "for k,(train_in,test_in) in enumerate(skf.split(X,y)):\n",
    "    X_train, X_test, y_train, y_test = X[train_in], X[test_in], y[train_in], y[test_in]\n",
    "    lgb_train = lgb.Dataset(X_train, y_train)\n",
    "    lgb_eval = lgb.Dataset(X_test, y_test, reference=lgb_train)\n",
    "    params = {\n",
    "        'boosting_type': 'gbdt',\n",
    "        'objective': 'binary',\n",
    "        'metric': {'auc'},\n",
    "        'max_depth': 4,\n",
    "        'min_child_weight': 6,\n",
    "        'num_leaves': 16,\n",
    "        'learning_rate': 0.02,# 0.05\n",
    "        'feature_fraction': 0.7,\n",
    "        'bagging_fraction': 0.7,\n",
    "        'bagging_freq': 5,\n",
    "        #'lambda_l1':0.25,\n",
    "        #'lambda_l2':0.5,\n",
    "        #'scale_pos_weight':10.0/1.0, #14309.0 / 691.0, #不设置\n",
    "        #'num_threads':4,\n",
    "    }\n",
    "    \n",
    "    gbm = lgb.train(params,\n",
    "                    lgb_train,\n",
    "                    num_boost_round=2000,\n",
    "                    valid_sets=lgb_eval,\n",
    "                    early_stopping_rounds=100,\n",
    "                    verbose_eval=100)\n",
    "    y_pred = gbm.predict(X_test,num_iteration=gbm.best_iteration)\n",
    "    tmp_auc = roc_auc_score(y_test,y_pred)\n",
    "    auc_cv.append(tmp_auc)\n",
    "    print(\"valid auc:\",tmp_auc)\n",
    "    pred = gbm.predict(test_data, num_iteration = gbm.best_iteration)\n",
    "    pred_cv.append(pred) \n",
    "\n",
    "print('the cv information:')\n",
    "print(auc_cv)\n",
    "print('cv mean score',np.mean(auc_cv))\n",
    "\n",
    "end = time.time()\n",
    "print(\"......................run with time: \",(end - start) / 60.0 )    "
   ]
  },
  {
   "cell_type": "code",
   "execution_count": 12,
   "metadata": {},
   "outputs": [
    {
     "name": "stdout",
     "output_type": "stream",
     "text": [
      "有用的特征个数: 65\n",
      "有用的特征： ['duration_log', 'count_day_month_housing', 'count_day_month_contact', 'day', 'count_day_month_poutcome', 'count_day_month_campaign', 'count_day_month_marital', 'count_day_month_job', 'count_day_month_education', 'pdays', 'count_day_month_loan', 'count_day_month_default', 'count_day_month_pdays', 'campaign_add_previous', 'age_cut', 'count_day_month_previous', 'campaign_cut', 'poutcome_success', 'contact_cellular', 'month_apr', 'contact_unknown', 'housing_0', 'balance_cut', 'education_tertiary', 'month_mar', 'month_jun', 'month_feb', 'previous', 'marital_married', 'job_admin.', 'month_jan', 'month_may', 'job_management', 'housing_1', 'education_primary', 'poutcome_failure', 'marital_single', 'poutcome_other', 'education_secondary', 'job_entrepreneur', 'job_blue-collar', 'month_oct', 'job_housemaid', 'month_jul', 'month_aug', 'loan_0', 'contact_telephone', 'balance<0', 'job_technician', 'job_student', 'month_nov', 'housing_and_loan', 'marital_divorced', 'job_self-employed', 'job_services', 'education_unknown', 'month_sep', 'job_unemployed', 'job_unknown', 'month_dec', 'job_retired', 'loan_1', 'default_0', 'poutcome_unknown', 'default_1']\n"
     ]
    },
    {
     "data": {
      "image/png": "[encoded data removed]",
      "text/plain": [
       "<Figure size 1440x720 with 1 Axes>"
      ]
     },
     "metadata": {},
     "output_type": "display_data"
    }
   ],
   "source": [
    "lgb.plot_importance(gbm,max_num_features = 30,figsize=(20,10))\n",
    "df = pd.DataFrame({'feature': train.columns.tolist(),'importance': gbm.feature_importance()}).sort_values(by='importance',ascending = False) # 降序\n",
    "use = df.loc[df['importance']!=0,'feature'].tolist()\n",
    "print('有用的特征个数:',len(use))\n",
    "print('有用的特征：',use)"
   ]
  },
  {
   "cell_type": "code",
   "execution_count": 13,
   "metadata": {},
   "outputs": [
    {
     "name": "stdout",
     "output_type": "stream",
     "text": [
      "mean auc: 0.9392024450449756\n",
      "总的结果： (5, 10852)\n",
      "result shape: (10852,)\n"
     ]
    }
   ],
   "source": [
    "# 5折交叉验证结果均值融合，保存文件\n",
    "mean_auc = np.mean(auc_cv)\n",
    "print(\"mean auc:\",mean_auc)\n",
    "filepath = 'lgb_'+ str(mean_auc)+'.csv' # 线下平均分数\n",
    "# 转为array\n",
    "res =  np.array(pred_cv)\n",
    "print(\"总的结果：\",res.shape)\n",
    "# 最后结果平均，mean\n",
    "lgb_r = res.mean(axis = 0)\n",
    "print('result shape:',lgb_r.shape)\n",
    "lgb_result = pd.DataFrame()\n",
    "lgb_result['ID'] = test_id\n",
    "lgb_result['pred'] = lgb_r\n",
    "lgb_result.to_csv(filepath,index=False,sep=\",\")"
   ]
  },
  {
   "cell_type": "code",
   "execution_count": 14,
   "metadata": {},
   "outputs": [
    {
     "name": "stdout",
     "output_type": "stream",
     "text": [
      "[0]\ttrain-auc:0.754689\tvalid-auc:0.74799\n",
      "Multiple eval metrics have been passed: 'valid-auc' will be used for early stopping.\n",
      "\n",
      "Will train until valid-auc hasn't improved in 100 rounds.\n",
      "[100]\ttrain-auc:0.934987\tvalid-auc:0.924816\n",
      "[200]\ttrain-auc:0.942822\tvalid-auc:0.930313\n",
      "[300]\ttrain-auc:0.947382\tvalid-auc:0.931864\n",
      "[400]\ttrain-auc:0.950689\tvalid-auc:0.933277\n",
      "[500]\ttrain-auc:0.953946\tvalid-auc:0.933921\n",
      "[600]\ttrain-auc:0.956273\tvalid-auc:0.934452\n",
      "[700]\ttrain-auc:0.958449\tvalid-auc:0.934742\n",
      "Stopping. Best iteration:\n",
      "[681]\ttrain-auc:0.957991\tvalid-auc:0.934818\n",
      "\n",
      "...........................auc value: 0.9348183337506448\n",
      "[0]\ttrain-auc:0.895728\tvalid-auc:0.888014\n",
      "Multiple eval metrics have been passed: 'valid-auc' will be used for early stopping.\n",
      "\n",
      "Will train until valid-auc hasn't improved in 100 rounds.\n",
      "[100]\ttrain-auc:0.934193\tvalid-auc:0.929157\n",
      "[200]\ttrain-auc:0.941754\tvalid-auc:0.935952\n",
      "[300]\ttrain-auc:0.946164\tvalid-auc:0.93807\n",
      "[400]\ttrain-auc:0.949304\tvalid-auc:0.939435\n",
      "[500]\ttrain-auc:0.952382\tvalid-auc:0.940924\n",
      "[600]\ttrain-auc:0.954948\tvalid-auc:0.941688\n",
      "[700]\ttrain-auc:0.957155\tvalid-auc:0.942254\n",
      "[800]\ttrain-auc:0.959167\tvalid-auc:0.942646\n",
      "[900]\ttrain-auc:0.960792\tvalid-auc:0.942747\n",
      "[1000]\ttrain-auc:0.962412\tvalid-auc:0.942916\n",
      "[1100]\ttrain-auc:0.963905\tvalid-auc:0.942989\n",
      "Stopping. Best iteration:\n",
      "[1038]\ttrain-auc:0.962985\tvalid-auc:0.943031\n",
      "\n",
      "...........................auc value: 0.9430311406239611\n",
      "[0]\ttrain-auc:0.890465\tvalid-auc:0.890045\n",
      "Multiple eval metrics have been passed: 'valid-auc' will be used for early stopping.\n",
      "\n",
      "Will train until valid-auc hasn't improved in 100 rounds.\n",
      "[100]\ttrain-auc:0.933871\tvalid-auc:0.931801\n",
      "[200]\ttrain-auc:0.941404\tvalid-auc:0.937066\n",
      "[300]\ttrain-auc:0.94567\tvalid-auc:0.939145\n",
      "[400]\ttrain-auc:0.948922\tvalid-auc:0.940416\n",
      "[500]\ttrain-auc:0.951908\tvalid-auc:0.941702\n",
      "[600]\ttrain-auc:0.95462\tvalid-auc:0.942267\n",
      "[700]\ttrain-auc:0.956863\tvalid-auc:0.94264\n",
      "[800]\ttrain-auc:0.958856\tvalid-auc:0.942738\n",
      "[900]\ttrain-auc:0.960679\tvalid-auc:0.94304\n",
      "[1000]\ttrain-auc:0.962337\tvalid-auc:0.943326\n",
      "[1100]\ttrain-auc:0.963778\tvalid-auc:0.94348\n",
      "[1200]\ttrain-auc:0.965215\tvalid-auc:0.943557\n",
      "[1300]\ttrain-auc:0.966479\tvalid-auc:0.943565\n",
      "Stopping. Best iteration:\n",
      "[1220]\ttrain-auc:0.965494\tvalid-auc:0.943661\n",
      "\n",
      "...........................auc value: 0.9436605723370429\n",
      "[0]\ttrain-auc:0.890317\tvalid-auc:0.882865\n",
      "Multiple eval metrics have been passed: 'valid-auc' will be used for early stopping.\n",
      "\n",
      "Will train until valid-auc hasn't improved in 100 rounds.\n",
      "[100]\ttrain-auc:0.934974\tvalid-auc:0.923183\n",
      "[200]\ttrain-auc:0.943281\tvalid-auc:0.929725\n",
      "[300]\ttrain-auc:0.947333\tvalid-auc:0.932208\n",
      "[400]\ttrain-auc:0.950812\tvalid-auc:0.934119\n",
      "[500]\ttrain-auc:0.953368\tvalid-auc:0.935592\n",
      "[600]\ttrain-auc:0.955987\tvalid-auc:0.93638\n",
      "[700]\ttrain-auc:0.958064\tvalid-auc:0.937146\n",
      "[800]\ttrain-auc:0.960131\tvalid-auc:0.937536\n",
      "[900]\ttrain-auc:0.961878\tvalid-auc:0.937646\n",
      "[1000]\ttrain-auc:0.963387\tvalid-auc:0.937668\n",
      "[1100]\ttrain-auc:0.964822\tvalid-auc:0.937864\n",
      "[1200]\ttrain-auc:0.966219\tvalid-auc:0.938045\n",
      "Stopping. Best iteration:\n",
      "[1198]\ttrain-auc:0.966197\tvalid-auc:0.938075\n",
      "\n",
      "...........................auc value: 0.9380750270512068\n",
      "[0]\ttrain-auc:0.884347\tvalid-auc:0.875368\n",
      "Multiple eval metrics have been passed: 'valid-auc' will be used for early stopping.\n",
      "\n",
      "Will train until valid-auc hasn't improved in 100 rounds.\n",
      "[100]\ttrain-auc:0.93445\tvalid-auc:0.929499\n",
      "[200]\ttrain-auc:0.942453\tvalid-auc:0.935324\n",
      "[300]\ttrain-auc:0.947155\tvalid-auc:0.937307\n",
      "[400]\ttrain-auc:0.950354\tvalid-auc:0.938267\n",
      "[500]\ttrain-auc:0.953261\tvalid-auc:0.93863\n",
      "[600]\ttrain-auc:0.955474\tvalid-auc:0.938552\n",
      "Stopping. Best iteration:\n",
      "[540]\ttrain-auc:0.954245\tvalid-auc:0.93868\n",
      "\n",
      "...........................auc value: 0.9386802789145666\n",
      "......................validate result mean : 0.9396530705354845\n",
      "......................run with time:  1.8036324580510457\n"
     ]
    }
   ],
   "source": [
    "# xgb模型，5折交叉训练与验证\n",
    "import xgboost as xgb\n",
    "start = time.time()\n",
    "\n",
    "auc_list = []\n",
    "pred_list = []\n",
    "\n",
    "skf = StratifiedKFold(n_splits=5, shuffle=True, random_state=2018)\n",
    "for train_index, test_index in skf.split(X, y):\n",
    "    X_train, X_test = X[train_index], X[test_index]\n",
    "    y_train, y_test = y[train_index], y[test_index]\n",
    "    #参数设置\n",
    "    params = {'booster': 'gbtree',\n",
    "              'objective':'binary:logistic',\n",
    "              'eta': 0.02,\n",
    "              'max_depth':4,\n",
    "              'min_child_weight': 6,  \n",
    "              'colsample_bytree': 0.7,\n",
    "              'subsample': 0.7,\n",
    "              #'gamma':0,\n",
    "              #'lambda':1,\n",
    "              #'alpha ':0，\n",
    "              'silent':1\n",
    "              }\n",
    "    params['eval_metric'] = ['auc'] \n",
    "    # 数据结构\n",
    "    dtrain = xgb.DMatrix(X_train, label = y_train)\n",
    "    dvali = xgb.DMatrix(X_test,label = y_test)\n",
    "    evallist  = [(dtrain,'train'),(dvali,'valid')]  # 'valid-auc' will be used for early stopping\n",
    "    # 模型train\n",
    "    model = xgb.train(params, dtrain,\n",
    "                      num_boost_round=2000, \n",
    "                      evals = evallist,\n",
    "                      early_stopping_rounds = 100,\n",
    "                      verbose_eval=100)\n",
    "    # 预测验证\n",
    "    pred = model.predict(dvali, ntree_limit = model.best_ntree_limit)\n",
    "    # 评估\n",
    "    auc = roc_auc_score(y_test,pred)\n",
    "    print('...........................auc value:',auc)\n",
    "    auc_list.append(auc)\n",
    "    # 预测\n",
    "    dtest = xgb.DMatrix(test_data)\n",
    "    pre = model.predict(dtest,ntree_limit = model.best_ntree_limit)\n",
    "    pred_list.append(pre)\n",
    "\n",
    "print('......................validate result mean :',np.mean(auc_list))\n",
    "\n",
    "end = time.time()\n",
    "print(\"......................run with time: \",(end - start) / 60.0)"
   ]
  },
  {
   "cell_type": "code",
   "execution_count": 15,
   "metadata": {},
   "outputs": [
    {
     "name": "stdout",
     "output_type": "stream",
     "text": [
      "mean auc: 0.9396530705354845\n",
      "5折结果： (5, 10852)\n",
      "result shape: (10852,)\n"
     ]
    }
   ],
   "source": [
    "# 11.5折结果均值融合，并保存文件\n",
    "mean_auc = np.mean(auc_list)\n",
    "print(\"mean auc:\",mean_auc)\n",
    "filepath = 'xgb_'+ str(mean_auc)+'.csv' # 线下平均分数\n",
    "# 转为array\n",
    "res =  np.array(pred_list)\n",
    "print(\"5折结果：\",res.shape)\n",
    "\n",
    "# 最后结果，mean\n",
    "xgb_r = res.mean(axis = 0)\n",
    "print('result shape:',xgb_r.shape)\n",
    "xgb_result = pd.DataFrame()\n",
    "xgb_result['ID'] = test_id\n",
    "xgb_result['pred'] = xgb_r\n",
    "xgb_result.to_csv(filepath,index=False,sep=\",\")"
   ]
  },
  {
   "cell_type": "code",
   "execution_count": 16,
   "metadata": {},
   "outputs": [],
   "source": [
    "result = pd.DataFrame()\n",
    "result['ID'] = test_id\n",
    "result['pred'] = lgb_r * 0.5 + xgb_r * 0.5\n",
    "result.to_csv('lgb_xgb_stacking.csv',index=False,sep=\",\")"
   ]
  }
 ],
 "metadata": {
  "kernelspec": {
   "display_name": "Python 3",
   "language": "python",
   "name": "python3"
  },
  "language_info": {
   "codemirror_mode": {
    "name": "ipython",
    "version": 3
   },
   "file_extension": ".py",
   "mimetype": "text/x-python",
   "name": "python",
   "nbconvert_exporter": "python",
   "pygments_lexer": "ipython3",
   "version": "3.6.4"
  }
 },
 "nbformat": 4,
 "nbformat_minor": 1
}
