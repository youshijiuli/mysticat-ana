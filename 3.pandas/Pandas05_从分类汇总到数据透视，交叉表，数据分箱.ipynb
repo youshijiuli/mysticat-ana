{
 "cells": [
  {
   "cell_type": "markdown",
   "id": "c63315bc",
   "metadata": {},
   "source": [
    "# 1.从分类汇总到数据透视"
   ]
  },
  {
   "cell_type": "code",
   "execution_count": 1,
   "id": "0934b5c5",
   "metadata": {},
   "outputs": [],
   "source": [
    "import numpy as np\n",
    "import pandas as pd"
   ]
  },
  {
   "cell_type": "code",
   "execution_count": 2,
   "id": "d3d57553",
   "metadata": {},
   "outputs": [],
   "source": [
    "# 载入京东数据集\n",
    "df_jd = pd.read_csv('./JD.csv',encoding = 'gbk')"
   ]
  },
  {
   "cell_type": "code",
   "execution_count": 3,
   "id": "9a9dd4df",
   "metadata": {},
   "outputs": [
    {
     "data": {
      "text/html": [
       "<div>\n",
       "<style scoped>\n",
       "    .dataframe tbody tr th:only-of-type {\n",
       "        vertical-align: middle;\n",
       "    }\n",
       "\n",
       "    .dataframe tbody tr th {\n",
       "        vertical-align: top;\n",
       "    }\n",
       "\n",
       "    .dataframe thead th {\n",
       "        text-align: right;\n",
       "    }\n",
       "</style>\n",
       "<table border=\"1\" class=\"dataframe\">\n",
       "  <thead>\n",
       "    <tr style=\"text-align: right;\">\n",
       "      <th></th>\n",
       "      <th>商品名称</th>\n",
       "      <th>一级分类</th>\n",
       "      <th>二级分类</th>\n",
       "      <th>7天点击量</th>\n",
       "      <th>定价</th>\n",
       "      <th>订单预定</th>\n",
       "    </tr>\n",
       "  </thead>\n",
       "  <tbody>\n",
       "    <tr>\n",
       "      <th>0</th>\n",
       "      <td>ASP.NET项目开发实战入门（全彩版）</td>\n",
       "      <td>编程语言与程序设计</td>\n",
       "      <td>ASP.NET</td>\n",
       "      <td>35</td>\n",
       "      <td>69.8</td>\n",
       "      <td>1</td>\n",
       "    </tr>\n",
       "    <tr>\n",
       "      <th>1</th>\n",
       "      <td>PHP项目开发实战入门（全彩版）</td>\n",
       "      <td>编程语言与程序设计</td>\n",
       "      <td>PHP</td>\n",
       "      <td>49</td>\n",
       "      <td>69.8</td>\n",
       "      <td>0</td>\n",
       "    </tr>\n",
       "    <tr>\n",
       "      <th>2</th>\n",
       "      <td>Java精彩编程200例（全彩版）</td>\n",
       "      <td>编程语言与程序设计</td>\n",
       "      <td>Java</td>\n",
       "      <td>51</td>\n",
       "      <td>79.8</td>\n",
       "      <td>2</td>\n",
       "    </tr>\n",
       "    <tr>\n",
       "      <th>3</th>\n",
       "      <td>零基础学PHP（全彩版）</td>\n",
       "      <td>编程语言与程序设计</td>\n",
       "      <td>PHP</td>\n",
       "      <td>64</td>\n",
       "      <td>79.8</td>\n",
       "      <td>1</td>\n",
       "    </tr>\n",
       "    <tr>\n",
       "      <th>4</th>\n",
       "      <td>JSP项目开发实战入门（全彩版）</td>\n",
       "      <td>编程语言与程序设计</td>\n",
       "      <td>JSP/JavaWeb</td>\n",
       "      <td>26</td>\n",
       "      <td>69.8</td>\n",
       "      <td>0</td>\n",
       "    </tr>\n",
       "  </tbody>\n",
       "</table>\n",
       "</div>"
      ],
      "text/plain": [
       "                   商品名称       一级分类         二级分类  7天点击量    定价  订单预定\n",
       "0  ASP.NET项目开发实战入门（全彩版）  编程语言与程序设计      ASP.NET     35  69.8     1\n",
       "1      PHP项目开发实战入门（全彩版）  编程语言与程序设计          PHP     49  69.8     0\n",
       "2     Java精彩编程200例（全彩版）  编程语言与程序设计         Java     51  79.8     2\n",
       "3          零基础学PHP（全彩版）  编程语言与程序设计          PHP     64  79.8     1\n",
       "4      JSP项目开发实战入门（全彩版）  编程语言与程序设计  JSP/JavaWeb     26  69.8     0"
      ]
     },
     "execution_count": 3,
     "metadata": {},
     "output_type": "execute_result"
    }
   ],
   "source": [
    "df_jd.head()"
   ]
  },
  {
   "cell_type": "markdown",
   "id": "a0ca4fc6",
   "metadata": {},
   "source": [
    "## 1.1 针对多列的分类汇总-层次化索引"
   ]
  },
  {
   "cell_type": "markdown",
   "id": "0502ec51",
   "metadata": {},
   "source": [
    "每个二级分类下的7天点击量和订单预定总和"
   ]
  },
  {
   "cell_type": "code",
   "execution_count": 4,
   "id": "9aa80ae5",
   "metadata": {},
   "outputs": [],
   "source": [
    "# df_jd.groupby('二级分类').7天点击量.sum()\n",
    "# 报错，因为7天点击量不是有效的变量名，不能使用点语法进行列的访问"
   ]
  },
  {
   "cell_type": "code",
   "execution_count": 5,
   "id": "4a5c72c5",
   "metadata": {
    "collapsed": true
   },
   "outputs": [
    {
     "data": {
      "text/plain": [
       "二级分类\n",
       "ASP.NET           87\n",
       "Android          261\n",
       "C#               314\n",
       "C++/C语言          724\n",
       "HTML             188\n",
       "JSP/JavaWeb      157\n",
       "Java             408\n",
       "JavaScript       100\n",
       "Oracle            58\n",
       "PHP              113\n",
       "Python          2449\n",
       "SQL              128\n",
       "Visual Basic      28\n",
       "WEB前端             57\n",
       "Name: 7天点击量, dtype: int64"
      ]
     },
     "execution_count": 5,
     "metadata": {},
     "output_type": "execute_result"
    }
   ],
   "source": [
    "df_jd.groupby('二级分类')['7天点击量'].sum()"
   ]
  },
  {
   "cell_type": "code",
   "execution_count": 6,
   "id": "5abe8de8",
   "metadata": {
    "collapsed": true
   },
   "outputs": [
    {
     "data": {
      "text/html": [
       "<div>\n",
       "<style scoped>\n",
       "    .dataframe tbody tr th:only-of-type {\n",
       "        vertical-align: middle;\n",
       "    }\n",
       "\n",
       "    .dataframe tbody tr th {\n",
       "        vertical-align: top;\n",
       "    }\n",
       "\n",
       "    .dataframe thead th {\n",
       "        text-align: right;\n",
       "    }\n",
       "</style>\n",
       "<table border=\"1\" class=\"dataframe\">\n",
       "  <thead>\n",
       "    <tr style=\"text-align: right;\">\n",
       "      <th></th>\n",
       "      <th>7天点击量</th>\n",
       "      <th>订单预定</th>\n",
       "    </tr>\n",
       "    <tr>\n",
       "      <th>二级分类</th>\n",
       "      <th></th>\n",
       "      <th></th>\n",
       "    </tr>\n",
       "  </thead>\n",
       "  <tbody>\n",
       "    <tr>\n",
       "      <th>ASP.NET</th>\n",
       "      <td>87</td>\n",
       "      <td>2</td>\n",
       "    </tr>\n",
       "    <tr>\n",
       "      <th>Android</th>\n",
       "      <td>261</td>\n",
       "      <td>7</td>\n",
       "    </tr>\n",
       "    <tr>\n",
       "      <th>C#</th>\n",
       "      <td>314</td>\n",
       "      <td>12</td>\n",
       "    </tr>\n",
       "    <tr>\n",
       "      <th>C++/C语言</th>\n",
       "      <td>724</td>\n",
       "      <td>28</td>\n",
       "    </tr>\n",
       "    <tr>\n",
       "      <th>HTML</th>\n",
       "      <td>188</td>\n",
       "      <td>8</td>\n",
       "    </tr>\n",
       "    <tr>\n",
       "      <th>JSP/JavaWeb</th>\n",
       "      <td>157</td>\n",
       "      <td>1</td>\n",
       "    </tr>\n",
       "    <tr>\n",
       "      <th>Java</th>\n",
       "      <td>408</td>\n",
       "      <td>16</td>\n",
       "    </tr>\n",
       "    <tr>\n",
       "      <th>JavaScript</th>\n",
       "      <td>100</td>\n",
       "      <td>7</td>\n",
       "    </tr>\n",
       "    <tr>\n",
       "      <th>Oracle</th>\n",
       "      <td>58</td>\n",
       "      <td>2</td>\n",
       "    </tr>\n",
       "    <tr>\n",
       "      <th>PHP</th>\n",
       "      <td>113</td>\n",
       "      <td>1</td>\n",
       "    </tr>\n",
       "    <tr>\n",
       "      <th>Python</th>\n",
       "      <td>2449</td>\n",
       "      <td>132</td>\n",
       "    </tr>\n",
       "    <tr>\n",
       "      <th>SQL</th>\n",
       "      <td>128</td>\n",
       "      <td>13</td>\n",
       "    </tr>\n",
       "    <tr>\n",
       "      <th>Visual Basic</th>\n",
       "      <td>28</td>\n",
       "      <td>0</td>\n",
       "    </tr>\n",
       "    <tr>\n",
       "      <th>WEB前端</th>\n",
       "      <td>57</td>\n",
       "      <td>0</td>\n",
       "    </tr>\n",
       "  </tbody>\n",
       "</table>\n",
       "</div>"
      ],
      "text/plain": [
       "              7天点击量  订单预定\n",
       "二级分类                     \n",
       "ASP.NET          87     2\n",
       "Android         261     7\n",
       "C#              314    12\n",
       "C++/C语言         724    28\n",
       "HTML            188     8\n",
       "JSP/JavaWeb     157     1\n",
       "Java            408    16\n",
       "JavaScript      100     7\n",
       "Oracle           58     2\n",
       "PHP             113     1\n",
       "Python         2449   132\n",
       "SQL             128    13\n",
       "Visual Basic     28     0\n",
       "WEB前端            57     0"
      ]
     },
     "execution_count": 6,
     "metadata": {},
     "output_type": "execute_result"
    }
   ],
   "source": [
    "df_jd.groupby('二级分类')[['7天点击量','订单预定']].sum()\n",
    "# 用一个分组字段进行多个字段的汇总"
   ]
  },
  {
   "cell_type": "markdown",
   "id": "a8f39511",
   "metadata": {},
   "source": [
    "每个一级分类下，每个二级分类的平均价格"
   ]
  },
  {
   "cell_type": "code",
   "execution_count": 7,
   "id": "a7b511f6",
   "metadata": {
    "collapsed": true
   },
   "outputs": [
    {
     "data": {
      "text/plain": [
       "二级分类\n",
       "ASP.NET         74.800000\n",
       "Android         89.600000\n",
       "C#              79.800000\n",
       "C++/C语言         68.133333\n",
       "HTML            79.800000\n",
       "JSP/JavaWeb     69.800000\n",
       "Java            82.100000\n",
       "JavaScript      79.800000\n",
       "Oracle          79.800000\n",
       "PHP             74.800000\n",
       "Python          96.850000\n",
       "SQL             49.800000\n",
       "Visual Basic    79.800000\n",
       "WEB前端           49.800000\n",
       "Name: 定价, dtype: float64"
      ]
     },
     "execution_count": 7,
     "metadata": {},
     "output_type": "execute_result"
    }
   ],
   "source": [
    "df_jd.groupby('二级分类').定价.mean()"
   ]
  },
  {
   "cell_type": "code",
   "execution_count": 8,
   "id": "2e5e9715",
   "metadata": {
    "collapsed": true
   },
   "outputs": [
    {
     "data": {
      "text/plain": [
       "一级分类\n",
       "数据库           64.800000\n",
       "移动开发          89.600000\n",
       "编程语言与程序设计     78.441667\n",
       "网页制作/Web技术    69.800000\n",
       "Name: 定价, dtype: float64"
      ]
     },
     "execution_count": 8,
     "metadata": {},
     "output_type": "execute_result"
    }
   ],
   "source": [
    "df_jd.groupby('一级分类').定价.mean()"
   ]
  },
  {
   "cell_type": "code",
   "execution_count": 9,
   "id": "21eb093a",
   "metadata": {},
   "outputs": [
    {
     "data": {
      "text/html": [
       "<div>\n",
       "<style scoped>\n",
       "    .dataframe tbody tr th:only-of-type {\n",
       "        vertical-align: middle;\n",
       "    }\n",
       "\n",
       "    .dataframe tbody tr th {\n",
       "        vertical-align: top;\n",
       "    }\n",
       "\n",
       "    .dataframe thead th {\n",
       "        text-align: right;\n",
       "    }\n",
       "</style>\n",
       "<table border=\"1\" class=\"dataframe\">\n",
       "  <thead>\n",
       "    <tr style=\"text-align: right;\">\n",
       "      <th></th>\n",
       "      <th></th>\n",
       "      <th>定价</th>\n",
       "    </tr>\n",
       "    <tr>\n",
       "      <th>一级分类</th>\n",
       "      <th>二级分类</th>\n",
       "      <th></th>\n",
       "    </tr>\n",
       "  </thead>\n",
       "  <tbody>\n",
       "    <tr>\n",
       "      <th rowspan=\"2\" valign=\"top\">数据库</th>\n",
       "      <th>Oracle</th>\n",
       "      <td>79.800000</td>\n",
       "    </tr>\n",
       "    <tr>\n",
       "      <th>SQL</th>\n",
       "      <td>49.800000</td>\n",
       "    </tr>\n",
       "    <tr>\n",
       "      <th>移动开发</th>\n",
       "      <th>Android</th>\n",
       "      <td>89.600000</td>\n",
       "    </tr>\n",
       "    <tr>\n",
       "      <th rowspan=\"8\" valign=\"top\">编程语言与程序设计</th>\n",
       "      <th>ASP.NET</th>\n",
       "      <td>74.800000</td>\n",
       "    </tr>\n",
       "    <tr>\n",
       "      <th>C#</th>\n",
       "      <td>79.800000</td>\n",
       "    </tr>\n",
       "    <tr>\n",
       "      <th>C++/C语言</th>\n",
       "      <td>68.133333</td>\n",
       "    </tr>\n",
       "    <tr>\n",
       "      <th>JSP/JavaWeb</th>\n",
       "      <td>69.800000</td>\n",
       "    </tr>\n",
       "    <tr>\n",
       "      <th>Java</th>\n",
       "      <td>82.100000</td>\n",
       "    </tr>\n",
       "    <tr>\n",
       "      <th>PHP</th>\n",
       "      <td>74.800000</td>\n",
       "    </tr>\n",
       "    <tr>\n",
       "      <th>Python</th>\n",
       "      <td>96.850000</td>\n",
       "    </tr>\n",
       "    <tr>\n",
       "      <th>Visual Basic</th>\n",
       "      <td>79.800000</td>\n",
       "    </tr>\n",
       "    <tr>\n",
       "      <th rowspan=\"3\" valign=\"top\">网页制作/Web技术</th>\n",
       "      <th>HTML</th>\n",
       "      <td>79.800000</td>\n",
       "    </tr>\n",
       "    <tr>\n",
       "      <th>JavaScript</th>\n",
       "      <td>79.800000</td>\n",
       "    </tr>\n",
       "    <tr>\n",
       "      <th>WEB前端</th>\n",
       "      <td>49.800000</td>\n",
       "    </tr>\n",
       "  </tbody>\n",
       "</table>\n",
       "</div>"
      ],
      "text/plain": [
       "                                定价\n",
       "一级分类       二级分类                   \n",
       "数据库        Oracle        79.800000\n",
       "           SQL           49.800000\n",
       "移动开发       Android       89.600000\n",
       "编程语言与程序设计  ASP.NET       74.800000\n",
       "           C#            79.800000\n",
       "           C++/C语言       68.133333\n",
       "           JSP/JavaWeb   69.800000\n",
       "           Java          82.100000\n",
       "           PHP           74.800000\n",
       "           Python        96.850000\n",
       "           Visual Basic  79.800000\n",
       "网页制作/Web技术 HTML          79.800000\n",
       "           JavaScript    79.800000\n",
       "           WEB前端         49.800000"
      ]
     },
     "execution_count": 9,
     "metadata": {},
     "output_type": "execute_result"
    }
   ],
   "source": [
    "# 多字段分组\n",
    "df_jd.groupby(['一级分类', '二级分类'])[['定价']].mean()"
   ]
  },
  {
   "cell_type": "code",
   "execution_count": 10,
   "id": "59990096",
   "metadata": {},
   "outputs": [
    {
     "data": {
      "text/plain": [
       "MultiIndex([(       '数据库',       'Oracle'),\n",
       "            (       '数据库',          'SQL'),\n",
       "            (      '移动开发',      'Android'),\n",
       "            ( '编程语言与程序设计',      'ASP.NET'),\n",
       "            ( '编程语言与程序设计',           'C#'),\n",
       "            ( '编程语言与程序设计',      'C++/C语言'),\n",
       "            ( '编程语言与程序设计',  'JSP/JavaWeb'),\n",
       "            ( '编程语言与程序设计',         'Java'),\n",
       "            ( '编程语言与程序设计',          'PHP'),\n",
       "            ( '编程语言与程序设计',       'Python'),\n",
       "            ( '编程语言与程序设计', 'Visual Basic'),\n",
       "            ('网页制作/Web技术',         'HTML'),\n",
       "            ('网页制作/Web技术',   'JavaScript'),\n",
       "            ('网页制作/Web技术',        'WEB前端')],\n",
       "           names=['一级分类', '二级分类'])"
      ]
     },
     "execution_count": 10,
     "metadata": {},
     "output_type": "execute_result"
    }
   ],
   "source": [
    "df_jd.groupby(['一级分类', '二级分类'])[['定价']].mean().index"
   ]
  },
  {
   "cell_type": "markdown",
   "id": "5a500451",
   "metadata": {},
   "source": [
    "当使用多个字段进行分组时，分类汇总的结果是一个具有层次化索引的数据集，用来进行分组的字段会成为层次化索引中的不同层级，靠近groupby的字段成为层次化索引的外层，靠近汇总字段（远离groupby）的字段成为层次化索引的内层"
   ]
  },
  {
   "cell_type": "markdown",
   "id": "a7929ff2",
   "metadata": {},
   "source": [
    "## 1.2 从层次化索引到数据透视"
   ]
  },
  {
   "cell_type": "code",
   "execution_count": 11,
   "id": "f20f3fc0",
   "metadata": {},
   "outputs": [],
   "source": [
    "# 构建一个具有层次化索引的Series\n",
    "s1 = pd.Series(\n",
    "    np.random.randint(1,11,12),\n",
    "    index = [\n",
    "        ['a'] * 3 + ['b'] * 3 + ['c'] * 3 + ['d'] * 3,\n",
    "        [1,2,3] * 4\n",
    "    ]\n",
    ")"
   ]
  },
  {
   "cell_type": "code",
   "execution_count": 12,
   "id": "99f9d571",
   "metadata": {},
   "outputs": [
    {
     "data": {
      "text/plain": [
       "a  1     4\n",
       "   2     6\n",
       "   3     6\n",
       "b  1     3\n",
       "   2     4\n",
       "   3     4\n",
       "c  1     8\n",
       "   2     3\n",
       "   3    10\n",
       "d  1     8\n",
       "   2     5\n",
       "   3     2\n",
       "dtype: int32"
      ]
     },
     "execution_count": 12,
     "metadata": {},
     "output_type": "execute_result"
    }
   ],
   "source": [
    "s1"
   ]
  },
  {
   "cell_type": "code",
   "execution_count": 13,
   "id": "52439480",
   "metadata": {
    "collapsed": true
   },
   "outputs": [
    {
     "data": {
      "text/plain": [
       "MultiIndex([('a', 1),\n",
       "            ('a', 2),\n",
       "            ('a', 3),\n",
       "            ('b', 1),\n",
       "            ('b', 2),\n",
       "            ('b', 3),\n",
       "            ('c', 1),\n",
       "            ('c', 2),\n",
       "            ('c', 3),\n",
       "            ('d', 1),\n",
       "            ('d', 2),\n",
       "            ('d', 3)],\n",
       "           )"
      ]
     },
     "execution_count": 13,
     "metadata": {},
     "output_type": "execute_result"
    }
   ],
   "source": [
    "s1.index"
   ]
  },
  {
   "cell_type": "markdown",
   "id": "d0be7ef6",
   "metadata": {},
   "source": [
    "    具有层次化索引的Series --> 类似于数据透视表的DataFrame\n",
    "    将行旋转到列上 ：unstack()\n",
    "    透视：低维度表格转换为高维度表格"
   ]
  },
  {
   "cell_type": "code",
   "execution_count": 14,
   "id": "1841f9ef",
   "metadata": {},
   "outputs": [
    {
     "data": {
      "text/html": [
       "<div>\n",
       "<style scoped>\n",
       "    .dataframe tbody tr th:only-of-type {\n",
       "        vertical-align: middle;\n",
       "    }\n",
       "\n",
       "    .dataframe tbody tr th {\n",
       "        vertical-align: top;\n",
       "    }\n",
       "\n",
       "    .dataframe thead th {\n",
       "        text-align: right;\n",
       "    }\n",
       "</style>\n",
       "<table border=\"1\" class=\"dataframe\">\n",
       "  <thead>\n",
       "    <tr style=\"text-align: right;\">\n",
       "      <th></th>\n",
       "      <th>1</th>\n",
       "      <th>2</th>\n",
       "      <th>3</th>\n",
       "    </tr>\n",
       "  </thead>\n",
       "  <tbody>\n",
       "    <tr>\n",
       "      <th>a</th>\n",
       "      <td>4</td>\n",
       "      <td>6</td>\n",
       "      <td>6</td>\n",
       "    </tr>\n",
       "    <tr>\n",
       "      <th>b</th>\n",
       "      <td>3</td>\n",
       "      <td>4</td>\n",
       "      <td>4</td>\n",
       "    </tr>\n",
       "    <tr>\n",
       "      <th>c</th>\n",
       "      <td>8</td>\n",
       "      <td>3</td>\n",
       "      <td>10</td>\n",
       "    </tr>\n",
       "    <tr>\n",
       "      <th>d</th>\n",
       "      <td>8</td>\n",
       "      <td>5</td>\n",
       "      <td>2</td>\n",
       "    </tr>\n",
       "  </tbody>\n",
       "</table>\n",
       "</div>"
      ],
      "text/plain": [
       "   1  2   3\n",
       "a  4  6   6\n",
       "b  3  4   4\n",
       "c  8  3  10\n",
       "d  8  5   2"
      ]
     },
     "execution_count": 14,
     "metadata": {},
     "output_type": "execute_result"
    }
   ],
   "source": [
    "s1.unstack()"
   ]
  },
  {
   "cell_type": "code",
   "execution_count": 15,
   "id": "6213f5dd",
   "metadata": {},
   "outputs": [],
   "source": [
    "# 构建一个类似数据透视表的DataFrame\n",
    "dft1 = pd.DataFrame(\n",
    "    np.random.randint(10,21,(2,3)),\n",
    "    index = pd.Index(['北京' ,'上海'], name = 'city'),\n",
    "    columns = pd.Index([2019,2020,2021], name = 'year')\n",
    ")"
   ]
  },
  {
   "cell_type": "code",
   "execution_count": 16,
   "id": "14adf954",
   "metadata": {
    "collapsed": true
   },
   "outputs": [
    {
     "data": {
      "text/html": [
       "<div>\n",
       "<style scoped>\n",
       "    .dataframe tbody tr th:only-of-type {\n",
       "        vertical-align: middle;\n",
       "    }\n",
       "\n",
       "    .dataframe tbody tr th {\n",
       "        vertical-align: top;\n",
       "    }\n",
       "\n",
       "    .dataframe thead th {\n",
       "        text-align: right;\n",
       "    }\n",
       "</style>\n",
       "<table border=\"1\" class=\"dataframe\">\n",
       "  <thead>\n",
       "    <tr style=\"text-align: right;\">\n",
       "      <th>year</th>\n",
       "      <th>2019</th>\n",
       "      <th>2020</th>\n",
       "      <th>2021</th>\n",
       "    </tr>\n",
       "    <tr>\n",
       "      <th>city</th>\n",
       "      <th></th>\n",
       "      <th></th>\n",
       "      <th></th>\n",
       "    </tr>\n",
       "  </thead>\n",
       "  <tbody>\n",
       "    <tr>\n",
       "      <th>北京</th>\n",
       "      <td>13</td>\n",
       "      <td>17</td>\n",
       "      <td>20</td>\n",
       "    </tr>\n",
       "    <tr>\n",
       "      <th>上海</th>\n",
       "      <td>13</td>\n",
       "      <td>17</td>\n",
       "      <td>16</td>\n",
       "    </tr>\n",
       "  </tbody>\n",
       "</table>\n",
       "</div>"
      ],
      "text/plain": [
       "year  2019  2020  2021\n",
       "city                  \n",
       "北京      13    17    20\n",
       "上海      13    17    16"
      ]
     },
     "execution_count": 16,
     "metadata": {},
     "output_type": "execute_result"
    }
   ],
   "source": [
    "dft1"
   ]
  },
  {
   "cell_type": "markdown",
   "id": "55afebb0",
   "metadata": {},
   "source": [
    "    类似数据透视表的DataFrame --> 具有层次化索引的Series\n",
    "    将列旋转到行上 ：stack()\n",
    "    逆透视：高维度表格转换为低维度表格"
   ]
  },
  {
   "cell_type": "code",
   "execution_count": 17,
   "id": "f3a811e7",
   "metadata": {
    "collapsed": true
   },
   "outputs": [
    {
     "data": {
      "text/plain": [
       "city  year\n",
       "北京    2019    13\n",
       "      2020    17\n",
       "      2021    20\n",
       "上海    2019    13\n",
       "      2020    17\n",
       "      2021    16\n",
       "dtype: int32"
      ]
     },
     "execution_count": 17,
     "metadata": {},
     "output_type": "execute_result"
    }
   ],
   "source": [
    "dft1.stack()"
   ]
  },
  {
   "cell_type": "code",
   "execution_count": 18,
   "id": "3edbf17e",
   "metadata": {
    "collapsed": true
   },
   "outputs": [
    {
     "data": {
      "text/plain": [
       "MultiIndex([('北京', 2019),\n",
       "            ('北京', 2020),\n",
       "            ('北京', 2021),\n",
       "            ('上海', 2019),\n",
       "            ('上海', 2020),\n",
       "            ('上海', 2021)],\n",
       "           names=['city', 'year'])"
      ]
     },
     "execution_count": 18,
     "metadata": {},
     "output_type": "execute_result"
    }
   ],
   "source": [
    "dft1.stack().index"
   ]
  },
  {
   "attachments": {
    "image.png": {
     "image/png": "[encoded data removed]"
    }
   },
   "cell_type": "markdown",
   "id": "9e5b1152",
   "metadata": {},
   "source": [
    "![image.png](attachment:image.png)"
   ]
  },
  {
   "cell_type": "markdown",
   "id": "ac6cbec6",
   "metadata": {},
   "source": [
    "## 1.3 从数据表到数据透视表\n",
    "\n",
    "    先做多级的groupby,再进行汇总，最后unstack"
   ]
  },
  {
   "cell_type": "code",
   "execution_count": 19,
   "id": "0ee0837c",
   "metadata": {},
   "outputs": [
    {
     "data": {
      "text/html": [
       "<div>\n",
       "<style scoped>\n",
       "    .dataframe tbody tr th:only-of-type {\n",
       "        vertical-align: middle;\n",
       "    }\n",
       "\n",
       "    .dataframe tbody tr th {\n",
       "        vertical-align: top;\n",
       "    }\n",
       "\n",
       "    .dataframe thead th {\n",
       "        text-align: right;\n",
       "    }\n",
       "</style>\n",
       "<table border=\"1\" class=\"dataframe\">\n",
       "  <thead>\n",
       "    <tr style=\"text-align: right;\">\n",
       "      <th>二级分类</th>\n",
       "      <th>ASP.NET</th>\n",
       "      <th>Android</th>\n",
       "      <th>C#</th>\n",
       "      <th>C++/C语言</th>\n",
       "      <th>HTML</th>\n",
       "      <th>JSP/JavaWeb</th>\n",
       "      <th>Java</th>\n",
       "      <th>JavaScript</th>\n",
       "      <th>Oracle</th>\n",
       "      <th>PHP</th>\n",
       "      <th>Python</th>\n",
       "      <th>SQL</th>\n",
       "      <th>Visual Basic</th>\n",
       "      <th>WEB前端</th>\n",
       "    </tr>\n",
       "    <tr>\n",
       "      <th>一级分类</th>\n",
       "      <th></th>\n",
       "      <th></th>\n",
       "      <th></th>\n",
       "      <th></th>\n",
       "      <th></th>\n",
       "      <th></th>\n",
       "      <th></th>\n",
       "      <th></th>\n",
       "      <th></th>\n",
       "      <th></th>\n",
       "      <th></th>\n",
       "      <th></th>\n",
       "      <th></th>\n",
       "      <th></th>\n",
       "    </tr>\n",
       "  </thead>\n",
       "  <tbody>\n",
       "    <tr>\n",
       "      <th>数据库</th>\n",
       "      <td>NaN</td>\n",
       "      <td>NaN</td>\n",
       "      <td>NaN</td>\n",
       "      <td>NaN</td>\n",
       "      <td>NaN</td>\n",
       "      <td>NaN</td>\n",
       "      <td>NaN</td>\n",
       "      <td>NaN</td>\n",
       "      <td>79.8</td>\n",
       "      <td>NaN</td>\n",
       "      <td>NaN</td>\n",
       "      <td>49.8</td>\n",
       "      <td>NaN</td>\n",
       "      <td>NaN</td>\n",
       "    </tr>\n",
       "    <tr>\n",
       "      <th>移动开发</th>\n",
       "      <td>NaN</td>\n",
       "      <td>89.6</td>\n",
       "      <td>NaN</td>\n",
       "      <td>NaN</td>\n",
       "      <td>NaN</td>\n",
       "      <td>NaN</td>\n",
       "      <td>NaN</td>\n",
       "      <td>NaN</td>\n",
       "      <td>NaN</td>\n",
       "      <td>NaN</td>\n",
       "      <td>NaN</td>\n",
       "      <td>NaN</td>\n",
       "      <td>NaN</td>\n",
       "      <td>NaN</td>\n",
       "    </tr>\n",
       "    <tr>\n",
       "      <th>编程语言与程序设计</th>\n",
       "      <td>74.8</td>\n",
       "      <td>NaN</td>\n",
       "      <td>79.8</td>\n",
       "      <td>68.133333</td>\n",
       "      <td>NaN</td>\n",
       "      <td>69.8</td>\n",
       "      <td>82.1</td>\n",
       "      <td>NaN</td>\n",
       "      <td>NaN</td>\n",
       "      <td>74.8</td>\n",
       "      <td>96.85</td>\n",
       "      <td>NaN</td>\n",
       "      <td>79.8</td>\n",
       "      <td>NaN</td>\n",
       "    </tr>\n",
       "    <tr>\n",
       "      <th>网页制作/Web技术</th>\n",
       "      <td>NaN</td>\n",
       "      <td>NaN</td>\n",
       "      <td>NaN</td>\n",
       "      <td>NaN</td>\n",
       "      <td>79.8</td>\n",
       "      <td>NaN</td>\n",
       "      <td>NaN</td>\n",
       "      <td>79.8</td>\n",
       "      <td>NaN</td>\n",
       "      <td>NaN</td>\n",
       "      <td>NaN</td>\n",
       "      <td>NaN</td>\n",
       "      <td>NaN</td>\n",
       "      <td>49.8</td>\n",
       "    </tr>\n",
       "  </tbody>\n",
       "</table>\n",
       "</div>"
      ],
      "text/plain": [
       "二级分类        ASP.NET  Android    C#    C++/C语言  HTML  JSP/JavaWeb  Java  \\\n",
       "一级分类                                                                     \n",
       "数据库             NaN      NaN   NaN        NaN   NaN          NaN   NaN   \n",
       "移动开发            NaN     89.6   NaN        NaN   NaN          NaN   NaN   \n",
       "编程语言与程序设计      74.8      NaN  79.8  68.133333   NaN         69.8  82.1   \n",
       "网页制作/Web技术      NaN      NaN   NaN        NaN  79.8          NaN   NaN   \n",
       "\n",
       "二级分类        JavaScript  Oracle   PHP  Python   SQL  Visual Basic  WEB前端  \n",
       "一级分类                                                                     \n",
       "数据库                NaN    79.8   NaN     NaN  49.8           NaN    NaN  \n",
       "移动开发               NaN     NaN   NaN     NaN   NaN           NaN    NaN  \n",
       "编程语言与程序设计          NaN     NaN  74.8   96.85   NaN          79.8    NaN  \n",
       "网页制作/Web技术        79.8     NaN   NaN     NaN   NaN           NaN   49.8  "
      ]
     },
     "execution_count": 19,
     "metadata": {},
     "output_type": "execute_result"
    }
   ],
   "source": [
    "df_jd.groupby(['一级分类', '二级分类']).定价.mean().unstack()"
   ]
  },
  {
   "cell_type": "code",
   "execution_count": 20,
   "id": "0fb6a40c",
   "metadata": {},
   "outputs": [
    {
     "data": {
      "text/plain": [
       "一级分类        二级分类        \n",
       "数据库         Oracle          79.800000\n",
       "            SQL             49.800000\n",
       "移动开发        Android         89.600000\n",
       "编程语言与程序设计   ASP.NET         74.800000\n",
       "            C#              79.800000\n",
       "            C++/C语言         68.133333\n",
       "            JSP/JavaWeb     69.800000\n",
       "            Java            82.100000\n",
       "            PHP             74.800000\n",
       "            Python          96.850000\n",
       "            Visual Basic    79.800000\n",
       "网页制作/Web技术  HTML            79.800000\n",
       "            JavaScript      79.800000\n",
       "            WEB前端           49.800000\n",
       "Name: 定价, dtype: float64"
      ]
     },
     "execution_count": 20,
     "metadata": {},
     "output_type": "execute_result"
    }
   ],
   "source": [
    "df_jd.groupby(['一级分类', '二级分类']).定价.mean()"
   ]
  },
  {
   "cell_type": "markdown",
   "id": "83e10fd4",
   "metadata": {},
   "source": [
    "载入银行数据集"
   ]
  },
  {
   "cell_type": "code",
   "execution_count": 21,
   "id": "f23a0d45",
   "metadata": {},
   "outputs": [],
   "source": [
    "df_bank = pd.read_csv('data/bank-full.csv', sep = ';')"
   ]
  },
  {
   "cell_type": "code",
   "execution_count": 22,
   "id": "1f42d4b4",
   "metadata": {},
   "outputs": [
    {
     "data": {
      "text/html": [
       "<div>\n",
       "<style scoped>\n",
       "    .dataframe tbody tr th:only-of-type {\n",
       "        vertical-align: middle;\n",
       "    }\n",
       "\n",
       "    .dataframe tbody tr th {\n",
       "        vertical-align: top;\n",
       "    }\n",
       "\n",
       "    .dataframe thead th {\n",
       "        text-align: right;\n",
       "    }\n",
       "</style>\n",
       "<table border=\"1\" class=\"dataframe\">\n",
       "  <thead>\n",
       "    <tr style=\"text-align: right;\">\n",
       "      <th></th>\n",
       "      <th>age</th>\n",
       "      <th>job</th>\n",
       "      <th>marital</th>\n",
       "      <th>education</th>\n",
       "      <th>default</th>\n",
       "      <th>balance</th>\n",
       "      <th>housing</th>\n",
       "      <th>loan</th>\n",
       "      <th>contact</th>\n",
       "      <th>day</th>\n",
       "      <th>month</th>\n",
       "      <th>duration</th>\n",
       "      <th>campaign</th>\n",
       "      <th>pdays</th>\n",
       "      <th>previous</th>\n",
       "      <th>poutcome</th>\n",
       "      <th>y</th>\n",
       "    </tr>\n",
       "  </thead>\n",
       "  <tbody>\n",
       "    <tr>\n",
       "      <th>0</th>\n",
       "      <td>58</td>\n",
       "      <td>management</td>\n",
       "      <td>married</td>\n",
       "      <td>tertiary</td>\n",
       "      <td>no</td>\n",
       "      <td>2143</td>\n",
       "      <td>yes</td>\n",
       "      <td>no</td>\n",
       "      <td>unknown</td>\n",
       "      <td>5</td>\n",
       "      <td>may</td>\n",
       "      <td>261</td>\n",
       "      <td>1</td>\n",
       "      <td>-1</td>\n",
       "      <td>0</td>\n",
       "      <td>unknown</td>\n",
       "      <td>no</td>\n",
       "    </tr>\n",
       "    <tr>\n",
       "      <th>1</th>\n",
       "      <td>44</td>\n",
       "      <td>technician</td>\n",
       "      <td>single</td>\n",
       "      <td>secondary</td>\n",
       "      <td>no</td>\n",
       "      <td>29</td>\n",
       "      <td>yes</td>\n",
       "      <td>no</td>\n",
       "      <td>unknown</td>\n",
       "      <td>5</td>\n",
       "      <td>may</td>\n",
       "      <td>151</td>\n",
       "      <td>1</td>\n",
       "      <td>-1</td>\n",
       "      <td>0</td>\n",
       "      <td>unknown</td>\n",
       "      <td>no</td>\n",
       "    </tr>\n",
       "    <tr>\n",
       "      <th>2</th>\n",
       "      <td>33</td>\n",
       "      <td>entrepreneur</td>\n",
       "      <td>married</td>\n",
       "      <td>secondary</td>\n",
       "      <td>no</td>\n",
       "      <td>2</td>\n",
       "      <td>yes</td>\n",
       "      <td>yes</td>\n",
       "      <td>unknown</td>\n",
       "      <td>5</td>\n",
       "      <td>may</td>\n",
       "      <td>76</td>\n",
       "      <td>1</td>\n",
       "      <td>-1</td>\n",
       "      <td>0</td>\n",
       "      <td>unknown</td>\n",
       "      <td>no</td>\n",
       "    </tr>\n",
       "    <tr>\n",
       "      <th>3</th>\n",
       "      <td>47</td>\n",
       "      <td>blue-collar</td>\n",
       "      <td>married</td>\n",
       "      <td>unknown</td>\n",
       "      <td>no</td>\n",
       "      <td>1506</td>\n",
       "      <td>yes</td>\n",
       "      <td>no</td>\n",
       "      <td>unknown</td>\n",
       "      <td>5</td>\n",
       "      <td>may</td>\n",
       "      <td>92</td>\n",
       "      <td>1</td>\n",
       "      <td>-1</td>\n",
       "      <td>0</td>\n",
       "      <td>unknown</td>\n",
       "      <td>no</td>\n",
       "    </tr>\n",
       "    <tr>\n",
       "      <th>4</th>\n",
       "      <td>33</td>\n",
       "      <td>unknown</td>\n",
       "      <td>single</td>\n",
       "      <td>unknown</td>\n",
       "      <td>no</td>\n",
       "      <td>1</td>\n",
       "      <td>no</td>\n",
       "      <td>no</td>\n",
       "      <td>unknown</td>\n",
       "      <td>5</td>\n",
       "      <td>may</td>\n",
       "      <td>198</td>\n",
       "      <td>1</td>\n",
       "      <td>-1</td>\n",
       "      <td>0</td>\n",
       "      <td>unknown</td>\n",
       "      <td>no</td>\n",
       "    </tr>\n",
       "  </tbody>\n",
       "</table>\n",
       "</div>"
      ],
      "text/plain": [
       "   age           job  marital  education default  balance housing loan  \\\n",
       "0   58    management  married   tertiary      no     2143     yes   no   \n",
       "1   44    technician   single  secondary      no       29     yes   no   \n",
       "2   33  entrepreneur  married  secondary      no        2     yes  yes   \n",
       "3   47   blue-collar  married    unknown      no     1506     yes   no   \n",
       "4   33       unknown   single    unknown      no        1      no   no   \n",
       "\n",
       "   contact  day month  duration  campaign  pdays  previous poutcome   y  \n",
       "0  unknown    5   may       261         1     -1         0  unknown  no  \n",
       "1  unknown    5   may       151         1     -1         0  unknown  no  \n",
       "2  unknown    5   may        76         1     -1         0  unknown  no  \n",
       "3  unknown    5   may        92         1     -1         0  unknown  no  \n",
       "4  unknown    5   may       198         1     -1         0  unknown  no  "
      ]
     },
     "execution_count": 22,
     "metadata": {},
     "output_type": "execute_result"
    }
   ],
   "source": [
    "df_bank.head()"
   ]
  },
  {
   "cell_type": "code",
   "execution_count": 23,
   "id": "869abc90",
   "metadata": {},
   "outputs": [
    {
     "data": {
      "text/plain": [
       "y\n",
       "no     39922\n",
       "yes     5289\n",
       "Name: count, dtype: int64"
      ]
     },
     "execution_count": 23,
     "metadata": {},
     "output_type": "execute_result"
    }
   ],
   "source": [
    "df_bank.y.value_counts()"
   ]
  },
  {
   "cell_type": "markdown",
   "id": "c098a3ed",
   "metadata": {},
   "source": [
    "不同职业的人群中，购买和不购买的人数分别有多少？"
   ]
  },
  {
   "cell_type": "code",
   "execution_count": 24,
   "id": "001026ba",
   "metadata": {},
   "outputs": [
    {
     "data": {
      "text/plain": [
       "job            y  \n",
       "admin.         no     4540\n",
       "               yes     631\n",
       "blue-collar    no     9024\n",
       "               yes     708\n",
       "entrepreneur   no     1364\n",
       "               yes     123\n",
       "housemaid      no     1131\n",
       "               yes     109\n",
       "management     no     8157\n",
       "               yes    1301\n",
       "retired        no     1748\n",
       "               yes     516\n",
       "self-employed  no     1392\n",
       "               yes     187\n",
       "services       no     3785\n",
       "               yes     369\n",
       "student        no      669\n",
       "               yes     269\n",
       "technician     no     6757\n",
       "               yes     840\n",
       "unemployed     no     1101\n",
       "               yes     202\n",
       "unknown        no      254\n",
       "               yes      34\n",
       "Name: age, dtype: int64"
      ]
     },
     "execution_count": 24,
     "metadata": {},
     "output_type": "execute_result"
    }
   ],
   "source": [
    "df_bank.groupby(['job','y']).age.count()"
   ]
  },
  {
   "cell_type": "code",
   "execution_count": 25,
   "id": "2519e13d",
   "metadata": {
    "collapsed": true
   },
   "outputs": [
    {
     "data": {
      "text/plain": [
       "MultiIndex([(       'admin.',  'no'),\n",
       "            (       'admin.', 'yes'),\n",
       "            (  'blue-collar',  'no'),\n",
       "            (  'blue-collar', 'yes'),\n",
       "            ( 'entrepreneur',  'no'),\n",
       "            ( 'entrepreneur', 'yes'),\n",
       "            (    'housemaid',  'no'),\n",
       "            (    'housemaid', 'yes'),\n",
       "            (   'management',  'no'),\n",
       "            (   'management', 'yes'),\n",
       "            (      'retired',  'no'),\n",
       "            (      'retired', 'yes'),\n",
       "            ('self-employed',  'no'),\n",
       "            ('self-employed', 'yes'),\n",
       "            (     'services',  'no'),\n",
       "            (     'services', 'yes'),\n",
       "            (      'student',  'no'),\n",
       "            (      'student', 'yes'),\n",
       "            (   'technician',  'no'),\n",
       "            (   'technician', 'yes'),\n",
       "            (   'unemployed',  'no'),\n",
       "            (   'unemployed', 'yes'),\n",
       "            (      'unknown',  'no'),\n",
       "            (      'unknown', 'yes')],\n",
       "           names=['job', 'y'])"
      ]
     },
     "execution_count": 25,
     "metadata": {},
     "output_type": "execute_result"
    }
   ],
   "source": [
    "df_bank.groupby(['job','y']).age.count().index"
   ]
  },
  {
   "cell_type": "code",
   "execution_count": 26,
   "id": "a015ef1d",
   "metadata": {
    "collapsed": true
   },
   "outputs": [
    {
     "data": {
      "text/html": [
       "<div>\n",
       "<style scoped>\n",
       "    .dataframe tbody tr th:only-of-type {\n",
       "        vertical-align: middle;\n",
       "    }\n",
       "\n",
       "    .dataframe tbody tr th {\n",
       "        vertical-align: top;\n",
       "    }\n",
       "\n",
       "    .dataframe thead th {\n",
       "        text-align: right;\n",
       "    }\n",
       "</style>\n",
       "<table border=\"1\" class=\"dataframe\">\n",
       "  <thead>\n",
       "    <tr style=\"text-align: right;\">\n",
       "      <th>y</th>\n",
       "      <th>no</th>\n",
       "      <th>yes</th>\n",
       "    </tr>\n",
       "    <tr>\n",
       "      <th>job</th>\n",
       "      <th></th>\n",
       "      <th></th>\n",
       "    </tr>\n",
       "  </thead>\n",
       "  <tbody>\n",
       "    <tr>\n",
       "      <th>admin.</th>\n",
       "      <td>4540</td>\n",
       "      <td>631</td>\n",
       "    </tr>\n",
       "    <tr>\n",
       "      <th>blue-collar</th>\n",
       "      <td>9024</td>\n",
       "      <td>708</td>\n",
       "    </tr>\n",
       "    <tr>\n",
       "      <th>entrepreneur</th>\n",
       "      <td>1364</td>\n",
       "      <td>123</td>\n",
       "    </tr>\n",
       "    <tr>\n",
       "      <th>housemaid</th>\n",
       "      <td>1131</td>\n",
       "      <td>109</td>\n",
       "    </tr>\n",
       "    <tr>\n",
       "      <th>management</th>\n",
       "      <td>8157</td>\n",
       "      <td>1301</td>\n",
       "    </tr>\n",
       "    <tr>\n",
       "      <th>retired</th>\n",
       "      <td>1748</td>\n",
       "      <td>516</td>\n",
       "    </tr>\n",
       "    <tr>\n",
       "      <th>self-employed</th>\n",
       "      <td>1392</td>\n",
       "      <td>187</td>\n",
       "    </tr>\n",
       "    <tr>\n",
       "      <th>services</th>\n",
       "      <td>3785</td>\n",
       "      <td>369</td>\n",
       "    </tr>\n",
       "    <tr>\n",
       "      <th>student</th>\n",
       "      <td>669</td>\n",
       "      <td>269</td>\n",
       "    </tr>\n",
       "    <tr>\n",
       "      <th>technician</th>\n",
       "      <td>6757</td>\n",
       "      <td>840</td>\n",
       "    </tr>\n",
       "    <tr>\n",
       "      <th>unemployed</th>\n",
       "      <td>1101</td>\n",
       "      <td>202</td>\n",
       "    </tr>\n",
       "    <tr>\n",
       "      <th>unknown</th>\n",
       "      <td>254</td>\n",
       "      <td>34</td>\n",
       "    </tr>\n",
       "  </tbody>\n",
       "</table>\n",
       "</div>"
      ],
      "text/plain": [
       "y                no   yes\n",
       "job                      \n",
       "admin.         4540   631\n",
       "blue-collar    9024   708\n",
       "entrepreneur   1364   123\n",
       "housemaid      1131   109\n",
       "management     8157  1301\n",
       "retired        1748   516\n",
       "self-employed  1392   187\n",
       "services       3785   369\n",
       "student         669   269\n",
       "technician     6757   840\n",
       "unemployed     1101   202\n",
       "unknown         254    34"
      ]
     },
     "execution_count": 26,
     "metadata": {},
     "output_type": "execute_result"
    }
   ],
   "source": [
    "df_bank.groupby(['job','y']).age.count().unstack()"
   ]
  },
  {
   "attachments": {
    "image.png": {
     "image/png": "[encoded data removed]"
    }
   },
   "cell_type": "markdown",
   "id": "ebcdfcf6",
   "metadata": {},
   "source": [
    "![image.png](attachment:image.png)"
   ]
  },
  {
   "cell_type": "markdown",
   "id": "f5e748ef",
   "metadata": {},
   "source": [
    "不同学历，不同婚姻状况的客户，在购买和不购买的情况下，平均年龄是多少"
   ]
  },
  {
   "cell_type": "code",
   "execution_count": 27,
   "id": "453d5382",
   "metadata": {
    "collapsed": true
   },
   "outputs": [
    {
     "data": {
      "text/plain": [
       "education  marital   y  \n",
       "primary    divorced  no     50.165123\n",
       "                     yes    59.778846\n",
       "           married   no     45.982062\n",
       "                     yes    53.515152\n",
       "           single    no     37.014436\n",
       "                     yes    33.967033\n",
       "secondary  divorced  no     43.889065\n",
       "                     yes    47.195876\n",
       "           married   no     42.071394\n",
       "                     yes    45.151840\n",
       "           single    no     33.394308\n",
       "                     yes    31.559064\n",
       "tertiary   divorced  no     45.196372\n",
       "                     yes    46.886700\n",
       "           married   no     42.011592\n",
       "                     yes    44.281490\n",
       "           single    no     34.033998\n",
       "                     yes    32.860227\n",
       "unknown    divorced  no     49.434483\n",
       "                     yes    48.458333\n",
       "           married   no     47.517682\n",
       "                     yes    53.802817\n",
       "           single    no     35.477376\n",
       "                     yes    30.593023\n",
       "Name: age, dtype: float64"
      ]
     },
     "execution_count": 27,
     "metadata": {},
     "output_type": "execute_result"
    }
   ],
   "source": [
    "df_bank.groupby(['education','marital','y']).age.mean()"
   ]
  },
  {
   "cell_type": "code",
   "execution_count": 28,
   "id": "61b672f2",
   "metadata": {
    "collapsed": true
   },
   "outputs": [
    {
     "data": {
      "text/plain": [
       "MultiIndex([(  'primary', 'divorced',  'no'),\n",
       "            (  'primary', 'divorced', 'yes'),\n",
       "            (  'primary',  'married',  'no'),\n",
       "            (  'primary',  'married', 'yes'),\n",
       "            (  'primary',   'single',  'no'),\n",
       "            (  'primary',   'single', 'yes'),\n",
       "            ('secondary', 'divorced',  'no'),\n",
       "            ('secondary', 'divorced', 'yes'),\n",
       "            ('secondary',  'married',  'no'),\n",
       "            ('secondary',  'married', 'yes'),\n",
       "            ('secondary',   'single',  'no'),\n",
       "            ('secondary',   'single', 'yes'),\n",
       "            ( 'tertiary', 'divorced',  'no'),\n",
       "            ( 'tertiary', 'divorced', 'yes'),\n",
       "            ( 'tertiary',  'married',  'no'),\n",
       "            ( 'tertiary',  'married', 'yes'),\n",
       "            ( 'tertiary',   'single',  'no'),\n",
       "            ( 'tertiary',   'single', 'yes'),\n",
       "            (  'unknown', 'divorced',  'no'),\n",
       "            (  'unknown', 'divorced', 'yes'),\n",
       "            (  'unknown',  'married',  'no'),\n",
       "            (  'unknown',  'married', 'yes'),\n",
       "            (  'unknown',   'single',  'no'),\n",
       "            (  'unknown',   'single', 'yes')],\n",
       "           names=['education', 'marital', 'y'])"
      ]
     },
     "execution_count": 28,
     "metadata": {},
     "output_type": "execute_result"
    }
   ],
   "source": [
    "df_bank.groupby(['education','marital','y']).age.mean().index"
   ]
  },
  {
   "cell_type": "code",
   "execution_count": 29,
   "id": "c290d0e9",
   "metadata": {
    "collapsed": true
   },
   "outputs": [
    {
     "data": {
      "text/html": [
       "<div>\n",
       "<style scoped>\n",
       "    .dataframe tbody tr th:only-of-type {\n",
       "        vertical-align: middle;\n",
       "    }\n",
       "\n",
       "    .dataframe tbody tr th {\n",
       "        vertical-align: top;\n",
       "    }\n",
       "\n",
       "    .dataframe thead th {\n",
       "        text-align: right;\n",
       "    }\n",
       "</style>\n",
       "<table border=\"1\" class=\"dataframe\">\n",
       "  <thead>\n",
       "    <tr style=\"text-align: right;\">\n",
       "      <th></th>\n",
       "      <th>y</th>\n",
       "      <th>no</th>\n",
       "      <th>yes</th>\n",
       "    </tr>\n",
       "    <tr>\n",
       "      <th>education</th>\n",
       "      <th>marital</th>\n",
       "      <th></th>\n",
       "      <th></th>\n",
       "    </tr>\n",
       "  </thead>\n",
       "  <tbody>\n",
       "    <tr>\n",
       "      <th rowspan=\"3\" valign=\"top\">primary</th>\n",
       "      <th>divorced</th>\n",
       "      <td>50.165123</td>\n",
       "      <td>59.778846</td>\n",
       "    </tr>\n",
       "    <tr>\n",
       "      <th>married</th>\n",
       "      <td>45.982062</td>\n",
       "      <td>53.515152</td>\n",
       "    </tr>\n",
       "    <tr>\n",
       "      <th>single</th>\n",
       "      <td>37.014436</td>\n",
       "      <td>33.967033</td>\n",
       "    </tr>\n",
       "    <tr>\n",
       "      <th rowspan=\"3\" valign=\"top\">secondary</th>\n",
       "      <th>divorced</th>\n",
       "      <td>43.889065</td>\n",
       "      <td>47.195876</td>\n",
       "    </tr>\n",
       "    <tr>\n",
       "      <th>married</th>\n",
       "      <td>42.071394</td>\n",
       "      <td>45.151840</td>\n",
       "    </tr>\n",
       "    <tr>\n",
       "      <th>single</th>\n",
       "      <td>33.394308</td>\n",
       "      <td>31.559064</td>\n",
       "    </tr>\n",
       "    <tr>\n",
       "      <th rowspan=\"3\" valign=\"top\">tertiary</th>\n",
       "      <th>divorced</th>\n",
       "      <td>45.196372</td>\n",
       "      <td>46.886700</td>\n",
       "    </tr>\n",
       "    <tr>\n",
       "      <th>married</th>\n",
       "      <td>42.011592</td>\n",
       "      <td>44.281490</td>\n",
       "    </tr>\n",
       "    <tr>\n",
       "      <th>single</th>\n",
       "      <td>34.033998</td>\n",
       "      <td>32.860227</td>\n",
       "    </tr>\n",
       "    <tr>\n",
       "      <th rowspan=\"3\" valign=\"top\">unknown</th>\n",
       "      <th>divorced</th>\n",
       "      <td>49.434483</td>\n",
       "      <td>48.458333</td>\n",
       "    </tr>\n",
       "    <tr>\n",
       "      <th>married</th>\n",
       "      <td>47.517682</td>\n",
       "      <td>53.802817</td>\n",
       "    </tr>\n",
       "    <tr>\n",
       "      <th>single</th>\n",
       "      <td>35.477376</td>\n",
       "      <td>30.593023</td>\n",
       "    </tr>\n",
       "  </tbody>\n",
       "</table>\n",
       "</div>"
      ],
      "text/plain": [
       "y                          no        yes\n",
       "education marital                       \n",
       "primary   divorced  50.165123  59.778846\n",
       "          married   45.982062  53.515152\n",
       "          single    37.014436  33.967033\n",
       "secondary divorced  43.889065  47.195876\n",
       "          married   42.071394  45.151840\n",
       "          single    33.394308  31.559064\n",
       "tertiary  divorced  45.196372  46.886700\n",
       "          married   42.011592  44.281490\n",
       "          single    34.033998  32.860227\n",
       "unknown   divorced  49.434483  48.458333\n",
       "          married   47.517682  53.802817\n",
       "          single    35.477376  30.593023"
      ]
     },
     "execution_count": 29,
     "metadata": {},
     "output_type": "execute_result"
    }
   ],
   "source": [
    "df_bank.groupby(['education','marital','y']).age.mean().unstack()"
   ]
  },
  {
   "cell_type": "markdown",
   "id": "aa48db0f",
   "metadata": {},
   "source": [
    "## 1.4 数据透视表 pivot_table\n",
    "\n",
    "    pd.DataFrame.pivot_table(\n",
    "        self,\n",
    "        values=None,         # 数据透视表的值\n",
    "        index=None,          # 数据透视表的行\n",
    "        columns=None,        # 数据透视表的列\n",
    "        aggfunc='mean',       # 数据透视表的计算，可以使用[],{}进行更复杂的操作\n",
    "        fill_value=None,      # 针对数据透视表中的缺失值进行填充\n",
    "        margins=False,       # 是否显示总计\n",
    "        dropna=True,\n",
    "        margins_name='All',    # 总计的行/列名称，和margins配合使用\n",
    "        observed=False,\n",
    "        sort=True,\n",
    "    ) -> 'DataFrame'"
   ]
  },
  {
   "cell_type": "markdown",
   "id": "2c789447",
   "metadata": {},
   "source": [
    "不同职业的人群，购买和不购买的人数分别有多少"
   ]
  },
  {
   "cell_type": "code",
   "execution_count": 30,
   "id": "afa4db13",
   "metadata": {
    "collapsed": true
   },
   "outputs": [
    {
     "data": {
      "text/html": [
       "<div>\n",
       "<style scoped>\n",
       "    .dataframe tbody tr th:only-of-type {\n",
       "        vertical-align: middle;\n",
       "    }\n",
       "\n",
       "    .dataframe tbody tr th {\n",
       "        vertical-align: top;\n",
       "    }\n",
       "\n",
       "    .dataframe thead th {\n",
       "        text-align: right;\n",
       "    }\n",
       "</style>\n",
       "<table border=\"1\" class=\"dataframe\">\n",
       "  <thead>\n",
       "    <tr style=\"text-align: right;\">\n",
       "      <th>y</th>\n",
       "      <th>no</th>\n",
       "      <th>yes</th>\n",
       "    </tr>\n",
       "    <tr>\n",
       "      <th>job</th>\n",
       "      <th></th>\n",
       "      <th></th>\n",
       "    </tr>\n",
       "  </thead>\n",
       "  <tbody>\n",
       "    <tr>\n",
       "      <th>admin.</th>\n",
       "      <td>4540</td>\n",
       "      <td>631</td>\n",
       "    </tr>\n",
       "    <tr>\n",
       "      <th>blue-collar</th>\n",
       "      <td>9024</td>\n",
       "      <td>708</td>\n",
       "    </tr>\n",
       "    <tr>\n",
       "      <th>entrepreneur</th>\n",
       "      <td>1364</td>\n",
       "      <td>123</td>\n",
       "    </tr>\n",
       "    <tr>\n",
       "      <th>housemaid</th>\n",
       "      <td>1131</td>\n",
       "      <td>109</td>\n",
       "    </tr>\n",
       "    <tr>\n",
       "      <th>management</th>\n",
       "      <td>8157</td>\n",
       "      <td>1301</td>\n",
       "    </tr>\n",
       "    <tr>\n",
       "      <th>retired</th>\n",
       "      <td>1748</td>\n",
       "      <td>516</td>\n",
       "    </tr>\n",
       "    <tr>\n",
       "      <th>self-employed</th>\n",
       "      <td>1392</td>\n",
       "      <td>187</td>\n",
       "    </tr>\n",
       "    <tr>\n",
       "      <th>services</th>\n",
       "      <td>3785</td>\n",
       "      <td>369</td>\n",
       "    </tr>\n",
       "    <tr>\n",
       "      <th>student</th>\n",
       "      <td>669</td>\n",
       "      <td>269</td>\n",
       "    </tr>\n",
       "    <tr>\n",
       "      <th>technician</th>\n",
       "      <td>6757</td>\n",
       "      <td>840</td>\n",
       "    </tr>\n",
       "    <tr>\n",
       "      <th>unemployed</th>\n",
       "      <td>1101</td>\n",
       "      <td>202</td>\n",
       "    </tr>\n",
       "    <tr>\n",
       "      <th>unknown</th>\n",
       "      <td>254</td>\n",
       "      <td>34</td>\n",
       "    </tr>\n",
       "  </tbody>\n",
       "</table>\n",
       "</div>"
      ],
      "text/plain": [
       "y                no   yes\n",
       "job                      \n",
       "admin.         4540   631\n",
       "blue-collar    9024   708\n",
       "entrepreneur   1364   123\n",
       "housemaid      1131   109\n",
       "management     8157  1301\n",
       "retired        1748   516\n",
       "self-employed  1392   187\n",
       "services       3785   369\n",
       "student         669   269\n",
       "technician     6757   840\n",
       "unemployed     1101   202\n",
       "unknown         254    34"
      ]
     },
     "execution_count": 30,
     "metadata": {},
     "output_type": "execute_result"
    }
   ],
   "source": [
    "df_bank.pivot_table(\n",
    "    index = 'job',\n",
    "    columns = 'y',\n",
    "    values = 'age',\n",
    "    aggfunc = 'count'\n",
    ")"
   ]
  },
  {
   "cell_type": "code",
   "execution_count": 31,
   "id": "0f3cdf54",
   "metadata": {
    "collapsed": true
   },
   "outputs": [
    {
     "data": {
      "text/html": [
       "<div>\n",
       "<style scoped>\n",
       "    .dataframe tbody tr th:only-of-type {\n",
       "        vertical-align: middle;\n",
       "    }\n",
       "\n",
       "    .dataframe tbody tr th {\n",
       "        vertical-align: top;\n",
       "    }\n",
       "\n",
       "    .dataframe thead th {\n",
       "        text-align: right;\n",
       "    }\n",
       "</style>\n",
       "<table border=\"1\" class=\"dataframe\">\n",
       "  <thead>\n",
       "    <tr style=\"text-align: right;\">\n",
       "      <th>y</th>\n",
       "      <th>no</th>\n",
       "      <th>yes</th>\n",
       "      <th>总计</th>\n",
       "    </tr>\n",
       "    <tr>\n",
       "      <th>job</th>\n",
       "      <th></th>\n",
       "      <th></th>\n",
       "      <th></th>\n",
       "    </tr>\n",
       "  </thead>\n",
       "  <tbody>\n",
       "    <tr>\n",
       "      <th>admin.</th>\n",
       "      <td>4540</td>\n",
       "      <td>631</td>\n",
       "      <td>5171</td>\n",
       "    </tr>\n",
       "    <tr>\n",
       "      <th>blue-collar</th>\n",
       "      <td>9024</td>\n",
       "      <td>708</td>\n",
       "      <td>9732</td>\n",
       "    </tr>\n",
       "    <tr>\n",
       "      <th>entrepreneur</th>\n",
       "      <td>1364</td>\n",
       "      <td>123</td>\n",
       "      <td>1487</td>\n",
       "    </tr>\n",
       "    <tr>\n",
       "      <th>housemaid</th>\n",
       "      <td>1131</td>\n",
       "      <td>109</td>\n",
       "      <td>1240</td>\n",
       "    </tr>\n",
       "    <tr>\n",
       "      <th>management</th>\n",
       "      <td>8157</td>\n",
       "      <td>1301</td>\n",
       "      <td>9458</td>\n",
       "    </tr>\n",
       "    <tr>\n",
       "      <th>retired</th>\n",
       "      <td>1748</td>\n",
       "      <td>516</td>\n",
       "      <td>2264</td>\n",
       "    </tr>\n",
       "    <tr>\n",
       "      <th>self-employed</th>\n",
       "      <td>1392</td>\n",
       "      <td>187</td>\n",
       "      <td>1579</td>\n",
       "    </tr>\n",
       "    <tr>\n",
       "      <th>services</th>\n",
       "      <td>3785</td>\n",
       "      <td>369</td>\n",
       "      <td>4154</td>\n",
       "    </tr>\n",
       "    <tr>\n",
       "      <th>student</th>\n",
       "      <td>669</td>\n",
       "      <td>269</td>\n",
       "      <td>938</td>\n",
       "    </tr>\n",
       "    <tr>\n",
       "      <th>technician</th>\n",
       "      <td>6757</td>\n",
       "      <td>840</td>\n",
       "      <td>7597</td>\n",
       "    </tr>\n",
       "    <tr>\n",
       "      <th>unemployed</th>\n",
       "      <td>1101</td>\n",
       "      <td>202</td>\n",
       "      <td>1303</td>\n",
       "    </tr>\n",
       "    <tr>\n",
       "      <th>unknown</th>\n",
       "      <td>254</td>\n",
       "      <td>34</td>\n",
       "      <td>288</td>\n",
       "    </tr>\n",
       "    <tr>\n",
       "      <th>总计</th>\n",
       "      <td>39922</td>\n",
       "      <td>5289</td>\n",
       "      <td>45211</td>\n",
       "    </tr>\n",
       "  </tbody>\n",
       "</table>\n",
       "</div>"
      ],
      "text/plain": [
       "y                 no   yes     总计\n",
       "job                              \n",
       "admin.          4540   631   5171\n",
       "blue-collar     9024   708   9732\n",
       "entrepreneur    1364   123   1487\n",
       "housemaid       1131   109   1240\n",
       "management      8157  1301   9458\n",
       "retired         1748   516   2264\n",
       "self-employed   1392   187   1579\n",
       "services        3785   369   4154\n",
       "student          669   269    938\n",
       "technician      6757   840   7597\n",
       "unemployed      1101   202   1303\n",
       "unknown          254    34    288\n",
       "总计             39922  5289  45211"
      ]
     },
     "execution_count": 31,
     "metadata": {},
     "output_type": "execute_result"
    }
   ],
   "source": [
    "# 加入总计\n",
    "df_bank.pivot_table(\n",
    "    index = 'job',\n",
    "    columns = 'y',\n",
    "    values = 'age',\n",
    "    aggfunc = 'count',\n",
    "    margins = True,\n",
    "    margins_name = '总计'\n",
    ")"
   ]
  },
  {
   "cell_type": "markdown",
   "id": "b1efe3f4",
   "metadata": {},
   "source": [
    "不同受教育程度和婚姻状况的人群，平均年龄是多少"
   ]
  },
  {
   "cell_type": "code",
   "execution_count": 32,
   "id": "946910e2",
   "metadata": {
    "collapsed": true
   },
   "outputs": [
    {
     "data": {
      "text/html": [
       "<div>\n",
       "<style scoped>\n",
       "    .dataframe tbody tr th:only-of-type {\n",
       "        vertical-align: middle;\n",
       "    }\n",
       "\n",
       "    .dataframe tbody tr th {\n",
       "        vertical-align: top;\n",
       "    }\n",
       "\n",
       "    .dataframe thead th {\n",
       "        text-align: right;\n",
       "    }\n",
       "</style>\n",
       "<table border=\"1\" class=\"dataframe\">\n",
       "  <thead>\n",
       "    <tr style=\"text-align: right;\">\n",
       "      <th>marital</th>\n",
       "      <th>divorced</th>\n",
       "      <th>married</th>\n",
       "      <th>single</th>\n",
       "    </tr>\n",
       "    <tr>\n",
       "      <th>education</th>\n",
       "      <th></th>\n",
       "      <th></th>\n",
       "      <th></th>\n",
       "    </tr>\n",
       "  </thead>\n",
       "  <tbody>\n",
       "    <tr>\n",
       "      <th>primary</th>\n",
       "      <td>51.494681</td>\n",
       "      <td>46.550705</td>\n",
       "      <td>36.689332</td>\n",
       "    </tr>\n",
       "    <tr>\n",
       "      <th>secondary</th>\n",
       "      <td>44.230906</td>\n",
       "      <td>42.363108</td>\n",
       "      <td>33.157171</td>\n",
       "    </tr>\n",
       "    <tr>\n",
       "      <th>tertiary</th>\n",
       "      <td>45.429640</td>\n",
       "      <td>42.306053</td>\n",
       "      <td>33.818447</td>\n",
       "    </tr>\n",
       "    <tr>\n",
       "      <th>unknown</th>\n",
       "      <td>49.295858</td>\n",
       "      <td>48.287069</td>\n",
       "      <td>34.681818</td>\n",
       "    </tr>\n",
       "  </tbody>\n",
       "</table>\n",
       "</div>"
      ],
      "text/plain": [
       "marital     divorced    married     single\n",
       "education                                 \n",
       "primary    51.494681  46.550705  36.689332\n",
       "secondary  44.230906  42.363108  33.157171\n",
       "tertiary   45.429640  42.306053  33.818447\n",
       "unknown    49.295858  48.287069  34.681818"
      ]
     },
     "execution_count": 32,
     "metadata": {},
     "output_type": "execute_result"
    }
   ],
   "source": [
    "df_bank.pivot_table(\n",
    "    index = 'education',\n",
    "    columns = 'marital',\n",
    "    values = 'age',\n",
    "    aggfunc = 'mean'\n",
    ")"
   ]
  },
  {
   "cell_type": "markdown",
   "id": "3e825ac2",
   "metadata": {},
   "source": [
    "只有行，没有列的数据透视表"
   ]
  },
  {
   "cell_type": "code",
   "execution_count": 33,
   "id": "e96dfdec",
   "metadata": {},
   "outputs": [
    {
     "data": {
      "text/html": [
       "<div>\n",
       "<style scoped>\n",
       "    .dataframe tbody tr th:only-of-type {\n",
       "        vertical-align: middle;\n",
       "    }\n",
       "\n",
       "    .dataframe tbody tr th {\n",
       "        vertical-align: top;\n",
       "    }\n",
       "\n",
       "    .dataframe thead th {\n",
       "        text-align: right;\n",
       "    }\n",
       "</style>\n",
       "<table border=\"1\" class=\"dataframe\">\n",
       "  <thead>\n",
       "    <tr style=\"text-align: right;\">\n",
       "      <th></th>\n",
       "      <th></th>\n",
       "      <th>age</th>\n",
       "    </tr>\n",
       "    <tr>\n",
       "      <th>job</th>\n",
       "      <th>y</th>\n",
       "      <th></th>\n",
       "    </tr>\n",
       "  </thead>\n",
       "  <tbody>\n",
       "    <tr>\n",
       "      <th rowspan=\"2\" valign=\"top\">admin.</th>\n",
       "      <th>no</th>\n",
       "      <td>4540</td>\n",
       "    </tr>\n",
       "    <tr>\n",
       "      <th>yes</th>\n",
       "      <td>631</td>\n",
       "    </tr>\n",
       "    <tr>\n",
       "      <th rowspan=\"2\" valign=\"top\">blue-collar</th>\n",
       "      <th>no</th>\n",
       "      <td>9024</td>\n",
       "    </tr>\n",
       "    <tr>\n",
       "      <th>yes</th>\n",
       "      <td>708</td>\n",
       "    </tr>\n",
       "    <tr>\n",
       "      <th rowspan=\"2\" valign=\"top\">entrepreneur</th>\n",
       "      <th>no</th>\n",
       "      <td>1364</td>\n",
       "    </tr>\n",
       "    <tr>\n",
       "      <th>yes</th>\n",
       "      <td>123</td>\n",
       "    </tr>\n",
       "    <tr>\n",
       "      <th rowspan=\"2\" valign=\"top\">housemaid</th>\n",
       "      <th>no</th>\n",
       "      <td>1131</td>\n",
       "    </tr>\n",
       "    <tr>\n",
       "      <th>yes</th>\n",
       "      <td>109</td>\n",
       "    </tr>\n",
       "    <tr>\n",
       "      <th rowspan=\"2\" valign=\"top\">management</th>\n",
       "      <th>no</th>\n",
       "      <td>8157</td>\n",
       "    </tr>\n",
       "    <tr>\n",
       "      <th>yes</th>\n",
       "      <td>1301</td>\n",
       "    </tr>\n",
       "    <tr>\n",
       "      <th rowspan=\"2\" valign=\"top\">retired</th>\n",
       "      <th>no</th>\n",
       "      <td>1748</td>\n",
       "    </tr>\n",
       "    <tr>\n",
       "      <th>yes</th>\n",
       "      <td>516</td>\n",
       "    </tr>\n",
       "    <tr>\n",
       "      <th rowspan=\"2\" valign=\"top\">self-employed</th>\n",
       "      <th>no</th>\n",
       "      <td>1392</td>\n",
       "    </tr>\n",
       "    <tr>\n",
       "      <th>yes</th>\n",
       "      <td>187</td>\n",
       "    </tr>\n",
       "    <tr>\n",
       "      <th rowspan=\"2\" valign=\"top\">services</th>\n",
       "      <th>no</th>\n",
       "      <td>3785</td>\n",
       "    </tr>\n",
       "    <tr>\n",
       "      <th>yes</th>\n",
       "      <td>369</td>\n",
       "    </tr>\n",
       "    <tr>\n",
       "      <th rowspan=\"2\" valign=\"top\">student</th>\n",
       "      <th>no</th>\n",
       "      <td>669</td>\n",
       "    </tr>\n",
       "    <tr>\n",
       "      <th>yes</th>\n",
       "      <td>269</td>\n",
       "    </tr>\n",
       "    <tr>\n",
       "      <th rowspan=\"2\" valign=\"top\">technician</th>\n",
       "      <th>no</th>\n",
       "      <td>6757</td>\n",
       "    </tr>\n",
       "    <tr>\n",
       "      <th>yes</th>\n",
       "      <td>840</td>\n",
       "    </tr>\n",
       "    <tr>\n",
       "      <th rowspan=\"2\" valign=\"top\">unemployed</th>\n",
       "      <th>no</th>\n",
       "      <td>1101</td>\n",
       "    </tr>\n",
       "    <tr>\n",
       "      <th>yes</th>\n",
       "      <td>202</td>\n",
       "    </tr>\n",
       "    <tr>\n",
       "      <th rowspan=\"2\" valign=\"top\">unknown</th>\n",
       "      <th>no</th>\n",
       "      <td>254</td>\n",
       "    </tr>\n",
       "    <tr>\n",
       "      <th>yes</th>\n",
       "      <td>34</td>\n",
       "    </tr>\n",
       "  </tbody>\n",
       "</table>\n",
       "</div>"
      ],
      "text/plain": [
       "                    age\n",
       "job           y        \n",
       "admin.        no   4540\n",
       "              yes   631\n",
       "blue-collar   no   9024\n",
       "              yes   708\n",
       "entrepreneur  no   1364\n",
       "              yes   123\n",
       "housemaid     no   1131\n",
       "              yes   109\n",
       "management    no   8157\n",
       "              yes  1301\n",
       "retired       no   1748\n",
       "              yes   516\n",
       "self-employed no   1392\n",
       "              yes   187\n",
       "services      no   3785\n",
       "              yes   369\n",
       "student       no    669\n",
       "              yes   269\n",
       "technician    no   6757\n",
       "              yes   840\n",
       "unemployed    no   1101\n",
       "              yes   202\n",
       "unknown       no    254\n",
       "              yes    34"
      ]
     },
     "execution_count": 33,
     "metadata": {},
     "output_type": "execute_result"
    }
   ],
   "source": [
    "df_bank.pivot_table(\n",
    "    index = ['job','y'],\n",
    "    values = 'age',\n",
    "    aggfunc = 'count'\n",
    ")"
   ]
  },
  {
   "cell_type": "markdown",
   "id": "4e4d5163",
   "metadata": {},
   "source": [
    "更复杂的数据透视表  \n",
    "不同学历，不同婚姻状况的人群，其人数和平均年龄"
   ]
  },
  {
   "cell_type": "code",
   "execution_count": 34,
   "id": "dea63b24",
   "metadata": {
    "collapsed": true
   },
   "outputs": [
    {
     "data": {
      "text/html": [
       "<div>\n",
       "<style scoped>\n",
       "    .dataframe tbody tr th:only-of-type {\n",
       "        vertical-align: middle;\n",
       "    }\n",
       "\n",
       "    .dataframe tbody tr th {\n",
       "        vertical-align: top;\n",
       "    }\n",
       "\n",
       "    .dataframe thead tr th {\n",
       "        text-align: left;\n",
       "    }\n",
       "\n",
       "    .dataframe thead tr:last-of-type th {\n",
       "        text-align: right;\n",
       "    }\n",
       "</style>\n",
       "<table border=\"1\" class=\"dataframe\">\n",
       "  <thead>\n",
       "    <tr>\n",
       "      <th></th>\n",
       "      <th colspan=\"3\" halign=\"left\">count</th>\n",
       "      <th colspan=\"3\" halign=\"left\">mean</th>\n",
       "    </tr>\n",
       "    <tr>\n",
       "      <th>marital</th>\n",
       "      <th>divorced</th>\n",
       "      <th>married</th>\n",
       "      <th>single</th>\n",
       "      <th>divorced</th>\n",
       "      <th>married</th>\n",
       "      <th>single</th>\n",
       "    </tr>\n",
       "    <tr>\n",
       "      <th>education</th>\n",
       "      <th></th>\n",
       "      <th></th>\n",
       "      <th></th>\n",
       "      <th></th>\n",
       "      <th></th>\n",
       "      <th></th>\n",
       "    </tr>\n",
       "  </thead>\n",
       "  <tbody>\n",
       "    <tr>\n",
       "      <th>primary</th>\n",
       "      <td>752</td>\n",
       "      <td>5246</td>\n",
       "      <td>853</td>\n",
       "      <td>51.494681</td>\n",
       "      <td>46.550705</td>\n",
       "      <td>36.689332</td>\n",
       "    </tr>\n",
       "    <tr>\n",
       "      <th>secondary</th>\n",
       "      <td>2815</td>\n",
       "      <td>13770</td>\n",
       "      <td>6617</td>\n",
       "      <td>44.230906</td>\n",
       "      <td>42.363108</td>\n",
       "      <td>33.157171</td>\n",
       "    </tr>\n",
       "    <tr>\n",
       "      <th>tertiary</th>\n",
       "      <td>1471</td>\n",
       "      <td>7038</td>\n",
       "      <td>4792</td>\n",
       "      <td>45.429640</td>\n",
       "      <td>42.306053</td>\n",
       "      <td>33.818447</td>\n",
       "    </tr>\n",
       "    <tr>\n",
       "      <th>unknown</th>\n",
       "      <td>169</td>\n",
       "      <td>1160</td>\n",
       "      <td>528</td>\n",
       "      <td>49.295858</td>\n",
       "      <td>48.287069</td>\n",
       "      <td>34.681818</td>\n",
       "    </tr>\n",
       "  </tbody>\n",
       "</table>\n",
       "</div>"
      ],
      "text/plain": [
       "             count                      mean                      \n",
       "marital   divorced married single   divorced    married     single\n",
       "education                                                         \n",
       "primary        752    5246    853  51.494681  46.550705  36.689332\n",
       "secondary     2815   13770   6617  44.230906  42.363108  33.157171\n",
       "tertiary      1471    7038   4792  45.429640  42.306053  33.818447\n",
       "unknown        169    1160    528  49.295858  48.287069  34.681818"
      ]
     },
     "execution_count": 34,
     "metadata": {},
     "output_type": "execute_result"
    }
   ],
   "source": [
    "df_bank.pivot_table(\n",
    "    index = 'education',\n",
    "    columns = 'marital',\n",
    "    values = 'age',\n",
    "    aggfunc = ['count', 'mean']\n",
    ")\n",
    "# 将aggfunc设置为列表，可以进行不同的聚合操作"
   ]
  },
  {
   "cell_type": "markdown",
   "id": "3d6ad16c",
   "metadata": {},
   "source": [
    "不同学历，不同婚姻状况的人群，其平均年龄和最长通话时间是多少？"
   ]
  },
  {
   "cell_type": "code",
   "execution_count": 35,
   "id": "a68092d7",
   "metadata": {
    "collapsed": true
   },
   "outputs": [
    {
     "data": {
      "text/html": [
       "<div>\n",
       "<style scoped>\n",
       "    .dataframe tbody tr th:only-of-type {\n",
       "        vertical-align: middle;\n",
       "    }\n",
       "\n",
       "    .dataframe tbody tr th {\n",
       "        vertical-align: top;\n",
       "    }\n",
       "\n",
       "    .dataframe thead th {\n",
       "        text-align: right;\n",
       "    }\n",
       "</style>\n",
       "<table border=\"1\" class=\"dataframe\">\n",
       "  <thead>\n",
       "    <tr style=\"text-align: right;\">\n",
       "      <th></th>\n",
       "      <th>age</th>\n",
       "      <th>job</th>\n",
       "      <th>marital</th>\n",
       "      <th>education</th>\n",
       "      <th>default</th>\n",
       "      <th>balance</th>\n",
       "      <th>housing</th>\n",
       "      <th>loan</th>\n",
       "      <th>contact</th>\n",
       "      <th>day</th>\n",
       "      <th>month</th>\n",
       "      <th>duration</th>\n",
       "      <th>campaign</th>\n",
       "      <th>pdays</th>\n",
       "      <th>previous</th>\n",
       "      <th>poutcome</th>\n",
       "      <th>y</th>\n",
       "    </tr>\n",
       "  </thead>\n",
       "  <tbody>\n",
       "    <tr>\n",
       "      <th>0</th>\n",
       "      <td>58</td>\n",
       "      <td>management</td>\n",
       "      <td>married</td>\n",
       "      <td>tertiary</td>\n",
       "      <td>no</td>\n",
       "      <td>2143</td>\n",
       "      <td>yes</td>\n",
       "      <td>no</td>\n",
       "      <td>unknown</td>\n",
       "      <td>5</td>\n",
       "      <td>may</td>\n",
       "      <td>261</td>\n",
       "      <td>1</td>\n",
       "      <td>-1</td>\n",
       "      <td>0</td>\n",
       "      <td>unknown</td>\n",
       "      <td>no</td>\n",
       "    </tr>\n",
       "    <tr>\n",
       "      <th>1</th>\n",
       "      <td>44</td>\n",
       "      <td>technician</td>\n",
       "      <td>single</td>\n",
       "      <td>secondary</td>\n",
       "      <td>no</td>\n",
       "      <td>29</td>\n",
       "      <td>yes</td>\n",
       "      <td>no</td>\n",
       "      <td>unknown</td>\n",
       "      <td>5</td>\n",
       "      <td>may</td>\n",
       "      <td>151</td>\n",
       "      <td>1</td>\n",
       "      <td>-1</td>\n",
       "      <td>0</td>\n",
       "      <td>unknown</td>\n",
       "      <td>no</td>\n",
       "    </tr>\n",
       "    <tr>\n",
       "      <th>2</th>\n",
       "      <td>33</td>\n",
       "      <td>entrepreneur</td>\n",
       "      <td>married</td>\n",
       "      <td>secondary</td>\n",
       "      <td>no</td>\n",
       "      <td>2</td>\n",
       "      <td>yes</td>\n",
       "      <td>yes</td>\n",
       "      <td>unknown</td>\n",
       "      <td>5</td>\n",
       "      <td>may</td>\n",
       "      <td>76</td>\n",
       "      <td>1</td>\n",
       "      <td>-1</td>\n",
       "      <td>0</td>\n",
       "      <td>unknown</td>\n",
       "      <td>no</td>\n",
       "    </tr>\n",
       "    <tr>\n",
       "      <th>3</th>\n",
       "      <td>47</td>\n",
       "      <td>blue-collar</td>\n",
       "      <td>married</td>\n",
       "      <td>unknown</td>\n",
       "      <td>no</td>\n",
       "      <td>1506</td>\n",
       "      <td>yes</td>\n",
       "      <td>no</td>\n",
       "      <td>unknown</td>\n",
       "      <td>5</td>\n",
       "      <td>may</td>\n",
       "      <td>92</td>\n",
       "      <td>1</td>\n",
       "      <td>-1</td>\n",
       "      <td>0</td>\n",
       "      <td>unknown</td>\n",
       "      <td>no</td>\n",
       "    </tr>\n",
       "    <tr>\n",
       "      <th>4</th>\n",
       "      <td>33</td>\n",
       "      <td>unknown</td>\n",
       "      <td>single</td>\n",
       "      <td>unknown</td>\n",
       "      <td>no</td>\n",
       "      <td>1</td>\n",
       "      <td>no</td>\n",
       "      <td>no</td>\n",
       "      <td>unknown</td>\n",
       "      <td>5</td>\n",
       "      <td>may</td>\n",
       "      <td>198</td>\n",
       "      <td>1</td>\n",
       "      <td>-1</td>\n",
       "      <td>0</td>\n",
       "      <td>unknown</td>\n",
       "      <td>no</td>\n",
       "    </tr>\n",
       "  </tbody>\n",
       "</table>\n",
       "</div>"
      ],
      "text/plain": [
       "   age           job  marital  education default  balance housing loan  \\\n",
       "0   58    management  married   tertiary      no     2143     yes   no   \n",
       "1   44    technician   single  secondary      no       29     yes   no   \n",
       "2   33  entrepreneur  married  secondary      no        2     yes  yes   \n",
       "3   47   blue-collar  married    unknown      no     1506     yes   no   \n",
       "4   33       unknown   single    unknown      no        1      no   no   \n",
       "\n",
       "   contact  day month  duration  campaign  pdays  previous poutcome   y  \n",
       "0  unknown    5   may       261         1     -1         0  unknown  no  \n",
       "1  unknown    5   may       151         1     -1         0  unknown  no  \n",
       "2  unknown    5   may        76         1     -1         0  unknown  no  \n",
       "3  unknown    5   may        92         1     -1         0  unknown  no  \n",
       "4  unknown    5   may       198         1     -1         0  unknown  no  "
      ]
     },
     "execution_count": 35,
     "metadata": {},
     "output_type": "execute_result"
    }
   ],
   "source": [
    "df_bank.head()"
   ]
  },
  {
   "cell_type": "code",
   "execution_count": 36,
   "id": "96eeb20e",
   "metadata": {
    "collapsed": true
   },
   "outputs": [
    {
     "data": {
      "text/html": [
       "<div>\n",
       "<style scoped>\n",
       "    .dataframe tbody tr th:only-of-type {\n",
       "        vertical-align: middle;\n",
       "    }\n",
       "\n",
       "    .dataframe tbody tr th {\n",
       "        vertical-align: top;\n",
       "    }\n",
       "\n",
       "    .dataframe thead tr th {\n",
       "        text-align: left;\n",
       "    }\n",
       "\n",
       "    .dataframe thead tr:last-of-type th {\n",
       "        text-align: right;\n",
       "    }\n",
       "</style>\n",
       "<table border=\"1\" class=\"dataframe\">\n",
       "  <thead>\n",
       "    <tr>\n",
       "      <th></th>\n",
       "      <th colspan=\"6\" halign=\"left\">mean</th>\n",
       "      <th colspan=\"6\" halign=\"left\">max</th>\n",
       "    </tr>\n",
       "    <tr>\n",
       "      <th></th>\n",
       "      <th colspan=\"3\" halign=\"left\">age</th>\n",
       "      <th colspan=\"3\" halign=\"left\">duration</th>\n",
       "      <th colspan=\"3\" halign=\"left\">age</th>\n",
       "      <th colspan=\"3\" halign=\"left\">duration</th>\n",
       "    </tr>\n",
       "    <tr>\n",
       "      <th>marital</th>\n",
       "      <th>divorced</th>\n",
       "      <th>married</th>\n",
       "      <th>single</th>\n",
       "      <th>divorced</th>\n",
       "      <th>married</th>\n",
       "      <th>single</th>\n",
       "      <th>divorced</th>\n",
       "      <th>married</th>\n",
       "      <th>single</th>\n",
       "      <th>divorced</th>\n",
       "      <th>married</th>\n",
       "      <th>single</th>\n",
       "    </tr>\n",
       "    <tr>\n",
       "      <th>education</th>\n",
       "      <th></th>\n",
       "      <th></th>\n",
       "      <th></th>\n",
       "      <th></th>\n",
       "      <th></th>\n",
       "      <th></th>\n",
       "      <th></th>\n",
       "      <th></th>\n",
       "      <th></th>\n",
       "      <th></th>\n",
       "      <th></th>\n",
       "      <th></th>\n",
       "    </tr>\n",
       "  </thead>\n",
       "  <tbody>\n",
       "    <tr>\n",
       "      <th>primary</th>\n",
       "      <td>51.494681</td>\n",
       "      <td>46.550705</td>\n",
       "      <td>36.689332</td>\n",
       "      <td>273.042553</td>\n",
       "      <td>251.259055</td>\n",
       "      <td>269.594373</td>\n",
       "      <td>95</td>\n",
       "      <td>89</td>\n",
       "      <td>83</td>\n",
       "      <td>2456</td>\n",
       "      <td>3078</td>\n",
       "      <td>2653</td>\n",
       "    </tr>\n",
       "    <tr>\n",
       "      <th>secondary</th>\n",
       "      <td>44.230906</td>\n",
       "      <td>42.363108</td>\n",
       "      <td>33.157171</td>\n",
       "      <td>257.512256</td>\n",
       "      <td>255.101670</td>\n",
       "      <td>266.643494</td>\n",
       "      <td>94</td>\n",
       "      <td>95</td>\n",
       "      <td>86</td>\n",
       "      <td>3094</td>\n",
       "      <td>3881</td>\n",
       "      <td>3785</td>\n",
       "    </tr>\n",
       "    <tr>\n",
       "      <th>tertiary</th>\n",
       "      <td>45.429640</td>\n",
       "      <td>42.306053</td>\n",
       "      <td>33.818447</td>\n",
       "      <td>263.249490</td>\n",
       "      <td>252.082836</td>\n",
       "      <td>266.518364</td>\n",
       "      <td>82</td>\n",
       "      <td>89</td>\n",
       "      <td>72</td>\n",
       "      <td>2087</td>\n",
       "      <td>4918</td>\n",
       "      <td>3253</td>\n",
       "    </tr>\n",
       "    <tr>\n",
       "      <th>unknown</th>\n",
       "      <td>49.295858</td>\n",
       "      <td>48.287069</td>\n",
       "      <td>34.681818</td>\n",
       "      <td>292.674556</td>\n",
       "      <td>251.173276</td>\n",
       "      <td>259.486742</td>\n",
       "      <td>86</td>\n",
       "      <td>93</td>\n",
       "      <td>72</td>\n",
       "      <td>1563</td>\n",
       "      <td>1812</td>\n",
       "      <td>2429</td>\n",
       "    </tr>\n",
       "  </tbody>\n",
       "</table>\n",
       "</div>"
      ],
      "text/plain": [
       "                mean                                                \\\n",
       "                 age                          duration               \n",
       "marital     divorced    married     single    divorced     married   \n",
       "education                                                            \n",
       "primary    51.494681  46.550705  36.689332  273.042553  251.259055   \n",
       "secondary  44.230906  42.363108  33.157171  257.512256  255.101670   \n",
       "tertiary   45.429640  42.306053  33.818447  263.249490  252.082836   \n",
       "unknown    49.295858  48.287069  34.681818  292.674556  251.173276   \n",
       "\n",
       "                           max                                         \n",
       "                           age                duration                 \n",
       "marital        single divorced married single divorced married single  \n",
       "education                                                              \n",
       "primary    269.594373       95      89     83     2456    3078   2653  \n",
       "secondary  266.643494       94      95     86     3094    3881   3785  \n",
       "tertiary   266.518364       82      89     72     2087    4918   3253  \n",
       "unknown    259.486742       86      93     72     1563    1812   2429  "
      ]
     },
     "execution_count": 36,
     "metadata": {},
     "output_type": "execute_result"
    }
   ],
   "source": [
    "df_bank.pivot_table(\n",
    "    index = 'education',\n",
    "    columns = 'marital',\n",
    "    values = ['age','duration'],\n",
    "    aggfunc = ['mean', 'max']\n",
    ")\n",
    "# 如果aggfunc是列表，则将列表中的每个运算均匀分配到每个values内容上"
   ]
  },
  {
   "cell_type": "code",
   "execution_count": 37,
   "id": "97e30015",
   "metadata": {
    "collapsed": true
   },
   "outputs": [
    {
     "data": {
      "text/html": [
       "<div>\n",
       "<style scoped>\n",
       "    .dataframe tbody tr th:only-of-type {\n",
       "        vertical-align: middle;\n",
       "    }\n",
       "\n",
       "    .dataframe tbody tr th {\n",
       "        vertical-align: top;\n",
       "    }\n",
       "\n",
       "    .dataframe thead tr th {\n",
       "        text-align: left;\n",
       "    }\n",
       "\n",
       "    .dataframe thead tr:last-of-type th {\n",
       "        text-align: right;\n",
       "    }\n",
       "</style>\n",
       "<table border=\"1\" class=\"dataframe\">\n",
       "  <thead>\n",
       "    <tr>\n",
       "      <th></th>\n",
       "      <th colspan=\"3\" halign=\"left\">age</th>\n",
       "      <th colspan=\"9\" halign=\"left\">duration</th>\n",
       "    </tr>\n",
       "    <tr>\n",
       "      <th></th>\n",
       "      <th colspan=\"3\" halign=\"left\">mean</th>\n",
       "      <th colspan=\"3\" halign=\"left\">count</th>\n",
       "      <th colspan=\"3\" halign=\"left\">max</th>\n",
       "      <th colspan=\"3\" halign=\"left\">min</th>\n",
       "    </tr>\n",
       "    <tr>\n",
       "      <th>marital</th>\n",
       "      <th>divorced</th>\n",
       "      <th>married</th>\n",
       "      <th>single</th>\n",
       "      <th>divorced</th>\n",
       "      <th>married</th>\n",
       "      <th>single</th>\n",
       "      <th>divorced</th>\n",
       "      <th>married</th>\n",
       "      <th>single</th>\n",
       "      <th>divorced</th>\n",
       "      <th>married</th>\n",
       "      <th>single</th>\n",
       "    </tr>\n",
       "    <tr>\n",
       "      <th>education</th>\n",
       "      <th></th>\n",
       "      <th></th>\n",
       "      <th></th>\n",
       "      <th></th>\n",
       "      <th></th>\n",
       "      <th></th>\n",
       "      <th></th>\n",
       "      <th></th>\n",
       "      <th></th>\n",
       "      <th></th>\n",
       "      <th></th>\n",
       "      <th></th>\n",
       "    </tr>\n",
       "  </thead>\n",
       "  <tbody>\n",
       "    <tr>\n",
       "      <th>primary</th>\n",
       "      <td>51.494681</td>\n",
       "      <td>46.550705</td>\n",
       "      <td>36.689332</td>\n",
       "      <td>752</td>\n",
       "      <td>5246</td>\n",
       "      <td>853</td>\n",
       "      <td>2456</td>\n",
       "      <td>3078</td>\n",
       "      <td>2653</td>\n",
       "      <td>7</td>\n",
       "      <td>0</td>\n",
       "      <td>4</td>\n",
       "    </tr>\n",
       "    <tr>\n",
       "      <th>secondary</th>\n",
       "      <td>44.230906</td>\n",
       "      <td>42.363108</td>\n",
       "      <td>33.157171</td>\n",
       "      <td>2815</td>\n",
       "      <td>13770</td>\n",
       "      <td>6617</td>\n",
       "      <td>3094</td>\n",
       "      <td>3881</td>\n",
       "      <td>3785</td>\n",
       "      <td>1</td>\n",
       "      <td>0</td>\n",
       "      <td>4</td>\n",
       "    </tr>\n",
       "    <tr>\n",
       "      <th>tertiary</th>\n",
       "      <td>45.429640</td>\n",
       "      <td>42.306053</td>\n",
       "      <td>33.818447</td>\n",
       "      <td>1471</td>\n",
       "      <td>7038</td>\n",
       "      <td>4792</td>\n",
       "      <td>2087</td>\n",
       "      <td>4918</td>\n",
       "      <td>3253</td>\n",
       "      <td>4</td>\n",
       "      <td>4</td>\n",
       "      <td>2</td>\n",
       "    </tr>\n",
       "    <tr>\n",
       "      <th>unknown</th>\n",
       "      <td>49.295858</td>\n",
       "      <td>48.287069</td>\n",
       "      <td>34.681818</td>\n",
       "      <td>169</td>\n",
       "      <td>1160</td>\n",
       "      <td>528</td>\n",
       "      <td>1563</td>\n",
       "      <td>1812</td>\n",
       "      <td>2429</td>\n",
       "      <td>4</td>\n",
       "      <td>7</td>\n",
       "      <td>4</td>\n",
       "    </tr>\n",
       "  </tbody>\n",
       "</table>\n",
       "</div>"
      ],
      "text/plain": [
       "                 age                       duration                          \\\n",
       "                mean                          count                     max   \n",
       "marital     divorced    married     single divorced married single divorced   \n",
       "education                                                                     \n",
       "primary    51.494681  46.550705  36.689332      752    5246    853     2456   \n",
       "secondary  44.230906  42.363108  33.157171     2815   13770   6617     3094   \n",
       "tertiary   45.429640  42.306053  33.818447     1471    7038   4792     2087   \n",
       "unknown    49.295858  48.287069  34.681818      169    1160    528     1563   \n",
       "\n",
       "                                                  \n",
       "                              min                 \n",
       "marital   married single divorced married single  \n",
       "education                                         \n",
       "primary      3078   2653        7       0      4  \n",
       "secondary    3881   3785        1       0      4  \n",
       "tertiary     4918   3253        4       4      2  \n",
       "unknown      1812   2429        4       7      4  "
      ]
     },
     "execution_count": 37,
     "metadata": {},
     "output_type": "execute_result"
    }
   ],
   "source": [
    "df_bank.pivot_table(\n",
    "    index = 'education',\n",
    "    columns = 'marital',\n",
    "    values = ['age','duration'],\n",
    "    # aggfunc = ['mean', 'max']\n",
    "    aggfunc = {'age':'mean', 'duration':['max', 'min', 'count']}\n",
    ")\n",
    "# 如果aggfunc是字典，则可以针对不同的值进行不同的计算"
   ]
  },
  {
   "cell_type": "markdown",
   "id": "d79a9d45",
   "metadata": {},
   "source": [
    "# 2.从数据透视表到数据交叉表\n",
    "## 2.1 针对小费数据集进行分析"
   ]
  },
  {
   "cell_type": "code",
   "execution_count": 38,
   "id": "87cba749",
   "metadata": {},
   "outputs": [],
   "source": [
    "# 载入数据\n",
    "tips = pd.read_csv('data/tips.csv')"
   ]
  },
  {
   "cell_type": "code",
   "execution_count": 39,
   "id": "4115e88c",
   "metadata": {
    "collapsed": true
   },
   "outputs": [
    {
     "data": {
      "text/html": [
       "<div>\n",
       "<style scoped>\n",
       "    .dataframe tbody tr th:only-of-type {\n",
       "        vertical-align: middle;\n",
       "    }\n",
       "\n",
       "    .dataframe tbody tr th {\n",
       "        vertical-align: top;\n",
       "    }\n",
       "\n",
       "    .dataframe thead th {\n",
       "        text-align: right;\n",
       "    }\n",
       "</style>\n",
       "<table border=\"1\" class=\"dataframe\">\n",
       "  <thead>\n",
       "    <tr style=\"text-align: right;\">\n",
       "      <th></th>\n",
       "      <th>Unnamed: 0</th>\n",
       "      <th>total_bill</th>\n",
       "      <th>tip</th>\n",
       "      <th>sex</th>\n",
       "      <th>smoker</th>\n",
       "      <th>day</th>\n",
       "      <th>time</th>\n",
       "      <th>size</th>\n",
       "    </tr>\n",
       "  </thead>\n",
       "  <tbody>\n",
       "    <tr>\n",
       "      <th>0</th>\n",
       "      <td>0</td>\n",
       "      <td>16.99</td>\n",
       "      <td>1.01</td>\n",
       "      <td>Female</td>\n",
       "      <td>No</td>\n",
       "      <td>Sun</td>\n",
       "      <td>Dinner</td>\n",
       "      <td>2</td>\n",
       "    </tr>\n",
       "    <tr>\n",
       "      <th>1</th>\n",
       "      <td>1</td>\n",
       "      <td>10.34</td>\n",
       "      <td>1.66</td>\n",
       "      <td>Male</td>\n",
       "      <td>No</td>\n",
       "      <td>Sun</td>\n",
       "      <td>Dinner</td>\n",
       "      <td>3</td>\n",
       "    </tr>\n",
       "    <tr>\n",
       "      <th>2</th>\n",
       "      <td>2</td>\n",
       "      <td>21.01</td>\n",
       "      <td>3.50</td>\n",
       "      <td>Male</td>\n",
       "      <td>No</td>\n",
       "      <td>Sun</td>\n",
       "      <td>Dinner</td>\n",
       "      <td>3</td>\n",
       "    </tr>\n",
       "    <tr>\n",
       "      <th>3</th>\n",
       "      <td>3</td>\n",
       "      <td>23.68</td>\n",
       "      <td>3.31</td>\n",
       "      <td>Male</td>\n",
       "      <td>No</td>\n",
       "      <td>Sun</td>\n",
       "      <td>Dinner</td>\n",
       "      <td>2</td>\n",
       "    </tr>\n",
       "    <tr>\n",
       "      <th>4</th>\n",
       "      <td>4</td>\n",
       "      <td>24.59</td>\n",
       "      <td>3.61</td>\n",
       "      <td>Female</td>\n",
       "      <td>No</td>\n",
       "      <td>Sun</td>\n",
       "      <td>Dinner</td>\n",
       "      <td>4</td>\n",
       "    </tr>\n",
       "  </tbody>\n",
       "</table>\n",
       "</div>"
      ],
      "text/plain": [
       "   Unnamed: 0  total_bill   tip     sex smoker  day    time  size\n",
       "0           0       16.99  1.01  Female     No  Sun  Dinner     2\n",
       "1           1       10.34  1.66    Male     No  Sun  Dinner     3\n",
       "2           2       21.01  3.50    Male     No  Sun  Dinner     3\n",
       "3           3       23.68  3.31    Male     No  Sun  Dinner     2\n",
       "4           4       24.59  3.61  Female     No  Sun  Dinner     4"
      ]
     },
     "execution_count": 39,
     "metadata": {},
     "output_type": "execute_result"
    }
   ],
   "source": [
    "tips.head()"
   ]
  },
  {
   "cell_type": "code",
   "execution_count": 40,
   "id": "c56cb3ef",
   "metadata": {},
   "outputs": [],
   "source": [
    "tips.drop('Unnamed: 0', axis = 1, inplace = True)"
   ]
  },
  {
   "cell_type": "code",
   "execution_count": 41,
   "id": "524c5672",
   "metadata": {
    "collapsed": true
   },
   "outputs": [
    {
     "name": "stdout",
     "output_type": "stream",
     "text": [
      "<class 'pandas.core.frame.DataFrame'>\n",
      "RangeIndex: 244 entries, 0 to 243\n",
      "Data columns (total 7 columns):\n",
      " #   Column      Non-Null Count  Dtype  \n",
      "---  ------      --------------  -----  \n",
      " 0   total_bill  244 non-null    float64\n",
      " 1   tip         244 non-null    float64\n",
      " 2   sex         244 non-null    object \n",
      " 3   smoker      244 non-null    object \n",
      " 4   day         244 non-null    object \n",
      " 5   time        244 non-null    object \n",
      " 6   size        244 non-null    int64  \n",
      "dtypes: float64(2), int64(1), object(4)\n",
      "memory usage: 13.5+ KB\n"
     ]
    }
   ],
   "source": [
    "tips.info()"
   ]
  },
  {
   "cell_type": "markdown",
   "id": "372d270a",
   "metadata": {},
   "source": [
    "研究给小费最慷慨的前5桌顾客"
   ]
  },
  {
   "cell_type": "code",
   "execution_count": 42,
   "id": "c7032245",
   "metadata": {
    "collapsed": true
   },
   "outputs": [
    {
     "data": {
      "text/html": [
       "<div>\n",
       "<style scoped>\n",
       "    .dataframe tbody tr th:only-of-type {\n",
       "        vertical-align: middle;\n",
       "    }\n",
       "\n",
       "    .dataframe tbody tr th {\n",
       "        vertical-align: top;\n",
       "    }\n",
       "\n",
       "    .dataframe thead th {\n",
       "        text-align: right;\n",
       "    }\n",
       "</style>\n",
       "<table border=\"1\" class=\"dataframe\">\n",
       "  <thead>\n",
       "    <tr style=\"text-align: right;\">\n",
       "      <th></th>\n",
       "      <th>total_bill</th>\n",
       "      <th>tip</th>\n",
       "      <th>sex</th>\n",
       "      <th>smoker</th>\n",
       "      <th>day</th>\n",
       "      <th>time</th>\n",
       "      <th>size</th>\n",
       "    </tr>\n",
       "  </thead>\n",
       "  <tbody>\n",
       "    <tr>\n",
       "      <th>170</th>\n",
       "      <td>50.81</td>\n",
       "      <td>10.00</td>\n",
       "      <td>Male</td>\n",
       "      <td>Yes</td>\n",
       "      <td>Sat</td>\n",
       "      <td>Dinner</td>\n",
       "      <td>3</td>\n",
       "    </tr>\n",
       "    <tr>\n",
       "      <th>212</th>\n",
       "      <td>48.33</td>\n",
       "      <td>9.00</td>\n",
       "      <td>Male</td>\n",
       "      <td>No</td>\n",
       "      <td>Sat</td>\n",
       "      <td>Dinner</td>\n",
       "      <td>4</td>\n",
       "    </tr>\n",
       "    <tr>\n",
       "      <th>23</th>\n",
       "      <td>39.42</td>\n",
       "      <td>7.58</td>\n",
       "      <td>Male</td>\n",
       "      <td>No</td>\n",
       "      <td>Sat</td>\n",
       "      <td>Dinner</td>\n",
       "      <td>4</td>\n",
       "    </tr>\n",
       "    <tr>\n",
       "      <th>59</th>\n",
       "      <td>48.27</td>\n",
       "      <td>6.73</td>\n",
       "      <td>Male</td>\n",
       "      <td>No</td>\n",
       "      <td>Sat</td>\n",
       "      <td>Dinner</td>\n",
       "      <td>4</td>\n",
       "    </tr>\n",
       "    <tr>\n",
       "      <th>141</th>\n",
       "      <td>34.30</td>\n",
       "      <td>6.70</td>\n",
       "      <td>Male</td>\n",
       "      <td>No</td>\n",
       "      <td>Thur</td>\n",
       "      <td>Lunch</td>\n",
       "      <td>6</td>\n",
       "    </tr>\n",
       "  </tbody>\n",
       "</table>\n",
       "</div>"
      ],
      "text/plain": [
       "     total_bill    tip   sex smoker   day    time  size\n",
       "170       50.81  10.00  Male    Yes   Sat  Dinner     3\n",
       "212       48.33   9.00  Male     No   Sat  Dinner     4\n",
       "23        39.42   7.58  Male     No   Sat  Dinner     4\n",
       "59        48.27   6.73  Male     No   Sat  Dinner     4\n",
       "141       34.30   6.70  Male     No  Thur   Lunch     6"
      ]
     },
     "execution_count": 42,
     "metadata": {},
     "output_type": "execute_result"
    }
   ],
   "source": [
    "# 先排序，再提取\n",
    "tips.sort_values(by = 'tip', ascending = False).head(5)"
   ]
  },
  {
   "cell_type": "markdown",
   "id": "11973707",
   "metadata": {},
   "source": [
    "标准化：在tip后面插入一列，存储小费占总金额的百分比"
   ]
  },
  {
   "cell_type": "code",
   "execution_count": 43,
   "id": "f92256af",
   "metadata": {},
   "outputs": [],
   "source": [
    "tips.insert(2, 'tip_percent', tips.tip / tips.total_bill)"
   ]
  },
  {
   "cell_type": "code",
   "execution_count": 44,
   "id": "748deeb7",
   "metadata": {},
   "outputs": [
    {
     "data": {
      "text/html": [
       "<div>\n",
       "<style scoped>\n",
       "    .dataframe tbody tr th:only-of-type {\n",
       "        vertical-align: middle;\n",
       "    }\n",
       "\n",
       "    .dataframe tbody tr th {\n",
       "        vertical-align: top;\n",
       "    }\n",
       "\n",
       "    .dataframe thead th {\n",
       "        text-align: right;\n",
       "    }\n",
       "</style>\n",
       "<table border=\"1\" class=\"dataframe\">\n",
       "  <thead>\n",
       "    <tr style=\"text-align: right;\">\n",
       "      <th></th>\n",
       "      <th>total_bill</th>\n",
       "      <th>tip</th>\n",
       "      <th>tip_percent</th>\n",
       "      <th>sex</th>\n",
       "      <th>smoker</th>\n",
       "      <th>day</th>\n",
       "      <th>time</th>\n",
       "      <th>size</th>\n",
       "    </tr>\n",
       "  </thead>\n",
       "  <tbody>\n",
       "    <tr>\n",
       "      <th>0</th>\n",
       "      <td>16.99</td>\n",
       "      <td>1.01</td>\n",
       "      <td>0.059447</td>\n",
       "      <td>Female</td>\n",
       "      <td>No</td>\n",
       "      <td>Sun</td>\n",
       "      <td>Dinner</td>\n",
       "      <td>2</td>\n",
       "    </tr>\n",
       "    <tr>\n",
       "      <th>1</th>\n",
       "      <td>10.34</td>\n",
       "      <td>1.66</td>\n",
       "      <td>0.160542</td>\n",
       "      <td>Male</td>\n",
       "      <td>No</td>\n",
       "      <td>Sun</td>\n",
       "      <td>Dinner</td>\n",
       "      <td>3</td>\n",
       "    </tr>\n",
       "    <tr>\n",
       "      <th>2</th>\n",
       "      <td>21.01</td>\n",
       "      <td>3.50</td>\n",
       "      <td>0.166587</td>\n",
       "      <td>Male</td>\n",
       "      <td>No</td>\n",
       "      <td>Sun</td>\n",
       "      <td>Dinner</td>\n",
       "      <td>3</td>\n",
       "    </tr>\n",
       "    <tr>\n",
       "      <th>3</th>\n",
       "      <td>23.68</td>\n",
       "      <td>3.31</td>\n",
       "      <td>0.139780</td>\n",
       "      <td>Male</td>\n",
       "      <td>No</td>\n",
       "      <td>Sun</td>\n",
       "      <td>Dinner</td>\n",
       "      <td>2</td>\n",
       "    </tr>\n",
       "    <tr>\n",
       "      <th>4</th>\n",
       "      <td>24.59</td>\n",
       "      <td>3.61</td>\n",
       "      <td>0.146808</td>\n",
       "      <td>Female</td>\n",
       "      <td>No</td>\n",
       "      <td>Sun</td>\n",
       "      <td>Dinner</td>\n",
       "      <td>4</td>\n",
       "    </tr>\n",
       "  </tbody>\n",
       "</table>\n",
       "</div>"
      ],
      "text/plain": [
       "   total_bill   tip  tip_percent     sex smoker  day    time  size\n",
       "0       16.99  1.01     0.059447  Female     No  Sun  Dinner     2\n",
       "1       10.34  1.66     0.160542    Male     No  Sun  Dinner     3\n",
       "2       21.01  3.50     0.166587    Male     No  Sun  Dinner     3\n",
       "3       23.68  3.31     0.139780    Male     No  Sun  Dinner     2\n",
       "4       24.59  3.61     0.146808  Female     No  Sun  Dinner     4"
      ]
     },
     "execution_count": 44,
     "metadata": {},
     "output_type": "execute_result"
    }
   ],
   "source": [
    "tips.head()"
   ]
  },
  {
   "cell_type": "code",
   "execution_count": 45,
   "id": "5338859d",
   "metadata": {
    "collapsed": true
   },
   "outputs": [
    {
     "data": {
      "text/html": [
       "<div>\n",
       "<style scoped>\n",
       "    .dataframe tbody tr th:only-of-type {\n",
       "        vertical-align: middle;\n",
       "    }\n",
       "\n",
       "    .dataframe tbody tr th {\n",
       "        vertical-align: top;\n",
       "    }\n",
       "\n",
       "    .dataframe thead th {\n",
       "        text-align: right;\n",
       "    }\n",
       "</style>\n",
       "<table border=\"1\" class=\"dataframe\">\n",
       "  <thead>\n",
       "    <tr style=\"text-align: right;\">\n",
       "      <th></th>\n",
       "      <th>total_bill</th>\n",
       "      <th>tip</th>\n",
       "      <th>tip_percent</th>\n",
       "      <th>sex</th>\n",
       "      <th>smoker</th>\n",
       "      <th>day</th>\n",
       "      <th>time</th>\n",
       "      <th>size</th>\n",
       "    </tr>\n",
       "  </thead>\n",
       "  <tbody>\n",
       "    <tr>\n",
       "      <th>172</th>\n",
       "      <td>7.25</td>\n",
       "      <td>5.15</td>\n",
       "      <td>0.710345</td>\n",
       "      <td>Male</td>\n",
       "      <td>Yes</td>\n",
       "      <td>Sun</td>\n",
       "      <td>Dinner</td>\n",
       "      <td>2</td>\n",
       "    </tr>\n",
       "    <tr>\n",
       "      <th>178</th>\n",
       "      <td>9.60</td>\n",
       "      <td>4.00</td>\n",
       "      <td>0.416667</td>\n",
       "      <td>Female</td>\n",
       "      <td>Yes</td>\n",
       "      <td>Sun</td>\n",
       "      <td>Dinner</td>\n",
       "      <td>2</td>\n",
       "    </tr>\n",
       "    <tr>\n",
       "      <th>67</th>\n",
       "      <td>3.07</td>\n",
       "      <td>1.00</td>\n",
       "      <td>0.325733</td>\n",
       "      <td>Female</td>\n",
       "      <td>Yes</td>\n",
       "      <td>Sat</td>\n",
       "      <td>Dinner</td>\n",
       "      <td>1</td>\n",
       "    </tr>\n",
       "  </tbody>\n",
       "</table>\n",
       "</div>"
      ],
      "text/plain": [
       "     total_bill   tip  tip_percent     sex smoker  day    time  size\n",
       "172        7.25  5.15     0.710345    Male    Yes  Sun  Dinner     2\n",
       "178        9.60  4.00     0.416667  Female    Yes  Sun  Dinner     2\n",
       "67         3.07  1.00     0.325733  Female    Yes  Sat  Dinner     1"
      ]
     },
     "execution_count": 45,
     "metadata": {},
     "output_type": "execute_result"
    }
   ],
   "source": [
    "# 给小费最慷慨的前三桌顾客\n",
    "tips.sort_values(by = 'tip_percent' , ascending = False).head(3)"
   ]
  },
  {
   "cell_type": "markdown",
   "id": "977b0cb8",
   "metadata": {},
   "source": [
    "定义一个函数，可以返回按照指定的列进行降序排列后提取前n名的结果\n",
    "\n",
    "    将某个操作转换为函数：\n",
    "    重点是找出该操作中不变和变化的部分，不变的部分照抄（操作的代码），要变的部分转换成用参数进行处理（操作中涉及到的 对象）"
   ]
  },
  {
   "cell_type": "code",
   "execution_count": 46,
   "id": "43300af6",
   "metadata": {},
   "outputs": [],
   "source": [
    "def topn(df = tips, by = 'tip_percent', n = 3):\n",
    "    \"\"\"\n",
    "    函数说明：返回按照指定的列进行降序排列后提取前n名的结果\n",
    "    函数参数：\n",
    "        df : 用来进行排序的数据集，默认是tips\n",
    "        by : 用来进行排序的数据列，默认是tip_percent\n",
    "        n : 最终获取的前几名\n",
    "    \"\"\"\n",
    "    return df.sort_values(by = by, ascending = False).head(n)\n",
    "    # 前一个by是sort_values的参数，后一个by是topn的参数"
   ]
  },
  {
   "cell_type": "code",
   "execution_count": 47,
   "id": "b7d5ca1f",
   "metadata": {},
   "outputs": [
    {
     "data": {
      "text/html": [
       "<div>\n",
       "<style scoped>\n",
       "    .dataframe tbody tr th:only-of-type {\n",
       "        vertical-align: middle;\n",
       "    }\n",
       "\n",
       "    .dataframe tbody tr th {\n",
       "        vertical-align: top;\n",
       "    }\n",
       "\n",
       "    .dataframe thead th {\n",
       "        text-align: right;\n",
       "    }\n",
       "</style>\n",
       "<table border=\"1\" class=\"dataframe\">\n",
       "  <thead>\n",
       "    <tr style=\"text-align: right;\">\n",
       "      <th></th>\n",
       "      <th>total_bill</th>\n",
       "      <th>tip</th>\n",
       "      <th>tip_percent</th>\n",
       "      <th>sex</th>\n",
       "      <th>smoker</th>\n",
       "      <th>day</th>\n",
       "      <th>time</th>\n",
       "      <th>size</th>\n",
       "    </tr>\n",
       "  </thead>\n",
       "  <tbody>\n",
       "    <tr>\n",
       "      <th>172</th>\n",
       "      <td>7.25</td>\n",
       "      <td>5.15</td>\n",
       "      <td>0.710345</td>\n",
       "      <td>Male</td>\n",
       "      <td>Yes</td>\n",
       "      <td>Sun</td>\n",
       "      <td>Dinner</td>\n",
       "      <td>2</td>\n",
       "    </tr>\n",
       "    <tr>\n",
       "      <th>178</th>\n",
       "      <td>9.60</td>\n",
       "      <td>4.00</td>\n",
       "      <td>0.416667</td>\n",
       "      <td>Female</td>\n",
       "      <td>Yes</td>\n",
       "      <td>Sun</td>\n",
       "      <td>Dinner</td>\n",
       "      <td>2</td>\n",
       "    </tr>\n",
       "    <tr>\n",
       "      <th>67</th>\n",
       "      <td>3.07</td>\n",
       "      <td>1.00</td>\n",
       "      <td>0.325733</td>\n",
       "      <td>Female</td>\n",
       "      <td>Yes</td>\n",
       "      <td>Sat</td>\n",
       "      <td>Dinner</td>\n",
       "      <td>1</td>\n",
       "    </tr>\n",
       "  </tbody>\n",
       "</table>\n",
       "</div>"
      ],
      "text/plain": [
       "     total_bill   tip  tip_percent     sex smoker  day    time  size\n",
       "172        7.25  5.15     0.710345    Male    Yes  Sun  Dinner     2\n",
       "178        9.60  4.00     0.416667  Female    Yes  Sun  Dinner     2\n",
       "67         3.07  1.00     0.325733  Female    Yes  Sat  Dinner     1"
      ]
     },
     "execution_count": 47,
     "metadata": {},
     "output_type": "execute_result"
    }
   ],
   "source": [
    "topn()"
   ]
  },
  {
   "cell_type": "markdown",
   "id": "f6d45cad",
   "metadata": {},
   "source": [
    "总金额最高的前5桌顾客"
   ]
  },
  {
   "cell_type": "code",
   "execution_count": 48,
   "id": "205507c1",
   "metadata": {},
   "outputs": [
    {
     "data": {
      "text/html": [
       "<div>\n",
       "<style scoped>\n",
       "    .dataframe tbody tr th:only-of-type {\n",
       "        vertical-align: middle;\n",
       "    }\n",
       "\n",
       "    .dataframe tbody tr th {\n",
       "        vertical-align: top;\n",
       "    }\n",
       "\n",
       "    .dataframe thead th {\n",
       "        text-align: right;\n",
       "    }\n",
       "</style>\n",
       "<table border=\"1\" class=\"dataframe\">\n",
       "  <thead>\n",
       "    <tr style=\"text-align: right;\">\n",
       "      <th></th>\n",
       "      <th>total_bill</th>\n",
       "      <th>tip</th>\n",
       "      <th>tip_percent</th>\n",
       "      <th>sex</th>\n",
       "      <th>smoker</th>\n",
       "      <th>day</th>\n",
       "      <th>time</th>\n",
       "      <th>size</th>\n",
       "    </tr>\n",
       "  </thead>\n",
       "  <tbody>\n",
       "    <tr>\n",
       "      <th>170</th>\n",
       "      <td>50.81</td>\n",
       "      <td>10.00</td>\n",
       "      <td>0.196812</td>\n",
       "      <td>Male</td>\n",
       "      <td>Yes</td>\n",
       "      <td>Sat</td>\n",
       "      <td>Dinner</td>\n",
       "      <td>3</td>\n",
       "    </tr>\n",
       "    <tr>\n",
       "      <th>212</th>\n",
       "      <td>48.33</td>\n",
       "      <td>9.00</td>\n",
       "      <td>0.186220</td>\n",
       "      <td>Male</td>\n",
       "      <td>No</td>\n",
       "      <td>Sat</td>\n",
       "      <td>Dinner</td>\n",
       "      <td>4</td>\n",
       "    </tr>\n",
       "    <tr>\n",
       "      <th>59</th>\n",
       "      <td>48.27</td>\n",
       "      <td>6.73</td>\n",
       "      <td>0.139424</td>\n",
       "      <td>Male</td>\n",
       "      <td>No</td>\n",
       "      <td>Sat</td>\n",
       "      <td>Dinner</td>\n",
       "      <td>4</td>\n",
       "    </tr>\n",
       "    <tr>\n",
       "      <th>156</th>\n",
       "      <td>48.17</td>\n",
       "      <td>5.00</td>\n",
       "      <td>0.103799</td>\n",
       "      <td>Male</td>\n",
       "      <td>No</td>\n",
       "      <td>Sun</td>\n",
       "      <td>Dinner</td>\n",
       "      <td>6</td>\n",
       "    </tr>\n",
       "    <tr>\n",
       "      <th>182</th>\n",
       "      <td>45.35</td>\n",
       "      <td>3.50</td>\n",
       "      <td>0.077178</td>\n",
       "      <td>Male</td>\n",
       "      <td>Yes</td>\n",
       "      <td>Sun</td>\n",
       "      <td>Dinner</td>\n",
       "      <td>3</td>\n",
       "    </tr>\n",
       "  </tbody>\n",
       "</table>\n",
       "</div>"
      ],
      "text/plain": [
       "     total_bill    tip  tip_percent   sex smoker  day    time  size\n",
       "170       50.81  10.00     0.196812  Male    Yes  Sat  Dinner     3\n",
       "212       48.33   9.00     0.186220  Male     No  Sat  Dinner     4\n",
       "59        48.27   6.73     0.139424  Male     No  Sat  Dinner     4\n",
       "156       48.17   5.00     0.103799  Male     No  Sun  Dinner     6\n",
       "182       45.35   3.50     0.077178  Male    Yes  Sun  Dinner     3"
      ]
     },
     "execution_count": 48,
     "metadata": {},
     "output_type": "execute_result"
    }
   ],
   "source": [
    "topn(by = 'total_bill', n = 5)"
   ]
  },
  {
   "cell_type": "markdown",
   "id": "7172cd25",
   "metadata": {},
   "source": [
    "小费最高的前3桌顾客"
   ]
  },
  {
   "cell_type": "code",
   "execution_count": 49,
   "id": "4e47d232",
   "metadata": {},
   "outputs": [
    {
     "data": {
      "text/html": [
       "<div>\n",
       "<style scoped>\n",
       "    .dataframe tbody tr th:only-of-type {\n",
       "        vertical-align: middle;\n",
       "    }\n",
       "\n",
       "    .dataframe tbody tr th {\n",
       "        vertical-align: top;\n",
       "    }\n",
       "\n",
       "    .dataframe thead th {\n",
       "        text-align: right;\n",
       "    }\n",
       "</style>\n",
       "<table border=\"1\" class=\"dataframe\">\n",
       "  <thead>\n",
       "    <tr style=\"text-align: right;\">\n",
       "      <th></th>\n",
       "      <th>total_bill</th>\n",
       "      <th>tip</th>\n",
       "      <th>tip_percent</th>\n",
       "      <th>sex</th>\n",
       "      <th>smoker</th>\n",
       "      <th>day</th>\n",
       "      <th>time</th>\n",
       "      <th>size</th>\n",
       "    </tr>\n",
       "  </thead>\n",
       "  <tbody>\n",
       "    <tr>\n",
       "      <th>170</th>\n",
       "      <td>50.81</td>\n",
       "      <td>10.00</td>\n",
       "      <td>0.196812</td>\n",
       "      <td>Male</td>\n",
       "      <td>Yes</td>\n",
       "      <td>Sat</td>\n",
       "      <td>Dinner</td>\n",
       "      <td>3</td>\n",
       "    </tr>\n",
       "    <tr>\n",
       "      <th>212</th>\n",
       "      <td>48.33</td>\n",
       "      <td>9.00</td>\n",
       "      <td>0.186220</td>\n",
       "      <td>Male</td>\n",
       "      <td>No</td>\n",
       "      <td>Sat</td>\n",
       "      <td>Dinner</td>\n",
       "      <td>4</td>\n",
       "    </tr>\n",
       "    <tr>\n",
       "      <th>23</th>\n",
       "      <td>39.42</td>\n",
       "      <td>7.58</td>\n",
       "      <td>0.192288</td>\n",
       "      <td>Male</td>\n",
       "      <td>No</td>\n",
       "      <td>Sat</td>\n",
       "      <td>Dinner</td>\n",
       "      <td>4</td>\n",
       "    </tr>\n",
       "  </tbody>\n",
       "</table>\n",
       "</div>"
      ],
      "text/plain": [
       "     total_bill    tip  tip_percent   sex smoker  day    time  size\n",
       "170       50.81  10.00     0.196812  Male    Yes  Sat  Dinner     3\n",
       "212       48.33   9.00     0.186220  Male     No  Sat  Dinner     4\n",
       "23        39.42   7.58     0.192288  Male     No  Sat  Dinner     4"
      ]
     },
     "execution_count": 49,
     "metadata": {},
     "output_type": "execute_result"
    }
   ],
   "source": [
    "topn(by = 'tip', n = 3)"
   ]
  },
  {
   "cell_type": "markdown",
   "id": "3b81a51f",
   "metadata": {},
   "source": [
    "按是否吸烟分组，观察小费慷慨程度前5名"
   ]
  },
  {
   "cell_type": "code",
   "execution_count": 50,
   "id": "306e3575",
   "metadata": {},
   "outputs": [
    {
     "data": {
      "text/plain": [
       "<pandas.core.groupby.generic.DataFrameGroupBy object at 0x000001E4C271CD50>"
      ]
     },
     "execution_count": 50,
     "metadata": {},
     "output_type": "execute_result"
    }
   ],
   "source": [
    "tips.groupby('smoker')"
   ]
  },
  {
   "cell_type": "code",
   "execution_count": 51,
   "id": "21cc58f5",
   "metadata": {
    "collapsed": true
   },
   "outputs": [],
   "source": [
    "# topn(df = tips.groupby('smoker'), n = 5)\n",
    "# 在groupby之后得到DataFrameGroupBy对象上没有sort_values方法，因此会报错"
   ]
  },
  {
   "cell_type": "markdown",
   "id": "0139d314",
   "metadata": {},
   "source": [
    "按是否吸烟分组，观察两组人群小费的平均值"
   ]
  },
  {
   "cell_type": "code",
   "execution_count": 52,
   "id": "90ff1bbd",
   "metadata": {
    "collapsed": true
   },
   "outputs": [
    {
     "data": {
      "text/plain": [
       "smoker\n",
       "No     2.991854\n",
       "Yes    3.008710\n",
       "Name: tip, dtype: float64"
      ]
     },
     "execution_count": 52,
     "metadata": {},
     "output_type": "execute_result"
    }
   ],
   "source": [
    "tips.groupby('smoker').tip.mean()\n",
    "# 先分组，再筛选，最后汇总"
   ]
  },
  {
   "cell_type": "code",
   "execution_count": 53,
   "id": "49bcad00",
   "metadata": {
    "collapsed": true
   },
   "outputs": [
    {
     "data": {
      "text/html": [
       "<div>\n",
       "<style scoped>\n",
       "    .dataframe tbody tr th:only-of-type {\n",
       "        vertical-align: middle;\n",
       "    }\n",
       "\n",
       "    .dataframe tbody tr th {\n",
       "        vertical-align: top;\n",
       "    }\n",
       "\n",
       "    .dataframe thead th {\n",
       "        text-align: right;\n",
       "    }\n",
       "</style>\n",
       "<table border=\"1\" class=\"dataframe\">\n",
       "  <thead>\n",
       "    <tr style=\"text-align: right;\">\n",
       "      <th></th>\n",
       "      <th>tip</th>\n",
       "    </tr>\n",
       "    <tr>\n",
       "      <th>smoker</th>\n",
       "      <th></th>\n",
       "    </tr>\n",
       "  </thead>\n",
       "  <tbody>\n",
       "    <tr>\n",
       "      <th>No</th>\n",
       "      <td>2.991854</td>\n",
       "    </tr>\n",
       "    <tr>\n",
       "      <th>Yes</th>\n",
       "      <td>3.008710</td>\n",
       "    </tr>\n",
       "  </tbody>\n",
       "</table>\n",
       "</div>"
      ],
      "text/plain": [
       "             tip\n",
       "smoker          \n",
       "No      2.991854\n",
       "Yes     3.008710"
      ]
     },
     "execution_count": 53,
     "metadata": {},
     "output_type": "execute_result"
    }
   ],
   "source": [
    "tips[['smoker', 'tip']].groupby('smoker').mean()\n",
    "# 先筛选，再分类，最后汇总"
   ]
  },
  {
   "cell_type": "markdown",
   "id": "00c893ca",
   "metadata": {},
   "source": [
    "按是否吸烟分组，观察小费慷慨程度前5名  \n",
    "先筛选，再统计，最后汇总"
   ]
  },
  {
   "cell_type": "code",
   "execution_count": 54,
   "id": "e76929c1",
   "metadata": {},
   "outputs": [
    {
     "data": {
      "text/html": [
       "<div>\n",
       "<style scoped>\n",
       "    .dataframe tbody tr th:only-of-type {\n",
       "        vertical-align: middle;\n",
       "    }\n",
       "\n",
       "    .dataframe tbody tr th {\n",
       "        vertical-align: top;\n",
       "    }\n",
       "\n",
       "    .dataframe thead th {\n",
       "        text-align: right;\n",
       "    }\n",
       "</style>\n",
       "<table border=\"1\" class=\"dataframe\">\n",
       "  <thead>\n",
       "    <tr style=\"text-align: right;\">\n",
       "      <th></th>\n",
       "      <th>total_bill</th>\n",
       "      <th>tip</th>\n",
       "      <th>tip_percent</th>\n",
       "      <th>sex</th>\n",
       "      <th>smoker</th>\n",
       "      <th>day</th>\n",
       "      <th>time</th>\n",
       "      <th>size</th>\n",
       "    </tr>\n",
       "  </thead>\n",
       "  <tbody>\n",
       "    <tr>\n",
       "      <th>172</th>\n",
       "      <td>7.25</td>\n",
       "      <td>5.15</td>\n",
       "      <td>0.710345</td>\n",
       "      <td>Male</td>\n",
       "      <td>Yes</td>\n",
       "      <td>Sun</td>\n",
       "      <td>Dinner</td>\n",
       "      <td>2</td>\n",
       "    </tr>\n",
       "    <tr>\n",
       "      <th>178</th>\n",
       "      <td>9.60</td>\n",
       "      <td>4.00</td>\n",
       "      <td>0.416667</td>\n",
       "      <td>Female</td>\n",
       "      <td>Yes</td>\n",
       "      <td>Sun</td>\n",
       "      <td>Dinner</td>\n",
       "      <td>2</td>\n",
       "    </tr>\n",
       "    <tr>\n",
       "      <th>67</th>\n",
       "      <td>3.07</td>\n",
       "      <td>1.00</td>\n",
       "      <td>0.325733</td>\n",
       "      <td>Female</td>\n",
       "      <td>Yes</td>\n",
       "      <td>Sat</td>\n",
       "      <td>Dinner</td>\n",
       "      <td>1</td>\n",
       "    </tr>\n",
       "    <tr>\n",
       "      <th>183</th>\n",
       "      <td>23.17</td>\n",
       "      <td>6.50</td>\n",
       "      <td>0.280535</td>\n",
       "      <td>Male</td>\n",
       "      <td>Yes</td>\n",
       "      <td>Sun</td>\n",
       "      <td>Dinner</td>\n",
       "      <td>4</td>\n",
       "    </tr>\n",
       "    <tr>\n",
       "      <th>109</th>\n",
       "      <td>14.31</td>\n",
       "      <td>4.00</td>\n",
       "      <td>0.279525</td>\n",
       "      <td>Female</td>\n",
       "      <td>Yes</td>\n",
       "      <td>Sat</td>\n",
       "      <td>Dinner</td>\n",
       "      <td>2</td>\n",
       "    </tr>\n",
       "  </tbody>\n",
       "</table>\n",
       "</div>"
      ],
      "text/plain": [
       "     total_bill   tip  tip_percent     sex smoker  day    time  size\n",
       "172        7.25  5.15     0.710345    Male    Yes  Sun  Dinner     2\n",
       "178        9.60  4.00     0.416667  Female    Yes  Sun  Dinner     2\n",
       "67         3.07  1.00     0.325733  Female    Yes  Sat  Dinner     1\n",
       "183       23.17  6.50     0.280535    Male    Yes  Sun  Dinner     4\n",
       "109       14.31  4.00     0.279525  Female    Yes  Sat  Dinner     2"
      ]
     },
     "execution_count": 54,
     "metadata": {},
     "output_type": "execute_result"
    }
   ],
   "source": [
    "topn(tips[tips.smoker == 'Yes'], n=5)\n",
    "# 吸烟人群中，小费慷慨程度前5名"
   ]
  },
  {
   "cell_type": "code",
   "execution_count": 55,
   "id": "d8ec1d18",
   "metadata": {},
   "outputs": [
    {
     "data": {
      "text/html": [
       "<div>\n",
       "<style scoped>\n",
       "    .dataframe tbody tr th:only-of-type {\n",
       "        vertical-align: middle;\n",
       "    }\n",
       "\n",
       "    .dataframe tbody tr th {\n",
       "        vertical-align: top;\n",
       "    }\n",
       "\n",
       "    .dataframe thead th {\n",
       "        text-align: right;\n",
       "    }\n",
       "</style>\n",
       "<table border=\"1\" class=\"dataframe\">\n",
       "  <thead>\n",
       "    <tr style=\"text-align: right;\">\n",
       "      <th></th>\n",
       "      <th>total_bill</th>\n",
       "      <th>tip</th>\n",
       "      <th>tip_percent</th>\n",
       "      <th>sex</th>\n",
       "      <th>smoker</th>\n",
       "      <th>day</th>\n",
       "      <th>time</th>\n",
       "      <th>size</th>\n",
       "    </tr>\n",
       "  </thead>\n",
       "  <tbody>\n",
       "    <tr>\n",
       "      <th>232</th>\n",
       "      <td>11.61</td>\n",
       "      <td>3.39</td>\n",
       "      <td>0.291990</td>\n",
       "      <td>Male</td>\n",
       "      <td>No</td>\n",
       "      <td>Sat</td>\n",
       "      <td>Dinner</td>\n",
       "      <td>2</td>\n",
       "    </tr>\n",
       "    <tr>\n",
       "      <th>149</th>\n",
       "      <td>7.51</td>\n",
       "      <td>2.00</td>\n",
       "      <td>0.266312</td>\n",
       "      <td>Male</td>\n",
       "      <td>No</td>\n",
       "      <td>Thur</td>\n",
       "      <td>Lunch</td>\n",
       "      <td>2</td>\n",
       "    </tr>\n",
       "    <tr>\n",
       "      <th>51</th>\n",
       "      <td>10.29</td>\n",
       "      <td>2.60</td>\n",
       "      <td>0.252672</td>\n",
       "      <td>Female</td>\n",
       "      <td>No</td>\n",
       "      <td>Sun</td>\n",
       "      <td>Dinner</td>\n",
       "      <td>2</td>\n",
       "    </tr>\n",
       "    <tr>\n",
       "      <th>185</th>\n",
       "      <td>20.69</td>\n",
       "      <td>5.00</td>\n",
       "      <td>0.241663</td>\n",
       "      <td>Male</td>\n",
       "      <td>No</td>\n",
       "      <td>Sun</td>\n",
       "      <td>Dinner</td>\n",
       "      <td>5</td>\n",
       "    </tr>\n",
       "    <tr>\n",
       "      <th>88</th>\n",
       "      <td>24.71</td>\n",
       "      <td>5.85</td>\n",
       "      <td>0.236746</td>\n",
       "      <td>Male</td>\n",
       "      <td>No</td>\n",
       "      <td>Thur</td>\n",
       "      <td>Lunch</td>\n",
       "      <td>2</td>\n",
       "    </tr>\n",
       "  </tbody>\n",
       "</table>\n",
       "</div>"
      ],
      "text/plain": [
       "     total_bill   tip  tip_percent     sex smoker   day    time  size\n",
       "232       11.61  3.39     0.291990    Male     No   Sat  Dinner     2\n",
       "149        7.51  2.00     0.266312    Male     No  Thur   Lunch     2\n",
       "51        10.29  2.60     0.252672  Female     No   Sun  Dinner     2\n",
       "185       20.69  5.00     0.241663    Male     No   Sun  Dinner     5\n",
       "88        24.71  5.85     0.236746    Male     No  Thur   Lunch     2"
      ]
     },
     "execution_count": 55,
     "metadata": {},
     "output_type": "execute_result"
    }
   ],
   "source": [
    "topn(tips[tips.smoker == 'No'], n=5)\n",
    "# 不吸烟人群中，小费慷慨程度前5名"
   ]
  },
  {
   "cell_type": "code",
   "execution_count": 56,
   "id": "37df4562",
   "metadata": {
    "collapsed": true
   },
   "outputs": [
    {
     "data": {
      "text/html": [
       "<div>\n",
       "<style scoped>\n",
       "    .dataframe tbody tr th:only-of-type {\n",
       "        vertical-align: middle;\n",
       "    }\n",
       "\n",
       "    .dataframe tbody tr th {\n",
       "        vertical-align: top;\n",
       "    }\n",
       "\n",
       "    .dataframe thead th {\n",
       "        text-align: right;\n",
       "    }\n",
       "</style>\n",
       "<table border=\"1\" class=\"dataframe\">\n",
       "  <thead>\n",
       "    <tr style=\"text-align: right;\">\n",
       "      <th></th>\n",
       "      <th>total_bill</th>\n",
       "      <th>tip</th>\n",
       "      <th>tip_percent</th>\n",
       "      <th>sex</th>\n",
       "      <th>smoker</th>\n",
       "      <th>day</th>\n",
       "      <th>time</th>\n",
       "      <th>size</th>\n",
       "    </tr>\n",
       "  </thead>\n",
       "  <tbody>\n",
       "    <tr>\n",
       "      <th>172</th>\n",
       "      <td>7.25</td>\n",
       "      <td>5.15</td>\n",
       "      <td>0.710345</td>\n",
       "      <td>Male</td>\n",
       "      <td>Yes</td>\n",
       "      <td>Sun</td>\n",
       "      <td>Dinner</td>\n",
       "      <td>2</td>\n",
       "    </tr>\n",
       "    <tr>\n",
       "      <th>178</th>\n",
       "      <td>9.60</td>\n",
       "      <td>4.00</td>\n",
       "      <td>0.416667</td>\n",
       "      <td>Female</td>\n",
       "      <td>Yes</td>\n",
       "      <td>Sun</td>\n",
       "      <td>Dinner</td>\n",
       "      <td>2</td>\n",
       "    </tr>\n",
       "    <tr>\n",
       "      <th>67</th>\n",
       "      <td>3.07</td>\n",
       "      <td>1.00</td>\n",
       "      <td>0.325733</td>\n",
       "      <td>Female</td>\n",
       "      <td>Yes</td>\n",
       "      <td>Sat</td>\n",
       "      <td>Dinner</td>\n",
       "      <td>1</td>\n",
       "    </tr>\n",
       "    <tr>\n",
       "      <th>183</th>\n",
       "      <td>23.17</td>\n",
       "      <td>6.50</td>\n",
       "      <td>0.280535</td>\n",
       "      <td>Male</td>\n",
       "      <td>Yes</td>\n",
       "      <td>Sun</td>\n",
       "      <td>Dinner</td>\n",
       "      <td>4</td>\n",
       "    </tr>\n",
       "    <tr>\n",
       "      <th>109</th>\n",
       "      <td>14.31</td>\n",
       "      <td>4.00</td>\n",
       "      <td>0.279525</td>\n",
       "      <td>Female</td>\n",
       "      <td>Yes</td>\n",
       "      <td>Sat</td>\n",
       "      <td>Dinner</td>\n",
       "      <td>2</td>\n",
       "    </tr>\n",
       "    <tr>\n",
       "      <th>232</th>\n",
       "      <td>11.61</td>\n",
       "      <td>3.39</td>\n",
       "      <td>0.291990</td>\n",
       "      <td>Male</td>\n",
       "      <td>No</td>\n",
       "      <td>Sat</td>\n",
       "      <td>Dinner</td>\n",
       "      <td>2</td>\n",
       "    </tr>\n",
       "    <tr>\n",
       "      <th>149</th>\n",
       "      <td>7.51</td>\n",
       "      <td>2.00</td>\n",
       "      <td>0.266312</td>\n",
       "      <td>Male</td>\n",
       "      <td>No</td>\n",
       "      <td>Thur</td>\n",
       "      <td>Lunch</td>\n",
       "      <td>2</td>\n",
       "    </tr>\n",
       "    <tr>\n",
       "      <th>51</th>\n",
       "      <td>10.29</td>\n",
       "      <td>2.60</td>\n",
       "      <td>0.252672</td>\n",
       "      <td>Female</td>\n",
       "      <td>No</td>\n",
       "      <td>Sun</td>\n",
       "      <td>Dinner</td>\n",
       "      <td>2</td>\n",
       "    </tr>\n",
       "    <tr>\n",
       "      <th>185</th>\n",
       "      <td>20.69</td>\n",
       "      <td>5.00</td>\n",
       "      <td>0.241663</td>\n",
       "      <td>Male</td>\n",
       "      <td>No</td>\n",
       "      <td>Sun</td>\n",
       "      <td>Dinner</td>\n",
       "      <td>5</td>\n",
       "    </tr>\n",
       "    <tr>\n",
       "      <th>88</th>\n",
       "      <td>24.71</td>\n",
       "      <td>5.85</td>\n",
       "      <td>0.236746</td>\n",
       "      <td>Male</td>\n",
       "      <td>No</td>\n",
       "      <td>Thur</td>\n",
       "      <td>Lunch</td>\n",
       "      <td>2</td>\n",
       "    </tr>\n",
       "  </tbody>\n",
       "</table>\n",
       "</div>"
      ],
      "text/plain": [
       "     total_bill   tip  tip_percent     sex smoker   day    time  size\n",
       "172        7.25  5.15     0.710345    Male    Yes   Sun  Dinner     2\n",
       "178        9.60  4.00     0.416667  Female    Yes   Sun  Dinner     2\n",
       "67         3.07  1.00     0.325733  Female    Yes   Sat  Dinner     1\n",
       "183       23.17  6.50     0.280535    Male    Yes   Sun  Dinner     4\n",
       "109       14.31  4.00     0.279525  Female    Yes   Sat  Dinner     2\n",
       "232       11.61  3.39     0.291990    Male     No   Sat  Dinner     2\n",
       "149        7.51  2.00     0.266312    Male     No  Thur   Lunch     2\n",
       "51        10.29  2.60     0.252672  Female     No   Sun  Dinner     2\n",
       "185       20.69  5.00     0.241663    Male     No   Sun  Dinner     5\n",
       "88        24.71  5.85     0.236746    Male     No  Thur   Lunch     2"
      ]
     },
     "execution_count": 56,
     "metadata": {},
     "output_type": "execute_result"
    }
   ],
   "source": [
    "pd.concat(\n",
    "    (topn(tips[tips.smoker == 'Yes'], n=5), topn(tips[tips.smoker == 'No'], n=5))\n",
    ")"
   ]
  },
  {
   "attachments": {
    "image.png": {
     "image/png": "[encoded data removed]"
    }
   },
   "cell_type": "markdown",
   "id": "905cbaf8",
   "metadata": {},
   "source": [
    "![image.png](attachment:image.png)"
   ]
  },
  {
   "cell_type": "markdown",
   "id": "667f6cef",
   "metadata": {},
   "source": [
    "自定义函数：可以借助apply进行映射"
   ]
  },
  {
   "cell_type": "markdown",
   "id": "986c5019",
   "metadata": {},
   "source": [
    "按是否吸烟分组，观察小费慷慨程度前5名"
   ]
  },
  {
   "cell_type": "code",
   "execution_count": 57,
   "id": "e0be33de",
   "metadata": {
    "collapsed": true
   },
   "outputs": [
    {
     "data": {
      "text/html": [
       "<div>\n",
       "<style scoped>\n",
       "    .dataframe tbody tr th:only-of-type {\n",
       "        vertical-align: middle;\n",
       "    }\n",
       "\n",
       "    .dataframe tbody tr th {\n",
       "        vertical-align: top;\n",
       "    }\n",
       "\n",
       "    .dataframe thead th {\n",
       "        text-align: right;\n",
       "    }\n",
       "</style>\n",
       "<table border=\"1\" class=\"dataframe\">\n",
       "  <thead>\n",
       "    <tr style=\"text-align: right;\">\n",
       "      <th></th>\n",
       "      <th></th>\n",
       "      <th>total_bill</th>\n",
       "      <th>tip</th>\n",
       "      <th>tip_percent</th>\n",
       "      <th>sex</th>\n",
       "      <th>smoker</th>\n",
       "      <th>day</th>\n",
       "      <th>time</th>\n",
       "      <th>size</th>\n",
       "    </tr>\n",
       "    <tr>\n",
       "      <th>smoker</th>\n",
       "      <th></th>\n",
       "      <th></th>\n",
       "      <th></th>\n",
       "      <th></th>\n",
       "      <th></th>\n",
       "      <th></th>\n",
       "      <th></th>\n",
       "      <th></th>\n",
       "      <th></th>\n",
       "    </tr>\n",
       "  </thead>\n",
       "  <tbody>\n",
       "    <tr>\n",
       "      <th rowspan=\"5\" valign=\"top\">No</th>\n",
       "      <th>232</th>\n",
       "      <td>11.61</td>\n",
       "      <td>3.39</td>\n",
       "      <td>0.291990</td>\n",
       "      <td>Male</td>\n",
       "      <td>No</td>\n",
       "      <td>Sat</td>\n",
       "      <td>Dinner</td>\n",
       "      <td>2</td>\n",
       "    </tr>\n",
       "    <tr>\n",
       "      <th>149</th>\n",
       "      <td>7.51</td>\n",
       "      <td>2.00</td>\n",
       "      <td>0.266312</td>\n",
       "      <td>Male</td>\n",
       "      <td>No</td>\n",
       "      <td>Thur</td>\n",
       "      <td>Lunch</td>\n",
       "      <td>2</td>\n",
       "    </tr>\n",
       "    <tr>\n",
       "      <th>51</th>\n",
       "      <td>10.29</td>\n",
       "      <td>2.60</td>\n",
       "      <td>0.252672</td>\n",
       "      <td>Female</td>\n",
       "      <td>No</td>\n",
       "      <td>Sun</td>\n",
       "      <td>Dinner</td>\n",
       "      <td>2</td>\n",
       "    </tr>\n",
       "    <tr>\n",
       "      <th>185</th>\n",
       "      <td>20.69</td>\n",
       "      <td>5.00</td>\n",
       "      <td>0.241663</td>\n",
       "      <td>Male</td>\n",
       "      <td>No</td>\n",
       "      <td>Sun</td>\n",
       "      <td>Dinner</td>\n",
       "      <td>5</td>\n",
       "    </tr>\n",
       "    <tr>\n",
       "      <th>88</th>\n",
       "      <td>24.71</td>\n",
       "      <td>5.85</td>\n",
       "      <td>0.236746</td>\n",
       "      <td>Male</td>\n",
       "      <td>No</td>\n",
       "      <td>Thur</td>\n",
       "      <td>Lunch</td>\n",
       "      <td>2</td>\n",
       "    </tr>\n",
       "    <tr>\n",
       "      <th rowspan=\"5\" valign=\"top\">Yes</th>\n",
       "      <th>172</th>\n",
       "      <td>7.25</td>\n",
       "      <td>5.15</td>\n",
       "      <td>0.710345</td>\n",
       "      <td>Male</td>\n",
       "      <td>Yes</td>\n",
       "      <td>Sun</td>\n",
       "      <td>Dinner</td>\n",
       "      <td>2</td>\n",
       "    </tr>\n",
       "    <tr>\n",
       "      <th>178</th>\n",
       "      <td>9.60</td>\n",
       "      <td>4.00</td>\n",
       "      <td>0.416667</td>\n",
       "      <td>Female</td>\n",
       "      <td>Yes</td>\n",
       "      <td>Sun</td>\n",
       "      <td>Dinner</td>\n",
       "      <td>2</td>\n",
       "    </tr>\n",
       "    <tr>\n",
       "      <th>67</th>\n",
       "      <td>3.07</td>\n",
       "      <td>1.00</td>\n",
       "      <td>0.325733</td>\n",
       "      <td>Female</td>\n",
       "      <td>Yes</td>\n",
       "      <td>Sat</td>\n",
       "      <td>Dinner</td>\n",
       "      <td>1</td>\n",
       "    </tr>\n",
       "    <tr>\n",
       "      <th>183</th>\n",
       "      <td>23.17</td>\n",
       "      <td>6.50</td>\n",
       "      <td>0.280535</td>\n",
       "      <td>Male</td>\n",
       "      <td>Yes</td>\n",
       "      <td>Sun</td>\n",
       "      <td>Dinner</td>\n",
       "      <td>4</td>\n",
       "    </tr>\n",
       "    <tr>\n",
       "      <th>109</th>\n",
       "      <td>14.31</td>\n",
       "      <td>4.00</td>\n",
       "      <td>0.279525</td>\n",
       "      <td>Female</td>\n",
       "      <td>Yes</td>\n",
       "      <td>Sat</td>\n",
       "      <td>Dinner</td>\n",
       "      <td>2</td>\n",
       "    </tr>\n",
       "  </tbody>\n",
       "</table>\n",
       "</div>"
      ],
      "text/plain": [
       "            total_bill   tip  tip_percent     sex smoker   day    time  size\n",
       "smoker                                                                      \n",
       "No     232       11.61  3.39     0.291990    Male     No   Sat  Dinner     2\n",
       "       149        7.51  2.00     0.266312    Male     No  Thur   Lunch     2\n",
       "       51        10.29  2.60     0.252672  Female     No   Sun  Dinner     2\n",
       "       185       20.69  5.00     0.241663    Male     No   Sun  Dinner     5\n",
       "       88        24.71  5.85     0.236746    Male     No  Thur   Lunch     2\n",
       "Yes    172        7.25  5.15     0.710345    Male    Yes   Sun  Dinner     2\n",
       "       178        9.60  4.00     0.416667  Female    Yes   Sun  Dinner     2\n",
       "       67         3.07  1.00     0.325733  Female    Yes   Sat  Dinner     1\n",
       "       183       23.17  6.50     0.280535    Male    Yes   Sun  Dinner     4\n",
       "       109       14.31  4.00     0.279525  Female    Yes   Sat  Dinner     2"
      ]
     },
     "execution_count": 57,
     "metadata": {},
     "output_type": "execute_result"
    }
   ],
   "source": [
    "tips.groupby('smoker').apply(topn, n = 5)\n",
    "# 利用apply中的**kwargs参数的方式，将n = 5传入topn函数\n",
    "# 结果是一个数据透视表\n",
    "# groupby分组的依据和n返回结果的数据索引一起构成一个层次化的索引"
   ]
  },
  {
   "cell_type": "code",
   "execution_count": 58,
   "id": "f9a825d0",
   "metadata": {
    "collapsed": true
   },
   "outputs": [
    {
     "data": {
      "text/plain": [
       "MultiIndex([( 'No', 232),\n",
       "            ( 'No', 149),\n",
       "            ( 'No',  51),\n",
       "            ( 'No', 185),\n",
       "            ( 'No',  88),\n",
       "            ('Yes', 172),\n",
       "            ('Yes', 178),\n",
       "            ('Yes',  67),\n",
       "            ('Yes', 183),\n",
       "            ('Yes', 109)],\n",
       "           names=['smoker', None])"
      ]
     },
     "execution_count": 58,
     "metadata": {},
     "output_type": "execute_result"
    }
   ],
   "source": [
    "tips.groupby('smoker').apply(topn, n = 5).index"
   ]
  },
  {
   "cell_type": "markdown",
   "id": "26555ffe",
   "metadata": {},
   "source": [
    "针对小费数据集，进行以下分析\n",
    "- 按周几和是否吸烟分组，统计账单总金额的前3名\n",
    "- 统计吸烟和不吸烟的人群中，男女的比例各是多少\n",
    "- 统计不同性别的人群中，吸烟和不吸烟的比例各是多好"
   ]
  },
  {
   "cell_type": "code",
   "execution_count": 59,
   "id": "8c3a97b3",
   "metadata": {
    "collapsed": true
   },
   "outputs": [
    {
     "data": {
      "text/html": [
       "<div>\n",
       "<style scoped>\n",
       "    .dataframe tbody tr th:only-of-type {\n",
       "        vertical-align: middle;\n",
       "    }\n",
       "\n",
       "    .dataframe tbody tr th {\n",
       "        vertical-align: top;\n",
       "    }\n",
       "\n",
       "    .dataframe thead th {\n",
       "        text-align: right;\n",
       "    }\n",
       "</style>\n",
       "<table border=\"1\" class=\"dataframe\">\n",
       "  <thead>\n",
       "    <tr style=\"text-align: right;\">\n",
       "      <th></th>\n",
       "      <th></th>\n",
       "      <th></th>\n",
       "      <th>total_bill</th>\n",
       "      <th>tip</th>\n",
       "      <th>tip_percent</th>\n",
       "      <th>sex</th>\n",
       "      <th>smoker</th>\n",
       "      <th>day</th>\n",
       "      <th>time</th>\n",
       "      <th>size</th>\n",
       "    </tr>\n",
       "    <tr>\n",
       "      <th>day</th>\n",
       "      <th>smoker</th>\n",
       "      <th></th>\n",
       "      <th></th>\n",
       "      <th></th>\n",
       "      <th></th>\n",
       "      <th></th>\n",
       "      <th></th>\n",
       "      <th></th>\n",
       "      <th></th>\n",
       "      <th></th>\n",
       "    </tr>\n",
       "  </thead>\n",
       "  <tbody>\n",
       "    <tr>\n",
       "      <th rowspan=\"6\" valign=\"top\">Fri</th>\n",
       "      <th rowspan=\"3\" valign=\"top\">No</th>\n",
       "      <th>94</th>\n",
       "      <td>22.75</td>\n",
       "      <td>3.25</td>\n",
       "      <td>0.142857</td>\n",
       "      <td>Female</td>\n",
       "      <td>No</td>\n",
       "      <td>Fri</td>\n",
       "      <td>Dinner</td>\n",
       "      <td>2</td>\n",
       "    </tr>\n",
       "    <tr>\n",
       "      <th>91</th>\n",
       "      <td>22.49</td>\n",
       "      <td>3.50</td>\n",
       "      <td>0.155625</td>\n",
       "      <td>Male</td>\n",
       "      <td>No</td>\n",
       "      <td>Fri</td>\n",
       "      <td>Dinner</td>\n",
       "      <td>2</td>\n",
       "    </tr>\n",
       "    <tr>\n",
       "      <th>223</th>\n",
       "      <td>15.98</td>\n",
       "      <td>3.00</td>\n",
       "      <td>0.187735</td>\n",
       "      <td>Female</td>\n",
       "      <td>No</td>\n",
       "      <td>Fri</td>\n",
       "      <td>Lunch</td>\n",
       "      <td>3</td>\n",
       "    </tr>\n",
       "    <tr>\n",
       "      <th rowspan=\"3\" valign=\"top\">Yes</th>\n",
       "      <th>95</th>\n",
       "      <td>40.17</td>\n",
       "      <td>4.73</td>\n",
       "      <td>0.117750</td>\n",
       "      <td>Male</td>\n",
       "      <td>Yes</td>\n",
       "      <td>Fri</td>\n",
       "      <td>Dinner</td>\n",
       "      <td>4</td>\n",
       "    </tr>\n",
       "    <tr>\n",
       "      <th>90</th>\n",
       "      <td>28.97</td>\n",
       "      <td>3.00</td>\n",
       "      <td>0.103555</td>\n",
       "      <td>Male</td>\n",
       "      <td>Yes</td>\n",
       "      <td>Fri</td>\n",
       "      <td>Dinner</td>\n",
       "      <td>2</td>\n",
       "    </tr>\n",
       "    <tr>\n",
       "      <th>96</th>\n",
       "      <td>27.28</td>\n",
       "      <td>4.00</td>\n",
       "      <td>0.146628</td>\n",
       "      <td>Male</td>\n",
       "      <td>Yes</td>\n",
       "      <td>Fri</td>\n",
       "      <td>Dinner</td>\n",
       "      <td>2</td>\n",
       "    </tr>\n",
       "    <tr>\n",
       "      <th rowspan=\"6\" valign=\"top\">Sat</th>\n",
       "      <th rowspan=\"3\" valign=\"top\">No</th>\n",
       "      <th>212</th>\n",
       "      <td>48.33</td>\n",
       "      <td>9.00</td>\n",
       "      <td>0.186220</td>\n",
       "      <td>Male</td>\n",
       "      <td>No</td>\n",
       "      <td>Sat</td>\n",
       "      <td>Dinner</td>\n",
       "      <td>4</td>\n",
       "    </tr>\n",
       "    <tr>\n",
       "      <th>59</th>\n",
       "      <td>48.27</td>\n",
       "      <td>6.73</td>\n",
       "      <td>0.139424</td>\n",
       "      <td>Male</td>\n",
       "      <td>No</td>\n",
       "      <td>Sat</td>\n",
       "      <td>Dinner</td>\n",
       "      <td>4</td>\n",
       "    </tr>\n",
       "    <tr>\n",
       "      <th>23</th>\n",
       "      <td>39.42</td>\n",
       "      <td>7.58</td>\n",
       "      <td>0.192288</td>\n",
       "      <td>Male</td>\n",
       "      <td>No</td>\n",
       "      <td>Sat</td>\n",
       "      <td>Dinner</td>\n",
       "      <td>4</td>\n",
       "    </tr>\n",
       "    <tr>\n",
       "      <th rowspan=\"3\" valign=\"top\">Yes</th>\n",
       "      <th>170</th>\n",
       "      <td>50.81</td>\n",
       "      <td>10.00</td>\n",
       "      <td>0.196812</td>\n",
       "      <td>Male</td>\n",
       "      <td>Yes</td>\n",
       "      <td>Sat</td>\n",
       "      <td>Dinner</td>\n",
       "      <td>3</td>\n",
       "    </tr>\n",
       "    <tr>\n",
       "      <th>102</th>\n",
       "      <td>44.30</td>\n",
       "      <td>2.50</td>\n",
       "      <td>0.056433</td>\n",
       "      <td>Female</td>\n",
       "      <td>Yes</td>\n",
       "      <td>Sat</td>\n",
       "      <td>Dinner</td>\n",
       "      <td>3</td>\n",
       "    </tr>\n",
       "    <tr>\n",
       "      <th>207</th>\n",
       "      <td>38.73</td>\n",
       "      <td>3.00</td>\n",
       "      <td>0.077459</td>\n",
       "      <td>Male</td>\n",
       "      <td>Yes</td>\n",
       "      <td>Sat</td>\n",
       "      <td>Dinner</td>\n",
       "      <td>4</td>\n",
       "    </tr>\n",
       "    <tr>\n",
       "      <th rowspan=\"6\" valign=\"top\">Sun</th>\n",
       "      <th rowspan=\"3\" valign=\"top\">No</th>\n",
       "      <th>156</th>\n",
       "      <td>48.17</td>\n",
       "      <td>5.00</td>\n",
       "      <td>0.103799</td>\n",
       "      <td>Male</td>\n",
       "      <td>No</td>\n",
       "      <td>Sun</td>\n",
       "      <td>Dinner</td>\n",
       "      <td>6</td>\n",
       "    </tr>\n",
       "    <tr>\n",
       "      <th>112</th>\n",
       "      <td>38.07</td>\n",
       "      <td>4.00</td>\n",
       "      <td>0.105070</td>\n",
       "      <td>Male</td>\n",
       "      <td>No</td>\n",
       "      <td>Sun</td>\n",
       "      <td>Dinner</td>\n",
       "      <td>3</td>\n",
       "    </tr>\n",
       "    <tr>\n",
       "      <th>11</th>\n",
       "      <td>35.26</td>\n",
       "      <td>5.00</td>\n",
       "      <td>0.141804</td>\n",
       "      <td>Female</td>\n",
       "      <td>No</td>\n",
       "      <td>Sun</td>\n",
       "      <td>Dinner</td>\n",
       "      <td>4</td>\n",
       "    </tr>\n",
       "    <tr>\n",
       "      <th rowspan=\"3\" valign=\"top\">Yes</th>\n",
       "      <th>182</th>\n",
       "      <td>45.35</td>\n",
       "      <td>3.50</td>\n",
       "      <td>0.077178</td>\n",
       "      <td>Male</td>\n",
       "      <td>Yes</td>\n",
       "      <td>Sun</td>\n",
       "      <td>Dinner</td>\n",
       "      <td>3</td>\n",
       "    </tr>\n",
       "    <tr>\n",
       "      <th>184</th>\n",
       "      <td>40.55</td>\n",
       "      <td>3.00</td>\n",
       "      <td>0.073983</td>\n",
       "      <td>Male</td>\n",
       "      <td>Yes</td>\n",
       "      <td>Sun</td>\n",
       "      <td>Dinner</td>\n",
       "      <td>2</td>\n",
       "    </tr>\n",
       "    <tr>\n",
       "      <th>180</th>\n",
       "      <td>34.65</td>\n",
       "      <td>3.68</td>\n",
       "      <td>0.106205</td>\n",
       "      <td>Male</td>\n",
       "      <td>Yes</td>\n",
       "      <td>Sun</td>\n",
       "      <td>Dinner</td>\n",
       "      <td>4</td>\n",
       "    </tr>\n",
       "    <tr>\n",
       "      <th rowspan=\"6\" valign=\"top\">Thur</th>\n",
       "      <th rowspan=\"3\" valign=\"top\">No</th>\n",
       "      <th>142</th>\n",
       "      <td>41.19</td>\n",
       "      <td>5.00</td>\n",
       "      <td>0.121389</td>\n",
       "      <td>Male</td>\n",
       "      <td>No</td>\n",
       "      <td>Thur</td>\n",
       "      <td>Lunch</td>\n",
       "      <td>5</td>\n",
       "    </tr>\n",
       "    <tr>\n",
       "      <th>85</th>\n",
       "      <td>34.83</td>\n",
       "      <td>5.17</td>\n",
       "      <td>0.148435</td>\n",
       "      <td>Female</td>\n",
       "      <td>No</td>\n",
       "      <td>Thur</td>\n",
       "      <td>Lunch</td>\n",
       "      <td>4</td>\n",
       "    </tr>\n",
       "    <tr>\n",
       "      <th>141</th>\n",
       "      <td>34.30</td>\n",
       "      <td>6.70</td>\n",
       "      <td>0.195335</td>\n",
       "      <td>Male</td>\n",
       "      <td>No</td>\n",
       "      <td>Thur</td>\n",
       "      <td>Lunch</td>\n",
       "      <td>6</td>\n",
       "    </tr>\n",
       "    <tr>\n",
       "      <th rowspan=\"3\" valign=\"top\">Yes</th>\n",
       "      <th>197</th>\n",
       "      <td>43.11</td>\n",
       "      <td>5.00</td>\n",
       "      <td>0.115982</td>\n",
       "      <td>Female</td>\n",
       "      <td>Yes</td>\n",
       "      <td>Thur</td>\n",
       "      <td>Lunch</td>\n",
       "      <td>4</td>\n",
       "    </tr>\n",
       "    <tr>\n",
       "      <th>83</th>\n",
       "      <td>32.68</td>\n",
       "      <td>5.00</td>\n",
       "      <td>0.152999</td>\n",
       "      <td>Male</td>\n",
       "      <td>Yes</td>\n",
       "      <td>Thur</td>\n",
       "      <td>Lunch</td>\n",
       "      <td>2</td>\n",
       "    </tr>\n",
       "    <tr>\n",
       "      <th>192</th>\n",
       "      <td>28.44</td>\n",
       "      <td>2.56</td>\n",
       "      <td>0.090014</td>\n",
       "      <td>Male</td>\n",
       "      <td>Yes</td>\n",
       "      <td>Thur</td>\n",
       "      <td>Lunch</td>\n",
       "      <td>2</td>\n",
       "    </tr>\n",
       "  </tbody>\n",
       "</table>\n",
       "</div>"
      ],
      "text/plain": [
       "                 total_bill    tip  tip_percent     sex smoker   day    time  \\\n",
       "day  smoker                                                                    \n",
       "Fri  No     94        22.75   3.25     0.142857  Female     No   Fri  Dinner   \n",
       "            91        22.49   3.50     0.155625    Male     No   Fri  Dinner   \n",
       "            223       15.98   3.00     0.187735  Female     No   Fri   Lunch   \n",
       "     Yes    95        40.17   4.73     0.117750    Male    Yes   Fri  Dinner   \n",
       "            90        28.97   3.00     0.103555    Male    Yes   Fri  Dinner   \n",
       "            96        27.28   4.00     0.146628    Male    Yes   Fri  Dinner   \n",
       "Sat  No     212       48.33   9.00     0.186220    Male     No   Sat  Dinner   \n",
       "            59        48.27   6.73     0.139424    Male     No   Sat  Dinner   \n",
       "            23        39.42   7.58     0.192288    Male     No   Sat  Dinner   \n",
       "     Yes    170       50.81  10.00     0.196812    Male    Yes   Sat  Dinner   \n",
       "            102       44.30   2.50     0.056433  Female    Yes   Sat  Dinner   \n",
       "            207       38.73   3.00     0.077459    Male    Yes   Sat  Dinner   \n",
       "Sun  No     156       48.17   5.00     0.103799    Male     No   Sun  Dinner   \n",
       "            112       38.07   4.00     0.105070    Male     No   Sun  Dinner   \n",
       "            11        35.26   5.00     0.141804  Female     No   Sun  Dinner   \n",
       "     Yes    182       45.35   3.50     0.077178    Male    Yes   Sun  Dinner   \n",
       "            184       40.55   3.00     0.073983    Male    Yes   Sun  Dinner   \n",
       "            180       34.65   3.68     0.106205    Male    Yes   Sun  Dinner   \n",
       "Thur No     142       41.19   5.00     0.121389    Male     No  Thur   Lunch   \n",
       "            85        34.83   5.17     0.148435  Female     No  Thur   Lunch   \n",
       "            141       34.30   6.70     0.195335    Male     No  Thur   Lunch   \n",
       "     Yes    197       43.11   5.00     0.115982  Female    Yes  Thur   Lunch   \n",
       "            83        32.68   5.00     0.152999    Male    Yes  Thur   Lunch   \n",
       "            192       28.44   2.56     0.090014    Male    Yes  Thur   Lunch   \n",
       "\n",
       "                 size  \n",
       "day  smoker            \n",
       "Fri  No     94      2  \n",
       "            91      2  \n",
       "            223     3  \n",
       "     Yes    95      4  \n",
       "            90      2  \n",
       "            96      2  \n",
       "Sat  No     212     4  \n",
       "            59      4  \n",
       "            23      4  \n",
       "     Yes    170     3  \n",
       "            102     3  \n",
       "            207     4  \n",
       "Sun  No     156     6  \n",
       "            112     3  \n",
       "            11      4  \n",
       "     Yes    182     3  \n",
       "            184     2  \n",
       "            180     4  \n",
       "Thur No     142     5  \n",
       "            85      4  \n",
       "            141     6  \n",
       "     Yes    197     4  \n",
       "            83      2  \n",
       "            192     2  "
      ]
     },
     "execution_count": 59,
     "metadata": {},
     "output_type": "execute_result"
    }
   ],
   "source": [
    "# 按周几和是否吸烟分组，统计账单总金额的前3名\n",
    "tips.groupby(['day','smoker']).apply(topn, by = 'total_bill')"
   ]
  },
  {
   "cell_type": "code",
   "execution_count": 60,
   "id": "4de4bf80",
   "metadata": {
    "collapsed": true
   },
   "outputs": [
    {
     "data": {
      "text/html": [
       "<div>\n",
       "<style scoped>\n",
       "    .dataframe tbody tr th:only-of-type {\n",
       "        vertical-align: middle;\n",
       "    }\n",
       "\n",
       "    .dataframe tbody tr th {\n",
       "        vertical-align: top;\n",
       "    }\n",
       "\n",
       "    .dataframe thead th {\n",
       "        text-align: right;\n",
       "    }\n",
       "</style>\n",
       "<table border=\"1\" class=\"dataframe\">\n",
       "  <thead>\n",
       "    <tr style=\"text-align: right;\">\n",
       "      <th>sex</th>\n",
       "      <th>Female</th>\n",
       "      <th>Male</th>\n",
       "    </tr>\n",
       "    <tr>\n",
       "      <th>smoker</th>\n",
       "      <th></th>\n",
       "      <th></th>\n",
       "    </tr>\n",
       "  </thead>\n",
       "  <tbody>\n",
       "    <tr>\n",
       "      <th>No</th>\n",
       "      <td>54</td>\n",
       "      <td>97</td>\n",
       "    </tr>\n",
       "    <tr>\n",
       "      <th>Yes</th>\n",
       "      <td>33</td>\n",
       "      <td>60</td>\n",
       "    </tr>\n",
       "  </tbody>\n",
       "</table>\n",
       "</div>"
      ],
      "text/plain": [
       "sex     Female  Male\n",
       "smoker              \n",
       "No          54    97\n",
       "Yes         33    60"
      ]
     },
     "execution_count": 60,
     "metadata": {},
     "output_type": "execute_result"
    }
   ],
   "source": [
    "# 统计吸烟和不吸烟的人群中，男女的比例各是多少\n",
    "tips.groupby(['smoker', 'sex']).day.count().unstack()\n",
    "# 吸烟和不吸烟的人群中，男女的人数各是多少"
   ]
  },
  {
   "cell_type": "code",
   "execution_count": 61,
   "id": "ab11d997",
   "metadata": {
    "collapsed": true
   },
   "outputs": [
    {
     "data": {
      "text/html": [
       "<div>\n",
       "<style scoped>\n",
       "    .dataframe tbody tr th:only-of-type {\n",
       "        vertical-align: middle;\n",
       "    }\n",
       "\n",
       "    .dataframe tbody tr th {\n",
       "        vertical-align: top;\n",
       "    }\n",
       "\n",
       "    .dataframe thead th {\n",
       "        text-align: right;\n",
       "    }\n",
       "</style>\n",
       "<table border=\"1\" class=\"dataframe\">\n",
       "  <thead>\n",
       "    <tr style=\"text-align: right;\">\n",
       "      <th>sex</th>\n",
       "      <th>Female</th>\n",
       "      <th>Male</th>\n",
       "    </tr>\n",
       "    <tr>\n",
       "      <th>smoker</th>\n",
       "      <th></th>\n",
       "      <th></th>\n",
       "    </tr>\n",
       "  </thead>\n",
       "  <tbody>\n",
       "    <tr>\n",
       "      <th>No</th>\n",
       "      <td>0.357616</td>\n",
       "      <td>0.642384</td>\n",
       "    </tr>\n",
       "    <tr>\n",
       "      <th>Yes</th>\n",
       "      <td>0.354839</td>\n",
       "      <td>0.645161</td>\n",
       "    </tr>\n",
       "  </tbody>\n",
       "</table>\n",
       "</div>"
      ],
      "text/plain": [
       "sex       Female      Male\n",
       "smoker                    \n",
       "No      0.357616  0.642384\n",
       "Yes     0.354839  0.645161"
      ]
     },
     "execution_count": 61,
     "metadata": {},
     "output_type": "execute_result"
    }
   ],
   "source": [
    "# 行百分比：在列上计算，用某列的值除以该行中所有列的值之和\n",
    "tips.groupby(['smoker','sex']).day.count().unstack().apply(lambda x : x / x.sum(), axis = 1)"
   ]
  },
  {
   "cell_type": "code",
   "execution_count": 62,
   "id": "8d01e4ad",
   "metadata": {
    "collapsed": true
   },
   "outputs": [
    {
     "data": {
      "text/html": [
       "<div>\n",
       "<style scoped>\n",
       "    .dataframe tbody tr th:only-of-type {\n",
       "        vertical-align: middle;\n",
       "    }\n",
       "\n",
       "    .dataframe tbody tr th {\n",
       "        vertical-align: top;\n",
       "    }\n",
       "\n",
       "    .dataframe thead th {\n",
       "        text-align: right;\n",
       "    }\n",
       "</style>\n",
       "<table border=\"1\" class=\"dataframe\">\n",
       "  <thead>\n",
       "    <tr style=\"text-align: right;\">\n",
       "      <th>sex</th>\n",
       "      <th>Female</th>\n",
       "      <th>Male</th>\n",
       "    </tr>\n",
       "    <tr>\n",
       "      <th>smoker</th>\n",
       "      <th></th>\n",
       "      <th></th>\n",
       "    </tr>\n",
       "  </thead>\n",
       "  <tbody>\n",
       "    <tr>\n",
       "      <th>No</th>\n",
       "      <td>0.62069</td>\n",
       "      <td>0.617834</td>\n",
       "    </tr>\n",
       "    <tr>\n",
       "      <th>Yes</th>\n",
       "      <td>0.37931</td>\n",
       "      <td>0.382166</td>\n",
       "    </tr>\n",
       "  </tbody>\n",
       "</table>\n",
       "</div>"
      ],
      "text/plain": [
       "sex      Female      Male\n",
       "smoker                   \n",
       "No      0.62069  0.617834\n",
       "Yes     0.37931  0.382166"
      ]
     },
     "execution_count": 62,
     "metadata": {},
     "output_type": "execute_result"
    }
   ],
   "source": [
    "# 统计不同性别的人群中，吸烟和不吸烟的比例各是多好\n",
    "# 列百分比\n",
    "tips.groupby(['smoker','sex']).day.count().unstack().apply(lambda x : x / x.sum(), axis = 0)"
   ]
  },
  {
   "cell_type": "markdown",
   "id": "d8b169d3",
   "metadata": {},
   "source": [
    "统计不同性别的人群中，吸烟和不吸烟的人数，占总人数的百分比是多少？  \n",
    "总计百分比"
   ]
  },
  {
   "cell_type": "code",
   "execution_count": 63,
   "id": "40a5593c",
   "metadata": {},
   "outputs": [
    {
     "data": {
      "text/plain": [
       "244"
      ]
     },
     "execution_count": 63,
     "metadata": {},
     "output_type": "execute_result"
    }
   ],
   "source": [
    "# 总人数\n",
    "tips.sex.count()"
   ]
  },
  {
   "cell_type": "code",
   "execution_count": 64,
   "id": "687c14e1",
   "metadata": {
    "collapsed": true
   },
   "outputs": [
    {
     "data": {
      "text/html": [
       "<div>\n",
       "<style scoped>\n",
       "    .dataframe tbody tr th:only-of-type {\n",
       "        vertical-align: middle;\n",
       "    }\n",
       "\n",
       "    .dataframe tbody tr th {\n",
       "        vertical-align: top;\n",
       "    }\n",
       "\n",
       "    .dataframe thead th {\n",
       "        text-align: right;\n",
       "    }\n",
       "</style>\n",
       "<table border=\"1\" class=\"dataframe\">\n",
       "  <thead>\n",
       "    <tr style=\"text-align: right;\">\n",
       "      <th>sex</th>\n",
       "      <th>Female</th>\n",
       "      <th>Male</th>\n",
       "    </tr>\n",
       "    <tr>\n",
       "      <th>smoker</th>\n",
       "      <th></th>\n",
       "      <th></th>\n",
       "    </tr>\n",
       "  </thead>\n",
       "  <tbody>\n",
       "    <tr>\n",
       "      <th>No</th>\n",
       "      <td>0.221311</td>\n",
       "      <td>0.397541</td>\n",
       "    </tr>\n",
       "    <tr>\n",
       "      <th>Yes</th>\n",
       "      <td>0.135246</td>\n",
       "      <td>0.245902</td>\n",
       "    </tr>\n",
       "  </tbody>\n",
       "</table>\n",
       "</div>"
      ],
      "text/plain": [
       "sex       Female      Male\n",
       "smoker                    \n",
       "No      0.221311  0.397541\n",
       "Yes     0.135246  0.245902"
      ]
     },
     "execution_count": 64,
     "metadata": {},
     "output_type": "execute_result"
    }
   ],
   "source": [
    "tips.groupby(['smoker', 'sex']).day.count().unstack().apply(lambda x : x / tips.sex.count())"
   ]
  },
  {
   "cell_type": "code",
   "execution_count": 65,
   "id": "884696a7",
   "metadata": {},
   "outputs": [
    {
     "data": {
      "text/html": [
       "<div>\n",
       "<style scoped>\n",
       "    .dataframe tbody tr th:only-of-type {\n",
       "        vertical-align: middle;\n",
       "    }\n",
       "\n",
       "    .dataframe tbody tr th {\n",
       "        vertical-align: top;\n",
       "    }\n",
       "\n",
       "    .dataframe thead th {\n",
       "        text-align: right;\n",
       "    }\n",
       "</style>\n",
       "<table border=\"1\" class=\"dataframe\">\n",
       "  <thead>\n",
       "    <tr style=\"text-align: right;\">\n",
       "      <th>sex</th>\n",
       "      <th>Female</th>\n",
       "      <th>Male</th>\n",
       "    </tr>\n",
       "    <tr>\n",
       "      <th>smoker</th>\n",
       "      <th></th>\n",
       "      <th></th>\n",
       "    </tr>\n",
       "  </thead>\n",
       "  <tbody>\n",
       "    <tr>\n",
       "      <th>No</th>\n",
       "      <td>54</td>\n",
       "      <td>97</td>\n",
       "    </tr>\n",
       "    <tr>\n",
       "      <th>Yes</th>\n",
       "      <td>33</td>\n",
       "      <td>60</td>\n",
       "    </tr>\n",
       "  </tbody>\n",
       "</table>\n",
       "</div>"
      ],
      "text/plain": [
       "sex     Female  Male\n",
       "smoker              \n",
       "No          54    97\n",
       "Yes         33    60"
      ]
     },
     "execution_count": 65,
     "metadata": {},
     "output_type": "execute_result"
    }
   ],
   "source": [
    "# 数据透视表来实现\n",
    "tips.pivot_table(\n",
    "    index = 'smoker',\n",
    "    columns = 'sex',\n",
    "    values = 'day',\n",
    "    aggfunc = 'count'\n",
    ")\n",
    "# .apply(lambda x : x/x.sum(), axis = 1)"
   ]
  },
  {
   "cell_type": "markdown",
   "id": "5f00ba0c",
   "metadata": {},
   "source": [
    "交叉表：本质上是两个分类变量的频数数据透视表，交叉位置上是两个分类变量各类别关联的频数"
   ]
  },
  {
   "cell_type": "markdown",
   "id": "d94d39bf",
   "metadata": {},
   "source": [
    "## 2.2 交叉表 crosstab\n",
    "\n",
    "    pd.crosstab(\n",
    "        index,                  # 交叉表的行，常用Series\n",
    "        columns,                # 交叉表的列\n",
    "        values=None,             # 交叉表的值，常留空\n",
    "        rownames=None,\n",
    "        colnames=None,\n",
    "        aggfunc=None,             # 计算，常留空\n",
    "        margins: 'bool' = False,\n",
    "        margins_name: 'str' = 'All',\n",
    "        dropna: 'bool' = True,\n",
    "        normalize=False,           # 标准化：计算各种百分比，index/columns/all 分别代表 行/列/总计百分比\n",
    "    ) -> 'DataFrame'"
   ]
  },
  {
   "cell_type": "code",
   "execution_count": 66,
   "id": "ca9967ba",
   "metadata": {},
   "outputs": [
    {
     "data": {
      "text/html": [
       "<div>\n",
       "<style scoped>\n",
       "    .dataframe tbody tr th:only-of-type {\n",
       "        vertical-align: middle;\n",
       "    }\n",
       "\n",
       "    .dataframe tbody tr th {\n",
       "        vertical-align: top;\n",
       "    }\n",
       "\n",
       "    .dataframe thead th {\n",
       "        text-align: right;\n",
       "    }\n",
       "</style>\n",
       "<table border=\"1\" class=\"dataframe\">\n",
       "  <thead>\n",
       "    <tr style=\"text-align: right;\">\n",
       "      <th>sex</th>\n",
       "      <th>Female</th>\n",
       "      <th>Male</th>\n",
       "    </tr>\n",
       "    <tr>\n",
       "      <th>smoker</th>\n",
       "      <th></th>\n",
       "      <th></th>\n",
       "    </tr>\n",
       "  </thead>\n",
       "  <tbody>\n",
       "    <tr>\n",
       "      <th>No</th>\n",
       "      <td>54</td>\n",
       "      <td>97</td>\n",
       "    </tr>\n",
       "    <tr>\n",
       "      <th>Yes</th>\n",
       "      <td>33</td>\n",
       "      <td>60</td>\n",
       "    </tr>\n",
       "  </tbody>\n",
       "</table>\n",
       "</div>"
      ],
      "text/plain": [
       "sex     Female  Male\n",
       "smoker              \n",
       "No          54    97\n",
       "Yes         33    60"
      ]
     },
     "execution_count": 66,
     "metadata": {},
     "output_type": "execute_result"
    }
   ],
   "source": [
    "# 不同性别，是否吸烟的人群，人数分别是多少\n",
    "pd.crosstab(\n",
    "    index = tips.smoker,\n",
    "    columns = tips.sex\n",
    ")"
   ]
  },
  {
   "cell_type": "code",
   "execution_count": 67,
   "id": "ea697577",
   "metadata": {
    "collapsed": true
   },
   "outputs": [
    {
     "data": {
      "text/html": [
       "<div>\n",
       "<style scoped>\n",
       "    .dataframe tbody tr th:only-of-type {\n",
       "        vertical-align: middle;\n",
       "    }\n",
       "\n",
       "    .dataframe tbody tr th {\n",
       "        vertical-align: top;\n",
       "    }\n",
       "\n",
       "    .dataframe thead th {\n",
       "        text-align: right;\n",
       "    }\n",
       "</style>\n",
       "<table border=\"1\" class=\"dataframe\">\n",
       "  <thead>\n",
       "    <tr style=\"text-align: right;\">\n",
       "      <th>sex</th>\n",
       "      <th>Female</th>\n",
       "      <th>Male</th>\n",
       "    </tr>\n",
       "    <tr>\n",
       "      <th>smoker</th>\n",
       "      <th></th>\n",
       "      <th></th>\n",
       "    </tr>\n",
       "  </thead>\n",
       "  <tbody>\n",
       "    <tr>\n",
       "      <th>No</th>\n",
       "      <td>0.357616</td>\n",
       "      <td>0.642384</td>\n",
       "    </tr>\n",
       "    <tr>\n",
       "      <th>Yes</th>\n",
       "      <td>0.354839</td>\n",
       "      <td>0.645161</td>\n",
       "    </tr>\n",
       "  </tbody>\n",
       "</table>\n",
       "</div>"
      ],
      "text/plain": [
       "sex       Female      Male\n",
       "smoker                    \n",
       "No      0.357616  0.642384\n",
       "Yes     0.354839  0.645161"
      ]
     },
     "execution_count": 67,
     "metadata": {},
     "output_type": "execute_result"
    }
   ],
   "source": [
    "# 行百分比\n",
    "pd.crosstab(\n",
    "    index = tips.smoker,\n",
    "    columns = tips.sex,\n",
    "    normalize = 'index'\n",
    ")"
   ]
  },
  {
   "cell_type": "code",
   "execution_count": 68,
   "id": "b2a4b98d",
   "metadata": {
    "collapsed": true
   },
   "outputs": [
    {
     "data": {
      "text/html": [
       "<div>\n",
       "<style scoped>\n",
       "    .dataframe tbody tr th:only-of-type {\n",
       "        vertical-align: middle;\n",
       "    }\n",
       "\n",
       "    .dataframe tbody tr th {\n",
       "        vertical-align: top;\n",
       "    }\n",
       "\n",
       "    .dataframe thead th {\n",
       "        text-align: right;\n",
       "    }\n",
       "</style>\n",
       "<table border=\"1\" class=\"dataframe\">\n",
       "  <thead>\n",
       "    <tr style=\"text-align: right;\">\n",
       "      <th>sex</th>\n",
       "      <th>Female</th>\n",
       "      <th>Male</th>\n",
       "    </tr>\n",
       "    <tr>\n",
       "      <th>smoker</th>\n",
       "      <th></th>\n",
       "      <th></th>\n",
       "    </tr>\n",
       "  </thead>\n",
       "  <tbody>\n",
       "    <tr>\n",
       "      <th>No</th>\n",
       "      <td>0.62069</td>\n",
       "      <td>0.617834</td>\n",
       "    </tr>\n",
       "    <tr>\n",
       "      <th>Yes</th>\n",
       "      <td>0.37931</td>\n",
       "      <td>0.382166</td>\n",
       "    </tr>\n",
       "  </tbody>\n",
       "</table>\n",
       "</div>"
      ],
      "text/plain": [
       "sex      Female      Male\n",
       "smoker                   \n",
       "No      0.62069  0.617834\n",
       "Yes     0.37931  0.382166"
      ]
     },
     "execution_count": 68,
     "metadata": {},
     "output_type": "execute_result"
    }
   ],
   "source": [
    "# 列百分比\n",
    "pd.crosstab(\n",
    "    index = tips.smoker,\n",
    "    columns = tips.sex,\n",
    "    normalize = 'columns'\n",
    ")"
   ]
  },
  {
   "cell_type": "code",
   "execution_count": 69,
   "id": "d12bb742",
   "metadata": {},
   "outputs": [
    {
     "data": {
      "text/html": [
       "<div>\n",
       "<style scoped>\n",
       "    .dataframe tbody tr th:only-of-type {\n",
       "        vertical-align: middle;\n",
       "    }\n",
       "\n",
       "    .dataframe tbody tr th {\n",
       "        vertical-align: top;\n",
       "    }\n",
       "\n",
       "    .dataframe thead th {\n",
       "        text-align: right;\n",
       "    }\n",
       "</style>\n",
       "<table border=\"1\" class=\"dataframe\">\n",
       "  <thead>\n",
       "    <tr style=\"text-align: right;\">\n",
       "      <th>sex</th>\n",
       "      <th>Female</th>\n",
       "      <th>Male</th>\n",
       "    </tr>\n",
       "    <tr>\n",
       "      <th>smoker</th>\n",
       "      <th></th>\n",
       "      <th></th>\n",
       "    </tr>\n",
       "  </thead>\n",
       "  <tbody>\n",
       "    <tr>\n",
       "      <th>No</th>\n",
       "      <td>0.221311</td>\n",
       "      <td>0.397541</td>\n",
       "    </tr>\n",
       "    <tr>\n",
       "      <th>Yes</th>\n",
       "      <td>0.135246</td>\n",
       "      <td>0.245902</td>\n",
       "    </tr>\n",
       "  </tbody>\n",
       "</table>\n",
       "</div>"
      ],
      "text/plain": [
       "sex       Female      Male\n",
       "smoker                    \n",
       "No      0.221311  0.397541\n",
       "Yes     0.135246  0.245902"
      ]
     },
     "execution_count": 69,
     "metadata": {},
     "output_type": "execute_result"
    }
   ],
   "source": [
    "# 总计百分比\n",
    "pd.crosstab(\n",
    "    index = tips.smoker,\n",
    "    columns = tips.sex,\n",
    "    normalize = 'all'\n",
    ")"
   ]
  },
  {
   "cell_type": "code",
   "execution_count": 70,
   "id": "596fd652",
   "metadata": {},
   "outputs": [
    {
     "data": {
      "text/plain": [
       "<Axes: xlabel='smoker'>"
      ]
     },
     "execution_count": 70,
     "metadata": {},
     "output_type": "execute_result"
    },
    {
     "data": {
      "image/png": "[encoded data removed]",
      "text/plain": [
       "<Figure size 640x480 with 1 Axes>"
      ]
     },
     "metadata": {},
     "output_type": "display_data"
    }
   ],
   "source": [
    "pd.crosstab(\n",
    "    index = tips.smoker,\n",
    "    columns = tips.sex,\n",
    "    # normalize = 'index'\n",
    ").plot(kind = 'bar', stacked = True)\n",
    "# 堆叠柱状图"
   ]
  },
  {
   "cell_type": "code",
   "execution_count": 71,
   "id": "fd945b1f",
   "metadata": {},
   "outputs": [
    {
     "data": {
      "text/plain": [
       "<Axes: xlabel='smoker'>"
      ]
     },
     "execution_count": 71,
     "metadata": {},
     "output_type": "execute_result"
    },
    {
     "data": {
      "image/png": "[encoded data removed]",
      "text/plain": [
       "<Figure size 640x480 with 1 Axes>"
      ]
     },
     "metadata": {},
     "output_type": "display_data"
    }
   ],
   "source": [
    "pd.crosstab(\n",
    "    index = tips.smoker,\n",
    "    columns = tips.sex,\n",
    "    normalize = 'index'\n",
    ").plot(kind = 'bar', stacked = True)\n",
    "# 百分比堆叠柱状图"
   ]
  },
  {
   "cell_type": "markdown",
   "id": "46b9dffd",
   "metadata": {},
   "source": [
    "# 3.数据分箱 ：连续变量的离散化 --> 将连续变量转为分类变量 等宽、等深、自定义\n",
    "## 3.1 pd.cut : 等宽分箱和自定义分箱\n",
    "\n",
    "    pd.cut(\n",
    "        x,                          # 用来进行分箱的数据，必须是一维的数据结构，可以是组、列表、Series等\n",
    "        bins,                        # 分箱的设定， int / [] , 前者等宽分箱，后者是基于数值的自定义分箱\n",
    "        right: 'bool' = True,             # 分箱结果是左闭右开还是左开右闭，默认情况是左开右闭 a<X<=b a<=X<b , 会影响边界值的划分\n",
    "        labels=None,                   # 值标签，给分好的每一段（每箱）一个对应的标签（类别名称）\n",
    "        retbins: 'bool' = False,\n",
    "        precision: 'int' = 3,\n",
    "        include_lowest: 'bool' = False,\n",
    "        duplicates: 'str' = 'raise',         # 设置为drop，可以忽略因分割点重复导致的异常\n",
    "        ordered: 'bool' = True,\n",
    "    )"
   ]
  },
  {
   "cell_type": "code",
   "execution_count": 72,
   "id": "00ce5a80",
   "metadata": {},
   "outputs": [],
   "source": [
    "ages = np.random.randint(10,91,30)\n",
    "# 用来分箱的数据"
   ]
  },
  {
   "cell_type": "code",
   "execution_count": 73,
   "id": "d62a20fe",
   "metadata": {},
   "outputs": [
    {
     "data": {
      "text/plain": [
       "array([35, 65, 51, 73, 59, 79, 27, 46, 69, 64, 57, 70, 77, 21, 87, 75, 32,\n",
       "       40, 19, 46, 56, 31, 85, 86, 64, 45, 82, 80, 52, 80])"
      ]
     },
     "execution_count": 73,
     "metadata": {},
     "output_type": "execute_result"
    }
   ],
   "source": [
    "ages"
   ]
  },
  {
   "cell_type": "markdown",
   "id": "cd5517e3",
   "metadata": {},
   "source": [
    "### 1.等宽分箱 ：bins设置为整数"
   ]
  },
  {
   "cell_type": "code",
   "execution_count": 74,
   "id": "549ea542",
   "metadata": {},
   "outputs": [
    {
     "data": {
      "text/plain": [
       "[(18.932, 36.0], (53.0, 70.0], (36.0, 53.0], (70.0, 87.0], (53.0, 70.0], ..., (36.0, 53.0], (70.0, 87.0], (70.0, 87.0], (36.0, 53.0], (70.0, 87.0]]\n",
       "Length: 30\n",
       "Categories (4, interval[float64, right]): [(18.932, 36.0] < (36.0, 53.0] < (53.0, 70.0] < (70.0, 87.0]]"
      ]
     },
     "execution_count": 74,
     "metadata": {},
     "output_type": "execute_result"
    }
   ],
   "source": [
    "pd.cut(ages, bins = 4)\n",
    "# 返回的结果是每个数据归属的类别（箱），本质上是一个一维的数据结构"
   ]
  },
  {
   "cell_type": "code",
   "execution_count": 75,
   "id": "66919a6b",
   "metadata": {},
   "outputs": [
    {
     "data": {
      "text/plain": [
       "pandas.core.arrays.categorical.Categorical"
      ]
     },
     "execution_count": 75,
     "metadata": {},
     "output_type": "execute_result"
    }
   ],
   "source": [
    "type(pd.cut(ages, bins = 4))"
   ]
  },
  {
   "cell_type": "code",
   "execution_count": 76,
   "id": "1aa2fded",
   "metadata": {
    "collapsed": true
   },
   "outputs": [
    {
     "data": {
      "text/plain": [
       "19"
      ]
     },
     "execution_count": 76,
     "metadata": {},
     "output_type": "execute_result"
    }
   ],
   "source": [
    "ages.min()\n",
    "# 最小年龄"
   ]
  },
  {
   "cell_type": "code",
   "execution_count": 77,
   "id": "12b7b56a",
   "metadata": {
    "collapsed": true
   },
   "outputs": [
    {
     "data": {
      "text/plain": [
       "87"
      ]
     },
     "execution_count": 77,
     "metadata": {},
     "output_type": "execute_result"
    }
   ],
   "source": [
    "ages.max()\n",
    "# 最大年龄"
   ]
  },
  {
   "cell_type": "code",
   "execution_count": 78,
   "id": "d92ef500",
   "metadata": {
    "collapsed": true
   },
   "outputs": [
    {
     "data": {
      "text/plain": [
       "17.0"
      ]
     },
     "execution_count": 78,
     "metadata": {},
     "output_type": "execute_result"
    }
   ],
   "source": [
    "# 每段的宽度 = （最大值 - 最小值） / 段数\n",
    "ages.ptp() / 4"
   ]
  },
  {
   "cell_type": "markdown",
   "id": "1d65bcf9",
   "metadata": {},
   "source": [
    "Categories (4, interval[float64, right]): [(9.921, 29.75] < (29.75, 49.5] < (49.5, 69.25] < (69.25, 89.0]]  \n",
    "因为返回的结果默认是一个左闭右开的区间(a<X<=b)，为了保证数据中的最小值能够包含在最低的一段中，cut会自动对最低的一段左边界值做一些处理到比最小值稍小，从而能将数据中的最小值纳入到最低的一段中"
   ]
  },
  {
   "cell_type": "markdown",
   "id": "a55ea4d6",
   "metadata": {},
   "source": [
    "每一段（每箱）中的数据有多少个"
   ]
  },
  {
   "cell_type": "code",
   "execution_count": 79,
   "id": "5e98571b",
   "metadata": {},
   "outputs": [
    {
     "data": {
      "text/plain": [
       "sex\n",
       "Male      157\n",
       "Female     87\n",
       "Name: count, dtype: int64"
      ]
     },
     "execution_count": 79,
     "metadata": {},
     "output_type": "execute_result"
    }
   ],
   "source": [
    "tips.sex.value_counts()"
   ]
  },
  {
   "cell_type": "code",
   "execution_count": 80,
   "id": "0d72e38a",
   "metadata": {},
   "outputs": [
    {
     "data": {
      "text/plain": [
       "(18.932, 36.0]     6\n",
       "(36.0, 53.0]       6\n",
       "(53.0, 70.0]       8\n",
       "(70.0, 87.0]      10\n",
       "Name: count, dtype: int64"
      ]
     },
     "execution_count": 80,
     "metadata": {},
     "output_type": "execute_result"
    }
   ],
   "source": [
    "pd.cut(ages, bins = 4).value_counts()\n",
    "# 不是按照值的多少进行排序，而是按照划分的顺序进行排序"
   ]
  },
  {
   "cell_type": "markdown",
   "id": "da835342",
   "metadata": {},
   "source": [
    "等宽分箱意味着每箱之间的间距相等，但不能保证每箱中的数据量相当"
   ]
  },
  {
   "cell_type": "markdown",
   "id": "1c878e5b",
   "metadata": {},
   "source": [
    "### 2.基于数值的自定义分箱 ：bins设置为边界值的列表\n",
    "\n",
    "    18岁以下是少年，18~40岁是青年，40~60岁是中年，60岁以上是老年"
   ]
  },
  {
   "cell_type": "code",
   "execution_count": 81,
   "id": "902d7c32",
   "metadata": {},
   "outputs": [
    {
     "data": {
      "text/plain": [
       "[(18.0, 40.0], NaN, (40.0, 60.0], NaN, (40.0, 60.0], ..., (40.0, 60.0], NaN, NaN, (40.0, 60.0], NaN]\n",
       "Length: 30\n",
       "Categories (2, interval[int64, right]): [(18, 40] < (40, 60]]"
      ]
     },
     "execution_count": 81,
     "metadata": {},
     "output_type": "execute_result"
    }
   ],
   "source": [
    "pd.cut(ages, bins = [18, 40, 60])\n",
    "# bins给出的是分段的边界值，n个边界值只能划分为n-1段"
   ]
  },
  {
   "cell_type": "code",
   "execution_count": 82,
   "id": "1e6635d8",
   "metadata": {},
   "outputs": [
    {
     "data": {
      "text/plain": [
       "(18, 40]    7\n",
       "(40, 60]    8\n",
       "Name: count, dtype: int64"
      ]
     },
     "execution_count": 82,
     "metadata": {},
     "output_type": "execute_result"
    }
   ],
   "source": [
    "pd.cut(ages, bins = [18, 40, 60]).value_counts()"
   ]
  },
  {
   "cell_type": "code",
   "execution_count": 83,
   "id": "d2956afa",
   "metadata": {},
   "outputs": [
    {
     "data": {
      "text/plain": [
       "[(18, 40], (60, 100], (40, 60], (60, 100], (40, 60], ..., (40, 60], (60, 100], (60, 100], (40, 60], (60, 100]]\n",
       "Length: 30\n",
       "Categories (4, interval[int64, right]): [(0, 18] < (18, 40] < (40, 60] < (60, 100]]"
      ]
     },
     "execution_count": 83,
     "metadata": {},
     "output_type": "execute_result"
    }
   ],
   "source": [
    "pd.cut(ages ,bins = [0,18,40,60,100])"
   ]
  },
  {
   "cell_type": "code",
   "execution_count": 84,
   "id": "4f45aca6",
   "metadata": {},
   "outputs": [
    {
     "data": {
      "text/plain": [
       "(0, 18]       0\n",
       "(18, 40]      7\n",
       "(40, 60]      8\n",
       "(60, 100]    15\n",
       "Name: count, dtype: int64"
      ]
     },
     "execution_count": 84,
     "metadata": {},
     "output_type": "execute_result"
    }
   ],
   "source": [
    "pd.cut(ages ,bins = [0,18,40,60,100]).value_counts()"
   ]
  },
  {
   "cell_type": "markdown",
   "id": "759afd42",
   "metadata": {},
   "source": [
    "### 3.左开右闭还是左闭右开 right"
   ]
  },
  {
   "cell_type": "code",
   "execution_count": 85,
   "id": "6ef0094c",
   "metadata": {},
   "outputs": [
    {
     "data": {
      "text/plain": [
       "[[18, 40), [60, 100), [40, 60), [60, 100), [40, 60), ..., [40, 60), [60, 100), [60, 100), [40, 60), [60, 100)]\n",
       "Length: 30\n",
       "Categories (4, interval[int64, left]): [[0, 18) < [18, 40) < [40, 60) < [60, 100)]"
      ]
     },
     "execution_count": 85,
     "metadata": {},
     "output_type": "execute_result"
    }
   ],
   "source": [
    "pd.cut(ages, bins = [0, 18, 40, 60, 100], right = False)\n",
    "# 从左开右闭变为左闭右开"
   ]
  },
  {
   "cell_type": "code",
   "execution_count": 86,
   "id": "49a21024",
   "metadata": {},
   "outputs": [
    {
     "data": {
      "text/plain": [
       "[0, 18)       0\n",
       "[18, 40)      6\n",
       "[40, 60)      9\n",
       "[60, 100)    15\n",
       "Name: count, dtype: int64"
      ]
     },
     "execution_count": 86,
     "metadata": {},
     "output_type": "execute_result"
    }
   ],
   "source": [
    "pd.cut(ages, bins = [0, 18, 40, 60, 100], right = False).value_counts()\n",
    "# 将左开右闭改为左闭右开会对边界值的划分产生影响"
   ]
  },
  {
   "cell_type": "code",
   "execution_count": 87,
   "id": "f00bcd8e",
   "metadata": {},
   "outputs": [
    {
     "data": {
      "text/plain": [
       "array([35, 65, 51, 73, 59, 79, 27, 46, 69, 64, 57, 70, 77, 21, 87, 75, 32,\n",
       "       40, 19, 46, 56, 31, 85, 86, 64, 45, 82, 80, 52, 80])"
      ]
     },
     "execution_count": 87,
     "metadata": {},
     "output_type": "execute_result"
    }
   ],
   "source": [
    "ages"
   ]
  },
  {
   "cell_type": "code",
   "execution_count": 88,
   "id": "28be1f29",
   "metadata": {},
   "outputs": [
    {
     "data": {
      "text/plain": [
       "[(18.932, 36.0], (53.0, 70.0], (36.0, 53.0], (70.0, 87.0], (53.0, 70.0], ..., (36.0, 53.0], (70.0, 87.0], (70.0, 87.0], (36.0, 53.0], (70.0, 87.0]]\n",
       "Length: 30\n",
       "Categories (4, interval[float64, right]): [(18.932, 36.0] < (36.0, 53.0] < (53.0, 70.0] < (70.0, 87.0]]"
      ]
     },
     "execution_count": 88,
     "metadata": {},
     "output_type": "execute_result"
    }
   ],
   "source": [
    "pd.cut(ages, bins = 4)"
   ]
  },
  {
   "cell_type": "code",
   "execution_count": 89,
   "id": "2d30c980",
   "metadata": {},
   "outputs": [
    {
     "data": {
      "text/plain": [
       "[[19.0, 36.0), [53.0, 70.0), [36.0, 53.0), [70.0, 87.068), [53.0, 70.0), ..., [36.0, 53.0), [70.0, 87.068), [70.0, 87.068), [36.0, 53.0), [70.0, 87.068)]\n",
       "Length: 30\n",
       "Categories (4, interval[float64, left]): [[19.0, 36.0) < [36.0, 53.0) < [53.0, 70.0) < [70.0, 87.068)]"
      ]
     },
     "execution_count": 89,
     "metadata": {},
     "output_type": "execute_result"
    }
   ],
   "source": [
    "pd.cut(ages, bins = 4 ,right = False)\n",
    "# 将左开右闭改为左闭右开之后，最小值的左边界不再进行处理，转而对最大值的右边界进行处理，以便能能将最大值容纳在最高的一段中"
   ]
  },
  {
   "cell_type": "markdown",
   "id": "e8e06fea",
   "metadata": {},
   "source": [
    "### 4.值标签 labels"
   ]
  },
  {
   "cell_type": "code",
   "execution_count": 90,
   "id": "5436c04d",
   "metadata": {},
   "outputs": [
    {
     "data": {
      "text/plain": [
       "[[18, 40), [60, 100), [40, 60), [60, 100), [40, 60), ..., [40, 60), [60, 100), [60, 100), [40, 60), [60, 100)]\n",
       "Length: 30\n",
       "Categories (4, interval[int64, left]): [[0, 18) < [18, 40) < [40, 60) < [60, 100)]"
      ]
     },
     "execution_count": 90,
     "metadata": {},
     "output_type": "execute_result"
    }
   ],
   "source": [
    "pd.cut(ages, bins = [0, 18, 40, 60, 100], right = False)\n",
    "# 返回的结果是每个年龄所在的年龄段"
   ]
  },
  {
   "cell_type": "code",
   "execution_count": 91,
   "id": "c990cc53",
   "metadata": {
    "collapsed": true
   },
   "outputs": [
    {
     "data": {
      "text/plain": [
       "['青年', '老年', '中年', '老年', '中年', ..., '中年', '老年', '老年', '中年', '老年']\n",
       "Length: 30\n",
       "Categories (4, object): ['少年' < '青年' < '中年' < '老年']"
      ]
     },
     "execution_count": 91,
     "metadata": {},
     "output_type": "execute_result"
    }
   ],
   "source": [
    "# 18岁以下是少年，18~40岁是青年，40~60岁是中年，60岁以上是老年\n",
    "pd.cut(\n",
    "    ages,\n",
    "    bins = [0, 18, 40, 60, 100],\n",
    "    right = False,\n",
    "    labels = ['少年', '青年', '中年', '老年']\n",
    ")\n",
    "# 设置labels之后，cut直接返回每个数据对应的值标签（年龄段名称）"
   ]
  },
  {
   "cell_type": "code",
   "execution_count": 92,
   "id": "9895cd2b",
   "metadata": {
    "collapsed": true
   },
   "outputs": [],
   "source": [
    "# # 18岁以下是少年，18~40岁是青年，40~60岁是中年，60岁以上是老年\n",
    "# pd.cut(\n",
    "#     ages,\n",
    "#     bins = [0, 18, 40, 60, 100],\n",
    "#     right = False,\n",
    "#     labels = ['儿童', '少年', '青年', '中年', '老年']\n",
    "# )\n",
    "# # 设置labels之后，cut直接返回每个数据对应的值标签（年龄段名称）\n",
    "# 报错，labels中的标签数量要和划分的段数一一对应，也就是比bins中的边界值少1"
   ]
  },
  {
   "cell_type": "code",
   "execution_count": 93,
   "id": "e7b5dd8d",
   "metadata": {},
   "outputs": [
    {
     "data": {
      "text/plain": [
       "少年     0\n",
       "青年     6\n",
       "中年     9\n",
       "老年    15\n",
       "Name: count, dtype: int64"
      ]
     },
     "execution_count": 93,
     "metadata": {},
     "output_type": "execute_result"
    }
   ],
   "source": [
    "pd.cut(\n",
    "    ages,\n",
    "    bins = [0, 18, 40, 60, 100],\n",
    "    right = False,\n",
    "    labels = ['少年', '青年', '中年', '老年']\n",
    ").value_counts()"
   ]
  },
  {
   "cell_type": "markdown",
   "id": "96b45b58",
   "metadata": {},
   "source": [
    "### 5.边界重复是否报错 duplicates"
   ]
  },
  {
   "cell_type": "code",
   "execution_count": 94,
   "id": "71d952f3",
   "metadata": {},
   "outputs": [
    {
     "data": {
      "text/plain": [
       "['青年', '老年', '中年', '老年', '中年', ..., '中年', '老年', '老年', '中年', '老年']\n",
       "Length: 30\n",
       "Categories (4, object): ['少年' < '青年' < '中年' < '老年']"
      ]
     },
     "execution_count": 94,
     "metadata": {},
     "output_type": "execute_result"
    }
   ],
   "source": [
    "pd.cut(\n",
    "    ages,\n",
    "    bins = [0, 18, 40, 60, 100],\n",
    "    right = False,\n",
    "    labels = ['少年', '青年', '中年', '老年']\n",
    ")"
   ]
  },
  {
   "cell_type": "code",
   "execution_count": 95,
   "id": "d16afecc",
   "metadata": {},
   "outputs": [],
   "source": [
    "# pd.cut(\n",
    "#     ages,\n",
    "#     bins = [0, 18, 40, 60, 60, 100],\n",
    "#     right = False,\n",
    "#     labels = ['少年', '青年', '中年', '老年']\n",
    "# )\n",
    "# 报错，边界值必须唯一"
   ]
  },
  {
   "cell_type": "code",
   "execution_count": 96,
   "id": "110f9795",
   "metadata": {},
   "outputs": [
    {
     "data": {
      "text/plain": [
       "['青年', '老年', '中年', '老年', '中年', ..., '中年', '老年', '老年', '中年', '老年']\n",
       "Length: 30\n",
       "Categories (4, object): ['少年' < '青年' < '中年' < '老年']"
      ]
     },
     "execution_count": 96,
     "metadata": {},
     "output_type": "execute_result"
    }
   ],
   "source": [
    "pd.cut(\n",
    "    ages,\n",
    "    bins = [0, 18, 40, 60, 60, 100],\n",
    "    right = False,\n",
    "    labels = ['少年', '青年', '中年', '老年'],\n",
    "    duplicates = 'drop'  # 删除重复的边界值\n",
    ")"
   ]
  },
  {
   "cell_type": "markdown",
   "id": "2824b675",
   "metadata": {},
   "source": [
    "## 3.2 pd.qcut : 等深分箱或者按比例的自定义分箱\n",
    "\n",
    "    pd.qcut(\n",
    "        x,                      # 分箱的数据\n",
    "        q,                      # 分箱的设定，int是等深分箱（等比例），浮点数的列表是按比例进行自定义分箱\n",
    "        labels=None,\n",
    "        retbins: 'bool' = False,\n",
    "        precision: 'int' = 3,\n",
    "        duplicates: 'str' = 'raise',\n",
    "    )"
   ]
  },
  {
   "cell_type": "code",
   "execution_count": 97,
   "id": "2018ce83",
   "metadata": {},
   "outputs": [],
   "source": [
    "ages2 = np.random.randint(10,81,200)"
   ]
  },
  {
   "cell_type": "code",
   "execution_count": 98,
   "id": "56963a19",
   "metadata": {},
   "outputs": [
    {
     "data": {
      "text/plain": [
       "array([40, 33, 80, 30, 33, 63, 53, 72, 51, 54, 12, 47, 60, 39, 60, 53, 37,\n",
       "       74, 77, 40, 73, 42, 61, 59, 22, 48, 75, 20, 17, 21, 16, 20, 37, 26,\n",
       "       32, 23, 23, 35, 22, 31, 18, 30, 73, 12, 47, 78, 48, 76, 68, 20, 10,\n",
       "       75, 29, 44, 22, 71, 29, 63, 38, 26, 27, 59, 66, 58, 77, 32, 45, 48,\n",
       "       57, 47, 63, 55, 41, 71, 31, 24, 25, 70, 27, 62, 28, 50, 21, 28, 21,\n",
       "       17, 19, 79, 60, 36, 32, 52, 72, 57, 78, 41, 51, 64, 63, 79, 37, 69,\n",
       "       43, 48, 17, 73, 28, 49, 15, 34, 56, 56, 16, 51, 11, 35, 25, 64, 66,\n",
       "       20, 62, 34, 38, 43, 45, 19, 39, 55, 29, 48, 57, 57, 41, 11, 15, 30,\n",
       "       17, 45, 27, 57, 13, 13, 46, 79, 13, 25, 20, 66, 52, 68, 49, 64, 34,\n",
       "       53, 49, 57, 37, 29, 50, 31, 78, 23, 54, 74, 27, 43, 68, 57, 63, 16,\n",
       "       45, 62, 24, 34, 72, 64, 16, 68, 64, 59, 21, 62, 56, 14, 80, 79, 35,\n",
       "       44, 25, 11, 61, 54, 74, 70, 27, 17, 11, 58, 37, 71])"
      ]
     },
     "execution_count": 98,
     "metadata": {},
     "output_type": "execute_result"
    }
   ],
   "source": [
    "ages2"
   ]
  },
  {
   "cell_type": "markdown",
   "id": "54f10e1a",
   "metadata": {},
   "source": [
    "### 1.等深分箱 q设置为整数"
   ]
  },
  {
   "cell_type": "code",
   "execution_count": 99,
   "id": "ad82851e",
   "metadata": {
    "collapsed": true
   },
   "outputs": [
    {
     "data": {
      "text/plain": [
       "[(25, 50], (25, 50], (75, 100], (25, 50], (25, 50], ..., (0, 25], (0, 25], (50, 75], (25, 50], (50, 75]]\n",
       "Length: 200\n",
       "Categories (4, interval[int64, right]): [(0, 25] < (25, 50] < (50, 75] < (75, 100]]"
      ]
     },
     "execution_count": 99,
     "metadata": {},
     "output_type": "execute_result"
    }
   ],
   "source": [
    "#  0~100岁之间，按照25岁一档进行划分\n",
    "# 等宽\n",
    "pd.cut(ages2, bins = range(0,101,25))"
   ]
  },
  {
   "cell_type": "code",
   "execution_count": 100,
   "id": "b12a87e4",
   "metadata": {
    "collapsed": true
   },
   "outputs": [
    {
     "data": {
      "text/plain": [
       "(0, 25]      46\n",
       "(25, 50]     71\n",
       "(50, 75]     71\n",
       "(75, 100]    12\n",
       "Name: count, dtype: int64"
      ]
     },
     "execution_count": 100,
     "metadata": {},
     "output_type": "execute_result"
    }
   ],
   "source": [
    "# 等宽\n",
    "pd.cut(ages2, bins = range(0,101,25)).value_counts()"
   ]
  },
  {
   "cell_type": "code",
   "execution_count": 101,
   "id": "65d9afeb",
   "metadata": {
    "collapsed": true
   },
   "outputs": [
    {
     "data": {
      "text/plain": [
       "[(27.0, 45.0], (27.0, 45.0], (61.25, 80.0], (27.0, 45.0], (27.0, 45.0], ..., (9.999, 27.0], (9.999, 27.0], (45.0, 61.25], (27.0, 45.0], (61.25, 80.0]]\n",
       "Length: 200\n",
       "Categories (4, interval[float64, right]): [(9.999, 27.0] < (27.0, 45.0] < (45.0, 61.25] < (61.25, 80.0]]"
      ]
     },
     "execution_count": 101,
     "metadata": {},
     "output_type": "execute_result"
    }
   ],
   "source": [
    "# 分为4段，每段的人数要大致相当\n",
    "pd.qcut(ages2, q = 4)"
   ]
  },
  {
   "cell_type": "code",
   "execution_count": 102,
   "id": "7d34dacc",
   "metadata": {},
   "outputs": [
    {
     "data": {
      "text/plain": [
       "(9.999, 27.0]    53\n",
       "(27.0, 45.0]     50\n",
       "(45.0, 61.25]    47\n",
       "(61.25, 80.0]    50\n",
       "Name: count, dtype: int64"
      ]
     },
     "execution_count": 102,
     "metadata": {},
     "output_type": "execute_result"
    }
   ],
   "source": [
    "pd.qcut(ages2, q = 4).value_counts()\n",
    "# 按照人数的25%一段进行划分（四分位分箱）"
   ]
  },
  {
   "cell_type": "code",
   "execution_count": 103,
   "id": "6dbf9435",
   "metadata": {},
   "outputs": [
    {
     "data": {
      "text/plain": [
       "array([27.  , 45.  , 61.25])"
      ]
     },
     "execution_count": 103,
     "metadata": {},
     "output_type": "execute_result"
    }
   ],
   "source": [
    "# 获取数据的四分位数\n",
    "np.quantile(ages2,  q = [0.25,0.5,0.75])"
   ]
  },
  {
   "cell_type": "code",
   "execution_count": 104,
   "id": "f853c82d",
   "metadata": {
    "collapsed": true
   },
   "outputs": [
    {
     "data": {
      "text/plain": [
       "count    200.00000\n",
       "mean      44.34500\n",
       "std       20.10315\n",
       "min       10.00000\n",
       "25%       27.00000\n",
       "50%       45.00000\n",
       "75%       61.25000\n",
       "max       80.00000\n",
       "dtype: float64"
      ]
     },
     "execution_count": 104,
     "metadata": {},
     "output_type": "execute_result"
    }
   ],
   "source": [
    "pd.Series(ages2).describe()"
   ]
  },
  {
   "cell_type": "code",
   "execution_count": 105,
   "id": "1353a003",
   "metadata": {
    "collapsed": true
   },
   "outputs": [
    {
     "data": {
      "text/plain": [
       "(9.999, 17.0]    22\n",
       "(17.0, 23.8]     18\n",
       "(23.8, 29.7]     20\n",
       "(29.7, 37.0]     24\n",
       "(37.0, 45.0]     19\n",
       "(45.0, 51.4]     17\n",
       "(51.4, 57.3]     20\n",
       "(57.3, 64.0]     24\n",
       "(64.0, 72.1]     16\n",
       "(72.1, 80.0]     20\n",
       "Name: count, dtype: int64"
      ]
     },
     "execution_count": 105,
     "metadata": {},
     "output_type": "execute_result"
    }
   ],
   "source": [
    "pd.qcut(ages2, q = 10).value_counts()"
   ]
  },
  {
   "cell_type": "markdown",
   "id": "2477ab57",
   "metadata": {},
   "source": [
    "### 2.按比例的自定义分箱：q设置为0~1之间的小数列表，列表中的值是0~100%之间的比例划分"
   ]
  },
  {
   "cell_type": "code",
   "execution_count": 106,
   "id": "addf365c",
   "metadata": {},
   "outputs": [
    {
     "data": {
      "text/plain": [
       "(9.999, 27.0]    53\n",
       "(27.0, 45.0]     50\n",
       "(45.0, 61.25]    47\n",
       "(61.25, 80.0]    50\n",
       "Name: count, dtype: int64"
      ]
     },
     "execution_count": 106,
     "metadata": {},
     "output_type": "execute_result"
    }
   ],
   "source": [
    "# 四分位分箱\n",
    "pd.qcut(ages2, q = [0, 0.25, 0.5, 0.75, 1]).value_counts()"
   ]
  },
  {
   "cell_type": "code",
   "execution_count": 107,
   "id": "2aebb563",
   "metadata": {},
   "outputs": [
    {
     "data": {
      "text/plain": [
       "(9.999, 23.8]    40\n",
       "(23.8, 37.0]     44\n",
       "(37.0, 57.3]     56\n",
       "(57.3, 80.0]     60\n",
       "Name: count, dtype: int64"
      ]
     },
     "execution_count": 107,
     "metadata": {},
     "output_type": "execute_result"
    }
   ],
   "source": [
    "# 分成2:2:3:3\n",
    "pd.qcut(ages2, q = [0,0.2, 0.4,0.7,1]).value_counts()"
   ]
  },
  {
   "cell_type": "markdown",
   "id": "b76bf4e6",
   "metadata": {},
   "source": [
    "## 3.3 将分箱操作和pandas数据结构结合起来"
   ]
  },
  {
   "cell_type": "code",
   "execution_count": 108,
   "id": "6f55d800",
   "metadata": {},
   "outputs": [
    {
     "data": {
      "text/plain": [
       "numpy.ndarray"
      ]
     },
     "execution_count": 108,
     "metadata": {},
     "output_type": "execute_result"
    }
   ],
   "source": [
    "type(ages2)"
   ]
  },
  {
   "cell_type": "code",
   "execution_count": 109,
   "id": "dbe8632a",
   "metadata": {},
   "outputs": [],
   "source": [
    "# 将数组包装成DataFrame\n",
    "df_age = pd.DataFrame(ages2, columns = ['age'])"
   ]
  },
  {
   "cell_type": "code",
   "execution_count": 110,
   "id": "03b48d1f",
   "metadata": {
    "collapsed": true
   },
   "outputs": [
    {
     "data": {
      "text/html": [
       "<div>\n",
       "<style scoped>\n",
       "    .dataframe tbody tr th:only-of-type {\n",
       "        vertical-align: middle;\n",
       "    }\n",
       "\n",
       "    .dataframe tbody tr th {\n",
       "        vertical-align: top;\n",
       "    }\n",
       "\n",
       "    .dataframe thead th {\n",
       "        text-align: right;\n",
       "    }\n",
       "</style>\n",
       "<table border=\"1\" class=\"dataframe\">\n",
       "  <thead>\n",
       "    <tr style=\"text-align: right;\">\n",
       "      <th></th>\n",
       "      <th>age</th>\n",
       "    </tr>\n",
       "  </thead>\n",
       "  <tbody>\n",
       "    <tr>\n",
       "      <th>0</th>\n",
       "      <td>40</td>\n",
       "    </tr>\n",
       "    <tr>\n",
       "      <th>1</th>\n",
       "      <td>33</td>\n",
       "    </tr>\n",
       "    <tr>\n",
       "      <th>2</th>\n",
       "      <td>80</td>\n",
       "    </tr>\n",
       "    <tr>\n",
       "      <th>3</th>\n",
       "      <td>30</td>\n",
       "    </tr>\n",
       "    <tr>\n",
       "      <th>4</th>\n",
       "      <td>33</td>\n",
       "    </tr>\n",
       "    <tr>\n",
       "      <th>...</th>\n",
       "      <td>...</td>\n",
       "    </tr>\n",
       "    <tr>\n",
       "      <th>195</th>\n",
       "      <td>17</td>\n",
       "    </tr>\n",
       "    <tr>\n",
       "      <th>196</th>\n",
       "      <td>11</td>\n",
       "    </tr>\n",
       "    <tr>\n",
       "      <th>197</th>\n",
       "      <td>58</td>\n",
       "    </tr>\n",
       "    <tr>\n",
       "      <th>198</th>\n",
       "      <td>37</td>\n",
       "    </tr>\n",
       "    <tr>\n",
       "      <th>199</th>\n",
       "      <td>71</td>\n",
       "    </tr>\n",
       "  </tbody>\n",
       "</table>\n",
       "<p>200 rows × 1 columns</p>\n",
       "</div>"
      ],
      "text/plain": [
       "     age\n",
       "0     40\n",
       "1     33\n",
       "2     80\n",
       "3     30\n",
       "4     33\n",
       "..   ...\n",
       "195   17\n",
       "196   11\n",
       "197   58\n",
       "198   37\n",
       "199   71\n",
       "\n",
       "[200 rows x 1 columns]"
      ]
     },
     "execution_count": 110,
     "metadata": {},
     "output_type": "execute_result"
    }
   ],
   "source": [
    "df_age"
   ]
  },
  {
   "cell_type": "code",
   "execution_count": 111,
   "id": "fca6e11e",
   "metadata": {
    "collapsed": true
   },
   "outputs": [],
   "source": [
    "# pd.cut(df_age, 4)\n",
    "# 报错\n",
    "# DataFrame哪怕只有一列，也是一个二维的数据结构 \n",
    "# cut/qcut只能针对Series进行"
   ]
  },
  {
   "cell_type": "code",
   "execution_count": 112,
   "id": "cdf1407c",
   "metadata": {},
   "outputs": [
    {
     "data": {
      "text/plain": [
       "(200, 1)"
      ]
     },
     "execution_count": 112,
     "metadata": {},
     "output_type": "execute_result"
    }
   ],
   "source": [
    "df_age.shape"
   ]
  },
  {
   "cell_type": "code",
   "execution_count": 113,
   "id": "4f56480c",
   "metadata": {
    "collapsed": true
   },
   "outputs": [
    {
     "data": {
      "text/plain": [
       "0      (27.5, 45.0]\n",
       "1      (27.5, 45.0]\n",
       "2      (62.5, 80.0]\n",
       "3      (27.5, 45.0]\n",
       "4      (27.5, 45.0]\n",
       "           ...     \n",
       "195    (9.93, 27.5]\n",
       "196    (9.93, 27.5]\n",
       "197    (45.0, 62.5]\n",
       "198    (27.5, 45.0]\n",
       "199    (62.5, 80.0]\n",
       "Name: age, Length: 200, dtype: category\n",
       "Categories (4, interval[float64, right]): [(9.93, 27.5] < (27.5, 45.0] < (45.0, 62.5] < (62.5, 80.0]]"
      ]
     },
     "execution_count": 113,
     "metadata": {},
     "output_type": "execute_result"
    }
   ],
   "source": [
    "pd.cut(df_age.age, 4)"
   ]
  },
  {
   "cell_type": "code",
   "execution_count": 114,
   "id": "7dd7fb19",
   "metadata": {},
   "outputs": [
    {
     "data": {
      "text/plain": [
       "pandas.core.series.Series"
      ]
     },
     "execution_count": 114,
     "metadata": {},
     "output_type": "execute_result"
    }
   ],
   "source": [
    "type(pd.cut(df_age.age, 4))\n",
    "# 对Series进行分箱，返回的结果是由分好段的数据构成的Series"
   ]
  },
  {
   "cell_type": "code",
   "execution_count": 115,
   "id": "15283e45",
   "metadata": {
    "collapsed": true
   },
   "outputs": [
    {
     "data": {
      "text/plain": [
       "0      中年\n",
       "1      青年\n",
       "2      老年\n",
       "3      青年\n",
       "4      青年\n",
       "       ..\n",
       "195    少年\n",
       "196    少年\n",
       "197    中年\n",
       "198    青年\n",
       "199    老年\n",
       "Name: age, Length: 200, dtype: category\n",
       "Categories (4, object): ['少年' < '青年' < '中年' < '老年']"
      ]
     },
     "execution_count": 115,
     "metadata": {},
     "output_type": "execute_result"
    }
   ],
   "source": [
    "pd.cut(\n",
    "    df_age.age,\n",
    "    bins = [0, 18, 40, 60, 100],\n",
    "    right = False,\n",
    "    labels = ['少年', '青年', '中年', '老年']\n",
    ")\n",
    "# 转换的结果是一个有序分类变量"
   ]
  },
  {
   "cell_type": "code",
   "execution_count": 116,
   "id": "7b618d70",
   "metadata": {},
   "outputs": [],
   "source": [
    "df_age['年龄段'] = pd.cut(\n",
    "    df_age.age,\n",
    "    bins = [0, 18, 40, 60, 100],\n",
    "    right = False,\n",
    "    labels = ['少年', '青年', '中年', '老年']\n",
    ")\n",
    "# 把分好段的数据添加到DataFrame中：为数据打标签"
   ]
  },
  {
   "cell_type": "code",
   "execution_count": 117,
   "id": "704749d3",
   "metadata": {
    "collapsed": true
   },
   "outputs": [
    {
     "data": {
      "text/html": [
       "<div>\n",
       "<style scoped>\n",
       "    .dataframe tbody tr th:only-of-type {\n",
       "        vertical-align: middle;\n",
       "    }\n",
       "\n",
       "    .dataframe tbody tr th {\n",
       "        vertical-align: top;\n",
       "    }\n",
       "\n",
       "    .dataframe thead th {\n",
       "        text-align: right;\n",
       "    }\n",
       "</style>\n",
       "<table border=\"1\" class=\"dataframe\">\n",
       "  <thead>\n",
       "    <tr style=\"text-align: right;\">\n",
       "      <th></th>\n",
       "      <th>age</th>\n",
       "      <th>年龄段</th>\n",
       "    </tr>\n",
       "  </thead>\n",
       "  <tbody>\n",
       "    <tr>\n",
       "      <th>0</th>\n",
       "      <td>40</td>\n",
       "      <td>中年</td>\n",
       "    </tr>\n",
       "    <tr>\n",
       "      <th>1</th>\n",
       "      <td>33</td>\n",
       "      <td>青年</td>\n",
       "    </tr>\n",
       "    <tr>\n",
       "      <th>2</th>\n",
       "      <td>80</td>\n",
       "      <td>老年</td>\n",
       "    </tr>\n",
       "    <tr>\n",
       "      <th>3</th>\n",
       "      <td>30</td>\n",
       "      <td>青年</td>\n",
       "    </tr>\n",
       "    <tr>\n",
       "      <th>4</th>\n",
       "      <td>33</td>\n",
       "      <td>青年</td>\n",
       "    </tr>\n",
       "    <tr>\n",
       "      <th>...</th>\n",
       "      <td>...</td>\n",
       "      <td>...</td>\n",
       "    </tr>\n",
       "    <tr>\n",
       "      <th>195</th>\n",
       "      <td>17</td>\n",
       "      <td>少年</td>\n",
       "    </tr>\n",
       "    <tr>\n",
       "      <th>196</th>\n",
       "      <td>11</td>\n",
       "      <td>少年</td>\n",
       "    </tr>\n",
       "    <tr>\n",
       "      <th>197</th>\n",
       "      <td>58</td>\n",
       "      <td>中年</td>\n",
       "    </tr>\n",
       "    <tr>\n",
       "      <th>198</th>\n",
       "      <td>37</td>\n",
       "      <td>青年</td>\n",
       "    </tr>\n",
       "    <tr>\n",
       "      <th>199</th>\n",
       "      <td>71</td>\n",
       "      <td>老年</td>\n",
       "    </tr>\n",
       "  </tbody>\n",
       "</table>\n",
       "<p>200 rows × 2 columns</p>\n",
       "</div>"
      ],
      "text/plain": [
       "     age 年龄段\n",
       "0     40  中年\n",
       "1     33  青年\n",
       "2     80  老年\n",
       "3     30  青年\n",
       "4     33  青年\n",
       "..   ...  ..\n",
       "195   17  少年\n",
       "196   11  少年\n",
       "197   58  中年\n",
       "198   37  青年\n",
       "199   71  老年\n",
       "\n",
       "[200 rows x 2 columns]"
      ]
     },
     "execution_count": 117,
     "metadata": {},
     "output_type": "execute_result"
    }
   ],
   "source": [
    "df_age"
   ]
  },
  {
   "cell_type": "code",
   "execution_count": 118,
   "id": "2f759767",
   "metadata": {
    "collapsed": true
   },
   "outputs": [
    {
     "data": {
      "text/html": [
       "<div>\n",
       "<style scoped>\n",
       "    .dataframe tbody tr th:only-of-type {\n",
       "        vertical-align: middle;\n",
       "    }\n",
       "\n",
       "    .dataframe tbody tr th {\n",
       "        vertical-align: top;\n",
       "    }\n",
       "\n",
       "    .dataframe thead th {\n",
       "        text-align: right;\n",
       "    }\n",
       "</style>\n",
       "<table border=\"1\" class=\"dataframe\">\n",
       "  <thead>\n",
       "    <tr style=\"text-align: right;\">\n",
       "      <th></th>\n",
       "      <th>age</th>\n",
       "      <th>年龄段</th>\n",
       "    </tr>\n",
       "  </thead>\n",
       "  <tbody>\n",
       "    <tr>\n",
       "      <th>136</th>\n",
       "      <td>17</td>\n",
       "      <td>少年</td>\n",
       "    </tr>\n",
       "    <tr>\n",
       "      <th>28</th>\n",
       "      <td>17</td>\n",
       "      <td>少年</td>\n",
       "    </tr>\n",
       "    <tr>\n",
       "      <th>30</th>\n",
       "      <td>16</td>\n",
       "      <td>少年</td>\n",
       "    </tr>\n",
       "    <tr>\n",
       "      <th>141</th>\n",
       "      <td>13</td>\n",
       "      <td>少年</td>\n",
       "    </tr>\n",
       "    <tr>\n",
       "      <th>43</th>\n",
       "      <td>12</td>\n",
       "      <td>少年</td>\n",
       "    </tr>\n",
       "    <tr>\n",
       "      <th>...</th>\n",
       "      <td>...</td>\n",
       "      <td>...</td>\n",
       "    </tr>\n",
       "    <tr>\n",
       "      <th>79</th>\n",
       "      <td>62</td>\n",
       "      <td>老年</td>\n",
       "    </tr>\n",
       "    <tr>\n",
       "      <th>77</th>\n",
       "      <td>70</td>\n",
       "      <td>老年</td>\n",
       "    </tr>\n",
       "    <tr>\n",
       "      <th>73</th>\n",
       "      <td>71</td>\n",
       "      <td>老年</td>\n",
       "    </tr>\n",
       "    <tr>\n",
       "      <th>97</th>\n",
       "      <td>64</td>\n",
       "      <td>老年</td>\n",
       "    </tr>\n",
       "    <tr>\n",
       "      <th>199</th>\n",
       "      <td>71</td>\n",
       "      <td>老年</td>\n",
       "    </tr>\n",
       "  </tbody>\n",
       "</table>\n",
       "<p>200 rows × 2 columns</p>\n",
       "</div>"
      ],
      "text/plain": [
       "     age 年龄段\n",
       "136   17  少年\n",
       "28    17  少年\n",
       "30    16  少年\n",
       "141   13  少年\n",
       "43    12  少年\n",
       "..   ...  ..\n",
       "79    62  老年\n",
       "77    70  老年\n",
       "73    71  老年\n",
       "97    64  老年\n",
       "199   71  老年\n",
       "\n",
       "[200 rows x 2 columns]"
      ]
     },
     "execution_count": 118,
     "metadata": {},
     "output_type": "execute_result"
    }
   ],
   "source": [
    "df_age.sort_values(by = '年龄段')"
   ]
  },
  {
   "cell_type": "markdown",
   "id": "8759f98e",
   "metadata": {},
   "source": [
    "分箱和可视化的关系"
   ]
  },
  {
   "cell_type": "code",
   "execution_count": 119,
   "id": "071c9b6a",
   "metadata": {},
   "outputs": [
    {
     "data": {
      "text/plain": [
       "<Axes: >"
      ]
     },
     "execution_count": 119,
     "metadata": {},
     "output_type": "execute_result"
    },
    {
     "data": {
      "image/png": "[encoded data removed]",
      "text/plain": [
       "<Figure size 640x480 with 1 Axes>"
      ]
     },
     "metadata": {},
     "output_type": "display_data"
    }
   ],
   "source": [
    "# 小费数据集中，小费的分布情况 直方图\n",
    "tips.tip.hist(bins = 10)"
   ]
  },
  {
   "cell_type": "code",
   "execution_count": 120,
   "id": "aec68306",
   "metadata": {},
   "outputs": [
    {
     "data": {
      "text/plain": [
       "<Axes: >"
      ]
     },
     "execution_count": 120,
     "metadata": {},
     "output_type": "execute_result"
    },
    {
     "data": {
      "image/png": "[encoded data removed]",
      "text/plain": [
       "<Figure size 640x480 with 1 Axes>"
      ]
     },
     "metadata": {},
     "output_type": "display_data"
    }
   ],
   "source": [
    "pd.Series(np.random.randn(10000)).hist(bins = 1000)"
   ]
  },
  {
   "cell_type": "markdown",
   "id": "46ebf1ae",
   "metadata": {},
   "source": [
    "将小费按升序排列，等宽划分为10段，观察每段中的数据量"
   ]
  },
  {
   "cell_type": "code",
   "execution_count": 121,
   "id": "2eb7c4c7",
   "metadata": {},
   "outputs": [
    {
     "data": {
      "text/plain": [
       "tip\n",
       "(0.991, 1.9]    41\n",
       "(1.9, 2.8]      79\n",
       "(2.8, 3.7]      66\n",
       "(3.7, 4.6]      27\n",
       "(4.6, 5.5]      19\n",
       "(5.5, 6.4]       5\n",
       "(6.4, 7.3]       4\n",
       "(7.3, 8.2]       1\n",
       "(8.2, 9.1]       1\n",
       "(9.1, 10.0]      1\n",
       "Name: count, dtype: int64"
      ]
     },
     "execution_count": 121,
     "metadata": {},
     "output_type": "execute_result"
    }
   ],
   "source": [
    "pd.cut(tips.tip, bins = 10).value_counts().sort_index()"
   ]
  },
  {
   "cell_type": "code",
   "execution_count": 122,
   "id": "38c97c3e",
   "metadata": {},
   "outputs": [
    {
     "data": {
      "text/plain": [
       "<Axes: xlabel='tip'>"
      ]
     },
     "execution_count": 122,
     "metadata": {},
     "output_type": "execute_result"
    },
    {
     "data": {
      "image/png": "[encoded data removed]",
      "text/plain": [
       "<Figure size 640x480 with 1 Axes>"
      ]
     },
     "metadata": {},
     "output_type": "display_data"
    }
   ],
   "source": [
    "pd.cut(tips.tip, bins = 10).value_counts().sort_index().plot(kind = 'bar', width = 1)"
   ]
  }
 ],
 "metadata": {
  "kernelspec": {
   "display_name": "Python 3 (ipykernel)",
   "language": "python",
   "name": "python3"
  },
  "language_info": {
   "codemirror_mode": {
    "name": "ipython",
    "version": 3
   },
   "file_extension": ".py",
   "mimetype": "text/x-python",
   "name": "python",
   "nbconvert_exporter": "python",
   "pygments_lexer": "ipython3",
   "version": "3.11.3"
  },
  "toc": {
   "base_numbering": 1,
   "nav_menu": {},
   "number_sections": false,
   "sideBar": true,
   "skip_h1_title": false,
   "title_cell": "Table of Contents",
   "title_sidebar": "Contents",
   "toc_cell": false,
   "toc_position": {
    "height": "calc(100% - 180px)",
    "left": "10px",
    "top": "150px",
    "width": "165px"
   },
   "toc_section_display": true,
   "toc_window_display": true
  }
 },
 "nbformat": 4,
 "nbformat_minor": 5
}
