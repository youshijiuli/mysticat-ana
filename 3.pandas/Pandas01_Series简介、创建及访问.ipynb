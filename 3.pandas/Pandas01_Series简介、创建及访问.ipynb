{
 "cells": [
  {
   "attachments": {
    "image.png": {
     "image/png": "[encoded data removed]"
    }
   },
   "cell_type": "markdown",
   "id": "320de7bd",
   "metadata": {},
   "source": [
    "# 1.Pandas中的基本数据结构 Series\n",
    "## 1.1 Series简介\n",
    "由一列数据和数据对应的索引构成的对象\n",
    "![image.png](attachment:image.png)"
   ]
  },
  {
   "cell_type": "markdown",
   "id": "3199d2c5",
   "metadata": {},
   "source": [
    "从本质上来说，Series是一个一维的数据结构（Numpy的一维数组），每个Series对象都由两部分构成：index, values\n",
    "\n",
    "    index : 索引，也是一个数组\n",
    "    values : 值，一维数组"
   ]
  },
  {
   "cell_type": "markdown",
   "id": "6bf2205c",
   "metadata": {},
   "source": [
    "## 1.2 创建Series\n",
    "\n",
    "    pd.Series(\n",
    "        data=None,                # 数据，一般是数组类对象/序列/字典等\n",
    "        index=None,               # 索引，如果没有指定，就直接显示位置索引\n",
    "        dtype: 'Dtype | None' = None,   # 数据类型，如果没有指定，就自动根据data的内容决定\n",
    "        name=None,\n",
    "        copy: 'bool' = False,\n",
    "        fastpath: 'bool' = False,\n",
    "    )"
   ]
  },
  {
   "cell_type": "code",
   "execution_count": 1,
   "id": "176c55d0",
   "metadata": {},
   "outputs": [],
   "source": [
    "import numpy as np\n",
    "import pandas as pd"
   ]
  },
  {
   "cell_type": "markdown",
   "id": "cd731e50",
   "metadata": {},
   "source": [
    "### 创建空的Series"
   ]
  },
  {
   "cell_type": "code",
   "execution_count": 2,
   "id": "b32cd67a",
   "metadata": {},
   "outputs": [],
   "source": [
    "s1 = pd.Series()"
   ]
  },
  {
   "cell_type": "code",
   "execution_count": 3,
   "id": "0e26c1cd",
   "metadata": {},
   "outputs": [
    {
     "data": {
      "text/plain": [
       "Series([], dtype: object)"
      ]
     },
     "execution_count": 3,
     "metadata": {},
     "output_type": "execute_result"
    }
   ],
   "source": [
    "s1"
   ]
  },
  {
   "cell_type": "markdown",
   "id": "7ebbc9d7",
   "metadata": {},
   "source": [
    "### 同时指定values和index创建Series"
   ]
  },
  {
   "cell_type": "code",
   "execution_count": 4,
   "id": "30bc6082",
   "metadata": {},
   "outputs": [],
   "source": [
    "s2 = pd.Series([1,2,3,4,5,6], index = list('abcdef'))"
   ]
  },
  {
   "cell_type": "code",
   "execution_count": 5,
   "id": "a6be2b78",
   "metadata": {
    "collapsed": true
   },
   "outputs": [
    {
     "data": {
      "text/plain": [
       "a    1\n",
       "b    2\n",
       "c    3\n",
       "d    4\n",
       "e    5\n",
       "f    6\n",
       "dtype: int64"
      ]
     },
     "execution_count": 5,
     "metadata": {},
     "output_type": "execute_result"
    }
   ],
   "source": [
    "s2"
   ]
  },
  {
   "cell_type": "code",
   "execution_count": 6,
   "id": "2eade86f",
   "metadata": {
    "collapsed": true
   },
   "outputs": [
    {
     "data": {
      "text/plain": [
       "Index(['a', 'b', 'c', 'd', 'e', 'f'], dtype='object')"
      ]
     },
     "execution_count": 6,
     "metadata": {},
     "output_type": "execute_result"
    }
   ],
   "source": [
    "s2.index\n",
    "# 返回Series的索引，本质上是一个特殊的Numpy数组"
   ]
  },
  {
   "cell_type": "code",
   "execution_count": 7,
   "id": "d1ce2eca",
   "metadata": {
    "collapsed": true
   },
   "outputs": [
    {
     "data": {
      "text/plain": [
       "'a'"
      ]
     },
     "execution_count": 7,
     "metadata": {},
     "output_type": "execute_result"
    }
   ],
   "source": [
    "s2.index[0]"
   ]
  },
  {
   "cell_type": "code",
   "execution_count": 8,
   "id": "92accdf0",
   "metadata": {
    "collapsed": true
   },
   "outputs": [
    {
     "data": {
      "text/plain": [
       "array([1, 2, 3, 4, 5, 6], dtype=int64)"
      ]
     },
     "execution_count": 8,
     "metadata": {},
     "output_type": "execute_result"
    }
   ],
   "source": [
    "s2.values\n",
    "# Series的值，是一个一维数组"
   ]
  },
  {
   "cell_type": "code",
   "execution_count": 9,
   "id": "013b2841",
   "metadata": {
    "collapsed": true
   },
   "outputs": [
    {
     "data": {
      "text/plain": [
       "(6,)"
      ]
     },
     "execution_count": 9,
     "metadata": {},
     "output_type": "execute_result"
    }
   ],
   "source": [
    "s2.values.shape"
   ]
  },
  {
   "cell_type": "markdown",
   "id": "7302bb63",
   "metadata": {},
   "source": [
    "Series可以视为一个有序的字典，因此，可以直接使用字典创建Series"
   ]
  },
  {
   "cell_type": "code",
   "execution_count": 10,
   "id": "a915e9fa",
   "metadata": {},
   "outputs": [],
   "source": [
    "s3 = pd.Series(\n",
    "    {\n",
    "        '姓名':'张三',\n",
    "        '性别':'男',\n",
    "        '年龄':20\n",
    "    }\n",
    ")\n",
    "# 将字典转换为Series，字典的键成为Series的index，字典的值成为values"
   ]
  },
  {
   "cell_type": "code",
   "execution_count": 11,
   "id": "355d0642",
   "metadata": {
    "collapsed": true
   },
   "outputs": [
    {
     "data": {
      "text/plain": [
       "姓名    张三\n",
       "性别     男\n",
       "年龄    20\n",
       "dtype: object"
      ]
     },
     "execution_count": 11,
     "metadata": {},
     "output_type": "execute_result"
    }
   ],
   "source": [
    "s3"
   ]
  },
  {
   "cell_type": "markdown",
   "id": "e489ec4f",
   "metadata": {},
   "source": [
    "### 创建只有values的Series"
   ]
  },
  {
   "cell_type": "code",
   "execution_count": 12,
   "id": "35c3cf62",
   "metadata": {},
   "outputs": [],
   "source": [
    "s4 = pd.Series(np.random.randint(1,11,10))\n",
    "# 没有指定index,会自动用位置索引作为index显示出来"
   ]
  },
  {
   "cell_type": "code",
   "execution_count": 13,
   "id": "1cd9f831",
   "metadata": {
    "collapsed": true
   },
   "outputs": [
    {
     "data": {
      "text/plain": [
       "0    4\n",
       "1    8\n",
       "2    8\n",
       "3    9\n",
       "4    5\n",
       "5    8\n",
       "6    6\n",
       "7    9\n",
       "8    3\n",
       "9    4\n",
       "dtype: int32"
      ]
     },
     "execution_count": 13,
     "metadata": {},
     "output_type": "execute_result"
    }
   ],
   "source": [
    "s4"
   ]
  },
  {
   "cell_type": "code",
   "execution_count": 14,
   "id": "51d9a086",
   "metadata": {},
   "outputs": [
    {
     "data": {
      "text/plain": [
       "4"
      ]
     },
     "execution_count": 14,
     "metadata": {},
     "output_type": "execute_result"
    }
   ],
   "source": [
    "s4[0]"
   ]
  },
  {
   "cell_type": "code",
   "execution_count": 15,
   "id": "f2442188",
   "metadata": {},
   "outputs": [
    {
     "name": "stderr",
     "output_type": "stream",
     "text": [
      "C:\\Users\\hechang\\AppData\\Local\\Temp\\ipykernel_25760\\397937684.py:1: FutureWarning: Series.__getitem__ treating keys as positions is deprecated. In a future version, integer keys will always be treated as labels (consistent with DataFrame behavior). To access a value by position, use `ser.iloc[pos]`\n",
      "  s3[0]\n"
     ]
    },
    {
     "data": {
      "text/plain": [
       "'张三'"
      ]
     },
     "execution_count": 15,
     "metadata": {},
     "output_type": "execute_result"
    }
   ],
   "source": [
    "s3[0]"
   ]
  },
  {
   "cell_type": "markdown",
   "id": "c75be076",
   "metadata": {},
   "source": [
    "## 1.3 访问Series及其中的元素\n",
    "### 通过方法进行访问\n",
    "\n",
    "    Series.head(n) : 访问Series中开头的n个元素，默认是5\n",
    "    Series.tail(n) : 访问尾部的n个元素\n",
    "    Series.take([索引的列表]) : 按指定的索引列表访问对应的元素（花式索引）"
   ]
  },
  {
   "cell_type": "code",
   "execution_count": 16,
   "id": "8f8edd38",
   "metadata": {
    "collapsed": true
   },
   "outputs": [
    {
     "data": {
      "text/plain": [
       "0    4\n",
       "1    8\n",
       "2    8\n",
       "3    9\n",
       "4    5\n",
       "5    8\n",
       "6    6\n",
       "7    9\n",
       "8    3\n",
       "9    4\n",
       "dtype: int32"
      ]
     },
     "execution_count": 16,
     "metadata": {},
     "output_type": "execute_result"
    }
   ],
   "source": [
    "s4"
   ]
  },
  {
   "cell_type": "code",
   "execution_count": 17,
   "id": "debfa01e",
   "metadata": {
    "collapsed": true
   },
   "outputs": [
    {
     "data": {
      "text/plain": [
       "0    4\n",
       "1    8\n",
       "2    8\n",
       "3    9\n",
       "4    5\n",
       "dtype: int32"
      ]
     },
     "execution_count": 17,
     "metadata": {},
     "output_type": "execute_result"
    }
   ],
   "source": [
    "s4.head()"
   ]
  },
  {
   "cell_type": "code",
   "execution_count": 18,
   "id": "167419c1",
   "metadata": {
    "collapsed": true
   },
   "outputs": [
    {
     "data": {
      "text/plain": [
       "0    4\n",
       "1    8\n",
       "2    8\n",
       "dtype: int32"
      ]
     },
     "execution_count": 18,
     "metadata": {},
     "output_type": "execute_result"
    }
   ],
   "source": [
    "s4.head(3)"
   ]
  },
  {
   "cell_type": "code",
   "execution_count": 19,
   "id": "654b68b0",
   "metadata": {
    "collapsed": true
   },
   "outputs": [
    {
     "data": {
      "text/plain": [
       "6    6\n",
       "7    9\n",
       "8    3\n",
       "9    4\n",
       "dtype: int32"
      ]
     },
     "execution_count": 19,
     "metadata": {},
     "output_type": "execute_result"
    }
   ],
   "source": [
    "s4.tail(4)"
   ]
  },
  {
   "cell_type": "code",
   "execution_count": 20,
   "id": "58469792",
   "metadata": {
    "collapsed": true
   },
   "outputs": [],
   "source": [
    "# s4.take(2)\n",
    "# take一定要将索引放在列表中"
   ]
  },
  {
   "cell_type": "code",
   "execution_count": 21,
   "id": "527c831f",
   "metadata": {
    "collapsed": true
   },
   "outputs": [
    {
     "data": {
      "text/plain": [
       "2    8\n",
       "dtype: int32"
      ]
     },
     "execution_count": 21,
     "metadata": {},
     "output_type": "execute_result"
    }
   ],
   "source": [
    "s4.take([2])"
   ]
  },
  {
   "cell_type": "code",
   "execution_count": 22,
   "id": "83ba68f9",
   "metadata": {
    "collapsed": true
   },
   "outputs": [
    {
     "data": {
      "text/plain": [
       "2    8\n",
       "1    8\n",
       "3    9\n",
       "dtype: int32"
      ]
     },
     "execution_count": 22,
     "metadata": {},
     "output_type": "execute_result"
    }
   ],
   "source": [
    "s4.take([2,1,3])"
   ]
  },
  {
   "cell_type": "code",
   "execution_count": 23,
   "id": "2a5b10ef",
   "metadata": {},
   "outputs": [
    {
     "data": {
      "text/plain": [
       "1    8\n",
       "3    9\n",
       "dtype: int32"
      ]
     },
     "execution_count": 23,
     "metadata": {},
     "output_type": "execute_result"
    }
   ],
   "source": [
    "s4.take(range(1,5,2))"
   ]
  },
  {
   "cell_type": "markdown",
   "id": "7448d2ee",
   "metadata": {},
   "source": [
    "### 通过索引和切片访问（基于位置索引和标签索引）\n",
    "\n",
    "    索引：\n",
    "    Series[位置索引]\n",
    "    Series[标签索引]\n",
    "    Series.iloc[位置索引] # integer location \n",
    "    Series.loc[标签索引]\n",
    "    loc / iloc 按行访问\n",
    "    \n",
    "    Series[[]] # 花式索引：基于位置/标签的数组/列表\n",
    "    Series[条件表达式]  # 布尔索引\n",
    "    \n",
    "    切片：位置的切片/标签的切片\n",
    "    位置切片 Series[start:stop:step] 和列表/数组类似，返回左闭右开的区间\n",
    "    标签切片 返回闭区间"
   ]
  },
  {
   "cell_type": "code",
   "execution_count": 24,
   "id": "c56736dc",
   "metadata": {},
   "outputs": [],
   "source": [
    "s5 = pd.Series(np.arange(8), index = list('abcdefgh'))"
   ]
  },
  {
   "cell_type": "code",
   "execution_count": 25,
   "id": "5bdb8f1c",
   "metadata": {},
   "outputs": [
    {
     "data": {
      "text/plain": [
       "a    0\n",
       "b    1\n",
       "c    2\n",
       "d    3\n",
       "e    4\n",
       "f    5\n",
       "g    6\n",
       "h    7\n",
       "dtype: int32"
      ]
     },
     "execution_count": 25,
     "metadata": {},
     "output_type": "execute_result"
    }
   ],
   "source": [
    "s5"
   ]
  },
  {
   "cell_type": "code",
   "execution_count": 26,
   "id": "8a5be513",
   "metadata": {},
   "outputs": [
    {
     "name": "stderr",
     "output_type": "stream",
     "text": [
      "C:\\Users\\hechang\\AppData\\Local\\Temp\\ipykernel_25760\\569494456.py:2: FutureWarning: Series.__getitem__ treating keys as positions is deprecated. In a future version, integer keys will always be treated as labels (consistent with DataFrame behavior). To access a value by position, use `ser.iloc[pos]`\n",
      "  s5[0]\n"
     ]
    },
    {
     "data": {
      "text/plain": [
       "0"
      ]
     },
     "execution_count": 26,
     "metadata": {},
     "output_type": "execute_result"
    }
   ],
   "source": [
    "# 位置索引\n",
    "s5[0]"
   ]
  },
  {
   "cell_type": "code",
   "execution_count": 27,
   "id": "dac7a3b7",
   "metadata": {},
   "outputs": [
    {
     "name": "stderr",
     "output_type": "stream",
     "text": [
      "C:\\Users\\hechang\\AppData\\Local\\Temp\\ipykernel_25760\\2608061338.py:1: FutureWarning: Series.__getitem__ treating keys as positions is deprecated. In a future version, integer keys will always be treated as labels (consistent with DataFrame behavior). To access a value by position, use `ser.iloc[pos]`\n",
      "  s5[-1]\n"
     ]
    },
    {
     "data": {
      "text/plain": [
       "7"
      ]
     },
     "execution_count": 27,
     "metadata": {},
     "output_type": "execute_result"
    }
   ],
   "source": [
    "s5[-1]"
   ]
  },
  {
   "cell_type": "code",
   "execution_count": 28,
   "id": "93e16296",
   "metadata": {},
   "outputs": [
    {
     "data": {
      "text/plain": [
       "0"
      ]
     },
     "execution_count": 28,
     "metadata": {},
     "output_type": "execute_result"
    }
   ],
   "source": [
    "# 标签\n",
    "s5['a']"
   ]
  },
  {
   "cell_type": "code",
   "execution_count": 29,
   "id": "092b6a90",
   "metadata": {},
   "outputs": [
    {
     "data": {
      "text/plain": [
       "7"
      ]
     },
     "execution_count": 29,
     "metadata": {},
     "output_type": "execute_result"
    }
   ],
   "source": [
    "s5['h']"
   ]
  },
  {
   "cell_type": "code",
   "execution_count": 30,
   "id": "0ca94437",
   "metadata": {},
   "outputs": [
    {
     "data": {
      "text/plain": [
       "0"
      ]
     },
     "execution_count": 30,
     "metadata": {},
     "output_type": "execute_result"
    }
   ],
   "source": [
    "s5.loc['a']"
   ]
  },
  {
   "cell_type": "code",
   "execution_count": 31,
   "id": "311f2979",
   "metadata": {},
   "outputs": [
    {
     "data": {
      "text/plain": [
       "0"
      ]
     },
     "execution_count": 31,
     "metadata": {},
     "output_type": "execute_result"
    }
   ],
   "source": [
    "s5.iloc[0]\n",
    "# 返回第一行"
   ]
  },
  {
   "cell_type": "code",
   "execution_count": 32,
   "id": "b203d9c0",
   "metadata": {
    "collapsed": true
   },
   "outputs": [
    {
     "name": "stderr",
     "output_type": "stream",
     "text": [
      "C:\\Users\\hechang\\AppData\\Local\\Temp\\ipykernel_25760\\465782681.py:2: FutureWarning: Series.__getitem__ treating keys as positions is deprecated. In a future version, integer keys will always be treated as labels (consistent with DataFrame behavior). To access a value by position, use `ser.iloc[pos]`\n",
      "  s5[[1,4,2]]\n"
     ]
    },
    {
     "data": {
      "text/plain": [
       "b    1\n",
       "e    4\n",
       "c    2\n",
       "dtype: int32"
      ]
     },
     "execution_count": 32,
     "metadata": {},
     "output_type": "execute_result"
    }
   ],
   "source": [
    "# 花式索引\n",
    "s5[[1,4,2]]"
   ]
  },
  {
   "cell_type": "code",
   "execution_count": 33,
   "id": "987b1829",
   "metadata": {
    "collapsed": true
   },
   "outputs": [
    {
     "data": {
      "text/plain": [
       "b    1\n",
       "e    4\n",
       "c    2\n",
       "dtype: int32"
      ]
     },
     "execution_count": 33,
     "metadata": {},
     "output_type": "execute_result"
    }
   ],
   "source": [
    "s5.iloc[[1,4,2]]"
   ]
  },
  {
   "cell_type": "code",
   "execution_count": 34,
   "id": "157d1f34",
   "metadata": {
    "collapsed": true
   },
   "outputs": [
    {
     "data": {
      "text/plain": [
       "e    4\n",
       "a    0\n",
       "h    7\n",
       "dtype: int32"
      ]
     },
     "execution_count": 34,
     "metadata": {},
     "output_type": "execute_result"
    }
   ],
   "source": [
    "s5[['e','a','h']]"
   ]
  },
  {
   "cell_type": "code",
   "execution_count": 35,
   "id": "7797aece",
   "metadata": {
    "collapsed": true
   },
   "outputs": [
    {
     "data": {
      "text/plain": [
       "a    False\n",
       "b    False\n",
       "c    False\n",
       "d    False\n",
       "e    False\n",
       "f     True\n",
       "g     True\n",
       "h     True\n",
       "dtype: bool"
      ]
     },
     "execution_count": 35,
     "metadata": {},
     "output_type": "execute_result"
    }
   ],
   "source": [
    "s5 > 4\n",
    "# 布尔索引\n",
    "# 返回的结果是一个布尔型的Series,可以直接作为索引"
   ]
  },
  {
   "cell_type": "code",
   "execution_count": 36,
   "id": "f4147d23",
   "metadata": {},
   "outputs": [
    {
     "data": {
      "text/plain": [
       "f    5\n",
       "g    6\n",
       "h    7\n",
       "dtype: int32"
      ]
     },
     "execution_count": 36,
     "metadata": {},
     "output_type": "execute_result"
    }
   ],
   "source": [
    "s5[s5 > 4]"
   ]
  },
  {
   "cell_type": "code",
   "execution_count": 37,
   "id": "7ea4b163",
   "metadata": {},
   "outputs": [
    {
     "data": {
      "text/plain": [
       "f    5\n",
       "g    6\n",
       "h    7\n",
       "dtype: int32"
      ]
     },
     "execution_count": 37,
     "metadata": {},
     "output_type": "execute_result"
    }
   ],
   "source": [
    "s5[(s5 > 4) & (s5 <8)]"
   ]
  },
  {
   "cell_type": "code",
   "execution_count": 38,
   "id": "8d439b0b",
   "metadata": {},
   "outputs": [
    {
     "data": {
      "text/plain": [
       "b    1\n",
       "c    2\n",
       "d    3\n",
       "e    4\n",
       "dtype: int32"
      ]
     },
     "execution_count": 38,
     "metadata": {},
     "output_type": "execute_result"
    }
   ],
   "source": [
    "# 切片\n",
    "# 位置切片\n",
    "s5[1:5]\n",
    "# 左闭右开"
   ]
  },
  {
   "cell_type": "code",
   "execution_count": 39,
   "id": "ff1e7770",
   "metadata": {},
   "outputs": [
    {
     "data": {
      "text/plain": [
       "a    0\n",
       "b    1\n",
       "c    2\n",
       "d    3\n",
       "e    4\n",
       "dtype: int32"
      ]
     },
     "execution_count": 39,
     "metadata": {},
     "output_type": "execute_result"
    }
   ],
   "source": [
    "# 标签切片\n",
    "s5['a' : 'e']\n",
    "# 闭区间"
   ]
  },
  {
   "cell_type": "code",
   "execution_count": 40,
   "id": "86f95661",
   "metadata": {},
   "outputs": [
    {
     "data": {
      "text/plain": [
       "b    1\n",
       "c    2\n",
       "dtype: int32"
      ]
     },
     "execution_count": 40,
     "metadata": {},
     "output_type": "execute_result"
    }
   ],
   "source": [
    "s5.iloc[1:3]"
   ]
  },
  {
   "cell_type": "code",
   "execution_count": 41,
   "id": "ca1883e4",
   "metadata": {},
   "outputs": [
    {
     "data": {
      "text/plain": [
       "a    0\n",
       "b    1\n",
       "c    2\n",
       "d    3\n",
       "e    4\n",
       "dtype: int32"
      ]
     },
     "execution_count": 41,
     "metadata": {},
     "output_type": "execute_result"
    }
   ],
   "source": [
    "s5.loc['a':'e']"
   ]
  }
 ],
 "metadata": {
  "kernelspec": {
   "display_name": "Python 3 (ipykernel)",
   "language": "python",
   "name": "python3"
  },
  "language_info": {
   "codemirror_mode": {
    "name": "ipython",
    "version": 3
   },
   "file_extension": ".py",
   "mimetype": "text/x-python",
   "name": "python",
   "nbconvert_exporter": "python",
   "pygments_lexer": "ipython3",
   "version": "3.11.3"
  },
  "toc": {
   "base_numbering": 1,
   "nav_menu": {},
   "number_sections": false,
   "sideBar": true,
   "skip_h1_title": false,
   "title_cell": "Table of Contents",
   "title_sidebar": "Contents",
   "toc_cell": false,
   "toc_position": {},
   "toc_section_display": true,
   "toc_window_display": true
  }
 },
 "nbformat": 4,
 "nbformat_minor": 5
}
