{
 "cells": [
  {
   "cell_type": "markdown",
   "metadata": {},
   "source": [
    "## ndarray"
   ]
  },
  {
   "cell_type": "code",
   "execution_count": 1,
   "metadata": {},
   "outputs": [],
   "source": [
    "import numpy as np"
   ]
  },
  {
   "cell_type": "code",
   "execution_count": 2,
   "metadata": {},
   "outputs": [
    {
     "data": {
      "text/plain": [
       "array([1, 2, 3])"
      ]
     },
     "execution_count": 2,
     "metadata": {},
     "output_type": "execute_result"
    }
   ],
   "source": [
    "a = np.array([1,2,3])\n",
    "a"
   ]
  },
  {
   "cell_type": "code",
   "execution_count": 3,
   "metadata": {},
   "outputs": [
    {
     "data": {
      "text/plain": [
       "array([[1, 2, 3],\n",
       "       [4, 5, 6],\n",
       "       [7, 8, 9]])"
      ]
     },
     "execution_count": 3,
     "metadata": {},
     "output_type": "execute_result"
    }
   ],
   "source": [
    "b = np.array([[1,2,3],[4,5,6],[7,8,9]])\n",
    "b"
   ]
  },
  {
   "cell_type": "code",
   "execution_count": 4,
   "metadata": {},
   "outputs": [
    {
     "name": "stdout",
     "output_type": "stream",
     "text": [
      "[[[1 2 3 4 5]]]\n"
     ]
    }
   ],
   "source": [
    "# 生成3层嵌套数组\n",
    "c = np.array([1,2,3,4,5],ndmin=3)\n",
    "print(c)"
   ]
  },
  {
   "cell_type": "code",
   "execution_count": 5,
   "metadata": {},
   "outputs": [
    {
     "data": {
      "text/plain": [
       "array([[1.  , 2.  , 3.  ],\n",
       "       [1.23, 2.34, 4.56]])"
      ]
     },
     "execution_count": 5,
     "metadata": {},
     "output_type": "execute_result"
    }
   ],
   "source": [
    "# 设置dtype数组元素的数据类型\n",
    "d = np.array([[1,2,3],[1.23,2.34,4.56]],dtype=np.float64)\n",
    "d"
   ]
  },
  {
   "cell_type": "markdown",
   "metadata": {},
   "source": [
    "## dtype"
   ]
  },
  {
   "cell_type": "code",
   "execution_count": 6,
   "metadata": {},
   "outputs": [],
   "source": [
    "import numpy as np"
   ]
  },
  {
   "cell_type": "code",
   "execution_count": 7,
   "metadata": {},
   "outputs": [
    {
     "data": {
      "text/plain": [
       "dtype('int32')"
      ]
     },
     "execution_count": 7,
     "metadata": {},
     "output_type": "execute_result"
    }
   ],
   "source": [
    "# 标量\n",
    "dt0 = np.dtype(np.int32)\n",
    "dt0"
   ]
  },
  {
   "cell_type": "code",
   "execution_count": 8,
   "metadata": {},
   "outputs": [
    {
     "data": {
      "text/plain": [
       "dtype('int64')"
      ]
     },
     "execution_count": 8,
     "metadata": {},
     "output_type": "execute_result"
    }
   ],
   "source": [
    "#  int8, int16, int32, int64 四种数据类型可以使用字符串 'i1', 'i2','i4','i8' 代替\n",
    "dt1 = np.dtype('i8')\n",
    "dt1"
   ]
  },
  {
   "cell_type": "code",
   "execution_count": 10,
   "metadata": {},
   "outputs": [
    {
     "name": "stdout",
     "output_type": "stream",
     "text": [
      "int32\n",
      "[('name', 'S10'), ('考试合格', '?'), ('成绩', 'i1')]\n",
      "[(b'jack',  True, 80) (b'rose', False, 56) (b'sandra',  True, 95)]\n"
     ]
    }
   ],
   "source": [
    "# 小端法存储数据\n",
    "dt2 = np.dtype('<i4')\n",
    "print(dt2)\n",
    "dt3 = np.dtype([('name','S10'),('考试合格',np.bool_),('成绩',np.int8)])\n",
    "print(dt3)\n",
    "a1 = np.array([('jack',True,80),('rose',False,56),('sandra',True,95)], dtype = dt3)\n",
    "print(a1)"
   ]
  },
  {
   "cell_type": "code",
   "execution_count": 11,
   "metadata": {},
   "outputs": [
    {
     "data": {
      "text/plain": [
       "'\\n每个内建类型都有一个唯一定义它的字符代码\\n字符    对应类型\\nb       布尔型 \\ni       (有符号) 整型 \\nu       无符号整型 integer \\nf       浮点型 \\nc       复数浮点型 \\nm       timedelta（时间间隔） \\nM       datetime（日期时间） \\nO       (Python) 对象 \\nS,a    (byte-)字符串 \\nU       Unicode \\nV       原始数据 (void) \\n'"
      ]
     },
     "execution_count": 11,
     "metadata": {},
     "output_type": "execute_result"
    }
   ],
   "source": [
    "'''\n",
    "每个内建类型都有一个唯一定义它的字符代码\n",
    "字符    对应类型\n",
    "b       布尔型 \n",
    "i       (有符号) 整型 \n",
    "u       无符号整型 integer \n",
    "f       浮点型 \n",
    "c       复数浮点型 \n",
    "m       timedelta（时间间隔） \n",
    "M       datetime（日期时间） \n",
    "O       (Python) 对象 \n",
    "S,a    (byte-)字符串 \n",
    "U       Unicode \n",
    "V       原始数据 (void) \n",
    "'''"
   ]
  },
  {
   "cell_type": "code",
   "execution_count": 13,
   "metadata": {},
   "outputs": [
    {
     "name": "stdout",
     "output_type": "stream",
     "text": [
      "小端法存储：\n",
      "[1 0 0 0 2 0 0 0 3 0 0 0]\n",
      "大端法存储：\n",
      "[0 0 0 1 0 0 0 2 0 0 0 3]\n"
     ]
    }
   ],
   "source": [
    "#大小端内存存储演示\n",
    "dt_a = np.array([1,2,3])\n",
    "print('小端法存储：')\n",
    "print(dt_a.view(np.uint8))\n",
    "dt_a.newbyteorder().byteswap(inplace=True)\n",
    "print('大端法存储：')\n",
    "print(dt_a.view(np.uint8))"
   ]
  },
  {
   "cell_type": "markdown",
   "metadata": {},
   "source": [
    "## 03_ndarrayAttr"
   ]
  },
  {
   "cell_type": "code",
   "execution_count": 19,
   "metadata": {},
   "outputs": [
    {
     "name": "stdout",
     "output_type": "stream",
     "text": [
      "a数组维度=1\n",
      "-----------------------------------------------------\n",
      "3\n",
      "-----------------------------------------------------\n",
      "(24,)\n",
      "(2, 6, 2)\n",
      "-----------------------------------------------------\n",
      "[[1 2]\n",
      " [3 4]\n",
      " [5 6]]\n",
      "-----------------------------------------------------\n",
      "e数组占用1个8字节\n",
      "-----------------------------------------------------\n",
      "f数组占用8个8字节\n",
      "-----------------------------------------------------\n",
      "  C_CONTIGUOUS : True\n",
      "  F_CONTIGUOUS : True\n",
      "  OWNDATA : True\n",
      "  WRITEABLE : True\n",
      "  ALIGNED : True\n",
      "  WRITEBACKIFCOPY : False\n",
      "\n"
     ]
    }
   ],
   "source": [
    "import numpy as np\n",
    "\n",
    "three_x1 = np.arange(24) # 创建等差数组\n",
    "print(f'a数组维度={str(three_x1.ndim)}')\n",
    "print('-----------------------------------------------------')\n",
    "# 现在调整其大小,reshape的3个参数的乘积等于原先一维数组的长度\n",
    "three_x2 = three_x1.reshape(2,6,2)\n",
    "print(three_x2.ndim)\n",
    "print('-----------------------------------------------------')\n",
    "\n",
    "# 数组形状\n",
    "print(three_x1.shape)\n",
    "print(three_x2.shape)\n",
    "\n",
    "print('-----------------------------------------------------')\n",
    "#将数组调整为3行2列\n",
    "three_x3 = np.array([[1,2,3],[4,5,6]])\n",
    "three_x3.shape = (3,2)\n",
    "print(three_x3)\n",
    "print('-----------------------------------------------------')\n",
    "\n",
    "#一个元素类型为float64的数组itemsize属性值为8(float64占用64个bits,每个字节长度为8，\n",
    "# 所以64/8,占用8个字节）\n",
    "# 数组的 dtype 为 int8（一个字节）\n",
    "three_x4 = np.array([1,2,3,4,5],dtype=np.int8)\n",
    "print('e数组占用'+str(three_x4.itemsize)+'个8字节') # e数组占用1个8字节\n",
    "print('-----------------------------------------------------')\n",
    "# 数组的 dtype 现在为 float64（八个字节）\n",
    "\n",
    "three_x5 = np.array([1,2,3,4,5],dtype=np.float64)\n",
    "print('f数组占用'+str(three_x5.itemsize)+'个8字节') # f数组占用8个8字节\n",
    "print('-----------------------------------------------------')\n",
    "three_x6 = np.array([1,2,3,4,5])\n",
    "print(three_x6.flags) # 返回 ndarray 对象的内存信息\n",
    "\n",
    "# C_CONTIGUOUS : True      #数据是在一个单一的C风格的连续段中\n",
    "# F_CONTIGUOUS : True      #数据是在一个单一的Fortran风格的连续段中\n",
    "# OWNDATA : True           #数组拥有它所使用的内存或从另一个对象中借用它\n",
    "# WRITEABLE : True         #数据区域可以被写入，将该值设置为 False，则数据为只读\n",
    "# ALIGNED : True           #数据和所有元素都适当地对齐到硬件上\n",
    "# WRITEBACKIFCOPY : False  #此数组是其他数组的副本\n",
    "# UPDATEIFCOPY : False     #这个数组是其它数组的一个副本，当这个数组被释放时，原数组的内容将被更新"
   ]
  },
  {
   "cell_type": "markdown",
   "metadata": {},
   "source": [
    "## 04_ndarrayCreate"
   ]
  },
  {
   "cell_type": "code",
   "execution_count": 14,
   "metadata": {},
   "outputs": [],
   "source": [
    "import numpy as np"
   ]
  },
  {
   "cell_type": "code",
   "execution_count": 15,
   "metadata": {},
   "outputs": [
    {
     "name": "stdout",
     "output_type": "stream",
     "text": [
      "[[749441328       399]\n",
      " [        0         0]\n",
      " [   131074         0]]\n",
      "[0. 0. 0. 0. 0.]\n",
      "[0 0 0 0 0]\n",
      "[[(0, 0) (0, 0)]\n",
      " [(0, 0) (0, 0)]]\n",
      "[1. 1. 1. 1. 1.]\n",
      "[[1 1]\n",
      " [1 1]]\n"
     ]
    }
   ],
   "source": [
    "# numpy.empty创建一个指定形状（shape）、数据类型（dtype）且未初始化的数组\n",
    "four_x1 = np.empty([3,2],dtype=int)\n",
    "#numpy.zeros创建指定大小的数组，数组元素以0来填充\n",
    "# 默认为浮点数\n",
    "four_x2 = np.zeros(5)\n",
    "\n",
    "# 设置类型为整数\n",
    "four_x3 = np.zeros((5,),dtype=np.int32)\n",
    "\n",
    "# 自定义类型\n",
    "four_x4 =  np.zeros((2,2),dtype=[('x','i4'),('y','i4')])\n",
    "\n",
    "#numpy.ones创建指定形状的数组,数组元素以1来填充\n",
    "# 默认为浮点数\n",
    "four_x5 = np.ones(5)\n",
    "# 自定义类型\n",
    "four_x6 = np.ones([2,2],dtype=int)\n",
    "print(four_x1)\n",
    "print(four_x2)\n",
    "print(four_x3)\n",
    "print(four_x4)\n",
    "print(four_x5)\n",
    "print(four_x6)"
   ]
  },
  {
   "cell_type": "markdown",
   "metadata": {},
   "source": [
    "## 05_ndarrayExistCreate"
   ]
  },
  {
   "cell_type": "code",
   "execution_count": 21,
   "metadata": {},
   "outputs": [
    {
     "name": "stdout",
     "output_type": "stream",
     "text": [
      "[1 2 3 4 5]\n",
      "[1 2 3 4 5]\n",
      "[0. 1. 2. 3. 4.]\n"
     ]
    }
   ],
   "source": [
    "import numpy as np\n",
    "\n",
    "# python容器对象转换成numpy数组\n",
    "five_x1 = [1,2,3,4,5]\n",
    "five_x2 = (1,2,3,4,5)\n",
    "\n",
    "#元组列表转换为ndarray\n",
    "print(np.asarray(five_x1))\n",
    "print(np.asarray(five_x2))\n",
    "\n",
    "\n",
    "#numpy.fromiter从迭代对象中建立ndarray对象，返回一维数组\n",
    "# 使用 range 函数创建列表对象\n",
    "\n",
    "list1 = range(5)\n",
    "it = iter(list1)\n",
    "five_x3 = np.fromiter(it,dtype=float)\n",
    "print(five_x3)"
   ]
  },
  {
   "cell_type": "markdown",
   "metadata": {},
   "source": [
    "## 06_ndarrayValueRangeCreate"
   ]
  },
  {
   "cell_type": "code",
   "execution_count": 22,
   "metadata": {},
   "outputs": [
    {
     "data": {
      "text/plain": [
       "array([0, 1, 2, 3, 4])"
      ]
     },
     "execution_count": 22,
     "metadata": {},
     "output_type": "execute_result"
    }
   ],
   "source": [
    "#arange函数创建数值范围并返回 ndarray 对象\n",
    "six_x1 = np.arange(5)\n",
    "six_x1"
   ]
  },
  {
   "cell_type": "code",
   "execution_count": 23,
   "metadata": {},
   "outputs": [
    {
     "data": {
      "text/plain": [
       "array([0., 1., 2., 3., 4., 5.])"
      ]
     },
     "execution_count": 23,
     "metadata": {},
     "output_type": "execute_result"
    }
   ],
   "source": [
    "six_x2 = np.arange(6,dtype=float)\n",
    "six_x2"
   ]
  },
  {
   "cell_type": "code",
   "execution_count": 25,
   "metadata": {},
   "outputs": [
    {
     "data": {
      "text/plain": [
       "array([1, 2, 3, 4, 5, 6, 7, 8, 9])"
      ]
     },
     "execution_count": 25,
     "metadata": {},
     "output_type": "execute_result"
    }
   ],
   "source": [
    "#设置起始值、终止值和步长\n",
    "six_x3 = np.arange(1,10,1)\n",
    "six_x3"
   ]
  },
  {
   "cell_type": "code",
   "execution_count": 26,
   "metadata": {},
   "outputs": [
    {
     "data": {
      "text/plain": [
       "array([ 1. ,  5.5, 10. ])"
      ]
     },
     "execution_count": 26,
     "metadata": {},
     "output_type": "execute_result"
    }
   ],
   "source": [
    "#numpy.linspace函数创建一个一维数组，数组是一个等差数列\n",
    "np.linspace(1,10,3)"
   ]
  },
  {
   "cell_type": "code",
   "execution_count": 27,
   "metadata": {},
   "outputs": [
    {
     "data": {
      "text/plain": [
       "array([1., 1., 1., 1., 1., 1.])"
      ]
     },
     "execution_count": 27,
     "metadata": {},
     "output_type": "execute_result"
    }
   ],
   "source": [
    "np.linspace(1,1,6)"
   ]
  },
  {
   "cell_type": "code",
   "execution_count": 28,
   "metadata": {},
   "outputs": [
    {
     "data": {
      "text/plain": [
       "array([10. , 12.5, 15. , 17.5, 20. ])"
      ]
     },
     "execution_count": 28,
     "metadata": {},
     "output_type": "execute_result"
    }
   ],
   "source": [
    "#endpoint设为false不包含终止值\n",
    "np.linspace(10,20,5)"
   ]
  },
  {
   "cell_type": "code",
   "execution_count": 30,
   "metadata": {},
   "outputs": [
    {
     "data": {
      "text/plain": [
       "array([10., 12., 14., 16., 18.])"
      ]
     },
     "execution_count": 30,
     "metadata": {},
     "output_type": "execute_result"
    }
   ],
   "source": [
    "np.linspace(10,20,5,endpoint=False)"
   ]
  },
  {
   "cell_type": "code",
   "execution_count": 31,
   "metadata": {},
   "outputs": [
    {
     "data": {
      "text/plain": [
       "(array([ 1.,  2.,  3.,  4.,  5.,  6.,  7.,  8.,  9., 10.]), 1.0)"
      ]
     },
     "execution_count": 31,
     "metadata": {},
     "output_type": "execute_result"
    }
   ],
   "source": [
    "#设置显示间距\n",
    "np.linspace(1,10,10,retstep=True)"
   ]
  },
  {
   "cell_type": "code",
   "execution_count": 32,
   "metadata": {},
   "outputs": [
    {
     "data": {
      "text/plain": [
       "array([  1.,   2.,   4.,   8.,  16.,  32.,  64., 128., 256., 512.])"
      ]
     },
     "execution_count": 32,
     "metadata": {},
     "output_type": "execute_result"
    }
   ],
   "source": [
    "#numpy.logspace创建等比数列\n",
    "np.logspace(0,9,10,base=2)"
   ]
  },
  {
   "cell_type": "markdown",
   "metadata": {},
   "source": [
    "## 07_ndarraySlice"
   ]
  },
  {
   "cell_type": "code",
   "execution_count": 34,
   "metadata": {},
   "outputs": [
    {
     "name": "stdout",
     "output_type": "stream",
     "text": [
      "[0 1 2 3 4 5 6 7 8 9] slice(2, 7, 2)\n",
      "[2 4 6]\n"
     ]
    }
   ],
   "source": [
    "seven_1 = np.arange(10)\n",
    "seven_2 = slice(2,7,2) # # 从索引2开始到索引7停止,间隔为2\n",
    "\n",
    "print(seven_1,seven_2)\n",
    "print(seven_1[seven_2])\n"
   ]
  },
  {
   "cell_type": "code",
   "execution_count": 35,
   "metadata": {},
   "outputs": [
    {
     "data": {
      "text/plain": [
       "array([2, 4, 6])"
      ]
     },
     "execution_count": 35,
     "metadata": {},
     "output_type": "execute_result"
    }
   ],
   "source": [
    "#也可以通过冒号分隔切片参数start:stop:step来进行切片操作\n",
    "seven_1[2:7:2]"
   ]
  },
  {
   "cell_type": "code",
   "execution_count": 36,
   "metadata": {},
   "outputs": [
    {
     "data": {
      "text/plain": [
       "5"
      ]
     },
     "execution_count": 36,
     "metadata": {},
     "output_type": "execute_result"
    }
   ],
   "source": [
    "# 冒号 : 的解释：如果只放置一个参数，如 [2]，将返回与该索引相对应的单个元素。\n",
    "# 如果为 [2:]，表示从该索引开始以后的所有项都将被提取。如果使用了两个参数，\n",
    "# 如 [2:7]，那么则提取两个索引(不包括停止索引)之间的项。\n",
    "\n",
    "seven_1[5]"
   ]
  },
  {
   "cell_type": "code",
   "execution_count": 37,
   "metadata": {},
   "outputs": [
    {
     "data": {
      "text/plain": [
       "array([6, 7, 8, 9])"
      ]
     },
     "execution_count": 37,
     "metadata": {},
     "output_type": "execute_result"
    }
   ],
   "source": [
    "seven_1[6:]"
   ]
  },
  {
   "cell_type": "code",
   "execution_count": 40,
   "metadata": {},
   "outputs": [
    {
     "data": {
      "text/plain": [
       "array([[3, 4, 5],\n",
       "       [4, 5, 6]])"
      ]
     },
     "execution_count": 40,
     "metadata": {},
     "output_type": "execute_result"
    }
   ],
   "source": [
    "np.array([[1,2,3],[3,4,5],[4,5,6]])[1:]"
   ]
  },
  {
   "cell_type": "code",
   "execution_count": null,
   "metadata": {},
   "outputs": [],
   "source": [
    "# 切片还可以包括省略号…,来使选择元组的长度与数组的维度相同\n",
    "# 如果在行位置使用省略号，它将返回包含行中元素的ndarray"
   ]
  },
  {
   "cell_type": "code",
   "execution_count": 41,
   "metadata": {},
   "outputs": [],
   "source": [
    "seven = np.array([[1,2,3],[3,4,5],[4,5,6]])"
   ]
  },
  {
   "cell_type": "code",
   "execution_count": 43,
   "metadata": {},
   "outputs": [
    {
     "data": {
      "text/plain": [
       "array([2, 4, 5])"
      ]
     },
     "execution_count": 43,
     "metadata": {},
     "output_type": "execute_result"
    }
   ],
   "source": [
    "seven[...,1] #第2列元素"
   ]
  },
  {
   "cell_type": "code",
   "execution_count": 44,
   "metadata": {},
   "outputs": [
    {
     "data": {
      "text/plain": [
       "array([3, 4, 5])"
      ]
     },
     "execution_count": 44,
     "metadata": {},
     "output_type": "execute_result"
    }
   ],
   "source": [
    "seven[1,...] #第2行元素"
   ]
  },
  {
   "cell_type": "code",
   "execution_count": 45,
   "metadata": {},
   "outputs": [
    {
     "data": {
      "text/plain": [
       "array([[2, 3],\n",
       "       [4, 5],\n",
       "       [5, 6]])"
      ]
     },
     "execution_count": 45,
     "metadata": {},
     "output_type": "execute_result"
    }
   ],
   "source": [
    "seven[...,1:] #第2列及剩下的所有元素"
   ]
  },
  {
   "cell_type": "markdown",
   "metadata": {},
   "source": [
    "## 08_ndarrayIndex"
   ]
  },
  {
   "cell_type": "code",
   "execution_count": 50,
   "metadata": {},
   "outputs": [],
   "source": [
    "import numpy as np"
   ]
  },
  {
   "cell_type": "code",
   "execution_count": 52,
   "metadata": {},
   "outputs": [
    {
     "data": {
      "text/plain": [
       "array([[1, 4, 5]])"
      ]
     },
     "execution_count": 52,
     "metadata": {},
     "output_type": "execute_result"
    }
   ],
   "source": [
    "eight1 = np.array([[1,2],[3,4],[5,6]])\n",
    "# 获取数组中(0,0),(1,1)和(2,0)位置处的元素\n",
    "eight1[[0,1,2],[[0,1,0]]]"
   ]
  },
  {
   "cell_type": "code",
   "execution_count": 53,
   "metadata": {},
   "outputs": [
    {
     "data": {
      "text/plain": [
       "array([[ 0,  2],\n",
       "       [ 9, 11]])"
      ]
     },
     "execution_count": 53,
     "metadata": {},
     "output_type": "execute_result"
    }
   ],
   "source": [
    "eight2 = np.array([[0,1,2],[3,4,5],[6,7,8],[9,10,11]])\n",
    "rows = np.array([[0,0],[3,3]])\n",
    "cols = np.array([[0,2],[0,2]])\n",
    "\n",
    "eight2[rows,cols]"
   ]
  },
  {
   "cell_type": "code",
   "execution_count": 54,
   "metadata": {},
   "outputs": [
    {
     "name": "stdout",
     "output_type": "stream",
     "text": [
      "a数组:\n",
      "[[1 2 3]\n",
      " [4 5 6]\n",
      " [7 8 9]]\n",
      "b数组:\n",
      "[[5 6]\n",
      " [8 9]]\n",
      "c数组:\n",
      "[[5 6]\n",
      " [8 9]]\n",
      "d数组:\n",
      "[[2 3]\n",
      " [5 6]\n",
      " [8 9]]\n"
     ]
    }
   ],
   "source": [
    "#切片:或...与索引数组组合\n",
    "a = np.array([[1,2,3],[4,5,6],[7,8,9]])\n",
    "print('a数组:')\n",
    "print(a)\n",
    "b = a[1:,1:]\n",
    "print('b数组:')\n",
    "print(b)\n",
    "c = a[1:,[1,2]] #[1,2]取第2列和第3列\n",
    "print('c数组:')\n",
    "print(c)\n",
    "d = a[...,1:]\n",
    "print('d数组:')\n",
    "print(d)"
   ]
  },
  {
   "cell_type": "code",
   "execution_count": 55,
   "metadata": {},
   "outputs": [
    {
     "data": {
      "text/plain": [
       "array([ 6,  7,  8,  9, 10, 11])"
      ]
     },
     "execution_count": 55,
     "metadata": {},
     "output_type": "execute_result"
    }
   ],
   "source": [
    "#布尔索引通过布尔运算获取符合指定条件的元素的数组\n",
    "eight3 = np.array([[0,1,2],[3,4,5],[6,7,8],[9,10,11]])\n",
    "eight3[eight3 > 5]"
   ]
  },
  {
   "cell_type": "code",
   "execution_count": 56,
   "metadata": {},
   "outputs": [
    {
     "data": {
      "text/plain": [
       "array([1., 2., 3., 4., 5.])"
      ]
     },
     "execution_count": 56,
     "metadata": {},
     "output_type": "execute_result"
    }
   ],
   "source": [
    "eight4 = np.array([np.nan,1,2,np.nan,3,4,5])\n",
    "# 非空过滤数组\n",
    "eight4[~np.isnan(eight4)]"
   ]
  },
  {
   "cell_type": "code",
   "execution_count": 57,
   "metadata": {},
   "outputs": [
    {
     "data": {
      "text/plain": [
       "array([2. +6.j, 3.5+5.j])"
      ]
     },
     "execution_count": 57,
     "metadata": {},
     "output_type": "execute_result"
    }
   ],
   "source": [
    "# 过滤复数数组\n",
    "eight5 = np.array([1,2+6j,5,3.5+5j])\n",
    "eight5[np.iscomplex(eight5)]"
   ]
  },
  {
   "cell_type": "code",
   "execution_count": 62,
   "metadata": {},
   "outputs": [
    {
     "data": {
      "text/plain": [
       "array([[16, 17, 18, 19],\n",
       "       [ 8,  9, 10, 11],\n",
       "       [ 4,  5,  6,  7],\n",
       "       [28, 29, 30, 31]])"
      ]
     },
     "execution_count": 62,
     "metadata": {},
     "output_type": "execute_result"
    }
   ],
   "source": [
    "# 花式索引指的是利用整数数组进行索引。\n",
    "# 花式索引根据索引数组的值作为目标数组的某个轴的下标来取值。\n",
    "# 对于使用一维整型数组作为索引，如果目标是一维数组，那么索引的结果就是对应位置的元素；\n",
    "# 如果目标是二维数组，那么就是对应下标的行。\n",
    "# 花式索引跟切片不一样，它总是将数据复制到新数组中。\n",
    "np.arange(32).reshape(8,4)[[4,2,1,7]]"
   ]
  },
  {
   "cell_type": "code",
   "execution_count": 64,
   "metadata": {},
   "outputs": [
    {
     "name": "stdout",
     "output_type": "stream",
     "text": [
      "[[ 0  1  2  3]\n",
      " [ 4  5  6  7]\n",
      " [ 8  9 10 11]\n",
      " [12 13 14 15]\n",
      " [16 17 18 19]\n",
      " [20 21 22 23]\n",
      " [24 25 26 27]\n",
      " [28 29 30 31]]\n"
     ]
    },
    {
     "data": {
      "text/plain": [
       "array([[ 4,  7,  5,  6],\n",
       "       [20, 23, 21, 22],\n",
       "       [28, 31, 29, 30],\n",
       "       [ 8, 11,  9, 10]])"
      ]
     },
     "execution_count": 64,
     "metadata": {},
     "output_type": "execute_result"
    }
   ],
   "source": [
    "# 传入多个索引数组(要使用np.ix_)\n",
    "print(np.arange(32).reshape(8,4))\n",
    "np.arange(32).reshape(8,4)[np.ix_([1,5,7,2],[0,3,1,2])]\n",
    "# 1,0  1,3   1,1   1,2\n",
    "# 5,0  5,3   5,1   5,2\n",
    "# ...\n",
    "# ..."
   ]
  },
  {
   "cell_type": "markdown",
   "metadata": {},
   "source": [
    "## 09_ndarrayBroadcast"
   ]
  },
  {
   "cell_type": "code",
   "execution_count": 46,
   "metadata": {},
   "outputs": [
    {
     "data": {
      "text/plain": [
       "array([ 10,  40,  90, 160])"
      ]
     },
     "execution_count": 46,
     "metadata": {},
     "output_type": "execute_result"
    }
   ],
   "source": [
    "# 广播机制\n",
    "nine1 = np.array([1,2,3,4])\n",
    "nine2 = np.array([10,20,30,40])\n",
    "nine1 * nine2"
   ]
  },
  {
   "cell_type": "code",
   "execution_count": 47,
   "metadata": {},
   "outputs": [
    {
     "data": {
      "text/plain": [
       "array([[ 0,  0,  0],\n",
       "       [10, 20, 30],\n",
       "       [20, 40, 60],\n",
       "       [30, 60, 90]])"
      ]
     },
     "execution_count": 47,
     "metadata": {},
     "output_type": "execute_result"
    }
   ],
   "source": [
    "#当运算中的 2个数组的形状不同时，numpy将自动触发广播机制\n",
    "nine3 = np.array([[ 0, 0, 0],\n",
    "              [10,10,10],\n",
    "              [20,20,20],\n",
    "              [30,30,30]])\n",
    "              \n",
    "              \n",
    "nine4 = np.array([1,2,3])\n",
    "nine3 * nine4"
   ]
  },
  {
   "cell_type": "code",
   "execution_count": 48,
   "metadata": {},
   "outputs": [
    {
     "data": {
      "text/plain": [
       "array([[1, 2, 3],\n",
       "       [1, 2, 3],\n",
       "       [1, 2, 3],\n",
       "       [1, 2, 3]])"
      ]
     },
     "execution_count": 48,
     "metadata": {},
     "output_type": "execute_result"
    }
   ],
   "source": [
    "# tile()函数将原矩阵横向、纵向地复制\n",
    "np.tile(nine4,(4,1))"
   ]
  },
  {
   "cell_type": "code",
   "execution_count": 49,
   "metadata": {},
   "outputs": [
    {
     "data": {
      "text/plain": [
       "array([[ 0,  0,  0,  0,  0,  0,  0,  0,  0],\n",
       "       [10, 10, 10, 10, 10, 10, 10, 10, 10],\n",
       "       [20, 20, 20, 20, 20, 20, 20, 20, 20],\n",
       "       [30, 30, 30, 30, 30, 30, 30, 30, 30],\n",
       "       [ 0,  0,  0,  0,  0,  0,  0,  0,  0],\n",
       "       [10, 10, 10, 10, 10, 10, 10, 10, 10],\n",
       "       [20, 20, 20, 20, 20, 20, 20, 20, 20],\n",
       "       [30, 30, 30, 30, 30, 30, 30, 30, 30]])"
      ]
     },
     "execution_count": 49,
     "metadata": {},
     "output_type": "execute_result"
    }
   ],
   "source": [
    "np.tile(nine3,(2,3))"
   ]
  },
  {
   "cell_type": "markdown",
   "metadata": {},
   "source": [
    "## 10_ndarrayNditer"
   ]
  },
  {
   "cell_type": "code",
   "execution_count": null,
   "metadata": {},
   "outputs": [],
   "source": [
    "import numpy as np\n",
    "\n",
    "a1 = np.arange(6).reshape(2,3)\n",
    "print('a1数组是:')\n",
    "print(a1)\n",
    "print('迭代元素:')\n",
    "for x in np.nditer(a1):print(x,end=',')\n",
    "print('\\n')\n",
    "print('-----------------------------------------------------')\n",
    "'''\n",
    "a1数组是:\n",
    "[[0 1 2]\n",
    " [3 4 5]]\n",
    "迭代元素:\n",
    "0,1,2,3,4,5,\n",
    "'''\n",
    "\n",
    "a2 = np.arange(0,60,5)\n",
    "a2 = a2.reshape(3,4)\n",
    "print('a2数组:')\n",
    "print(a2)\n",
    "a3 = a2.T\n",
    "print('a2转置:')\n",
    "print(a3)\n",
    "print('以C风格顺序排序：')\n",
    "c = a3.copy(order='C')\n",
    "print(c)\n",
    "for x in np.nditer(c):print(x,end=',')\n",
    "print('\\n')\n",
    "print('以Fortran风格顺序排序：')\n",
    "c = a3.copy(order='F')\n",
    "print(c)\n",
    "for x in np.nditer(c):print (x,end=',')\n",
    "print('\\n')\n",
    "print('强制nditer对象使用C顺序')\n",
    "for x in np.nditer(c,order='C'):print(x,end=',')\n",
    "print('\\n')\n",
    "print('强制nditer对象使用F顺序')\n",
    "for x in np.nditer(c,order='F'):print(x,end=',')\n",
    "print('\\n')\n",
    "print('-----------------------------------------------------')\n",
    "\n",
    "'''\n",
    "nditer 对象有另一个可选参数 op_flags。 \n",
    "默认情况下nditer将视待迭代遍历的数组为只读对象(read-only)，\n",
    "为了在遍历数组的同时，实现对数组元素值得修改，必须指定read-write或者write-only的模式。\n",
    "'''\n",
    "print('a2数组:')\n",
    "print(a2)\n",
    "a3=a2\n",
    "for x in np.nditer(a3,op_flags=['readwrite']):\n",
    "    x[...]=2*x\n",
    "print('修改后数组:')\n",
    "print(a3)\n",
    "print('-----------------------------------------------------')\n",
    "\n",
    "'''\n",
    "nditer类的构造器拥有flags参数\n",
    "参数            描述\n",
    "c_index         可以跟踪C顺序(横向)的索引 \n",
    "f_index         可以跟踪Fortran顺序(纵向)的索引 \n",
    "multi-index     每次迭代可以跟踪一种索引类型 \n",
    "external_loop   给出的值是具有多个值的一维数组，而不是零维数组 \n",
    "'''\n",
    "a4 = np.arange(0,60,5)\n",
    "a4 = a4.reshape(3,4)\n",
    "print('a4原始数组:')\n",
    "print(a4)\n",
    "print('修改后的多值一维数组:')\n",
    "for x in np.nditer(a4,flags=['external_loop'],order='F'):print(x,end=',')\n",
    "print('\\n')\n",
    "print('-----------------------------------------------------')\n",
    "\n",
    "#如果两个数组是可广播的，nditer组合对象能够同时迭代它们\n",
    "print('第一个数组:')\n",
    "print(a4)\n",
    "print('第二个数组:')\n",
    "b = np.array([1,2,3,4],dtype=int)\n",
    "print(b)\n",
    "print('修改后的数组为：')\n",
    "for x,y in np.nditer([a4,b]):print(\"%d-%d\"%(x,y),end=',')\n",
    "'''\n",
    "第一个数组:\n",
    "[[ 0  5 10 15]\n",
    " [20 25 30 35]\n",
    " [40 45 50 55]]\n",
    "第二个数组:\n",
    "[1 2 3 4]\n",
    "修改后的数组为：\n",
    "0-1,5-2,10-3,15-4,20-1,25-2,30-3,35-4,40-1,45-2,50-3,55-4,\n",
    "'''"
   ]
  },
  {
   "cell_type": "markdown",
   "metadata": {},
   "source": [
    "## 11_ndarrayModify"
   ]
  },
  {
   "cell_type": "code",
   "execution_count": null,
   "metadata": {},
   "outputs": [],
   "source": [
    "import numpy as np\n",
    "\n",
    "'''\n",
    "numpy.reshape 函数可以在不改变数据的条件下修改形状，格式numpy.reshape(arr, newshape, order='C') \n",
    "arr:要修改形状的数组\n",
    "newshape:整数或者整数数组，新的形状应当兼容原有形状\n",
    "order:'C'按行，'F'按列，'A'原顺序，'k'元素在内存中的出现顺序\n",
    "'''\n",
    "a = np.arange(8)\n",
    "print('原始数组:')\n",
    "print(a)\n",
    "b = a.reshape(4, 2)\n",
    "print('修改后数组:')\n",
    "print(b)\n",
    "'''\n",
    "原始数组:\n",
    "[0 1 2 3 4 5 6 7]\n",
    "修改后数组:\n",
    "[[0 1]\n",
    " [2 3]\n",
    " [4 5]\n",
    " [6 7]]\n",
    "'''\n",
    "print('-----------------------------------------------------')\n",
    "\n",
    "#numpy.ndarray.flat数组元素迭代器\n",
    "a = np.arange(9).reshape(3, 3)\n",
    "print('原始数组:')\n",
    "for row in a:print(row)\n",
    "#对数组中每个元素都进行处理，可以使用flat属性，该属性是一个数组元素迭代器：\n",
    "print('迭代后的数组：')\n",
    "for element in a.flat:print(element)\n",
    "'''\n",
    "原始数组:\n",
    "[0 1 2]\n",
    "[3 4 5]\n",
    "[6 7 8]\n",
    "迭代后的数组：\n",
    "0\n",
    "1\n",
    "2\n",
    "3\n",
    "4\n",
    "5\n",
    "6\n",
    "7\n",
    "8\n",
    "'''\n",
    "print('-----------------------------------------------------')\n",
    "\n",
    "'''\n",
    "numpy.ndarray.flatten返回一份数组拷贝，对拷贝所做的修改不会影响原始数组\n",
    "ndarray.flatten(order='C')\n",
    "order:'C'按行，'F'按列，'A'原顺序，'k'元素在内存中的出现顺序\n",
    "'''\n",
    "a = np.arange(8).reshape(2,4)\n",
    "print('原数组:')\n",
    "print(a)\n",
    "# 默认按行\n",
    "print('展开的数组:')\n",
    "a1=a.flatten()\n",
    "print(a1)\n",
    "print('以F风格顺序展开数组:')\n",
    "a2=a.flatten(order='F')\n",
    "print(a2)\n",
    "print('-----------------------------------------------------')\n",
    "\n",
    "'''\n",
    "numpy.ravel() 展平的数组元素，顺序通常是\"C风格\"，返回的是数组视图，修改会影响原始数组\n",
    "numpy.ravel(a,order='C')\n",
    "'''\n",
    "a = np.arange(8).reshape(2,4)\n",
    "print('原数组：')\n",
    "print(a)\n",
    "print('调用 ravel 函数之后：')\n",
    "a3=a.ravel()\n",
    "print(a3)\n",
    "print('以F风格顺序调用ravel函数之后：')\n",
    "a4=a.ravel(order='F')\n",
    "print(a4)\n"
   ]
  },
  {
   "cell_type": "code",
   "execution_count": null,
   "metadata": {},
   "outputs": [],
   "source": [
    "import numpy as np\n",
    "\n",
    "'''\n",
    "numpy.transpose函数用于对换数组的维度\n",
    "numpy.transpose(arr, axes)\n",
    "axes：整数列表对应维度，通常所有维度都会对换\n",
    "'''\n",
    "a = np.arange(12).reshape(3,4)\n",
    "print('原数组:')\n",
    "print(a)\n",
    "print('对换数组:')\n",
    "print(np.transpose(a)) #等同于a.T\n",
    "print('-----------------------------------------------------')\n",
    "\n",
    "'''\n",
    "numpy.rollaxis函数向后滚动特定的轴到一个特定位置\n",
    "numpy.rollaxis(arr, axis, start)\n",
    "axis：要向后滚动的轴，其它轴的相对位置不会改变\n",
    "start：默认为零，表示完整的滚动。会滚动到特定位置\n",
    "'''\n",
    "a = np.arange(27).reshape(3,3,3)\n",
    "print('原数组:')\n",
    "print(a)\n",
    "#多个二维数组的列数据转为行数据\n",
    "print('调用rollaxis函数将轴2滚动到轴0宽度到深度:')\n",
    "print(np.rollaxis(a, 2))\n",
    "#单个二维数组自身行列数据置换\n",
    "print('调用rollaxis函数将轴0滚动到轴1宽度到高度:')\n",
    "print(np.rollaxis(a, 2, 1))\n",
    "print('-----------------------------------------------------')\n",
    "'''\n",
    "原数组:\n",
    "[[[ 0  1  2]\n",
    "  [ 3  4  5]\n",
    "  [ 6  7  8]]\n",
    "\n",
    " [[ 9 10 11]\n",
    "  [12 13 14]\n",
    "  [15 16 17]]\n",
    "\n",
    " [[18 19 20]\n",
    "  [21 22 23]\n",
    "  [24 25 26]]]\n",
    "调用rollaxis函数将轴2滚动到轴0宽度到深度:\n",
    "[[[ 0  3  6]\n",
    "  [ 9 12 15]\n",
    "  [18 21 24]]\n",
    "\n",
    " [[ 1  4  7]\n",
    "  [10 13 16]\n",
    "  [19 22 25]]\n",
    "\n",
    " [[ 2  5  8]\n",
    "  [11 14 17]\n",
    "  [20 23 26]]]\n",
    "调用rollaxis函数将轴0滚动到轴1宽度到高度:\n",
    "[[[ 0  3  6]\n",
    "  [ 1  4  7]\n",
    "  [ 2  5  8]]\n",
    "\n",
    " [[ 9 12 15]\n",
    "  [10 13 16]\n",
    "  [11 14 17]]\n",
    "\n",
    " [[18 21 24]\n",
    "  [19 22 25]\n",
    "  [20 23 26]]]\n",
    "'''\n",
    "\n",
    "'''\n",
    "numpy.swapaxes函数用于交换数组的两个轴\n",
    "numpy.swapaxes(arr, axis1, axis2)\n",
    "axis1：对应第一个轴的整数\n",
    "axis2：对应第二个轴的整数\n",
    "'''\n",
    "a = np.arange(27).reshape(3,3,3)\n",
    "print('原数组:')\n",
    "print(a)\n",
    "# 现在交换轴 0（深度方向）到轴 2（宽度方向）\n",
    "print('调用swapaxes函数数组:')\n",
    "print(np.swapaxes(a, 2, 0))\n",
    "'''\n",
    "原数组:\n",
    "[[[ 0  1  2]\n",
    "  [ 3  4  5]\n",
    "  [ 6  7  8]]\n",
    "\n",
    " [[ 9 10 11]\n",
    "  [12 13 14]\n",
    "  [15 16 17]]\n",
    "\n",
    " [[18 19 20]\n",
    "  [21 22 23]\n",
    "  [24 25 26]]]\n",
    "\n",
    "调用swapaxes函数数组:\n",
    "[[[ 0  9 18]\n",
    "  [ 3 12 21]\n",
    "  [ 6 15 24]]\n",
    "\n",
    " [[ 1 10 19]\n",
    "  [ 4 13 22]\n",
    "  [ 7 16 25]]\n",
    "\n",
    " [[ 2 11 20]\n",
    "  [ 5 14 23]\n",
    "  [ 8 17 26]]]\n",
    "'''"
   ]
  },
  {
   "cell_type": "code",
   "execution_count": null,
   "metadata": {},
   "outputs": [],
   "source": [
    "import numpy as np\n",
    "\n",
    "x = np.array([[1],[2],[3]])\n",
    "y = np.array([4,5,6])\n",
    "# 对y广播x\n",
    "b = np.broadcast(x,y)\n",
    "# 它拥有iterator属性基于自身组件的迭代器元组\n",
    "print('对y广播x:')\n",
    "r,c = b.iters\n",
    "print(next(r),next(c))\n",
    "print(next(r),next(c))\n",
    "print(next(r),next(c))\n",
    "print(next(r),next(c))\n",
    "print(next(r),next(c))\n",
    "print(next(r),next(c))\n",
    "print(next(r),next(c))\n",
    "print(next(r),next(c))\n",
    "print(next(r),next(c))\n",
    "print('-----------------------------------------------------')\n",
    "'''\n",
    "对y广播x:\n",
    "1 4\n",
    "1 5\n",
    "1 6\n",
    "2 4\n",
    "2 5\n",
    "2 6\n",
    "3 4\n",
    "3 5\n",
    "3 6\n",
    "'''\n",
    "\n",
    "# shape属性返回广播对象形状\n",
    "print('广播对象形状:')\n",
    "print(b.shape)\n",
    "print('-----------------------------------------------------')\n",
    "'''\n",
    "广播对象的形状：\n",
    "(3, 3)\n",
    "'''\n",
    "\n",
    "# 手动使用broadcast将x与y相加\n",
    "b = np.broadcast(x,y)\n",
    "#empty创建一个指定形状（shape）、数据类型（dtype）且未初始化的数组\n",
    "c1 = np.empty(b.shape) # 和b一样3X3\n",
    "print('手动使用broadcast将x与y相加:')\n",
    "'''\n",
    "[[4 5 6]                   [[5 6 7]\n",
    " [4 5 6]   +  [1],[2],[3] = [6 7 8]\n",
    " [4 5 6]]                   [7 8 9]]\n",
    "'''\n",
    "c1.flat = [u + v for (u, v) in b]\n",
    "print('调用 flat 函数：')\n",
    "print(c1)\n",
    "#获得和NumPy内建的广播支持相同的结果\n",
    "#更简化的写法\n",
    "print('x与y的和:')\n",
    "c2=x+y\n",
    "print(c2)\n",
    "print('-----------------------------------------------------')\n",
    "\n",
    "#numpy.broadcast_to函数将数组广播到新形状。\n",
    "a = np.arange(3)\n",
    "print('原数组:')\n",
    "print(a)\n",
    "print('调用 broadcast_to 函数之后:')\n",
    "#第二个参数必须是原数组的对等长度，从而形成正方形矩阵，否则无效果\n",
    "print(np.broadcast_to(a,(3,3)))\n",
    "print('-----------------------------------------------------')\n",
    "'''\n",
    "原数组:\n",
    "[0 1 2]\n",
    "调用 broadcast_to 函数之后:\n",
    "[[0 1 2]\n",
    " [0 1 2]\n",
    " [0 1 2]]\n",
    "'''\n",
    "\n",
    "'''\n",
    "numpy.expand_dims 函数通过在指定位置插入新的轴来扩展数组形状\n",
    "numpy.expand_dims(arr, axis)\n",
    "axis：新轴插入的位置\n",
    "'''\n",
    "x = np.array(([1,2],[3,4]))\n",
    "print('数组x:')\n",
    "print(x)\n",
    "'''\n",
    "数组x:\n",
    "[[1 2]\n",
    " [3 4]]\n",
    "'''\n",
    "y = np.expand_dims(x, axis=0)\n",
    "print('数组y:')\n",
    "print(y)\n",
    "'''\n",
    "插入新轴后数组y:\n",
    "[[[1 2]\n",
    "  [3 4]]]\n",
    "'''\n",
    "print('数组x和y的形状:')\n",
    "print(x.shape, y.shape)\n",
    "'''\n",
    "x.shape (2, 2)\n",
    "y.shape (1, 2, 2) #多了一个刚插入的轴\n",
    "'''\n",
    "# 在位置1插入轴\n",
    "y = np.expand_dims(x, axis=1)\n",
    "print('在位置 1 插入轴之后的数组 y：')\n",
    "print(y)\n",
    "'''\n",
    "在位置 1 插入轴之后的数组 y：\n",
    "[[[1 2]]\n",
    "            #此空白处就是1插入轴\n",
    " [[3 4]]]\n",
    "'''\n",
    "print('x.ndim和y.ndim：')\n",
    "print(x.ndim, y.ndim)\n",
    "'''\n",
    "x.ndim 和 y.ndim：\n",
    "2 3  #x有2个轴，y有3个轴\n",
    "'''\n",
    "print('x.shape和y.shape：')\n",
    "print(x.shape, y.shape)\n",
    "'''\n",
    "x.shape和y.shape：\n",
    "x.shape (2, 2) \n",
    "y.shape (2, 1, 2)\n",
    "'''\n",
    "print('-----------------------------------------------------')\n",
    "\n",
    "'''\n",
    "numpy.squeeze 函数从给定数组的形状中删除一维的条目\n",
    "numpy.squeeze(arr, axis)\n",
    "axis：整数或整数元组，用于选择形状中一维条目的子集,维度必须为单维度，否则将会报错\n",
    "'''\n",
    "x = np.arange(9).reshape(1,3,3,1)\n",
    "print('数组x:')\n",
    "print(x)\n",
    "'''\n",
    "数组x:\n",
    "[[[0 1 2]\n",
    "  [3 4 5]\n",
    "  [6 7 8]]]\n",
    "'''\n",
    "#第二个参数可以是整数或整数元组，用于选择形状中一维条目的子集,维度必须为单维度，否则将会报错\n",
    "#y = np.squeeze(x,0)\n",
    "#y = np.squeeze(x,3)\n",
    "#y = np.squeeze(x,1) #报错\n",
    "y = np.squeeze(x,(0,3))\n",
    "print('数组y:')\n",
    "print(y)\n",
    "'''\n",
    "[[0 1 2]\n",
    " [3 4 5]\n",
    " [6 7 8]]\n",
    "'''\n",
    "print('数组x和y的形状:')\n",
    "print(x.shape,y.shape)\n",
    "'''\n",
    "数组x和y的形状:\n",
    "x.shape (1, 3, 3)\n",
    "y.shape (3, 3)\n",
    "'''"
   ]
  },
  {
   "cell_type": "code",
   "execution_count": null,
   "metadata": {},
   "outputs": [],
   "source": [
    "import numpy as np\n",
    "\n",
    "'''\n",
    "numpy.concatenate 函数用于沿指定轴连接相同形状的两个或多个数组\n",
    "numpy.concatenate((a1, a2, ...), axis)\n",
    "a1, a2, ...：相同类型的数组\n",
    "axis：沿着它连接数组的轴，默认为 0\n",
    "'''\n",
    "a = np.array([[1,2],[3,4]])\n",
    "print('第一个数组:')\n",
    "print(a)\n",
    "b = np.array([[5,6],[7,8]])\n",
    "print('第二个数组:')\n",
    "print(b)\n",
    "# 两个数组的维度相同\n",
    "print('沿轴0横向连接两个数组:')\n",
    "print(np.concatenate((a,b)))\n",
    "print('沿轴1纵向连接两个数组:')\n",
    "print(np.concatenate((a,b),axis=1))\n",
    "print('-----------------------------------------------------')\n",
    "'''\n",
    "第一个数组:\n",
    "[[1 2]\n",
    " [3 4]]\n",
    "第二个数组:\n",
    "[[5 6]\n",
    " [7 8]]\n",
    "沿轴0横向连接两个数组:\n",
    "[[1 2]\n",
    " [3 4]\n",
    " [5 6]\n",
    " [7 8]]\n",
    "沿轴1纵向连接两个数组:\n",
    "[[1 2 5 6]\n",
    " [3 4 7 8]]\n",
    "'''\n",
    "\n",
    "'''\n",
    "numpy.stack函数用于沿新轴连接数组序列\n",
    "numpy.stack(arrays, axis)\n",
    "arrays相同形状的数组序列\n",
    "axis：返回数组中的轴，输入数组沿着它来堆叠\n",
    "'''\n",
    "a = np.array([[1,2],[3,4]])\n",
    "print('第一个数组:')\n",
    "print(a)\n",
    "b = np.array([[5,6],[7,8]])\n",
    "print('第二个数组:')\n",
    "print(b)\n",
    "print('沿轴0堆叠两个数组:')\n",
    "print(np.stack((a,b),0))\n",
    "print('沿轴1堆叠两个数组:')\n",
    "print(np.stack((a,b),1))\n",
    "print('-----------------------------------------------------')\n",
    "'''\n",
    "第一个数组:\n",
    "[[1 2]\n",
    " [3 4]]\n",
    "第二个数组:\n",
    "[[5 6]\n",
    " [7 8]]\n",
    "沿轴0堆叠两个数组:\n",
    "[[[1 2]\n",
    "  [3 4]]\n",
    "\n",
    " [[5 6]\n",
    "  [7 8]]]\n",
    "沿轴1堆叠两个数组:\n",
    "[[[1 2]\n",
    "  [5 6]]\n",
    "\n",
    " [[3 4]\n",
    "  [7 8]]]\n",
    "'''\n",
    "\n",
    "#numpy.hstack是numpy.stack函数的变体通过水平堆叠来生成数组\n",
    "#numpy.vstack是numpy.stack 函数的变体通过垂直堆叠来生成数组\n",
    "a = np.array([[1,2],[3,4]])\n",
    "print('第一个数组:')\n",
    "print(a)\n",
    "b = np.array([[5,6],[7,8]])\n",
    "print('第二个数组:')\n",
    "print(b)\n",
    "print('水平列堆叠:')\n",
    "c = np.hstack((a, b))\n",
    "print(c)\n",
    "print('竖直行堆叠:')\n",
    "d = np.vstack((a,b))\n",
    "print(d)\n",
    "'''\n",
    "第一个数组:\n",
    "[[1 2]\n",
    " [3 4]]\n",
    "第二个数组:\n",
    "[[5 6]\n",
    " [7 8]]\n",
    "水平列堆叠:\n",
    "[[1 2 5 6]\n",
    " [3 4 7 8]]\n",
    "竖直行堆叠:\n",
    "[[1 2]\n",
    " [3 4]\n",
    " [5 6]\n",
    " [7 8]]\n",
    "'''"
   ]
  },
  {
   "cell_type": "code",
   "execution_count": null,
   "metadata": {},
   "outputs": [],
   "source": [
    "import numpy as np\n",
    "\n",
    "'''\n",
    "numpy.split 函数沿特定的轴将数组分割为子数组\n",
    "numpy.split(ary, indices_or_sections, axis)\n",
    "indices_or_sections：如果是一个整数，就用该数平均切分，如果是一个数组，为沿轴切分的位置（左开右闭） \n",
    "axis：沿着哪个维度进行切向，默认为0，横向切分。为1时，纵向切分\n",
    "'''\n",
    "a = np.arange(9)\n",
    "print('第一个数组：')\n",
    "print(a)\n",
    "print('将数组分为三个大小相等的子数组：')\n",
    "b = np.split(a,3)\n",
    "print(b)\n",
    "print('将数组在一维数组中表明的位置分割：')\n",
    "b = np.split(a,[2,4,7])\n",
    "print(b)\n",
    "print('-----------------------------------------------------')\n",
    "'''\n",
    "第一个数组：\n",
    "[0 1 2 3 4 5 6 7 8]\n",
    "将数组分为三个大小相等的子数组：\n",
    "[array([0, 1, 2]), array([3, 4, 5]), array([6, 7, 8])]\n",
    "将数组在一维数组中表明的位置分割：\n",
    "[2,4,7]可以理解为:\n",
    "    2-0            4-2              7-4             剩余\n",
    "[array([0, 1]), array([2, 3]), array([4, 5, 6]), array([7, 8])]\n",
    "'''\n",
    "\n",
    "#numpy.hsplit函数用于水平分割数组，通过指定要返回的相同形状的数组数量来拆分原数组\n",
    "harr = np.floor(100 * np.random.random((2,8))) #生成2X8数组，每个值在100以内\n",
    "print('原数组:')\n",
    "print(harr)\n",
    "print('水平拼接:')\n",
    "print(np.hsplit(harr,4))\n",
    "print('-----------------------------------------------------')\n",
    "'''\n",
    "原数组:\n",
    "[[17. 38. 47. 89. 99. 37. 77. 97.]\n",
    " [17. 19.  1.  2. 51. 33. 72. 31.]]\n",
    "拆分后:\n",
    "[array([[17., 38.],[17., 19.]]), \n",
    " array([[47., 89.],[ 1.,  2.]]), \n",
    " array([[99., 37.],[51., 33.]]), \n",
    " array([[77., 97.],[72., 31.]])]\n",
    "'''\n",
    "\n",
    "#numpy.vsplit沿着垂直轴分割，其分割方式与hsplit用法相同\n",
    "a = np.arange(16).reshape(4,4)\n",
    "print('第一个数组:')\n",
    "print(a)\n",
    "print('竖直拼接:')\n",
    "b = np.vsplit(a,2)\n",
    "print(b)\n",
    "'''\n",
    "第一个数组:\n",
    "[[ 0  1  2  3]\n",
    " [ 4  5  6  7]\n",
    " [ 8  9 10 11]\n",
    " [12 13 14 15]]\n",
    "竖直分割:\n",
    "[array([[0, 1, 2, 3],[4, 5, 6, 7]]), \n",
    " array([[8, 9, 10, 11],[12, 13, 14, 15]])]\n",
    "'''"
   ]
  },
  {
   "cell_type": "code",
   "execution_count": null,
   "metadata": {},
   "outputs": [],
   "source": [
    "import numpy as np\n",
    "\n",
    "'''\n",
    "numpy.resize 函数返回指定大小的新数组\n",
    "如果新数组大小大于原始大小，则包含原始数组中的元素的副本\n",
    "numpy.resize(arr, shape)\n",
    "shape：返回数组的新形状\n",
    "'''\n",
    "a = np.array([[1,2,3],[4,5,6]])\n",
    "print('第一个数组:')\n",
    "print(a)\n",
    "print('第一个数组的形状:')\n",
    "print(a.shape)\n",
    "b = np.resize(a,(3,2))\n",
    "print('第二个数组:')\n",
    "print(b)\n",
    "print('第二个数组的形状:')\n",
    "print(b.shape)\n",
    "# 注意a的第一行在b中重复出现，因为尺寸变大\n",
    "print('修改第二个数组的大小:')\n",
    "b = np.resize(a,(3,3))\n",
    "print(b)\n",
    "print('-----------------------------------------------------')\n",
    "'''\n",
    "第一个数组：\n",
    "[[1 2 3]\n",
    " [4 5 6]]\n",
    "第一个数组的形状：\n",
    "(2, 3)\n",
    "第二个数组：\n",
    "[[1 2]\n",
    " [3 4]\n",
    " [5 6]]\n",
    "第二个数组的形状：\n",
    "(3, 2)\n",
    "修改第二个数组的大小：\n",
    "[[1 2 3]\n",
    " [4 5 6]\n",
    " [1 2 3]]\n",
    "'''\n",
    "\n",
    "'''\n",
    "numpy.append 函数在数组的末尾添加值。\n",
    "追加操作会分配整个数组，并把原来的数组复制到新数组中。 此外输入数组的维度必须匹配否则将生成ValueError。\n",
    "append 函数返回的始终是一个一维数组\n",
    "numpy.append(arr, values, axis=None)\n",
    "values：要向arr添加的值，需要和arr形状相同（除了要添加的轴）\n",
    "axis：默认为 None。当axis无定义时，是横向加成，返回总是为一维数组！\n",
    "当axis有定义的时候，分别为0和1的时候。当axis有定义的时候，分别为0和1的时候（列数要相同）。当axis为1时，数组是加在右边（行数要相同）。\n",
    "'''\n",
    "a = np.array([[1,2,3],[4,5,6]])\n",
    "print('第一个数组:')\n",
    "print(a)\n",
    "print('向数组添加元素:')\n",
    "print(np.append(a,[7,8,9]))\n",
    "print('沿轴0添加元素:')\n",
    "print(np.append(a,[[7,8,9]], axis=0))\n",
    "print('沿轴1添加元素:')\n",
    "print(np.append(a,[[5,5,5],[6,6,6]], axis=1))\n",
    "print('-----------------------------------------------------')\n",
    "'''\n",
    "第一个数组:\n",
    "[[1 2 3]\n",
    " [4 5 6]]\n",
    "向数组添加元素:\n",
    "[1 2 3 4 5 6 7 8 9]\n",
    "沿轴0添加元素:\n",
    "[[1 2 3]\n",
    " [4 5 6]\n",
    " [7 8 9]]\n",
    "沿轴1添加元素:\n",
    "[[1 2 3 5 5 5]\n",
    " [4 5 6 6 6 6]]\n",
    "'''\n",
    "\n",
    "'''\n",
    "numpy.insert 函数在给定索引之前，沿给定轴在输入数组中插入值。\n",
    "numpy.insert(arr, obj, values, axis)\n",
    "obj：在其之前插入值的索引\n",
    "values：要插入的值\n",
    "axis：沿着它插入的轴，如果未提供，则输入数组会被展开\n",
    "'''\n",
    "a = np.array([[1,2],[3,4],[5,6]])\n",
    "print('第一个数组:')\n",
    "print(a)\n",
    "print('未传递Axis参数。在插入之前输入数组会被展开。')\n",
    "print(np.insert(a,3,[11,12]))\n",
    "print('传递Axis参数。会广播值数组来配输入数组。')\n",
    "print('沿轴0广播插入第2行:')\n",
    "print(np.insert(a,1,[11,12],axis=0))\n",
    "print('沿轴1广播插入第2列:')\n",
    "print(np.insert(a,1,11,axis=1))\n",
    "print('-----------------------------------------------------')\n",
    "'''\n",
    "第一个数组:\n",
    "[[1 2]\n",
    " [3 4]\n",
    " [5 6]]\n",
    "未传递Axis参数。在插入之前输入数组会被展开。\n",
    "[ 1  2  3 11 12  4  5  6]\n",
    "传递Axis参数。会广播值数组来配输入数组。\n",
    "沿轴0广播插入第2行:\n",
    "[[ 1  2]\n",
    " [11 12]\n",
    " [ 3  4]\n",
    " [ 5  6]]\n",
    "沿轴1广播插入第2列:\n",
    "[[ 1 11 2]\n",
    " [ 3 11 4]\n",
    " [ 5 11 6]]\n",
    "'''\n",
    "\n",
    "'''\n",
    "numpy.delete 函数返回从输入数组中删除指定子数组的新数组。\n",
    "与insert()函数的情况一样，如果未提供轴参数，则输入数组将展开。\n",
    "numpy.delete(arr, obj, axis)\n",
    "'''\n",
    "a = np.arange(12).reshape(3, 4)\n",
    "print('第一个数组:')\n",
    "print(a)\n",
    "print('未传递Axis参数。在插入之前输入数组会被展开。')\n",
    "print(np.delete(a, 5))\n",
    "print('删除第二列:')\n",
    "print(np.delete(a, 1, axis=1))\n",
    "print('包含从数组中删除的替代值的切片:')\n",
    "a = np.array([1, 2, 3, 4, 5, 6, 7, 8, 9, 10])\n",
    "print(np.delete(a,np.s_[::3]))\n",
    "print('-----------------------------------------------------')\n",
    "'''\n",
    "第一个数组:\n",
    "[[ 0  1  2  3]\n",
    " [ 4  5  6  7]\n",
    " [ 8  9 10 11]]\n",
    "未传递Axis参数。在插入之前输入数组会被展开。\n",
    "[ 0  1  2  3  4  6  7  8  9 10 11]\n",
    "删除第二列:\n",
    "[[ 0  2  3]\n",
    " [ 4  6  7]\n",
    " [ 8 10 11]]\n",
    "包含从数组中删除的替代值的切片:\n",
    "[2 3 5 6 8 9]\n",
    "'''\n",
    "\n",
    "'''\n",
    "numpy.unique 函数用于去除数组中的重复元素\n",
    "numpy.unique(arr, return_index, return_inverse, return_counts)\n",
    "return_index：如果为true，返回新列表元素在旧列表中的位置（下标）,并以列表形式储\n",
    "return_inverse：如果为true，返回旧列表元素在新列表中的位置（下标）,并以列表形式储\n",
    "return_counts：如果为true，返回去重数组中的元素在原数组中的出现次数\n",
    "'''\n",
    "a = np.array([5, 2, 6, 2, 7, 5, 6, 8, 2, 9])\n",
    "print('第一个数组:')\n",
    "print(a)\n",
    "print('第一个数组的去重值:')\n",
    "u = np.unique(a)\n",
    "print(u)\n",
    "print('新列表元素在旧列表中的位置下标:')\n",
    "u,indices = np.unique(a, return_index=True)\n",
    "print(indices)\n",
    "print('可以看到每个和原数组下标对应的数值:')\n",
    "print(a)\n",
    "print('去重数组的下标:')\n",
    "u,indices = np.unique(a, return_inverse=True)\n",
    "print(u)\n",
    "print('旧列表元素在新列表中的位置下标为:')\n",
    "print(indices)\n",
    "print('使用下标重构原数组:')\n",
    "print(u[indices])\n",
    "print('返回去重元素的重复数量:')\n",
    "u,indices = np.unique(a, return_counts=True)\n",
    "print(u)\n",
    "print(indices)"
   ]
  },
  {
   "cell_type": "markdown",
   "metadata": {},
   "source": [
    "## 12_ndarrayStr"
   ]
  },
  {
   "cell_type": "code",
   "execution_count": 66,
   "metadata": {},
   "outputs": [
    {
     "data": {
      "text/plain": [
       "array(['helloxyz'], dtype='<U8')"
      ]
     },
     "execution_count": 66,
     "metadata": {},
     "output_type": "execute_result"
    }
   ],
   "source": [
    "# numpy.char.add()函数依次对两个数组的元素进行字符串连接\n",
    "np.char.add(['hello'],['xyz'])"
   ]
  },
  {
   "cell_type": "code",
   "execution_count": 67,
   "metadata": {},
   "outputs": [
    {
     "data": {
      "text/plain": [
       "array(['hello abc', 'hi xyz'], dtype='<U9')"
      ]
     },
     "execution_count": 67,
     "metadata": {},
     "output_type": "execute_result"
    }
   ],
   "source": [
    "np.char.add(['hello','hi'], [' abc',' xyz'])"
   ]
  },
  {
   "cell_type": "code",
   "execution_count": 68,
   "metadata": {},
   "outputs": [
    {
     "data": {
      "text/plain": [
       "array('numpynumpynumpy', dtype='<U15')"
      ]
     },
     "execution_count": 68,
     "metadata": {},
     "output_type": "execute_result"
    }
   ],
   "source": [
    "#numpy.char.multiply()函数执行多重连接\n",
    "np.char.multiply('numpy',3)"
   ]
  },
  {
   "cell_type": "code",
   "execution_count": 69,
   "metadata": {},
   "outputs": [
    {
     "data": {
      "text/plain": [
       "array('=======numpy========', dtype='<U20')"
      ]
     },
     "execution_count": 69,
     "metadata": {},
     "output_type": "execute_result"
    }
   ],
   "source": [
    "# numpy.char.center()函数用于将字符串居中，并使用指定字符在左侧和右侧进行填充\n",
    "# np.char.center(str,width,fillchar)\n",
    "# width: 长度\n",
    "# fillchar: 填充字符\n",
    "\n",
    "np.char.center('numpy',20,fillchar='=')"
   ]
  },
  {
   "cell_type": "code",
   "execution_count": 70,
   "metadata": {},
   "outputs": [
    {
     "data": {
      "text/plain": [
       "array(\"Who'S Using Numpy?\", dtype='<U18')"
      ]
     },
     "execution_count": 70,
     "metadata": {},
     "output_type": "execute_result"
    }
   ],
   "source": [
    "#numpy.char.capitalize()函数将字符串的第一个字母转换为大写\n",
    "np.char.title(\"who's using numpy?\")"
   ]
  },
  {
   "cell_type": "code",
   "execution_count": 71,
   "metadata": {},
   "outputs": [
    {
     "data": {
      "text/plain": [
       "array(['baidu', 'google'], dtype='<U6')"
      ]
     },
     "execution_count": 71,
     "metadata": {},
     "output_type": "execute_result"
    }
   ],
   "source": [
    "np.char.lower(['BAIDU', 'GOOGLE'])"
   ]
  },
  {
   "cell_type": "code",
   "execution_count": 72,
   "metadata": {},
   "outputs": [
    {
     "data": {
      "text/plain": [
       "array('baidu', dtype='<U5')"
      ]
     },
     "execution_count": 72,
     "metadata": {},
     "output_type": "execute_result"
    }
   ],
   "source": [
    "np.char.lower('BAIDU')"
   ]
  },
  {
   "cell_type": "code",
   "execution_count": 74,
   "metadata": {},
   "outputs": [
    {
     "data": {
      "text/plain": [
       "array(['BAIDU', 'GOOGLE'], dtype='<U6')"
      ]
     },
     "execution_count": 74,
     "metadata": {},
     "output_type": "execute_result"
    }
   ],
   "source": [
    "np.char.upper(['baidu', 'google'])"
   ]
  },
  {
   "cell_type": "markdown",
   "metadata": {},
   "source": [
    "## 13numpyMath"
   ]
  },
  {
   "cell_type": "code",
   "execution_count": 75,
   "metadata": {},
   "outputs": [],
   "source": [
    "'''\n",
    "numpy.around()函数返回指定数字的四舍五入值\n",
    "numpy.around(a,decimals)\n",
    "decimals: 舍入的小数位数。默认值为0。如果为负，整数将四舍五入到小数点左侧的位置\n",
    "'''\n",
    "\n",
    "import numpy as np"
   ]
  },
  {
   "cell_type": "code",
   "execution_count": 76,
   "metadata": {},
   "outputs": [
    {
     "name": "stdout",
     "output_type": "stream",
     "text": [
      "原数组:\n",
      "[  1.      5.55  123.      0.567  25.532]\n",
      "舍入后:\n",
      "[  1.   6. 123.   1.  26.]\n",
      "[  1.    5.6 123.    0.6  25.5]\n",
      "[  0.  10. 120.   0.  30.]\n"
     ]
    }
   ],
   "source": [
    "a = np.array([1.0,5.55,123,0.567,25.532])\n",
    "print('原数组:')\n",
    "print(a)\n",
    "print('舍入后:')\n",
    "print(np.around(a)) #保留整数四舍五入\n",
    "print(np.around(a,decimals=1)) #保留一位小数四舍五入\n",
    "print(np.around(a,decimals=-1)) #整数个位数四舍五入"
   ]
  },
  {
   "cell_type": "code",
   "execution_count": 77,
   "metadata": {},
   "outputs": [
    {
     "name": "stdout",
     "output_type": "stream",
     "text": [
      "原数组:\n",
      "[-1.7  1.5 -0.2  0.6 10. ]\n",
      "修改后floor数组:\n",
      "[-2.  1. -1.  0. 10.]\n",
      "修改后ceil数组:\n",
      "[-1.  2. -0.  1. 10.]\n",
      "-----------------------------------------------------\n"
     ]
    }
   ],
   "source": [
    "#numpy.floor()返回小于或者等于指定表达式的最大整数，即向下取整\n",
    "#numpy.ceil()返回大于或者等于指定表达式的最小整数，即向上取整\n",
    "a = np.array([-1.7,1.5,-0.2,0.6,10])\n",
    "print('原数组:')\n",
    "print(a)\n",
    "print('修改后floor数组:')\n",
    "print(np.floor(a))\n",
    "print('修改后ceil数组:')\n",
    "print(np.ceil(a))\n",
    "print('-----------------------------------------------------')\n"
   ]
  },
  {
   "cell_type": "code",
   "execution_count": 79,
   "metadata": {},
   "outputs": [
    {
     "name": "stdout",
     "output_type": "stream",
     "text": [
      "第一个数组:\n",
      "[[0. 1. 2.]\n",
      " [3. 4. 5.]\n",
      " [6. 7. 8.]]\n",
      "第二个数组:\n",
      "[10 10 10]\n",
      "两个数组相加:\n",
      "[[10. 11. 12.]\n",
      " [13. 14. 15.]\n",
      " [16. 17. 18.]]\n",
      "两个数组相减:\n",
      "[[-10.  -9.  -8.]\n",
      " [ -7.  -6.  -5.]\n",
      " [ -4.  -3.  -2.]]\n",
      "两个数组相乘:\n",
      "[[ 0. 10. 20.]\n",
      " [30. 40. 50.]\n",
      " [60. 70. 80.]]\n",
      "两个数组相除:\n",
      "[[0.  0.1 0.2]\n",
      " [0.3 0.4 0.5]\n",
      " [0.6 0.7 0.8]]\n"
     ]
    }
   ],
   "source": [
    "a = np.arange(9, dtype=np.float16).reshape(3,3)\n",
    "print('第一个数组:')\n",
    "print(a)\n",
    "print('第二个数组:')\n",
    "b = np.array([10,10,10])\n",
    "print(b)\n",
    "print('两个数组相加:')\n",
    "print(np.add(a,b))\n",
    "print('两个数组相减:')\n",
    "print(np.subtract(a,b))\n",
    "print('两个数组相乘:')\n",
    "print(np.multiply(a,b))\n",
    "print('两个数组相除:')\n",
    "print(np.divide(a,b))"
   ]
  },
  {
   "cell_type": "markdown",
   "metadata": {},
   "source": [
    "## 14_ndarrayStat"
   ]
  },
  {
   "cell_type": "code",
   "execution_count": 80,
   "metadata": {},
   "outputs": [],
   "source": [
    "import numpy as np"
   ]
  },
  {
   "cell_type": "code",
   "execution_count": 82,
   "metadata": {},
   "outputs": [
    {
     "name": "stdout",
     "output_type": "stream",
     "text": [
      "[[3 7 5]\n",
      " [8 4 3]\n",
      " [2 4 9]]\n",
      "[3 3 2]\n",
      "[2 4 3]\n",
      "[7 8 9]\n",
      "[8 7 9]\n"
     ]
    }
   ],
   "source": [
    "# numpy.amin()用于计算数组中的元素沿指定轴的最小值。\n",
    "# numpy.amax()用于计算数组中的元素沿指定轴的最大值。\n",
    "\n",
    "a = np.array([[3,7,5],[8,4,3],[2,4,9]])\n",
    "print(a)\n",
    "print(np.amin(a,1)) # 横向最小值\n",
    "print(np.amin(a,0))\n",
    "print(np.amax(a,1))\n",
    "print(np.amax(a,0))"
   ]
  },
  {
   "cell_type": "code",
   "execution_count": 85,
   "metadata": {},
   "outputs": [
    {
     "name": "stdout",
     "output_type": "stream",
     "text": [
      "[[0 1]\n",
      " [2 3]\n",
      " [4 5]]\n",
      "[3 5]\n",
      "[0.625 2.625 4.625]\n",
      "(array([0.625, 2.625, 4.625]), array([8., 8., 8.]))\n"
     ]
    }
   ],
   "source": [
    "#多维数组中指定计算轴\n",
    "b = np.arange(6).reshape(3,2)\n",
    "print(b)\n",
    "wt = np.array([3,5])\n",
    "print(wt)\n",
    "# avg = sum(a * weights) / sum(weights)\n",
    "print(np.average(b,axis=1,weights=wt))\n",
    "print(np.average(b,axis=1,weights=wt,returned=True))"
   ]
  },
  {
   "cell_type": "code",
   "execution_count": null,
   "metadata": {},
   "outputs": [],
   "source": []
  },
  {
   "cell_type": "markdown",
   "metadata": {},
   "source": [
    "## 15_ndarraySort_Filter"
   ]
  },
  {
   "cell_type": "code",
   "execution_count": null,
   "metadata": {},
   "outputs": [],
   "source": [
    "import numpy as np\n",
    "\n",
    "'''\n",
    "numpy.sort()函数返回输入数组的排序副本\n",
    "numpy.sort(a, axis, kind, order)\n",
    "axis: 沿着它排序数组的轴，如果没有数组会被展开，沿着最后的轴排序， axis=0 按列排序，axis=1 按行排序\n",
    "kind: 默认为'quicksort'（快速排序）\n",
    "order: 如果数组包含字段，则是要排序的字段\n",
    "'''\n",
    "a = np.array([[3,7],[9,1]])\n",
    "print('原数组:')\n",
    "print(a)\n",
    "print('调用sort() 函数:')\n",
    "print(np.sort(a))\n",
    "print('按列排序:')\n",
    "print(np.sort(a,axis=0))\n",
    "#在sort函数中排序字段\n",
    "dt = np.dtype([('name','S10'),('age',int)])\n",
    "a = np.array([(\"raju\",21), (\"anil\",25), (\"ravi\",17), (\"amar\",27)], dtype=dt)\n",
    "print('原姓名、年龄数组:')\n",
    "print(a)\n",
    "print('按age排序:')\n",
    "print(np.sort(a,order='age'))\n",
    "print('-----------------------------------------------------')\n",
    "'''\n",
    "原数组:\n",
    "[[3 7]\n",
    " [9 1]]\n",
    "调用sort() 函数:\n",
    "[[3 7]\n",
    " [1 9]]\n",
    "按列排序:\n",
    "[[3 1]\n",
    " [9 7]]\n",
    "姓名、年龄数组:\n",
    "[(b'raju', 21) (b'anil', 25) (b'ravi', 17) (b'amar', 27)]\n",
    "按age排序:\n",
    "[(b'ravi', 17) (b'raju', 21) (b'anil', 25) (b'amar', 27)]\n",
    "'''\n",
    "\n",
    "#numpy.argsort()函数返回的是数组值从小到大的索引值\n",
    "x = np.array([3,1,2])\n",
    "print('原数组:')\n",
    "print(x)\n",
    "print ('对x调用argsort()函数:')\n",
    "y = np.argsort(x)\n",
    "print (y)\n",
    "print ('以排序后的顺序重构原数组:')\n",
    "print (x[y])\n",
    "print ('使用循环重构原数组:')\n",
    "for i in y:print(x[i], end=' ')\n",
    "print('\\n-----------------------------------------------------')\n",
    "'''\n",
    "原数组:\n",
    "[3 1 2]\n",
    "对 x 调用 argsort() 函数:\n",
    "[1 2 0] # 排序后的索引值\n",
    "以排序后的顺序重构原数组:\n",
    "[1 2 3]\n",
    "使用循环重构原数组:\n",
    "1 2 3 \n",
    "'''\n",
    "\n",
    "'''\n",
    "numpy.lexsort() 用于对多个序列进行排序,每一列代表一个序列，排序时优先照顾靠后的列\n",
    "如重点班录取学生按照总成绩录取。\n",
    "在总成绩相同时，数学成绩高的优先录取，\n",
    "在总成绩和数学成绩都相同时，按照英语成绩录取…… \n",
    "这里，总成绩排在电子表格的最后一列，数学成绩在倒数第二列，英语成绩在倒数第三列。 \n",
    "'''\n",
    "nm = ('raju','anil','ravi','amar')\n",
    "dv = ('80','90','60','70')\n",
    "dv1 = ('88','99','66','77')\n",
    "ind = np.lexsort((dv1,dv,nm))\n",
    "print('调用lexsort()函数:')\n",
    "print(ind)\n",
    "print ('使用这个索引来获取排序后的数据:')\n",
    "print ([nm[i]+\", \"+dv[i]+\", \"+dv1[i] for i in ind])\n",
    "print('-----------------------------------------------------')\n",
    "'''\n",
    "调用 lexsort()函数:\n",
    "[3 1 0 2]\n",
    "使用这个索引来获取排序后的数据:\n",
    "['amar, 70, 77', 'anil, 90, 99', 'raju, 80, 88', 'ravi, 60, 66']\n",
    "'''\n",
    "\n",
    "'''\n",
    "msort(a)数组按第一个轴排序，返回排序后的数组副本。np.msort(a) 相等于 np.sort(a, axis=0)。 \n",
    "sort_complex(a)对复数按照先实部后虚部的顺序进行排序 \n",
    "partition(a, kth[, axis, kind, order])指定一个数，对数组进行分区 \n",
    "argpartition(a, kth[, axis, kind, order])可以通过关键字 kind 指定算法沿着指定轴对数组进行分区 \n",
    "'''\n",
    "print('对复数按照先实部后虚部的顺序进行排序')\n",
    "print(np.sort_complex([5, 3, 6, 2, 1]))\n",
    "print(np.sort_complex([1 + 2j, 2 - 1j, 3 - 2j, 3 - 3j, 3 + 5j]))\n",
    "# [1.+0.j 2.+0.j 3.+0.j 5.+0.j 6.+0.j]\n",
    "# [1.+2.j 2.-1.j 3.-3.j 3.-2.j 3.+5.j]\n",
    "print('-----------------------------------------------------')\n",
    "\n",
    "a = np.array([30, 40, 20, 10])\n",
    "'''\n",
    "partition() 分区排序\n",
    "1.先对数组排序（升序）\n",
    "2.以排序后的索引是i的元素为基准，将元素分成两部分\n",
    "3.大于该元素的放在其后面但不排序，小于该元素的放在其前面也不排序\n",
    "'''\n",
    "print(np.partition(a,0)) # 以排序后的第1个值10划分 [10 40 20 30]\n",
    "print(np.partition(a,1)) # 以排序后的第2个值20划分 [10 20 40 30]\n",
    "print(np.partition(a,2)) # 以排序后的第3个值30划分[10 20 30 40]\n",
    "print(np.partition(a,3)) # 以排序后的第4个值40划分[20 10 30 40]\n",
    "print('-----------------------------------------------------')\n",
    "\n",
    "#argpartition与partition()类似，不过返回的不是分区排序好的元素数组，而是排序完成的元素索引数组\n",
    "arr = np.array([46, 57, 23, 39, 1, 10, 0, 120])\n",
    "print('排序后以2为索引基准的前后索引顺序:')\n",
    "print(np.argpartition(arr,2)) # [6 4 5 3 1 2 0 7]\n",
    "print(arr[np.argpartition(arr,2)[3]])\n",
    "print('-----------------------------------------------------')\n",
    "'''\n",
    "排序后以2为索引基准的前后索引顺序:\n",
    "[6 4 5 3 1 2 0 7]\n",
    "39\n",
    "*************************************************************\n",
    "arr[np.argpartition(arr,2)处理过程:\n",
    "1.[46, 57, 23, 39,  1, 10, 0, 120]的对应索引为\n",
    "  [0,   1,  2,  3,  4,  5, 6,  7]\n",
    "\n",
    "2.排序\n",
    "[0,  1,  10,  23,  39,  46,  57,  120]的对应索引为\n",
    "[0,  1,   2,   3,   4,   5,   6,   7]\n",
    "\n",
    "3.通过argpartition对索引2即值10进行小堆前放和大堆后放处理\n",
    "[0, 1, 10, 39, 57, 23, 46, 120]\n",
    "[6  4   5   3   1   2   0   7]\n",
    "\n",
    "4.arr[np.argpartition(arr,2)[3]取出对应索引下标的值\n",
    "39\n",
    "*************************************************************\n",
    "'''\n",
    "# 同理基准值也可以是多个，如10和23所对应的坐标2,3进行小堆前放和大堆后放处理\n",
    "print(arr[np.argpartition(arr,[2,3])[2]]) #10\n",
    "print(arr[np.argpartition(arr,[2,3])[3]]) #23\n",
    "print('-----------------------------------------------------')\n",
    "\n",
    "#numpy.argmax()和numpy.argmin()函数分别沿给定轴返回最大和最小元素的索引\n",
    "a = np.array([[30,40,70],[80,20,10],[50,90,60]])\n",
    "print('原数组是:')\n",
    "print(a)\n",
    "print('调用argmax()函数:')\n",
    "print(np.argmax(a))\n",
    "print('展开数组:')\n",
    "print(a.flatten())\n",
    "print('沿轴0纵轴的最大值索引:')\n",
    "maxindex = np.argmax(a,axis=0)\n",
    "print(maxindex)\n",
    "print('沿轴1横轴的最大值索引:')\n",
    "maxindex = np.argmax(a,axis=1)\n",
    "print(maxindex)\n",
    "print('调用argmin()函数:')\n",
    "minindex = np.argmin(a)\n",
    "print(minindex)\n",
    "print('展开数组中的最小值:')\n",
    "print(a.flatten()[minindex])\n",
    "print('沿轴0纵轴的最小值索引:')\n",
    "minindex = np.argmin(a,axis=0)\n",
    "print(minindex)\n",
    "print('沿轴1横轴的最小值索引:')\n",
    "minindex = np.argmin(a,axis=1)\n",
    "print(minindex)\n",
    "print('-----------------------------------------------------')\n",
    "'''\n",
    "原数组是:\n",
    "[[30 40 70]\n",
    " [80 20 10]\n",
    " [50 90 60]]\n",
    "调用argmax()函数:\n",
    "7  # 90\n",
    "展开数组:\n",
    "[30 40 70 80 20 10 50 90 60]\n",
    "沿轴0纵轴的最大值索引:\n",
    "[1 2 0]   #80,90,70\n",
    "沿轴1横轴的最大值索引:\n",
    "[2 0 1]   #70,80,90\n",
    "调用argmin()函数:\n",
    "5 # 10\n",
    "展开数组中的最小值:\n",
    "10\n",
    "沿轴0纵轴的最小值索引:\n",
    "[0 1 1]   #30,20,10\n",
    "沿轴1横轴的最小值索引:\n",
    "[0 2 0]   #30,10,50\n",
    "'''\n",
    "\n",
    "#numpy.nonzero()函数返回输入数组中非零元素的索引\n",
    "a = np.array([[30,40,0],[0,20,10],[50,0,60]])\n",
    "print('原数组:')\n",
    "print(a)\n",
    "print('调用nonzero()函数:')\n",
    "print(np.nonzero(a))\n",
    "print('-----------------------------------------------------')\n",
    "'''\n",
    "原数组:\n",
    "[[30 40  0]\n",
    " [ 0 20 10]\n",
    " [50  0 60]]\n",
    "调用nonzero()函数:\n",
    "(array([0, 0, 1, 1, 2, 2], dtype=int64), \n",
    " array([0, 1, 1, 2, 0, 2], dtype=int64))\n",
    "'''\n",
    "\n",
    "#numpy.where()函数返回输入数组中满足给定条件的元素的索引\n",
    "x = np.arange(9).reshape(3,3)\n",
    "print('原数组:')\n",
    "print(x)\n",
    "print('大于3的元素的索引:')\n",
    "y = np.where(x>3)\n",
    "print(y)\n",
    "print('使用这些索引来获取满足条件的元素:')\n",
    "print(x[y])\n",
    "print('-----------------------------------------------------')\n",
    "'''\n",
    "原数组:\n",
    "[[0 1 2]\n",
    " [3 4 5]\n",
    " [6 7 8]]\n",
    "大于3的元素的索引:\n",
    "(array([1, 1, 2, 2, 2], dtype=int64), \n",
    " array([1, 2, 0, 1, 2], dtype=int64))\n",
    "使用这些索引来获取满足条件的元素:\n",
    "[4 5 6 7 8]\n",
    "'''\n",
    "\n",
    "#numpy.extract()函数根据某个条件从数组中抽取元素，返回满条件的元素\n",
    "x = np.arange(9).reshape(3,3)\n",
    "print('原数组:')\n",
    "print(x)\n",
    "# 定义条件选择偶数元素\n",
    "condition = np.mod(x,2)==0\n",
    "print('按元素的条件值:')\n",
    "print(condition)\n",
    "print('使用条件提取元素:')\n",
    "print(np.extract(condition,x))\n",
    "'''\n",
    "原数组:\n",
    "[[0 1 2]\n",
    " [3 4 5]\n",
    " [6 7 8]]\n",
    "按元素的条件值:\n",
    "[[ True False  True]\n",
    " [False  True False]\n",
    " [ True False  True]]\n",
    "使用条件提取元素:\n",
    "[0 2 4 6 8]\n",
    "'''"
   ]
  },
  {
   "cell_type": "markdown",
   "metadata": {},
   "source": [
    "## 16_ndarrayCopy_View"
   ]
  },
  {
   "cell_type": "code",
   "execution_count": null,
   "metadata": {},
   "outputs": [],
   "source": [
    "import numpy as np\n",
    "\n",
    "'''\n",
    "无复制 \n",
    "简单的赋值不会创建数组对象的副本。相反它使用原始数组的相同id()来访问它。 \n",
    "id()返回Python对象的通用标识符，类似于C中的指针。\n",
    "'''\n",
    "a = np.arange(6)\n",
    "print('原数组:')\n",
    "print(a)\n",
    "print('调用id()函数:')\n",
    "print(id(a))\n",
    "print('a赋值给b:')\n",
    "b = a\n",
    "print(b)\n",
    "print('b拥有相同id():')\n",
    "print(id(b))\n",
    "print('修改b的形状:')\n",
    "b.shape = 3,2\n",
    "print(b)\n",
    "print('a的形状也发生修改:')\n",
    "print(a)\n",
    "print('-----------------------------------------------------')\n",
    "'''\n",
    "原数组:\n",
    "[0 1 2 3 4 5]\n",
    "调用id()函数:\n",
    "2058598872608\n",
    "a赋值给b:\n",
    "[0 1 2 3 4 5]\n",
    "b拥有相同id():\n",
    "2058598872608\n",
    "修改b的形状:\n",
    "[[0 1]\n",
    " [2 3]\n",
    " [4 5]]\n",
    "a的形状也发生修改:\n",
    "[[0 1]\n",
    " [2 3]\n",
    " [4 5]]\n",
    "'''\n",
    "\n",
    "'''\n",
    "视图或浅拷贝 \n",
    "ndarray.view()方会创建一个新的数组对象，该方法创建的新数组的维数更改不会更改原始数据的维数。\n",
    "'''\n",
    "a = np.arange(6).reshape(3,2)\n",
    "print('数组a:')\n",
    "print(a)\n",
    "print('创建a的视图:')\n",
    "b = a.view()\n",
    "print(b)\n",
    "print('两个数组的id()不同:')\n",
    "print('a的id():')\n",
    "print(id(a))\n",
    "print('b的id():')\n",
    "print(id(b))\n",
    "# 修改b的形状，并不会修改a\n",
    "b.shape = 2,3\n",
    "print ('b的形状:')\n",
    "print (b)\n",
    "print ('a的形状:')\n",
    "print (a)\n",
    "print('-----------------------------------------------------')\n",
    "'''\n",
    "数组a:\n",
    "[[0 1]\n",
    " [2 3]\n",
    " [4 5]]\n",
    "创建a的视图:\n",
    "[[0 1]\n",
    " [2 3]\n",
    " [4 5]]\n",
    "两个数组的id()不同:\n",
    "a的id():\n",
    "2401323705808\n",
    "b的id():\n",
    "2401323419648\n",
    "b的形状:\n",
    "[[0 1 2]\n",
    " [3 4 5]]\n",
    "a的形状:\n",
    "[[0 1]\n",
    " [2 3]\n",
    " [4 5]]\n",
    "'''\n",
    "\n",
    "'''\n",
    "使用切片创建视图修改数据会影响到原始数组\n",
    "变量a,b都是arr的一部分视图，对视图的修改会直接反映到原数据中。但是a,b的id不同，视图虽然指向原数据，但是他们和赋值引用还是有区别的。\n",
    "'''\n",
    "arr = np.arange(12)\n",
    "print('原数组:')\n",
    "print(arr)\n",
    "print ('创建切片:')\n",
    "a=arr[3:]\n",
    "b=arr[3:]\n",
    "a[1]=123\n",
    "b[2]=234\n",
    "print(arr)\n",
    "print(id(a),id(b),id(arr[3:]))\n",
    "print('-----------------------------------------------------')\n",
    "'''\n",
    "原数组:\n",
    "[ 0 1 2 3 4 5 6 7 8 9 10 11]\n",
    "创建切片:\n",
    "                 a修改 b修改\n",
    "[0   1   2   3   123   234   6   7   8   9   10   11]\n",
    "a的id         b的id         arr[3:]的id\n",
    "2274567028864 2274566338080 2274566338560\n",
    "'''\n",
    "\n",
    "'''\n",
    "副本或深拷贝 \n",
    "ndarray.copy()函数创建一个副本。对副本数据进行修改，不会影响到原始数据，它们物理内存不在同一位置。\n",
    "'''\n",
    "a = np.array([[10,10],[2,3],[4,5]])\n",
    "print('数组a:')\n",
    "print(a)\n",
    "print('创建a的深层副本:')\n",
    "b = a.copy()\n",
    "print('数组b:')\n",
    "print(b)\n",
    "# b与a不共享任何内容\n",
    "print('能够通过写入b来写入a吗?')\n",
    "print (b is a)\n",
    "print ('修改b的内容:')\n",
    "b[0,0] = 100\n",
    "print('修改后的数组b:')\n",
    "print(b)\n",
    "print('a保持不变:')\n",
    "print(a)\n",
    "print('-----------------------------------------------------')\n",
    "'''\n",
    "数组a:\n",
    "[[10 10]\n",
    " [ 2  3]\n",
    " [ 4  5]]\n",
    "创建a的深层副本:\n",
    "数组b:\n",
    "[[10 10]\n",
    " [ 2  3]\n",
    " [ 4  5]]\n",
    "能够通过写入b来写入a吗?\n",
    "False\n",
    "修改b的内容:\n",
    "修改后的数组b:\n",
    "[[100  10]\n",
    " [  2   3]\n",
    " [  4   5]]\n",
    "a保持不变:\n",
    "[[10 10]\n",
    " [ 2  3]\n",
    " [ 4  5]]\n",
    "'''"
   ]
  },
  {
   "cell_type": "markdown",
   "metadata": {},
   "source": [
    "## 17_numpy_matlib"
   ]
  },
  {
   "cell_type": "code",
   "execution_count": null,
   "metadata": {},
   "outputs": [],
   "source": [
    "import numpy.matlib\n",
    "import numpy as np\n",
    "\n",
    "'''\n",
    "matlib.empty()函数返回一个新的矩阵\n",
    "numpy.matlib.empty(shape, dtype, order)\n",
    "shape: 定义新矩阵形状的整数或整数元组\n",
    "Dtype: 可选，数据类型\n",
    "order: C（行序优先） 或者 F（列序优先）\n",
    "'''\n",
    "print(np.matlib.empty((2,2))) # 填充为随机数据\n",
    "print('-----------------------------------------------------')\n",
    "'''\n",
    "[[9.90263869e+067 8.01304531e+262]\n",
    " [2.60799828e-310 6.01346930e-154]]\n",
    "'''\n",
    "\n",
    "#numpy.matlib.zeros()函数创建一个以0填充的矩阵\n",
    "print(np.matlib.zeros((2,2)))\n",
    "print('-----------------------------------------------------')\n",
    "'''\n",
    "[[0. 0.]\n",
    " [0. 0.]]\n",
    "'''\n",
    "\n",
    "#numpy.matlib.ones()函数创建一个以1填充的矩阵\n",
    "print(np.matlib.ones((2,2)))\n",
    "print('-----------------------------------------------------')\n",
    "'''\n",
    "[[1. 1.]\n",
    " [1. 1.]]\n",
    "'''\n",
    "\n",
    "'''\n",
    "numpy.matlib.eye()函数返回一个矩阵，对角线元素为1，其他位置为零\n",
    "numpy.matlib.eye(n, M,k, dtype)\n",
    "n: 返回矩阵的行数\n",
    "M: 返回矩阵的列数，默认为 n\n",
    "k: 对角线的索引\n",
    "dtype: 数据类型\n",
    "'''\n",
    "print(np.matlib.eye(n=3,M=4,k=0,dtype=float))\n",
    "print('-----------------------------------------------------')\n",
    "'''\n",
    "[[1. 0. 0. 0.]\n",
    " [0. 1. 0. 0.]\n",
    " [0. 0. 1. 0.]]\n",
    "'''\n",
    "\n",
    "'''\n",
    "numpy.matlib.identity() 函数返回给定大小的单位矩阵\n",
    "单位矩阵是个方阵，从左上角到右下角的对角线（称为主对角线）上的元素均为1，除此以外全都为0\n",
    "'''\n",
    "print(np.matlib.identity(5,dtype=float))\n",
    "print('-----------------------------------------------------')\n",
    "'''\n",
    "[[1. 0. 0. 0. 0.]\n",
    " [0. 1. 0. 0. 0.]\n",
    " [0. 0. 1. 0. 0.]\n",
    " [0. 0. 0. 1. 0.]\n",
    " [0. 0. 0. 0. 1.]]\n",
    "'''\n",
    "\n",
    "#numpy.matlib.rand()函数创建一个给定大小的矩阵，数据是随机填充的\n",
    "print (np.matlib.rand(3,3))\n",
    "print('-----------------------------------------------------')\n",
    "'''\n",
    "[[0.22741839 0.41341901 0.81863817]\n",
    " [0.69418085 0.87970331 0.55831519]\n",
    " [0.91179528 0.10344144 0.2266316 ]]\n",
    "'''\n",
    "\n",
    "i = np.matrix('1,2;3,4')\n",
    "print('matrix矩阵:')\n",
    "print(i)\n",
    "j = np.asarray(i)\n",
    "print('matrix矩阵转数组:')\n",
    "print(j)\n",
    "k = np.asmatrix(j)\n",
    "print('数组转matrix矩阵:')\n",
    "print(k)\n",
    "print('-----------------------------------------------------')\n",
    "'''\n",
    "matrix矩阵:\n",
    "[[1 2]\n",
    " [3 4]]\n",
    "matrix矩阵转数组:\n",
    "[[1 2]\n",
    " [3 4]]\n",
    "数组转matrix矩阵:\n",
    "[[1 2]\n",
    " [3 4]]\n",
    "'''"
   ]
  },
  {
   "cell_type": "markdown",
   "metadata": {},
   "source": [
    "## 18_numpy_linalg"
   ]
  },
  {
   "cell_type": "code",
   "execution_count": null,
   "metadata": {},
   "outputs": [],
   "source": [
    "# 线性代数\n",
    "import numpy.matlib\n",
    "import numpy as np\n",
    "\n",
    "'''\n",
    "两个数组的点积，即元素对应相乘\n",
    "numpy.dot(a, b, out=None) \n",
    "a : ndarray 数组 \n",
    "b : ndarray 数组 \n",
    "out : ndarray, 可选用来保存dot()的计算结果\n",
    "numpy.dot()对于两个一维的数组，计算的是这两个数组对应下标元素的乘积和(数学上称之为内积)；\n",
    "对于二维数组，计算的是两个数组的矩阵乘积；\n",
    "对于多维数组，它的通用计算公式如下，即结果数组中的每个元素都是：\n",
    "数组a的最后一维上的所有元素与数组b的倒数第二位上的所有元素的乘积和： \n",
    "dot(a, b)[i,j,k,m] = sum(a[i,j,:] * b[k,:,m])。\n",
    "'''\n",
    "a = np.array([[1,2],[3,4]])\n",
    "b = np.array([[11,12],[13,14]])\n",
    "print(np.dot(a, b))\n",
    "print('-----------------------------------------------------')\n",
    "'''\n",
    "dot\n",
    "（[[1,2]      [[11,12]\n",
    "   [3,4]]      [13,14]]）\n",
    "=\n",
    "[[37 40]\n",
    " [85 92]]\n",
    " 计算方法:[[1*11+2*13, 1*12+2*14],[3*11+4*13, 3*12+4*14]]\n",
    "'''\n",
    "\n",
    "'''\n",
    "两个向量的点积\n",
    "numpy.vdot()函数是两个向量的点积。如果第一个参数是复数，那么它的共轭复数会用于计算。\n",
    "(共轭复数，两个实部相等，虚部互为相反数的复数互为共轭复数)\n",
    "如果参数是多维数组，它会被展开。\n",
    "'''\n",
    "a = np.array([[1,2], [3,4]])\n",
    "b = np.array([[11,12], [13,14]])\n",
    "# vdot将数组展开计算内积\n",
    "print(np.vdot(a,b))\n",
    "print('-----------------------------------------------------')\n",
    "'''\n",
    "130\n",
    "1*11 + 2*12 + 3*13 + 4*14 = 130\n",
    "'''\n",
    "\n",
    "'''\n",
    "两个数组的内积 \n",
    "numpy.inner()函数返回一维数组的向量内积。对于更高的维度，它返回最后一个轴上的和的乘积。\n",
    "'''\n",
    "print(np.inner(np.array([1,2,3]),np.array([0,1,0])))\n",
    "print('-----------------------------------------------------')\n",
    "'''\n",
    "2\n",
    "1*0+2*1+3*0\n",
    "'''\n",
    "\n",
    "# 多维数组\n",
    "a = np.array([[1,2], [3,4]])\n",
    "print('数组a:')\n",
    "print(a)\n",
    "b = np.array([[11,12], [13,14]])\n",
    "print('数组b:')\n",
    "print(b)\n",
    "print('内积:')\n",
    "print(np.inner(a, b))\n",
    "print('-----------------------------------------------------')\n",
    "'''\n",
    "数组a:\n",
    "[[1 2]\n",
    " [3 4]]\n",
    "数组b:\n",
    "[[11 12]\n",
    " [13 14]]\n",
    "内积:\n",
    "[[35 41]\n",
    " [81 95]]\n",
    "1*11+2*12, 1*13+2*14 \n",
    "3*11+4*12, 3*13+4*14\n",
    "'''\n",
    "\n",
    "'''\n",
    "两个数组的矩阵积 \n",
    "numpy.matmul函数返回两个数组的矩阵乘积。\n",
    "虽然它返回二维数组的正常乘积，但如果任一参数的维数大于2，则将其视为存在于最后两个索引的矩阵的栈，并进行相应广播。\n",
    "另一方面，如果任一参数是一维数组，则通过在其维度上附加1来将其提升为矩阵，并在乘法之后被去除。\n",
    "'''\n",
    "a = [[1,0],[0,1]]\n",
    "b = [[4,1],[2,2]]\n",
    "print(np.matmul(a,b))\n",
    "print('-----------------------------------------------------')\n",
    "'''\n",
    "[[4 1]\n",
    " [2 2]]\n",
    "'''\n",
    "#二维和一维运算\n",
    "a = [[1,0],[0,1]]\n",
    "b = [1,2]\n",
    "print(np.matmul(a,b))\n",
    "print(np.matmul(b,a))\n",
    "print('-----------------------------------------------------')\n",
    "'''\n",
    "[1 2]\n",
    "[1 2]\n",
    "'''\n",
    "#维度大于二的数组\n",
    "a = np.arange(8).reshape(2,2,2)\n",
    "b = np.arange(4).reshape(2,2)\n",
    "print(np.matmul(a,b))\n",
    "print('-----------------------------------------------------')\n",
    "'''\n",
    "[[[ 2  3]\n",
    "  [ 6 11]]\n",
    "\n",
    " [[10 19]\n",
    "  [14 27]]]\n",
    "'''\n",
    "\n",
    "'''\n",
    "数组的行列式 \n",
    "numpy.linalg.det() 函数计算输入矩阵的行列式。\n",
    "行列式在线性代数中是非常有用的值。 它从方阵的对角元素计算。 对于 2×2 矩阵，它是左上和右下元素的乘积与其他两个的乘积的差。\n",
    "对于矩阵[[a，b]，[c，d]]，行列式计算为 ad-bc。 较大的方阵被认为是 2×2 矩阵的组合。\n",
    "'''\n",
    "a = np.array([[1,2], [3,4]])\n",
    "print(np.linalg.det(a))\n",
    "print('-----------------------------------------------------')\n",
    "# -2.0\n",
    "\n",
    "b = np.array([[6,1,1],[4,-2,5],[2,8,7]])\n",
    "print(b)\n",
    "print(np.linalg.det(b))\n",
    "print(6*(-2*7 - 5*8) - 1*(4*7 - 5*2) + 1*(4*8 - -2*2))\n",
    "print('-----------------------------------------------------')\n",
    "'''\n",
    "[[ 6  1  1]\n",
    " [ 4 -2  5]\n",
    " [ 2  8  7]]\n",
    "-306.0\n",
    "-306\n",
    "'''\n",
    "\n",
    "'''\n",
    "求解线性矩阵方程(求解多元一次方程组)\n",
    "numpy.linalg.solve()函数给出了矩阵形式的线性方程的解\n",
    "列1:\n",
    "x + y + z = 6\n",
    "2y + 5z = -4\n",
    "2x + 5y - z = 27\n",
    "解题：\n",
    "solve函数有两个参数a和b。\n",
    "a是一个N*N的二维数组，而b是一个长度为N的一维数组，\n",
    "solve函数找到一个长度为N的一维数组x，\n",
    "使得a和x的矩阵乘积正好等于b，数组x就是多元一次方程组的解。\n",
    "'''\n",
    "a = np.random.rand(10,10)\n",
    "b = np.random.rand(10)\n",
    "x = np.linalg.solve(a,b)\n",
    "result=np.sum(np.abs(np.dot(a,x) - b))\n",
    "print(result)\n",
    "print('-----------------------------------------------------')\n",
    "# 1.0547118733938987e-15\n",
    "\n",
    "'''\n",
    "计算矩阵的乘法逆矩阵\n",
    "numpy.linalg.inv() 函数计算矩阵的乘法逆矩阵。\n",
    "逆矩阵（inverse matrix）：设A是数域上的一个n阶矩阵，若在相同数域上存在另一个n阶矩阵B，\n",
    "使得： AB=BA=E ，则称B是A的逆矩阵，而A则被称为可逆矩阵。注：E为单位矩阵。\n",
    "'''\n",
    "x = np.array([[1,2],[3,4]])\n",
    "y = np.linalg.inv(x)\n",
    "print(x)\n",
    "print(y)\n",
    "print(np.dot(x,y)) #两个数组的点积\n",
    "print('-----------------------------------------------------')\n",
    "'''\n",
    "[[1 2]\n",
    " [3 4]]\n",
    "[[-2.   1. ]\n",
    " [ 1.5 -0.5]]\n",
    "[[1.0000000e+00 0.0000000e+00]\n",
    " [8.8817842e-16 1.0000000e+00]]\n",
    "'''\n",
    "\n",
    "#创建矩阵A的逆矩阵\n",
    "a = np.array([[1, 1, 1], [0, 2, 5], [2, 5, -1]])\n",
    "print('数组a:')\n",
    "print(a)\n",
    "ainv = np.linalg.inv(a)\n",
    "print('a的逆:')\n",
    "print(ainv)\n",
    "print('矩阵b:')\n",
    "b = np.array([[6],[-4],[27]])\n",
    "print(b)\n",
    "print('计算A^(-1)B:')\n",
    "x = np.linalg.solve(a,b) # 等同于np.dot(ainv,b)\n",
    "print(x)\n",
    "# 这就是线性方向 x = 5, y = 3, z = -2 的解\n",
    "'''\n",
    "数组a:\n",
    "[[ 1  1  1]\n",
    " [ 0  2  5]\n",
    " [ 2  5 -1]]\n",
    "a 的逆:\n",
    "[[ 1.28571429 -0.28571429 -0.14285714]\n",
    " [-0.47619048  0.14285714  0.23809524]\n",
    " [ 0.19047619  0.14285714 -0.0952381 ]]\n",
    "矩阵b:\n",
    "[[ 6]\n",
    " [-4]\n",
    " [27]]\n",
    "计算A^(-1)B:\n",
    "[[ 5.]\n",
    " [ 3.]\n",
    " [-2.]]\n",
    "'''\n",
    "\n",
    "\n",
    "\n",
    "\n"
   ]
  },
  {
   "cell_type": "markdown",
   "metadata": {},
   "source": [
    "## 19_numpy_io"
   ]
  },
  {
   "cell_type": "code",
   "execution_count": null,
   "metadata": {},
   "outputs": [],
   "source": [
    "import numpy as np\n",
    "\n",
    "'''\n",
    "numpy.save()函数将数组保存到以.npy为扩展名的文件中\n",
    "numpy.save(file, arr, allow_pickle=True, fix_imports=True)\n",
    "file：要保存的文件，扩展名为 .npy，如果文件路径末尾没有扩展名 .npy，该扩展名会被自动加上。\n",
    "arr: 要保存的数组\n",
    "allow_pickle: 可选布尔值，允许使用 Python pickles 保存对象数组，\n",
    "Python 中的pickle用于在保存到磁盘文件或从磁盘文件读取之前，对对象进行序列化和反序列化。\n",
    "fix_imports: 可选为了方便Pyhton2中读取 Python3保存的数据。\n",
    "'''\n",
    "a = np.array([1,2,3,4,5])\n",
    "# 保存到 outfile.npy 文件上\n",
    "np.save('outfile.npy', a)\n",
    "# 保存到 outfile2.npy 文件上，如果文件路径末尾没有扩展名 .npy，该扩展名会被自动加上\n",
    "np.save('outfile2', a)\n",
    "b = np.load('outfile.npy')\n",
    "print(b)\n",
    "print('-----------------------------------------------------')\n",
    "'''\n",
    "[1 2 3 4 5]\n",
    "直接查看文件是乱码，是Numpy专用的二进制格式后的数据:\n",
    "�NUMPY\u0001 v {'descr': '<i4', 'fortran_order': False, 'shape': (5,), }\n",
    "'''\n",
    "\n",
    "'''\n",
    "numpy.savez()函数将多个数组保存到以npz为扩展名的文件中。\n",
    "numpy.savez(file, *args, **kwds)\n",
    "file：要保存的文件，扩展名为 .npz，如果文件路径末尾没有扩展名 .npz，该扩展名会被自动加上。\n",
    "args: 要保存的数组，可以使用关键字参数为数组起一个名字，非关键字参数传递的数组会自动起名为 arr_0, arr_1, …　。\n",
    "kwds: 要保存的数组使用关键字名称。\n",
    "'''\n",
    "a = np.array([[1,2,3],[4,5,6]])\n",
    "b = np.arange(0, 1.0, 0.1)\n",
    "c = np.sin(b)\n",
    "# c使用了自定义数组名称\n",
    "np.savez(\"mynpz.npz\", a, b, c_title=c)\n",
    "r = np.load(\"mynpz.npz\")\n",
    "print(r.files) # 查看各个数组名称\n",
    "print(r[\"arr_0\"]) # 数组a\n",
    "print(r[\"arr_1\"]) # 数组b\n",
    "print(r[\"c_title\"]) # 数组c\n",
    "print('-----------------------------------------------------')\n",
    "'''\n",
    "['c_title', 'arr_0', 'arr_1']\n",
    "[[1 2 3]\n",
    " [4 5 6]]\n",
    "[0.  0.1 0.2 0.3 0.4 0.5 0.6 0.7 0.8 0.9]\n",
    "[0.         0.09983342 0.19866933 0.29552021 0.38941834 0.47942554\n",
    " 0.56464247 0.64421769 0.71735609 0.78332691]\n",
    "'''\n",
    "\n",
    "'''\n",
    "savetxt()函数是以简单的文本文件格式存储数据，对应的使用loadtxt()函数来获取数据。\n",
    "np.loadtxt(FILENAME, dtype=int, delimiter=' ')\n",
    "np.savetxt(FILENAME, a, fmt=\"%d\", delimiter=\",\")\n",
    "参数delimiter可以指定各种分隔符、针对特定列的转换器函数、需要跳过的行数等。\n",
    "'''\n",
    "a = np.array([1,2,3,4,5])\n",
    "np.savetxt('out.txt',a)\n",
    "b = np.loadtxt('out.txt')\n",
    "print(b)\n",
    "print('-----------------------------------------------------')\n",
    "#[1. 2. 3. 4. 5.]\n",
    "\n",
    "#使用delimiter参数\n",
    "#reshape某个维度等于-1的话，那么Numpy会根据剩下的维度计算出数组的另外一个shape属性值\n",
    "a=np.arange(0,10,0.5).reshape(4,-1)\n",
    "print(\"a原数组:\")\n",
    "print(a)\n",
    "np.savetxt(\"out.txt\",a,fmt=\"%d\",delimiter=\",\") # 改为保存为整数，以逗号分隔\n",
    "b = np.loadtxt(\"out.txt\",delimiter=\",\") # load 时也要指定为逗号分隔\n",
    "print(b)\n",
    "'''\n",
    "a原数组:\n",
    "[[0.  0.5 1.  1.5 2. ]\n",
    " [2.5 3.  3.5 4.  4.5]\n",
    " [5.  5.5 6.  6.5 7. ]\n",
    " [7.5 8.  8.5 9.  9.5]]\n",
    "[[0. 0. 1. 1. 2.]\n",
    " [2. 3. 3. 4. 4.]\n",
    " [5. 5. 6. 6. 7.]\n",
    " [7. 8. 8. 9. 9.]]\n",
    "\n",
    "out.txt文件:\n",
    "0,0,1,1,2\n",
    "2,3,3,4,4\n",
    "5,5,6,6,7\n",
    "7,8,8,9,9\n",
    "'''"
   ]
  },
  {
   "cell_type": "markdown",
   "metadata": {},
   "source": [
    "## 20_numpy_matplotlib"
   ]
  },
  {
   "cell_type": "code",
   "execution_count": null,
   "metadata": {},
   "outputs": [],
   "source": [
    "import numpy as np\n",
    "from matplotlib import pyplot as plt\n",
    "import matplotlib\n",
    "\n",
    "x = np.arange(2,11)\n",
    "print('x矩阵:')\n",
    "print(x)\n",
    "print('y矩阵:')\n",
    "y = 2 * x + 5\n",
    "print(y)\n",
    "print('生成matplot')\n",
    "plt.title(\"Matplotlib demo\")\n",
    "plt.xlabel(\"x axis caption\")\n",
    "plt.ylabel(\"y axis caption\")\n",
    "plt.plot(x,y)\n",
    "plt.show()\n",
    "print('-----------------------------------------------------')\n",
    "'''\n",
    "x矩阵:\n",
    "[ 2  3  4  5  6  7  8  9 10]\n",
    "y矩阵:\n",
    "[ 9 11 13 15 17 19 21 23 25]\n",
    "生成matplot\n",
    "'''\n",
    "\n",
    "'''\n",
    "图形中文显示\n",
    "Matplotlib 默认情况不支持中文，将simhei.ttf文件放在当前执行的代码文件中\n",
    "'''\n",
    "zhfont = matplotlib.font_manager.FontProperties(fname=\"simhei.ttf\")\n",
    "x = np.arange(2, 11)\n",
    "y = 2 * x + 5\n",
    "plt.title(\"中文标题\", fontproperties=zhfont)\n",
    "# fontproperties 设置中文显示，fontsize 设置字体大小\n",
    "plt.xlabel(\"x 轴\", fontproperties=zhfont)\n",
    "plt.ylabel(\"y 轴\", fontproperties=zhfont)\n",
    "plt.plot(x,y)\n",
    "plt.show()\n",
    "print('-----------------------------------------------------')\n",
    "'''\n",
    "x矩阵:\n",
    "[ 2  3  4  5  6  7  8  9 10]\n",
    "y矩阵:\n",
    "[ 9 11 13 15 17 19 21 23 25]\n",
    "生成matplot\n",
    "'''\n",
    "\n",
    "# 显示已安装的系统字体\n",
    "a=sorted([f.name for f in matplotlib.font_manager.fontManager.ttflist])\n",
    "for i in a:print(i)\n",
    "print('-----------------------------------------------------')\n",
    "\n",
    "# 点线图\n",
    "x = np.arange(2,11)\n",
    "y =  2  * x +  5\n",
    "plt.title(\"Matplotlib demo\")\n",
    "plt.xlabel(\"x axis caption\")\n",
    "plt.ylabel(\"y axis caption\")\n",
    "plt.plot(x,y,\"ob\")\n",
    "plt.show()\n",
    "print('-----------------------------------------------------')\n",
    "\n",
    "# 正弦波\n",
    "# 计算正弦曲线上点的 x 和 y 坐标\n",
    "x = np.arange(0,3*np.pi,0.1)\n",
    "y = np.sin(x)\n",
    "plt.title(\"sine wave form\")\n",
    "plt.plot(x, y)\n",
    "plt.show()\n",
    "print('-----------------------------------------------------')\n",
    "\n",
    "#subplot()绘制正弦和余弦值\n",
    "# 计算正弦和余弦曲线上的点的 x 和 y 坐标\n",
    "x = np.arange(0,3* np.pi,0.1)\n",
    "y_sin = np.sin(x)\n",
    "y_cos = np.cos(x)\n",
    "# 建立 subplot 网格，高为 2，宽为 1\n",
    "# 激活第一个 subplot\n",
    "plt.subplot(2,1,1)\n",
    "# 绘制第一个图像\n",
    "plt.plot(x, y_sin)\n",
    "plt.title('Sin')\n",
    "# 将第二个 subplot 激活，并绘制第二个图像\n",
    "plt.subplot(2,1,2)\n",
    "plt.plot(x, y_cos)\n",
    "plt.title('Cos')\n",
    "# 展示图像\n",
    "plt.show()\n",
    "print('-----------------------------------------------------')\n",
    "\n",
    "#pyplot子模块提供bar()函数来生成条形图\n",
    "x = [5,8,10]\n",
    "y = [12,16,6]\n",
    "x2 = [6,9,11]\n",
    "y2 = [6,15,7]\n",
    "plt.bar(x,y,align='center')\n",
    "plt.bar(x2,y2,color='gray',align='center')\n",
    "plt.title('Bar graph')\n",
    "plt.ylabel('Y axis')\n",
    "plt.xlabel('X axis')\n",
    "plt.show()\n",
    "print('-----------------------------------------------------')\n",
    "\n",
    "'''\n",
    "numpy.histogram()函数是数据的频率分布的图形表示。 水平尺寸相等的矩形对应于类间隔，称为bin，变量height对应于频率。\n",
    "numpy.histogram()函数将输入数组和bin作为两个参数。 bin数组中的连续元素用作每个bin的边界。\n",
    "'''\n",
    "#histogram图例1\n",
    "a = np.array([22,87,5,43,56,73,55,54,11,20,51,5,79,31,27])\n",
    "plt.hist(a,bins=[0,20,40,60,80,100])\n",
    "plt.title(\"histogram\")\n",
    "plt.show()\n",
    "print('-----------------------------------------------------')\n",
    "\n",
    "#histogram图例2\n",
    "#生成一些随机数\n",
    "rng=np.random.RandomState(10) #使用RandomState获得随机数生成器\n",
    "data1=rng.normal(size=50)\n",
    "data2=rng.normal(size=100)\n",
    "binrange=[-1,0,2] # 设置区间, 分别是[-1,0]和[0,2]\n",
    "hist1,_ = np.histogram(data1, bins=binrange)\n",
    "hist2,_ = np.histogram(data2, bins=binrange)\n",
    "# 绘制图像\n",
    "fig, ax1 = plt.subplots()\n",
    "fig.set_size_inches(10, 6)\n",
    "# plt.set_cmap('RdBu') #set_cmap()方法更改现有的绘图对象的色图\n",
    "x = np.arange(len(binrange)-1)*3\n",
    "w=0.3\n",
    "# 绘制多个bar在同一个图中, 这里需要控制width\n",
    "plt.bar(x-w,hist1,width=2*w,align='center')\n",
    "plt.bar(x+w,hist2,width=2*w,align='center')\n",
    "# 设置坐标轴的标签\n",
    "ax1.yaxis.set_tick_params(labelsize=15) # 设置y轴的字体的大小\n",
    "ax1.set_xticks(x) # 设置xticks出现的位置\n",
    "# 设置坐标轴名称\n",
    "ax1.set_ylabel(\"Count\", fontsize='xx-large')\n",
    "# 设置标题\n",
    "ax1.set_title('The Distribution of Normal1 Data and Normal2 Data', fontsize='x-large')\n",
    "# 设置图例\n",
    "plt.legend(('Normal1','Nomral2'),fontsize = 'x-large', loc='upper right')\n",
    "plt.show()\n",
    "print('-----------------------------------------------------')"
   ]
  }
 ],
 "metadata": {
  "kernelspec": {
   "display_name": "Python 3",
   "language": "python",
   "name": "python3"
  },
  "language_info": {
   "codemirror_mode": {
    "name": "ipython",
    "version": 3
   },
   "file_extension": ".py",
   "mimetype": "text/x-python",
   "name": "python",
   "nbconvert_exporter": "python",
   "pygments_lexer": "ipython3",
   "version": "3.11.3"
  }
 },
 "nbformat": 4,
 "nbformat_minor": 2
}
